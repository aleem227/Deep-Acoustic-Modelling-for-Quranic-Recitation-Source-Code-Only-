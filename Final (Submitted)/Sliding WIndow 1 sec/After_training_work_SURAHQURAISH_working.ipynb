{
 "cells": [
  {
   "cell_type": "code",
   "execution_count": 1,
   "metadata": {},
   "outputs": [],
   "source": [
    "import pandas as pd\n",
    "import os\n",
    "import librosa\n",
    "import numpy as np\n",
    "import math\n",
    "import numpy as np\n",
    "from tqdm import tqdm\n",
    "import matplotlib.pyplot as plt\n",
    "%matplotlib inline\n",
    "import librosa.display"
   ]
  },
  {
   "cell_type": "code",
   "execution_count": 3,
   "metadata": {},
   "outputs": [
    {
     "data": {
      "text/html": [
       "<div>\n",
       "<style scoped>\n",
       "    .dataframe tbody tr th:only-of-type {\n",
       "        vertical-align: middle;\n",
       "    }\n",
       "\n",
       "    .dataframe tbody tr th {\n",
       "        vertical-align: top;\n",
       "    }\n",
       "\n",
       "    .dataframe thead th {\n",
       "        text-align: right;\n",
       "    }\n",
       "</style>\n",
       "<table border=\"1\" class=\"dataframe\">\n",
       "  <thead>\n",
       "    <tr style=\"text-align: right;\">\n",
       "      <th></th>\n",
       "      <th>slice_file_name</th>\n",
       "      <th>fold</th>\n",
       "      <th>classID</th>\n",
       "      <th>class</th>\n",
       "    </tr>\n",
       "  </thead>\n",
       "  <tbody>\n",
       "    <tr>\n",
       "      <th>0</th>\n",
       "      <td>file2_2.wav</td>\n",
       "      <td>1</td>\n",
       "      <td>106</td>\n",
       "      <td>Quraish</td>\n",
       "    </tr>\n",
       "    <tr>\n",
       "      <th>1</th>\n",
       "      <td>file2_3.wav</td>\n",
       "      <td>1</td>\n",
       "      <td>106</td>\n",
       "      <td>Quraish</td>\n",
       "    </tr>\n",
       "    <tr>\n",
       "      <th>2</th>\n",
       "      <td>file2_4.wav</td>\n",
       "      <td>1</td>\n",
       "      <td>106</td>\n",
       "      <td>Quraish</td>\n",
       "    </tr>\n",
       "    <tr>\n",
       "      <th>3</th>\n",
       "      <td>file2_5.wav</td>\n",
       "      <td>1</td>\n",
       "      <td>106</td>\n",
       "      <td>Quraish</td>\n",
       "    </tr>\n",
       "    <tr>\n",
       "      <th>4</th>\n",
       "      <td>1.wav</td>\n",
       "      <td>2</td>\n",
       "      <td>106</td>\n",
       "      <td>Quraish</td>\n",
       "    </tr>\n",
       "    <tr>\n",
       "      <th>5</th>\n",
       "      <td>2.wav</td>\n",
       "      <td>2</td>\n",
       "      <td>106</td>\n",
       "      <td>Quraish</td>\n",
       "    </tr>\n",
       "    <tr>\n",
       "      <th>6</th>\n",
       "      <td>3.wav</td>\n",
       "      <td>2</td>\n",
       "      <td>106</td>\n",
       "      <td>Quraish</td>\n",
       "    </tr>\n",
       "    <tr>\n",
       "      <th>7</th>\n",
       "      <td>4.wav</td>\n",
       "      <td>2</td>\n",
       "      <td>106</td>\n",
       "      <td>Quraish</td>\n",
       "    </tr>\n",
       "    <tr>\n",
       "      <th>8</th>\n",
       "      <td>a.wav</td>\n",
       "      <td>4</td>\n",
       "      <td>106</td>\n",
       "      <td>Quraish</td>\n",
       "    </tr>\n",
       "    <tr>\n",
       "      <th>9</th>\n",
       "      <td>b.wav</td>\n",
       "      <td>4</td>\n",
       "      <td>106</td>\n",
       "      <td>Quraish</td>\n",
       "    </tr>\n",
       "    <tr>\n",
       "      <th>10</th>\n",
       "      <td>c.wav</td>\n",
       "      <td>4</td>\n",
       "      <td>106</td>\n",
       "      <td>Quraish</td>\n",
       "    </tr>\n",
       "    <tr>\n",
       "      <th>11</th>\n",
       "      <td>d.wav</td>\n",
       "      <td>4</td>\n",
       "      <td>106</td>\n",
       "      <td>Quraish</td>\n",
       "    </tr>\n",
       "    <tr>\n",
       "      <th>12</th>\n",
       "      <td>1_1.wav</td>\n",
       "      <td>3</td>\n",
       "      <td>106</td>\n",
       "      <td>Quraish</td>\n",
       "    </tr>\n",
       "    <tr>\n",
       "      <th>13</th>\n",
       "      <td>1_2.wav</td>\n",
       "      <td>3</td>\n",
       "      <td>106</td>\n",
       "      <td>Quraish</td>\n",
       "    </tr>\n",
       "    <tr>\n",
       "      <th>14</th>\n",
       "      <td>1_3.wav</td>\n",
       "      <td>3</td>\n",
       "      <td>106</td>\n",
       "      <td>Quraish</td>\n",
       "    </tr>\n",
       "    <tr>\n",
       "      <th>15</th>\n",
       "      <td>1_4.wav</td>\n",
       "      <td>3</td>\n",
       "      <td>106</td>\n",
       "      <td>Quraish</td>\n",
       "    </tr>\n",
       "  </tbody>\n",
       "</table>\n",
       "</div>"
      ],
      "text/plain": [
       "   slice_file_name  fold  classID    class\n",
       "0      file2_2.wav     1      106  Quraish\n",
       "1      file2_3.wav     1      106  Quraish\n",
       "2      file2_4.wav     1      106  Quraish\n",
       "3      file2_5.wav     1      106  Quraish\n",
       "4            1.wav     2      106  Quraish\n",
       "5            2.wav     2      106  Quraish\n",
       "6            3.wav     2      106  Quraish\n",
       "7            4.wav     2      106  Quraish\n",
       "8            a.wav     4      106  Quraish\n",
       "9            b.wav     4      106  Quraish\n",
       "10           c.wav     4      106  Quraish\n",
       "11           d.wav     4      106  Quraish\n",
       "12         1_1.wav     3      106  Quraish\n",
       "13         1_2.wav     3      106  Quraish\n",
       "14         1_3.wav     3      106  Quraish\n",
       "15         1_4.wav     3      106  Quraish"
      ]
     },
     "execution_count": 3,
     "metadata": {},
     "output_type": "execute_result"
    }
   ],
   "source": [
    "audio_dataset_path='C:/Users/aleem/Desktop/Currentlyworking_New_extracted audio wav after cleaning then augmentation/sliding_window_1_sec/data/Al-Quraish/'\n",
    "metadata=pd.read_csv('C:/Users/aleem/Desktop/Currentlyworking_New_extracted audio wav after cleaning then augmentation/sliding_window_1_sec/data/Al-Quraish/metadata_106.csv')\n",
    "metadata.head(20)"
   ]
  },
  {
   "cell_type": "markdown",
   "metadata": {},
   "source": [
    "Feature Extraction"
   ]
  },
  {
   "cell_type": "code",
   "execution_count": 4,
   "metadata": {},
   "outputs": [],
   "source": [
    "def mfcc_features_extractor_1sec(file):\n",
    "    # audio, sample_rate = librosa.load(file_name) \n",
    "    # mfccs_features = librosa.feature.mfcc(y=audio, sr=16000, n_mfcc=40)\n",
    "    # mfccs_scaled_features = np.mean(mfccs_features.T,axis=0)\n",
    "    \n",
    "    y, sr = librosa.load(file, sr=16000)\n",
    "    \n",
    "    y = y[:192000]  #12 Secs for all audios\n",
    "    zero_padding = np.zeros(192000 - y.shape[0], dtype=np.float32)\n",
    "    y = np.concatenate([y, zero_padding])   \n",
    "\n",
    "    # Define window size and hop length\n",
    "    win_length = int(sr * 1) # 1 second window\n",
    "    hop_length = int(win_length / 2) # 50% overlap\n",
    "\n",
    "    # Extract MFCC features for each window\n",
    "    mfccs = []\n",
    "    for i in range(0, len(y)-win_length, hop_length):\n",
    "        mfcc = librosa.feature.mfcc(y[i:i+win_length], sr=sr, n_mfcc=40)\n",
    "        mfccs.append(mfcc)\n",
    "\n",
    "    # Combine MFCC features for all windows\n",
    "    mfccs = np.concatenate(mfccs, axis=1)\n",
    "    mfccs = mfccs.T\n",
    "\n",
    "    # Return final MFCC features\n",
    "    return mfccs\n",
    "\n",
    "    \n",
    "    # return mfccs_scaled_features"
   ]
  },
  {
   "cell_type": "code",
   "execution_count": 5,
   "metadata": {},
   "outputs": [],
   "source": [
    "# mfcc_extracted_features=[]\n",
    "\n",
    "# for index_num,row in tqdm(metadata.iterrows()):\n",
    "#     file_name = os.path.join(os.path.abspath(audio_dataset_path),'fold'+str(row[\"fold\"])+'/',str(row[\"slice_file_name\"]))\n",
    "#     final_class_labels=row[\"class\"]\n",
    "    \n",
    "#     # MFCC Features Extraction\n",
    "#     mfcc_data= mfcc_features_extractor_1sec(file_name)\n",
    "#     mfcc_extracted_features.append([mfcc_data,final_class_labels])\n",
    "#     # print(mfcc_extracted_features)"
   ]
  },
  {
   "cell_type": "code",
   "execution_count": 6,
   "metadata": {},
   "outputs": [
    {
     "name": "stderr",
     "output_type": "stream",
     "text": [
      "0it [00:00, ?it/s]C:\\Users\\aleem\\AppData\\Roaming\\Python\\Python37\\site-packages\\ipykernel_launcher.py:19: FutureWarning: Pass y=[ 0.02106941  0.01891056  0.01492148 ... -0.06744021 -0.13894397\n",
      " -0.1536758 ] as keyword args. From version 0.10 passing these as positional arguments will result in an error\n",
      "C:\\Users\\aleem\\AppData\\Roaming\\Python\\Python37\\site-packages\\ipykernel_launcher.py:19: FutureWarning: Pass y=[-0.26821512 -0.26087615 -0.21239032 ... -0.07497843 -0.03001095\n",
      " -0.01152745] as keyword args. From version 0.10 passing these as positional arguments will result in an error\n",
      "C:\\Users\\aleem\\AppData\\Roaming\\Python\\Python37\\site-packages\\ipykernel_launcher.py:19: FutureWarning: Pass y=[-0.0019083  -0.0140522  -0.13190421 ...  0.02163285  0.03079749\n",
      "  0.07775214] as keyword args. From version 0.10 passing these as positional arguments will result in an error\n",
      "C:\\Users\\aleem\\AppData\\Roaming\\Python\\Python37\\site-packages\\ipykernel_launcher.py:19: FutureWarning: Pass y=[ 0.02861324  0.07570682  0.12950483 ...  0.1379486   0.11801192\n",
      " -0.0707553 ] as keyword args. From version 0.10 passing these as positional arguments will result in an error\n",
      "C:\\Users\\aleem\\AppData\\Roaming\\Python\\Python37\\site-packages\\ipykernel_launcher.py:19: FutureWarning: Pass y=[ 0.28339985  0.3480427   0.31898743 ...  0.1326848  -0.06804625\n",
      " -0.20317955] as keyword args. From version 0.10 passing these as positional arguments will result in an error\n",
      "C:\\Users\\aleem\\AppData\\Roaming\\Python\\Python37\\site-packages\\ipykernel_launcher.py:19: FutureWarning: Pass y=[-0.00701656  0.19717227  0.11169731 ...  0.          0.\n",
      "  0.        ] as keyword args. From version 0.10 passing these as positional arguments will result in an error\n",
      "C:\\Users\\aleem\\AppData\\Roaming\\Python\\Python37\\site-packages\\ipykernel_launcher.py:19: FutureWarning: Pass y=[-0.11869155  0.18044083  0.08230164 ...  0.          0.\n",
      "  0.        ] as keyword args. From version 0.10 passing these as positional arguments will result in an error\n",
      "C:\\Users\\aleem\\AppData\\Roaming\\Python\\Python37\\site-packages\\ipykernel_launcher.py:19: FutureWarning: Pass y=[0. 0. 0. ... 0. 0. 0.] as keyword args. From version 0.10 passing these as positional arguments will result in an error\n",
      "1it [00:00,  6.32it/s]C:\\Users\\aleem\\AppData\\Roaming\\Python\\Python37\\site-packages\\ipykernel_launcher.py:19: FutureWarning: Pass y=[-0.00386183  0.00370396 -0.00052041 ... -0.02125039 -0.0326164\n",
      " -0.05274384] as keyword args. From version 0.10 passing these as positional arguments will result in an error\n",
      "C:\\Users\\aleem\\AppData\\Roaming\\Python\\Python37\\site-packages\\ipykernel_launcher.py:19: FutureWarning: Pass y=[ 0.7974842   0.53332597  0.2665033  ... -0.02195091 -0.01466459\n",
      " -0.03544152] as keyword args. From version 0.10 passing these as positional arguments will result in an error\n",
      "C:\\Users\\aleem\\AppData\\Roaming\\Python\\Python37\\site-packages\\ipykernel_launcher.py:19: FutureWarning: Pass y=[ 0.06788494 -0.00800466 -0.001937   ... -0.22949655 -0.1672853\n",
      " -0.0712657 ] as keyword args. From version 0.10 passing these as positional arguments will result in an error\n",
      "C:\\Users\\aleem\\AppData\\Roaming\\Python\\Python37\\site-packages\\ipykernel_launcher.py:19: FutureWarning: Pass y=[-0.01417318  0.00467095 -0.00754261 ... -0.05946481 -0.07716183\n",
      " -0.0238259 ] as keyword args. From version 0.10 passing these as positional arguments will result in an error\n",
      "C:\\Users\\aleem\\AppData\\Roaming\\Python\\Python37\\site-packages\\ipykernel_launcher.py:19: FutureWarning: Pass y=[ 0.02731093  0.28966165  0.27340108 ...  0.17114614  0.02174645\n",
      " -0.06210785] as keyword args. From version 0.10 passing these as positional arguments will result in an error\n",
      "C:\\Users\\aleem\\AppData\\Roaming\\Python\\Python37\\site-packages\\ipykernel_launcher.py:19: FutureWarning: Pass y=[-0.04797984 -0.08041599 -0.02264278 ... -0.12671141 -0.12548941\n",
      " -0.03866136] as keyword args. From version 0.10 passing these as positional arguments will result in an error\n",
      "C:\\Users\\aleem\\AppData\\Roaming\\Python\\Python37\\site-packages\\ipykernel_launcher.py:19: FutureWarning: Pass y=[-0.09044778 -0.16354084 -0.20042036 ...  0.06332895 -0.06803776\n",
      "  0.02705689] as keyword args. From version 0.10 passing these as positional arguments will result in an error\n",
      "C:\\Users\\aleem\\AppData\\Roaming\\Python\\Python37\\site-packages\\ipykernel_launcher.py:19: FutureWarning: Pass y=[ 0.01965755  0.06784179  0.19179128 ...  0.16185412  0.24186851\n",
      " -0.05307221] as keyword args. From version 0.10 passing these as positional arguments will result in an error\n",
      "C:\\Users\\aleem\\AppData\\Roaming\\Python\\Python37\\site-packages\\ipykernel_launcher.py:19: FutureWarning: Pass y=[-0.13573934  0.06591196  0.42581728 ...  0.14842929  0.10670526\n",
      "  0.15901692] as keyword args. From version 0.10 passing these as positional arguments will result in an error\n",
      "C:\\Users\\aleem\\AppData\\Roaming\\Python\\Python37\\site-packages\\ipykernel_launcher.py:19: FutureWarning: Pass y=[-0.01875482  0.09318108  0.21850772 ... -0.16689315 -0.15469493\n",
      " -0.17011474] as keyword args. From version 0.10 passing these as positional arguments will result in an error\n",
      "C:\\Users\\aleem\\AppData\\Roaming\\Python\\Python37\\site-packages\\ipykernel_launcher.py:19: FutureWarning: Pass y=[ 0.0945986   0.0767237  -0.0575887  ...  0.03444865  0.01835635\n",
      "  0.16391076] as keyword args. From version 0.10 passing these as positional arguments will result in an error\n",
      "C:\\Users\\aleem\\AppData\\Roaming\\Python\\Python37\\site-packages\\ipykernel_launcher.py:19: FutureWarning: Pass y=[-0.13535006 -0.1049407  -0.05736688 ...  0.          0.\n",
      "  0.        ] as keyword args. From version 0.10 passing these as positional arguments will result in an error\n",
      "C:\\Users\\aleem\\AppData\\Roaming\\Python\\Python37\\site-packages\\ipykernel_launcher.py:19: FutureWarning: Pass y=[0.1763759  0.04980576 0.10191184 ... 0.         0.         0.        ] as keyword args. From version 0.10 passing these as positional arguments will result in an error\n",
      "2it [00:00,  7.54it/s]C:\\Users\\aleem\\AppData\\Roaming\\Python\\Python37\\site-packages\\ipykernel_launcher.py:19: FutureWarning: Pass y=[-0.01525358  0.02069012  0.00204766 ...  0.0336863  -0.05392135\n",
      "  0.00905086] as keyword args. From version 0.10 passing these as positional arguments will result in an error\n",
      "C:\\Users\\aleem\\AppData\\Roaming\\Python\\Python37\\site-packages\\ipykernel_launcher.py:19: FutureWarning: Pass y=[-0.19995771 -0.24735868 -0.28401425 ... -0.01133998 -0.00334703\n",
      "  0.0039109 ] as keyword args. From version 0.10 passing these as positional arguments will result in an error\n",
      "C:\\Users\\aleem\\AppData\\Roaming\\Python\\Python37\\site-packages\\ipykernel_launcher.py:19: FutureWarning: Pass y=[-0.08914438 -0.1297928  -0.08225407 ... -0.21307713 -0.3445097\n",
      " -0.2504404 ] as keyword args. From version 0.10 passing these as positional arguments will result in an error\n",
      "C:\\Users\\aleem\\AppData\\Roaming\\Python\\Python37\\site-packages\\ipykernel_launcher.py:19: FutureWarning: Pass y=[0.00633697 0.01124903 0.02438417 ... 0.15203938 0.16393226 0.07008243] as keyword args. From version 0.10 passing these as positional arguments will result in an error\n",
      "C:\\Users\\aleem\\AppData\\Roaming\\Python\\Python37\\site-packages\\ipykernel_launcher.py:19: FutureWarning: Pass y=[-0.19103657 -0.20729837 -0.2648947  ...  0.12059049  0.13778584\n",
      "  0.05231944] as keyword args. From version 0.10 passing these as positional arguments will result in an error\n",
      "C:\\Users\\aleem\\AppData\\Roaming\\Python\\Python37\\site-packages\\ipykernel_launcher.py:19: FutureWarning: Pass y=[-0.12337648 -0.32629335 -0.38321194 ...  0.12439975  0.1778375\n",
      "  0.25758043] as keyword args. From version 0.10 passing these as positional arguments will result in an error\n",
      "C:\\Users\\aleem\\AppData\\Roaming\\Python\\Python37\\site-packages\\ipykernel_launcher.py:19: FutureWarning: Pass y=[-0.01773013 -0.01027208 -0.0673269  ...  0.          0.\n",
      "  0.        ] as keyword args. From version 0.10 passing these as positional arguments will result in an error\n",
      "C:\\Users\\aleem\\AppData\\Roaming\\Python\\Python37\\site-packages\\ipykernel_launcher.py:19: FutureWarning: Pass y=[0.27714413 0.25628752 0.25925633 ... 0.         0.         0.        ] as keyword args. From version 0.10 passing these as positional arguments will result in an error\n",
      "3it [00:00,  8.25it/s]C:\\Users\\aleem\\AppData\\Roaming\\Python\\Python37\\site-packages\\ipykernel_launcher.py:19: FutureWarning: Pass y=[ 0.00113786  0.09018947  0.01602708 ... -0.02075108  0.05369099\n",
      " -0.10680017] as keyword args. From version 0.10 passing these as positional arguments will result in an error\n",
      "C:\\Users\\aleem\\AppData\\Roaming\\Python\\Python37\\site-packages\\ipykernel_launcher.py:19: FutureWarning: Pass y=[ 0.04415924 -0.06489311 -0.02496573 ... -0.15630731 -0.12479799\n",
      " -0.0582658 ] as keyword args. From version 0.10 passing these as positional arguments will result in an error\n",
      "C:\\Users\\aleem\\AppData\\Roaming\\Python\\Python37\\site-packages\\ipykernel_launcher.py:19: FutureWarning: Pass y=[-0.10578891  0.1316368   0.13111939 ... -0.04687331 -0.05191148\n",
      " -0.08626673] as keyword args. From version 0.10 passing these as positional arguments will result in an error\n",
      "C:\\Users\\aleem\\AppData\\Roaming\\Python\\Python37\\site-packages\\ipykernel_launcher.py:19: FutureWarning: Pass y=[-0.27041087 -0.13070646 -0.0425536  ... -0.1167113  -0.07424282\n",
      " -0.02703829] as keyword args. From version 0.10 passing these as positional arguments will result in an error\n",
      "C:\\Users\\aleem\\AppData\\Roaming\\Python\\Python37\\site-packages\\ipykernel_launcher.py:19: FutureWarning: Pass y=[-0.24812034 -0.13477832 -0.17874387 ...  0.14330399  0.1381201\n",
      "  0.22756702] as keyword args. From version 0.10 passing these as positional arguments will result in an error\n",
      "C:\\Users\\aleem\\AppData\\Roaming\\Python\\Python37\\site-packages\\ipykernel_launcher.py:19: FutureWarning: Pass y=[ 0.01226066  0.01952887  0.00818521 ... -0.05271063  0.03715244\n",
      " -0.09595548] as keyword args. From version 0.10 passing these as positional arguments will result in an error\n",
      "C:\\Users\\aleem\\AppData\\Roaming\\Python\\Python37\\site-packages\\ipykernel_launcher.py:19: FutureWarning: Pass y=[0.29761705 0.2392022  0.25155747 ... 0.11680725 0.15427716 0.16855116] as keyword args. From version 0.10 passing these as positional arguments will result in an error\n",
      "C:\\Users\\aleem\\AppData\\Roaming\\Python\\Python37\\site-packages\\ipykernel_launcher.py:19: FutureWarning: Pass y=[-0.1585574   0.0574778  -0.08645082 ...  0.17256355  0.15484615\n",
      "  0.17707072] as keyword args. From version 0.10 passing these as positional arguments will result in an error\n",
      "C:\\Users\\aleem\\AppData\\Roaming\\Python\\Python37\\site-packages\\ipykernel_launcher.py:19: FutureWarning: Pass y=[0.2902539  0.27764773 0.2764352  ... 0.26502404 0.23416005 0.15566014] as keyword args. From version 0.10 passing these as positional arguments will result in an error\n",
      "C:\\Users\\aleem\\AppData\\Roaming\\Python\\Python37\\site-packages\\ipykernel_launcher.py:19: FutureWarning: Pass y=[0.1405821  0.19079207 0.23869906 ... 0.16511826 0.1579951  0.08771558] as keyword args. From version 0.10 passing these as positional arguments will result in an error\n",
      "C:\\Users\\aleem\\AppData\\Roaming\\Python\\Python37\\site-packages\\ipykernel_launcher.py:19: FutureWarning: Pass y=[ 0.03240026  0.01993506  0.06157807 ... -0.1596809  -0.22488403\n",
      " -0.29394627] as keyword args. From version 0.10 passing these as positional arguments will result in an error\n",
      "C:\\Users\\aleem\\AppData\\Roaming\\Python\\Python37\\site-packages\\ipykernel_launcher.py:19: FutureWarning: Pass y=[ 0.11947632  0.01857428  0.04466135 ... -0.03687017 -0.11158993\n",
      " -0.06674882] as keyword args. From version 0.10 passing these as positional arguments will result in an error\n",
      "C:\\Users\\aleem\\AppData\\Roaming\\Python\\Python37\\site-packages\\ipykernel_launcher.py:19: FutureWarning: Pass y=[-0.34084994 -0.37215292 -0.4344499  ...  0.2132225   0.24606581\n",
      "  0.2688761 ] as keyword args. From version 0.10 passing these as positional arguments will result in an error\n",
      "C:\\Users\\aleem\\AppData\\Roaming\\Python\\Python37\\site-packages\\ipykernel_launcher.py:19: FutureWarning: Pass y=[ 0.05145943  0.15166837  0.2187187  ...  0.04944763  0.11162011\n",
      " -0.00745286] as keyword args. From version 0.10 passing these as positional arguments will result in an error\n",
      "C:\\Users\\aleem\\AppData\\Roaming\\Python\\Python37\\site-packages\\ipykernel_launcher.py:19: FutureWarning: Pass y=[ 0.24120677  0.27203912  0.27038768 ... -0.11026403 -0.17992288\n",
      " -0.07089008] as keyword args. From version 0.10 passing these as positional arguments will result in an error\n",
      "C:\\Users\\aleem\\AppData\\Roaming\\Python\\Python37\\site-packages\\ipykernel_launcher.py:19: FutureWarning: Pass y=[-0.00176516  0.00070571  0.03182549 ...  0.16575615  0.15215652\n",
      "  0.1600441 ] as keyword args. From version 0.10 passing these as positional arguments will result in an error\n",
      "C:\\Users\\aleem\\AppData\\Roaming\\Python\\Python37\\site-packages\\ipykernel_launcher.py:19: FutureWarning: Pass y=[0.13681309 0.36401427 0.49353597 ... 0.1013276  0.12568004 0.09969276] as keyword args. From version 0.10 passing these as positional arguments will result in an error\n",
      "C:\\Users\\aleem\\AppData\\Roaming\\Python\\Python37\\site-packages\\ipykernel_launcher.py:19: FutureWarning: Pass y=[ 0.23434031  0.19407274  0.16454765 ... -0.16643685 -0.28734127\n",
      " -0.23102266] as keyword args. From version 0.10 passing these as positional arguments will result in an error\n",
      "C:\\Users\\aleem\\AppData\\Roaming\\Python\\Python37\\site-packages\\ipykernel_launcher.py:19: FutureWarning: Pass y=[0.18058188 0.19649994 0.29110938 ... 0.53015023 0.55795765 0.452265  ] as keyword args. From version 0.10 passing these as positional arguments will result in an error\n",
      "C:\\Users\\aleem\\AppData\\Roaming\\Python\\Python37\\site-packages\\ipykernel_launcher.py:19: FutureWarning: Pass y=[-0.0816035  -0.08329125 -0.03006289 ... -0.03101509  0.01014347\n",
      "  0.03896511] as keyword args. From version 0.10 passing these as positional arguments will result in an error\n",
      "C:\\Users\\aleem\\AppData\\Roaming\\Python\\Python37\\site-packages\\ipykernel_launcher.py:19: FutureWarning: Pass y=[0.5540338  0.40793195 0.41032362 ... 0.07316781 0.12610151 0.14151525] as keyword args. From version 0.10 passing these as positional arguments will result in an error\n",
      "C:\\Users\\aleem\\AppData\\Roaming\\Python\\Python37\\site-packages\\ipykernel_launcher.py:19: FutureWarning: Pass y=[ 0.06155058  0.08805352  0.12486742 ... -0.20234402 -0.17716946\n",
      " -0.14703861] as keyword args. From version 0.10 passing these as positional arguments will result in an error\n",
      "4it [00:00,  8.47it/s]C:\\Users\\aleem\\AppData\\Roaming\\Python\\Python37\\site-packages\\ipykernel_launcher.py:19: FutureWarning: Pass y=[-0.00532798 -0.00938777 -0.01161364 ...  0.11238117  0.0987725\n",
      "  0.08059949] as keyword args. From version 0.10 passing these as positional arguments will result in an error\n",
      "C:\\Users\\aleem\\AppData\\Roaming\\Python\\Python37\\site-packages\\ipykernel_launcher.py:19: FutureWarning: Pass y=[-0.02354536 -0.00261753  0.01031618 ... -0.06514689  0.04026201\n",
      " -0.00991619] as keyword args. From version 0.10 passing these as positional arguments will result in an error\n",
      "C:\\Users\\aleem\\AppData\\Roaming\\Python\\Python37\\site-packages\\ipykernel_launcher.py:19: FutureWarning: Pass y=[ 0.04911575  0.04245578  0.03838455 ... -0.0677406  -0.11330111\n",
      " -0.13227744] as keyword args. From version 0.10 passing these as positional arguments will result in an error\n",
      "C:\\Users\\aleem\\AppData\\Roaming\\Python\\Python37\\site-packages\\ipykernel_launcher.py:19: FutureWarning: Pass y=[-0.13436285 -0.22750962 -0.22688667 ... -0.19065058 -0.14557129\n",
      " -0.08469795] as keyword args. From version 0.10 passing these as positional arguments will result in an error\n",
      "C:\\Users\\aleem\\AppData\\Roaming\\Python\\Python37\\site-packages\\ipykernel_launcher.py:19: FutureWarning: Pass y=[-0.13053271 -0.1369181  -0.16286437 ...  0.0411167   0.06078146\n",
      "  0.05581407] as keyword args. From version 0.10 passing these as positional arguments will result in an error\n",
      "C:\\Users\\aleem\\AppData\\Roaming\\Python\\Python37\\site-packages\\ipykernel_launcher.py:19: FutureWarning: Pass y=[-0.03379476 -0.03916039 -0.12687562 ... -0.0234869  -0.01616461\n",
      " -0.00655968] as keyword args. From version 0.10 passing these as positional arguments will result in an error\n",
      "C:\\Users\\aleem\\AppData\\Roaming\\Python\\Python37\\site-packages\\ipykernel_launcher.py:19: FutureWarning: Pass y=[0.03040566 0.00480668 0.02022921 ... 0.         0.         0.        ] as keyword args. From version 0.10 passing these as positional arguments will result in an error\n",
      "C:\\Users\\aleem\\AppData\\Roaming\\Python\\Python37\\site-packages\\ipykernel_launcher.py:19: FutureWarning: Pass y=[-0.05354314 -0.04665801  0.02702248 ...  0.          0.\n",
      "  0.        ] as keyword args. From version 0.10 passing these as positional arguments will result in an error\n",
      "C:\\Users\\aleem\\AppData\\Roaming\\Python\\Python37\\site-packages\\ipykernel_launcher.py:19: FutureWarning: Pass y=[0. 0. 0. ... 0. 0. 0.] as keyword args. From version 0.10 passing these as positional arguments will result in an error\n",
      "5it [00:01,  1.64it/s]C:\\Users\\aleem\\AppData\\Roaming\\Python\\Python37\\site-packages\\ipykernel_launcher.py:19: FutureWarning: Pass y=[-0.00488998  0.00673612 -0.00620175 ...  0.04850437  0.01879473\n",
      " -0.0134966 ] as keyword args. From version 0.10 passing these as positional arguments will result in an error\n",
      "C:\\Users\\aleem\\AppData\\Roaming\\Python\\Python37\\site-packages\\ipykernel_launcher.py:19: FutureWarning: Pass y=[-0.21314791 -0.20342156 -0.05317522 ...  0.0140283   0.03503685\n",
      "  0.0655468 ] as keyword args. From version 0.10 passing these as positional arguments will result in an error\n",
      "C:\\Users\\aleem\\AppData\\Roaming\\Python\\Python37\\site-packages\\ipykernel_launcher.py:19: FutureWarning: Pass y=[-0.01210943  0.0039769   0.00673372 ...  0.05070153  0.04360811\n",
      "  0.04011358] as keyword args. From version 0.10 passing these as positional arguments will result in an error\n",
      "C:\\Users\\aleem\\AppData\\Roaming\\Python\\Python37\\site-packages\\ipykernel_launcher.py:19: FutureWarning: Pass y=[ 0.08380505  0.06974462  0.03818672 ... -0.00935197  0.00024037\n",
      " -0.05217124] as keyword args. From version 0.10 passing these as positional arguments will result in an error\n",
      "C:\\Users\\aleem\\AppData\\Roaming\\Python\\Python37\\site-packages\\ipykernel_launcher.py:19: FutureWarning: Pass y=[ 0.05570737  0.09582413  0.14925784 ...  0.20944254  0.12054801\n",
      " -0.08287933] as keyword args. From version 0.10 passing these as positional arguments will result in an error\n",
      "C:\\Users\\aleem\\AppData\\Roaming\\Python\\Python37\\site-packages\\ipykernel_launcher.py:19: FutureWarning: Pass y=[ 0.08458231  0.01117374 -0.03658472 ...  0.01370674  0.02851808\n",
      "  0.01460521] as keyword args. From version 0.10 passing these as positional arguments will result in an error\n",
      "C:\\Users\\aleem\\AppData\\Roaming\\Python\\Python37\\site-packages\\ipykernel_launcher.py:19: FutureWarning: Pass y=[-0.23862232 -0.22350594 -0.08631343 ... -0.02035389 -0.07552056\n",
      " -0.10531457] as keyword args. From version 0.10 passing these as positional arguments will result in an error\n",
      "C:\\Users\\aleem\\AppData\\Roaming\\Python\\Python37\\site-packages\\ipykernel_launcher.py:19: FutureWarning: Pass y=[-0.0308605  -0.08044767 -0.11477365 ...  0.03351798  0.07627153\n",
      "  0.10367647] as keyword args. From version 0.10 passing these as positional arguments will result in an error\n",
      "C:\\Users\\aleem\\AppData\\Roaming\\Python\\Python37\\site-packages\\ipykernel_launcher.py:19: FutureWarning: Pass y=[-0.08374988 -0.04656493 -0.04992406 ...  0.09819436  0.1045793\n",
      "  0.11097166] as keyword args. From version 0.10 passing these as positional arguments will result in an error\n",
      "C:\\Users\\aleem\\AppData\\Roaming\\Python\\Python37\\site-packages\\ipykernel_launcher.py:19: FutureWarning: Pass y=[0.08935056 0.08120427 0.05536272 ... 0.07805418 0.07124291 0.0805523 ] as keyword args. From version 0.10 passing these as positional arguments will result in an error\n",
      "C:\\Users\\aleem\\AppData\\Roaming\\Python\\Python37\\site-packages\\ipykernel_launcher.py:19: FutureWarning: Pass y=[0.10287419 0.10482237 0.107648   ... 0.19331631 0.26288766 0.14029512] as keyword args. From version 0.10 passing these as positional arguments will result in an error\n",
      "C:\\Users\\aleem\\AppData\\Roaming\\Python\\Python37\\site-packages\\ipykernel_launcher.py:19: FutureWarning: Pass y=[ 0.04599307  0.003237   -0.00717246 ... -0.04439604 -0.03975211\n",
      " -0.01120028] as keyword args. From version 0.10 passing these as positional arguments will result in an error\n",
      "C:\\Users\\aleem\\AppData\\Roaming\\Python\\Python37\\site-packages\\ipykernel_launcher.py:19: FutureWarning: Pass y=[0.06552341 0.10927781 0.15007755 ... 0.         0.         0.        ] as keyword args. From version 0.10 passing these as positional arguments will result in an error\n",
      "C:\\Users\\aleem\\AppData\\Roaming\\Python\\Python37\\site-packages\\ipykernel_launcher.py:19: FutureWarning: Pass y=[0.01684367 0.01572203 0.00225181 ... 0.         0.         0.        ] as keyword args. From version 0.10 passing these as positional arguments will result in an error\n",
      "6it [00:02,  1.78it/s]C:\\Users\\aleem\\AppData\\Roaming\\Python\\Python37\\site-packages\\ipykernel_launcher.py:19: FutureWarning: Pass y=[-0.00690354 -0.00708194  0.00814009 ... -0.02031602 -0.03851673\n",
      " -0.03577803] as keyword args. From version 0.10 passing these as positional arguments will result in an error\n",
      "C:\\Users\\aleem\\AppData\\Roaming\\Python\\Python37\\site-packages\\ipykernel_launcher.py:19: FutureWarning: Pass y=[0.04146133 0.02658811 0.03397983 ... 0.04617729 0.10076655 0.21527734] as keyword args. From version 0.10 passing these as positional arguments will result in an error\n",
      "C:\\Users\\aleem\\AppData\\Roaming\\Python\\Python37\\site-packages\\ipykernel_launcher.py:19: FutureWarning: Pass y=[-0.03517909 -0.04793629 -0.05519976 ...  0.03259142  0.01832691\n",
      " -0.00214196] as keyword args. From version 0.10 passing these as positional arguments will result in an error\n",
      "C:\\Users\\aleem\\AppData\\Roaming\\Python\\Python37\\site-packages\\ipykernel_launcher.py:19: FutureWarning: Pass y=[ 0.2300222   0.15509711  0.09771885 ... -0.32236606 -0.4348901\n",
      " -0.40111196] as keyword args. From version 0.10 passing these as positional arguments will result in an error\n",
      "C:\\Users\\aleem\\AppData\\Roaming\\Python\\Python37\\site-packages\\ipykernel_launcher.py:19: FutureWarning: Pass y=[-0.00420684 -0.00240177  0.00024314 ... -0.06115914 -0.06062729\n",
      " -0.011358  ] as keyword args. From version 0.10 passing these as positional arguments will result in an error\n",
      "C:\\Users\\aleem\\AppData\\Roaming\\Python\\Python37\\site-packages\\ipykernel_launcher.py:19: FutureWarning: Pass y=[-0.19783722  0.08229668  0.20450196 ...  0.14759171  0.0983808\n",
      "  0.0332479 ] as keyword args. From version 0.10 passing these as positional arguments will result in an error\n",
      "C:\\Users\\aleem\\AppData\\Roaming\\Python\\Python37\\site-packages\\ipykernel_launcher.py:19: FutureWarning: Pass y=[ 0.02834774  0.01924306 -0.00402191 ...  0.2203812   0.2579169\n",
      "  0.10879635] as keyword args. From version 0.10 passing these as positional arguments will result in an error\n",
      "C:\\Users\\aleem\\AppData\\Roaming\\Python\\Python37\\site-packages\\ipykernel_launcher.py:19: FutureWarning: Pass y=[-0.00567256 -0.00717452  0.01125656 ...  0.01321832  0.07983144\n",
      "  0.13137887] as keyword args. From version 0.10 passing these as positional arguments will result in an error\n",
      "C:\\Users\\aleem\\AppData\\Roaming\\Python\\Python37\\site-packages\\ipykernel_launcher.py:19: FutureWarning: Pass y=[0.09547798 0.09357939 0.10093068 ... 0.         0.         0.        ] as keyword args. From version 0.10 passing these as positional arguments will result in an error\n",
      "C:\\Users\\aleem\\AppData\\Roaming\\Python\\Python37\\site-packages\\ipykernel_launcher.py:19: FutureWarning: Pass y=[0.08563422 0.09953019 0.09443329 ... 0.         0.         0.        ] as keyword args. From version 0.10 passing these as positional arguments will result in an error\n",
      "7it [00:02,  2.14it/s]C:\\Users\\aleem\\AppData\\Roaming\\Python\\Python37\\site-packages\\ipykernel_launcher.py:19: FutureWarning: Pass y=[ 0.00400804 -0.00747105 -0.00509111 ...  0.01596814 -0.00039116\n",
      "  0.12053325] as keyword args. From version 0.10 passing these as positional arguments will result in an error\n",
      "C:\\Users\\aleem\\AppData\\Roaming\\Python\\Python37\\site-packages\\ipykernel_launcher.py:19: FutureWarning: Pass y=[ 0.2581659   0.14770822  0.13968123 ... -0.0071424  -0.15337029\n",
      " -0.18106863] as keyword args. From version 0.10 passing these as positional arguments will result in an error\n",
      "C:\\Users\\aleem\\AppData\\Roaming\\Python\\Python37\\site-packages\\ipykernel_launcher.py:19: FutureWarning: Pass y=[0.16966493 0.11027964 0.09726541 ... 0.05582145 0.20177825 0.25314504] as keyword args. From version 0.10 passing these as positional arguments will result in an error\n",
      "C:\\Users\\aleem\\AppData\\Roaming\\Python\\Python37\\site-packages\\ipykernel_launcher.py:19: FutureWarning: Pass y=[ 0.09952763  0.3440164   0.2798013  ...  0.00037803 -0.01636653\n",
      " -0.00831771] as keyword args. From version 0.10 passing these as positional arguments will result in an error\n",
      "C:\\Users\\aleem\\AppData\\Roaming\\Python\\Python37\\site-packages\\ipykernel_launcher.py:19: FutureWarning: Pass y=[ 0.15914258  0.04471537 -0.05363915 ...  0.09454214  0.02488573\n",
      "  0.02870091] as keyword args. From version 0.10 passing these as positional arguments will result in an error\n",
      "C:\\Users\\aleem\\AppData\\Roaming\\Python\\Python37\\site-packages\\ipykernel_launcher.py:19: FutureWarning: Pass y=[ 0.04884138  0.00368312 -0.00172861 ... -0.10906229 -0.0878283\n",
      " -0.04169166] as keyword args. From version 0.10 passing these as positional arguments will result in an error\n",
      "C:\\Users\\aleem\\AppData\\Roaming\\Python\\Python37\\site-packages\\ipykernel_launcher.py:19: FutureWarning: Pass y=[ 0.12306976  0.12992765  0.0662102  ...  0.05845432  0.0340434\n",
      " -0.00443941] as keyword args. From version 0.10 passing these as positional arguments will result in an error\n",
      "C:\\Users\\aleem\\AppData\\Roaming\\Python\\Python37\\site-packages\\ipykernel_launcher.py:19: FutureWarning: Pass y=[-0.03260619 -0.05275271 -0.07705129 ... -0.06706572 -0.14936319\n",
      " -0.2754816 ] as keyword args. From version 0.10 passing these as positional arguments will result in an error\n",
      "C:\\Users\\aleem\\AppData\\Roaming\\Python\\Python37\\site-packages\\ipykernel_launcher.py:19: FutureWarning: Pass y=[-0.02830895 -0.03816746 -0.0581526  ...  0.00507402  0.0139108\n",
      "  0.02399078] as keyword args. From version 0.10 passing these as positional arguments will result in an error\n",
      "C:\\Users\\aleem\\AppData\\Roaming\\Python\\Python37\\site-packages\\ipykernel_launcher.py:19: FutureWarning: Pass y=[-0.35443696 -0.33270168 -0.16512018 ...  0.03300843  0.03082276\n",
      "  0.03069932] as keyword args. From version 0.10 passing these as positional arguments will result in an error\n",
      "C:\\Users\\aleem\\AppData\\Roaming\\Python\\Python37\\site-packages\\ipykernel_launcher.py:19: FutureWarning: Pass y=[ 0.0221493   0.02432637  0.02837444 ... -0.26828986 -0.15326\n",
      " -0.08861244] as keyword args. From version 0.10 passing these as positional arguments will result in an error\n",
      "C:\\Users\\aleem\\AppData\\Roaming\\Python\\Python37\\site-packages\\ipykernel_launcher.py:19: FutureWarning: Pass y=[ 0.03476841  0.03237914  0.01090207 ... -0.05638516  0.0144965\n",
      "  0.11917119] as keyword args. From version 0.10 passing these as positional arguments will result in an error\n",
      "C:\\Users\\aleem\\AppData\\Roaming\\Python\\Python37\\site-packages\\ipykernel_launcher.py:19: FutureWarning: Pass y=[-0.11543136 -0.1836154  -0.13725337 ...  0.09962476  0.10862619\n",
      "  0.12729459] as keyword args. From version 0.10 passing these as positional arguments will result in an error\n",
      "C:\\Users\\aleem\\AppData\\Roaming\\Python\\Python37\\site-packages\\ipykernel_launcher.py:19: FutureWarning: Pass y=[ 0.09530491 -0.0158211  -0.03217353 ... -0.11929337 -0.14317882\n",
      " -0.13978486] as keyword args. From version 0.10 passing these as positional arguments will result in an error\n",
      "C:\\Users\\aleem\\AppData\\Roaming\\Python\\Python37\\site-packages\\ipykernel_launcher.py:19: FutureWarning: Pass y=[ 0.10405941  0.04695452 -0.02554896 ...  0.00288077 -0.02882488\n",
      " -0.06495377] as keyword args. From version 0.10 passing these as positional arguments will result in an error\n",
      "C:\\Users\\aleem\\AppData\\Roaming\\Python\\Python37\\site-packages\\ipykernel_launcher.py:19: FutureWarning: Pass y=[-0.13343732 -0.10601675 -0.08479649 ... -0.0010716  -0.00145423\n",
      " -0.00616589] as keyword args. From version 0.10 passing these as positional arguments will result in an error\n",
      "C:\\Users\\aleem\\AppData\\Roaming\\Python\\Python37\\site-packages\\ipykernel_launcher.py:19: FutureWarning: Pass y=[-0.07583075 -0.06464365 -0.0480747  ...  0.2501975   0.28135628\n",
      "  0.2682217 ] as keyword args. From version 0.10 passing these as positional arguments will result in an error\n",
      "C:\\Users\\aleem\\AppData\\Roaming\\Python\\Python37\\site-packages\\ipykernel_launcher.py:19: FutureWarning: Pass y=[-0.00714751 -0.01055404 -0.00280711 ...  0.05339621  0.05100412\n",
      "  0.04567538] as keyword args. From version 0.10 passing these as positional arguments will result in an error\n",
      "C:\\Users\\aleem\\AppData\\Roaming\\Python\\Python37\\site-packages\\ipykernel_launcher.py:19: FutureWarning: Pass y=[ 0.1591941   0.0557117  -0.01444941 ...  0.04737251  0.09416555\n",
      "  0.11383732] as keyword args. From version 0.10 passing these as positional arguments will result in an error\n",
      "C:\\Users\\aleem\\AppData\\Roaming\\Python\\Python37\\site-packages\\ipykernel_launcher.py:19: FutureWarning: Pass y=[0.04197555 0.04325638 0.04361409 ... 0.00656045 0.00976167 0.00862067] as keyword args. From version 0.10 passing these as positional arguments will result in an error\n",
      "C:\\Users\\aleem\\AppData\\Roaming\\Python\\Python37\\site-packages\\ipykernel_launcher.py:19: FutureWarning: Pass y=[0.11340275 0.11710436 0.14513092 ... 0.         0.         0.        ] as keyword args. From version 0.10 passing these as positional arguments will result in an error\n",
      "C:\\Users\\aleem\\AppData\\Roaming\\Python\\Python37\\site-packages\\ipykernel_launcher.py:19: FutureWarning: Pass y=[0.01092759 0.01276244 0.01138691 ... 0.         0.         0.        ] as keyword args. From version 0.10 passing these as positional arguments will result in an error\n",
      "8it [00:03,  2.14it/s]C:\\Users\\aleem\\AppData\\Roaming\\Python\\Python37\\site-packages\\ipykernel_launcher.py:19: FutureWarning: Pass y=[ 0.01032479  0.01597593  0.01478519 ... -0.10728917 -0.01542931\n",
      "  0.04242451] as keyword args. From version 0.10 passing these as positional arguments will result in an error\n",
      "C:\\Users\\aleem\\AppData\\Roaming\\Python\\Python37\\site-packages\\ipykernel_launcher.py:19: FutureWarning: Pass y=[ 0.06887639  0.05899352  0.04360407 ... -0.03098715 -0.0261894\n",
      " -0.03085094] as keyword args. From version 0.10 passing these as positional arguments will result in an error\n",
      "C:\\Users\\aleem\\AppData\\Roaming\\Python\\Python37\\site-packages\\ipykernel_launcher.py:19: FutureWarning: Pass y=[ 0.09274749  0.07488334 -0.03035635 ... -0.11243004 -0.11968515\n",
      " -0.12363648] as keyword args. From version 0.10 passing these as positional arguments will result in an error\n",
      "C:\\Users\\aleem\\AppData\\Roaming\\Python\\Python37\\site-packages\\ipykernel_launcher.py:19: FutureWarning: Pass y=[-0.02940889 -0.01533744 -0.00139812 ... -0.12304392 -0.09746704\n",
      " -0.03557187] as keyword args. From version 0.10 passing these as positional arguments will result in an error\n",
      "C:\\Users\\aleem\\AppData\\Roaming\\Python\\Python37\\site-packages\\ipykernel_launcher.py:19: FutureWarning: Pass y=[-0.11802306 -0.13064411 -0.15460525 ...  0.04266015  0.02399405\n",
      "  0.02679658] as keyword args. From version 0.10 passing these as positional arguments will result in an error\n",
      "C:\\Users\\aleem\\AppData\\Roaming\\Python\\Python37\\site-packages\\ipykernel_launcher.py:19: FutureWarning: Pass y=[ 0.03343834  0.08967587  0.09860054 ...  0.02305354  0.01495212\n",
      " -0.05023678] as keyword args. From version 0.10 passing these as positional arguments will result in an error\n",
      "C:\\Users\\aleem\\AppData\\Roaming\\Python\\Python37\\site-packages\\ipykernel_launcher.py:19: FutureWarning: Pass y=[ 0.02319791 -0.01463125 -0.06292922 ... -0.07609264 -0.08307525\n",
      " -0.10256028] as keyword args. From version 0.10 passing these as positional arguments will result in an error\n",
      "C:\\Users\\aleem\\AppData\\Roaming\\Python\\Python37\\site-packages\\ipykernel_launcher.py:19: FutureWarning: Pass y=[-0.08480656 -0.05126052 -0.03147175 ... -0.00705155 -0.01182098\n",
      " -0.01100979] as keyword args. From version 0.10 passing these as positional arguments will result in an error\n",
      "C:\\Users\\aleem\\AppData\\Roaming\\Python\\Python37\\site-packages\\ipykernel_launcher.py:19: FutureWarning: Pass y=[-0.1033278  -0.06070695 -0.00107201 ...  0.          0.\n",
      "  0.        ] as keyword args. From version 0.10 passing these as positional arguments will result in an error\n",
      "C:\\Users\\aleem\\AppData\\Roaming\\Python\\Python37\\site-packages\\ipykernel_launcher.py:19: FutureWarning: Pass y=[0.0001326  0.01253801 0.01817072 ... 0.         0.         0.        ] as keyword args. From version 0.10 passing these as positional arguments will result in an error\n",
      "9it [00:03,  2.46it/s]C:\\Users\\aleem\\AppData\\Roaming\\Python\\Python37\\site-packages\\ipykernel_launcher.py:19: FutureWarning: Pass y=[0.01236028 0.01995257 0.00574367 ... 0.06776875 0.18691811 0.23330145] as keyword args. From version 0.10 passing these as positional arguments will result in an error\n",
      "C:\\Users\\aleem\\AppData\\Roaming\\Python\\Python37\\site-packages\\ipykernel_launcher.py:19: FutureWarning: Pass y=[-0.0513888  -0.03965816 -0.05373498 ... -0.01084386 -0.02385107\n",
      " -0.03827592] as keyword args. From version 0.10 passing these as positional arguments will result in an error\n",
      "C:\\Users\\aleem\\AppData\\Roaming\\Python\\Python37\\site-packages\\ipykernel_launcher.py:19: FutureWarning: Pass y=[0.21551107 0.20322348 0.17351693 ... 0.03996541 0.05381852 0.05422047] as keyword args. From version 0.10 passing these as positional arguments will result in an error\n",
      "C:\\Users\\aleem\\AppData\\Roaming\\Python\\Python37\\site-packages\\ipykernel_launcher.py:19: FutureWarning: Pass y=[-0.06312887 -0.08644005 -0.110408   ...  0.20659237  0.16938947\n",
      "  0.2338235 ] as keyword args. From version 0.10 passing these as positional arguments will result in an error\n",
      "C:\\Users\\aleem\\AppData\\Roaming\\Python\\Python37\\site-packages\\ipykernel_launcher.py:19: FutureWarning: Pass y=[ 0.03738635  0.03148832  0.04291726 ... -0.02988681 -0.06095221\n",
      "  0.02378345] as keyword args. From version 0.10 passing these as positional arguments will result in an error\n",
      "C:\\Users\\aleem\\AppData\\Roaming\\Python\\Python37\\site-packages\\ipykernel_launcher.py:19: FutureWarning: Pass y=[ 0.21082239  0.04454074 -0.09783716 ... -0.02657123 -0.04634876\n",
      " -0.04460455] as keyword args. From version 0.10 passing these as positional arguments will result in an error\n",
      "C:\\Users\\aleem\\AppData\\Roaming\\Python\\Python37\\site-packages\\ipykernel_launcher.py:19: FutureWarning: Pass y=[ 0.00254529  0.03704747 -0.01789139 ... -0.02216955 -0.0444948\n",
      " -0.08794238] as keyword args. From version 0.10 passing these as positional arguments will result in an error\n",
      "C:\\Users\\aleem\\AppData\\Roaming\\Python\\Python37\\site-packages\\ipykernel_launcher.py:19: FutureWarning: Pass y=[-0.01759186  0.04329081  0.12370278 ...  0.07440941  0.01657\n",
      "  0.01402497] as keyword args. From version 0.10 passing these as positional arguments will result in an error\n",
      "C:\\Users\\aleem\\AppData\\Roaming\\Python\\Python37\\site-packages\\ipykernel_launcher.py:19: FutureWarning: Pass y=[-0.13414387 -0.17190522 -0.20258032 ...  0.13858205  0.0952533\n",
      "  0.05435219] as keyword args. From version 0.10 passing these as positional arguments will result in an error\n",
      "C:\\Users\\aleem\\AppData\\Roaming\\Python\\Python37\\site-packages\\ipykernel_launcher.py:19: FutureWarning: Pass y=[-0.03597226 -0.09438819 -0.10069277 ... -0.06167347  0.01156815\n",
      "  0.04816842] as keyword args. From version 0.10 passing these as positional arguments will result in an error\n",
      "C:\\Users\\aleem\\AppData\\Roaming\\Python\\Python37\\site-packages\\ipykernel_launcher.py:19: FutureWarning: Pass y=[ 0.01087683  0.00560619 -0.00117026 ...  0.02406535  0.01188536\n",
      "  0.00540413] as keyword args. From version 0.10 passing these as positional arguments will result in an error\n",
      "C:\\Users\\aleem\\AppData\\Roaming\\Python\\Python37\\site-packages\\ipykernel_launcher.py:19: FutureWarning: Pass y=[0.04801365 0.06669383 0.09069657 ... 0.11326649 0.11826766 0.1214266 ] as keyword args. From version 0.10 passing these as positional arguments will result in an error\n",
      "C:\\Users\\aleem\\AppData\\Roaming\\Python\\Python37\\site-packages\\ipykernel_launcher.py:19: FutureWarning: Pass y=[ 0.02761051  0.02711932 -0.00581843 ...  0.12939002  0.1458231\n",
      "  0.14891416] as keyword args. From version 0.10 passing these as positional arguments will result in an error\n",
      "C:\\Users\\aleem\\AppData\\Roaming\\Python\\Python37\\site-packages\\ipykernel_launcher.py:19: FutureWarning: Pass y=[0.10099335 0.07383475 0.07026516 ... 0.02489375 0.06426606 0.11452608] as keyword args. From version 0.10 passing these as positional arguments will result in an error\n",
      "C:\\Users\\aleem\\AppData\\Roaming\\Python\\Python37\\site-packages\\ipykernel_launcher.py:19: FutureWarning: Pass y=[0.13802637 0.11309927 0.07759639 ... 0.10391343 0.09834532 0.0925641 ] as keyword args. From version 0.10 passing these as positional arguments will result in an error\n",
      "C:\\Users\\aleem\\AppData\\Roaming\\Python\\Python37\\site-packages\\ipykernel_launcher.py:19: FutureWarning: Pass y=[0.13017641 0.13569629 0.14696562 ... 0.11857304 0.10394365 0.09415519] as keyword args. From version 0.10 passing these as positional arguments will result in an error\n",
      "C:\\Users\\aleem\\AppData\\Roaming\\Python\\Python37\\site-packages\\ipykernel_launcher.py:19: FutureWarning: Pass y=[ 0.07994436  0.06686445  0.05432618 ... -0.04766755 -0.05087349\n",
      " -0.03786899] as keyword args. From version 0.10 passing these as positional arguments will result in an error\n",
      "C:\\Users\\aleem\\AppData\\Roaming\\Python\\Python37\\site-packages\\ipykernel_launcher.py:19: FutureWarning: Pass y=[0.09733608 0.09811174 0.09424651 ... 0.         0.         0.        ] as keyword args. From version 0.10 passing these as positional arguments will result in an error\n",
      "C:\\Users\\aleem\\AppData\\Roaming\\Python\\Python37\\site-packages\\ipykernel_launcher.py:19: FutureWarning: Pass y=[-0.03978679 -0.05079534 -0.06832632 ...  0.          0.\n",
      "  0.        ] as keyword args. From version 0.10 passing these as positional arguments will result in an error\n",
      "10it [00:03,  2.39it/s]C:\\Users\\aleem\\AppData\\Roaming\\Python\\Python37\\site-packages\\ipykernel_launcher.py:19: FutureWarning: Pass y=[-0.01997928 -0.03146231 -0.02513218 ... -0.01852006  0.01732969\n",
      "  0.02347607] as keyword args. From version 0.10 passing these as positional arguments will result in an error\n",
      "C:\\Users\\aleem\\AppData\\Roaming\\Python\\Python37\\site-packages\\ipykernel_launcher.py:19: FutureWarning: Pass y=[ 0.10248723  0.06573531 -0.08645342 ... -0.22868352 -0.19117434\n",
      " -0.08196644] as keyword args. From version 0.10 passing these as positional arguments will result in an error\n",
      "C:\\Users\\aleem\\AppData\\Roaming\\Python\\Python37\\site-packages\\ipykernel_launcher.py:19: FutureWarning: Pass y=[ 0.02266234  0.01645896 -0.00653494 ... -0.38119647 -0.3683204\n",
      " -0.31874967] as keyword args. From version 0.10 passing these as positional arguments will result in an error\n",
      "C:\\Users\\aleem\\AppData\\Roaming\\Python\\Python37\\site-packages\\ipykernel_launcher.py:19: FutureWarning: Pass y=[ 0.02282715  0.07991605  0.13229214 ... -0.0231456  -0.063233\n",
      "  0.01616386] as keyword args. From version 0.10 passing these as positional arguments will result in an error\n",
      "C:\\Users\\aleem\\AppData\\Roaming\\Python\\Python37\\site-packages\\ipykernel_launcher.py:19: FutureWarning: Pass y=[-0.16992068 -0.02784009  0.06007141 ... -0.02972612 -0.00308987\n",
      " -0.02428935] as keyword args. From version 0.10 passing these as positional arguments will result in an error\n",
      "C:\\Users\\aleem\\AppData\\Roaming\\Python\\Python37\\site-packages\\ipykernel_launcher.py:19: FutureWarning: Pass y=[ 0.02661882  0.00296734 -0.00244174 ... -0.01822038 -0.02651808\n",
      " -0.03046936] as keyword args. From version 0.10 passing these as positional arguments will result in an error\n",
      "C:\\Users\\aleem\\AppData\\Roaming\\Python\\Python37\\site-packages\\ipykernel_launcher.py:19: FutureWarning: Pass y=[ 0.01839681  0.10851444  0.10056381 ... -0.14926979 -0.17404506\n",
      " -0.1491799 ] as keyword args. From version 0.10 passing these as positional arguments will result in an error\n",
      "C:\\Users\\aleem\\AppData\\Roaming\\Python\\Python37\\site-packages\\ipykernel_launcher.py:19: FutureWarning: Pass y=[-0.04339044 -0.05783466 -0.05931054 ...  0.08921051  0.09461681\n",
      "  0.02368101] as keyword args. From version 0.10 passing these as positional arguments will result in an error\n",
      "C:\\Users\\aleem\\AppData\\Roaming\\Python\\Python37\\site-packages\\ipykernel_launcher.py:19: FutureWarning: Pass y=[-0.15502003 -0.21365365 -0.25722054 ...  0.02278073  0.00879488\n",
      "  0.00128548] as keyword args. From version 0.10 passing these as positional arguments will result in an error\n",
      "C:\\Users\\aleem\\AppData\\Roaming\\Python\\Python37\\site-packages\\ipykernel_launcher.py:19: FutureWarning: Pass y=[-0.01968633 -0.01123046 -0.00784614 ... -0.04730251 -0.06040585\n",
      " -0.04799709] as keyword args. From version 0.10 passing these as positional arguments will result in an error\n",
      "C:\\Users\\aleem\\AppData\\Roaming\\Python\\Python37\\site-packages\\ipykernel_launcher.py:19: FutureWarning: Pass y=[-0.01278378  0.00885116  0.0329948  ...  0.09169304  0.0527367\n",
      "  0.06396154] as keyword args. From version 0.10 passing these as positional arguments will result in an error\n",
      "C:\\Users\\aleem\\AppData\\Roaming\\Python\\Python37\\site-packages\\ipykernel_launcher.py:19: FutureWarning: Pass y=[-0.03880456 -0.02713671 -0.01893237 ...  0.          0.\n",
      "  0.        ] as keyword args. From version 0.10 passing these as positional arguments will result in an error\n",
      "C:\\Users\\aleem\\AppData\\Roaming\\Python\\Python37\\site-packages\\ipykernel_launcher.py:19: FutureWarning: Pass y=[0.07660981 0.04190609 0.02348007 ... 0.         0.         0.        ] as keyword args. From version 0.10 passing these as positional arguments will result in an error\n",
      "11it [00:04,  2.57it/s]C:\\Users\\aleem\\AppData\\Roaming\\Python\\Python37\\site-packages\\ipykernel_launcher.py:19: FutureWarning: Pass y=[0.00878425 0.01205503 0.00944137 ... 0.13853039 0.17704774 0.15648475] as keyword args. From version 0.10 passing these as positional arguments will result in an error\n",
      "C:\\Users\\aleem\\AppData\\Roaming\\Python\\Python37\\site-packages\\ipykernel_launcher.py:19: FutureWarning: Pass y=[0.32982764 0.323614   0.28895056 ... 0.03151905 0.04212875 0.06431969] as keyword args. From version 0.10 passing these as positional arguments will result in an error\n",
      "C:\\Users\\aleem\\AppData\\Roaming\\Python\\Python37\\site-packages\\ipykernel_launcher.py:19: FutureWarning: Pass y=[ 0.11028365  0.0808203   0.07385787 ... -0.2164673  -0.2378948\n",
      " -0.10027331] as keyword args. From version 0.10 passing these as positional arguments will result in an error\n",
      "C:\\Users\\aleem\\AppData\\Roaming\\Python\\Python37\\site-packages\\ipykernel_launcher.py:19: FutureWarning: Pass y=[ 0.04329385 -0.02810892 -0.09925624 ... -0.07787993 -0.13091956\n",
      " -0.30646598] as keyword args. From version 0.10 passing these as positional arguments will result in an error\n",
      "C:\\Users\\aleem\\AppData\\Roaming\\Python\\Python37\\site-packages\\ipykernel_launcher.py:19: FutureWarning: Pass y=[ 0.01856983 -0.03423002 -0.13650836 ...  0.12842315  0.09126615\n",
      "  0.03439241] as keyword args. From version 0.10 passing these as positional arguments will result in an error\n",
      "C:\\Users\\aleem\\AppData\\Roaming\\Python\\Python37\\site-packages\\ipykernel_launcher.py:19: FutureWarning: Pass y=[-0.39678738 -0.31931543 -0.16370797 ...  0.16805114  0.15135226\n",
      "  0.1336353 ] as keyword args. From version 0.10 passing these as positional arguments will result in an error\n",
      "C:\\Users\\aleem\\AppData\\Roaming\\Python\\Python37\\site-packages\\ipykernel_launcher.py:19: FutureWarning: Pass y=[-0.01552291 -0.03585019 -0.02409836 ...  0.01490156  0.00194699\n",
      "  0.01485482] as keyword args. From version 0.10 passing these as positional arguments will result in an error\n",
      "C:\\Users\\aleem\\AppData\\Roaming\\Python\\Python37\\site-packages\\ipykernel_launcher.py:19: FutureWarning: Pass y=[0.11069556 0.06537558 0.02898939 ... 0.02072366 0.04418746 0.03527647] as keyword args. From version 0.10 passing these as positional arguments will result in an error\n",
      "C:\\Users\\aleem\\AppData\\Roaming\\Python\\Python37\\site-packages\\ipykernel_launcher.py:19: FutureWarning: Pass y=[ 0.01630729  0.00534749 -0.0053155  ...  0.08802821  0.08746092\n",
      "  0.08054676] as keyword args. From version 0.10 passing these as positional arguments will result in an error\n",
      "C:\\Users\\aleem\\AppData\\Roaming\\Python\\Python37\\site-packages\\ipykernel_launcher.py:19: FutureWarning: Pass y=[0.00999391 0.01230856 0.02657979 ... 0.11939723 0.06170436 0.05077645] as keyword args. From version 0.10 passing these as positional arguments will result in an error\n",
      "C:\\Users\\aleem\\AppData\\Roaming\\Python\\Python37\\site-packages\\ipykernel_launcher.py:19: FutureWarning: Pass y=[ 0.07133567  0.03051436  0.01570933 ... -0.08078662 -0.05286559\n",
      " -0.08111711] as keyword args. From version 0.10 passing these as positional arguments will result in an error\n",
      "C:\\Users\\aleem\\AppData\\Roaming\\Python\\Python37\\site-packages\\ipykernel_launcher.py:19: FutureWarning: Pass y=[ 0.03115652  0.00946246  0.02145886 ...  0.02454561 -0.04740872\n",
      " -0.08717974] as keyword args. From version 0.10 passing these as positional arguments will result in an error\n",
      "C:\\Users\\aleem\\AppData\\Roaming\\Python\\Python37\\site-packages\\ipykernel_launcher.py:19: FutureWarning: Pass y=[-0.10290983 -0.11827214 -0.10951132 ... -0.1633783  -0.11652842\n",
      " -0.07349021] as keyword args. From version 0.10 passing these as positional arguments will result in an error\n",
      "C:\\Users\\aleem\\AppData\\Roaming\\Python\\Python37\\site-packages\\ipykernel_launcher.py:19: FutureWarning: Pass y=[-0.06982297 -0.02945284 -0.0077359  ...  0.06315649  0.0780552\n",
      "  0.0848899 ] as keyword args. From version 0.10 passing these as positional arguments will result in an error\n",
      "C:\\Users\\aleem\\AppData\\Roaming\\Python\\Python37\\site-packages\\ipykernel_launcher.py:19: FutureWarning: Pass y=[-0.02730373  0.00083328  0.0313065  ...  0.02726227  0.02950395\n",
      "  0.02299047] as keyword args. From version 0.10 passing these as positional arguments will result in an error\n",
      "C:\\Users\\aleem\\AppData\\Roaming\\Python\\Python37\\site-packages\\ipykernel_launcher.py:19: FutureWarning: Pass y=[ 0.09752538  0.11901657  0.12059183 ... -0.16084634 -0.07459505\n",
      " -0.02076144] as keyword args. From version 0.10 passing these as positional arguments will result in an error\n",
      "C:\\Users\\aleem\\AppData\\Roaming\\Python\\Python37\\site-packages\\ipykernel_launcher.py:19: FutureWarning: Pass y=[ 0.01269768  0.0114196   0.01785808 ... -0.00406584 -0.01763766\n",
      " -0.02289216] as keyword args. From version 0.10 passing these as positional arguments will result in an error\n",
      "C:\\Users\\aleem\\AppData\\Roaming\\Python\\Python37\\site-packages\\ipykernel_launcher.py:19: FutureWarning: Pass y=[-0.06569809 -0.05063154  0.05076592 ... -0.18625924 -0.2020705\n",
      " -0.20271422] as keyword args. From version 0.10 passing these as positional arguments will result in an error\n",
      "C:\\Users\\aleem\\AppData\\Roaming\\Python\\Python37\\site-packages\\ipykernel_launcher.py:19: FutureWarning: Pass y=[-0.02089434 -0.02124345 -0.02688524 ... -0.17521712 -0.20768662\n",
      " -0.2329558 ] as keyword args. From version 0.10 passing these as positional arguments will result in an error\n",
      "C:\\Users\\aleem\\AppData\\Roaming\\Python\\Python37\\site-packages\\ipykernel_launcher.py:19: FutureWarning: Pass y=[-0.17304812 -0.12940805 -0.11026615 ...  0.00550814  0.00431372\n",
      "  0.00945477] as keyword args. From version 0.10 passing these as positional arguments will result in an error\n",
      "C:\\Users\\aleem\\AppData\\Roaming\\Python\\Python37\\site-packages\\ipykernel_launcher.py:19: FutureWarning: Pass y=[-0.23953998 -0.24007529 -0.22275777 ...  0.04642203  0.05039817\n",
      "  0.05343645] as keyword args. From version 0.10 passing these as positional arguments will result in an error\n",
      "C:\\Users\\aleem\\AppData\\Roaming\\Python\\Python37\\site-packages\\ipykernel_launcher.py:19: FutureWarning: Pass y=[0.02227986 0.02472079 0.02098468 ... 0.09476671 0.09125622 0.08622004] as keyword args. From version 0.10 passing these as positional arguments will result in an error\n",
      "12it [00:04,  2.10it/s]C:\\Users\\aleem\\AppData\\Roaming\\Python\\Python37\\site-packages\\ipykernel_launcher.py:19: FutureWarning: Pass y=[-0.00350007 -0.00663744 -0.00283001 ... -0.11026454 -0.17456372\n",
      " -0.20518239] as keyword args. From version 0.10 passing these as positional arguments will result in an error\n",
      "C:\\Users\\aleem\\AppData\\Roaming\\Python\\Python37\\site-packages\\ipykernel_launcher.py:19: FutureWarning: Pass y=[ 0.00962661  0.02797245  0.04422856 ... -0.01957335 -0.0148779\n",
      " -0.01741706] as keyword args. From version 0.10 passing these as positional arguments will result in an error\n",
      "C:\\Users\\aleem\\AppData\\Roaming\\Python\\Python37\\site-packages\\ipykernel_launcher.py:19: FutureWarning: Pass y=[-0.20547666 -0.20161332 -0.20645985 ... -0.0053198  -0.01289287\n",
      "  0.00571503] as keyword args. From version 0.10 passing these as positional arguments will result in an error\n",
      "C:\\Users\\aleem\\AppData\\Roaming\\Python\\Python37\\site-packages\\ipykernel_launcher.py:19: FutureWarning: Pass y=[-0.03075051 -0.03436019 -0.0242469  ... -0.00097804 -0.02662758\n",
      " -0.05029005] as keyword args. From version 0.10 passing these as positional arguments will result in an error\n",
      "C:\\Users\\aleem\\AppData\\Roaming\\Python\\Python37\\site-packages\\ipykernel_launcher.py:19: FutureWarning: Pass y=[ 0.01356346 -0.0017634  -0.01968114 ...  0.01768685  0.01113671\n",
      " -0.02748074] as keyword args. From version 0.10 passing these as positional arguments will result in an error\n",
      "C:\\Users\\aleem\\AppData\\Roaming\\Python\\Python37\\site-packages\\ipykernel_launcher.py:19: FutureWarning: Pass y=[-0.03208075 -0.00098957  0.04083592 ...  0.          0.\n",
      "  0.        ] as keyword args. From version 0.10 passing these as positional arguments will result in an error\n",
      "C:\\Users\\aleem\\AppData\\Roaming\\Python\\Python37\\site-packages\\ipykernel_launcher.py:19: FutureWarning: Pass y=[0.0083419  0.0245599  0.00842453 ... 0.         0.         0.        ] as keyword args. From version 0.10 passing these as positional arguments will result in an error\n",
      "13it [00:05,  2.53it/s]C:\\Users\\aleem\\AppData\\Roaming\\Python\\Python37\\site-packages\\ipykernel_launcher.py:19: FutureWarning: Pass y=[ 0.00203576 -0.02025004 -0.00820941 ...  0.0173245  -0.0084294\n",
      " -0.02964665] as keyword args. From version 0.10 passing these as positional arguments will result in an error\n",
      "C:\\Users\\aleem\\AppData\\Roaming\\Python\\Python37\\site-packages\\ipykernel_launcher.py:19: FutureWarning: Pass y=[ 0.07293291  0.0223155   0.05030808 ... -0.04828356 -0.06869099\n",
      " -0.08857542] as keyword args. From version 0.10 passing these as positional arguments will result in an error\n",
      "C:\\Users\\aleem\\AppData\\Roaming\\Python\\Python37\\site-packages\\ipykernel_launcher.py:19: FutureWarning: Pass y=[-0.01412623  0.01130967  0.01951966 ...  0.15336238  0.08484878\n",
      "  0.01223545] as keyword args. From version 0.10 passing these as positional arguments will result in an error\n",
      "C:\\Users\\aleem\\AppData\\Roaming\\Python\\Python37\\site-packages\\ipykernel_launcher.py:19: FutureWarning: Pass y=[-0.10439999 -0.09555047 -0.10065231 ... -0.06853721 -0.03946976\n",
      " -0.03434972] as keyword args. From version 0.10 passing these as positional arguments will result in an error\n",
      "C:\\Users\\aleem\\AppData\\Roaming\\Python\\Python37\\site-packages\\ipykernel_launcher.py:19: FutureWarning: Pass y=[-0.03647767  0.01951652  0.03289262 ...  0.06729393  0.04044096\n",
      "  0.01012536] as keyword args. From version 0.10 passing these as positional arguments will result in an error\n",
      "C:\\Users\\aleem\\AppData\\Roaming\\Python\\Python37\\site-packages\\ipykernel_launcher.py:19: FutureWarning: Pass y=[-0.04432463 -0.03707701 -0.01659578 ... -0.02757498 -0.04079464\n",
      " -0.06785811] as keyword args. From version 0.10 passing these as positional arguments will result in an error\n",
      "C:\\Users\\aleem\\AppData\\Roaming\\Python\\Python37\\site-packages\\ipykernel_launcher.py:19: FutureWarning: Pass y=[-0.00076723 -0.03894189 -0.1022663  ... -0.03819996 -0.01762964\n",
      " -0.00787901] as keyword args. From version 0.10 passing these as positional arguments will result in an error\n",
      "C:\\Users\\aleem\\AppData\\Roaming\\Python\\Python37\\site-packages\\ipykernel_launcher.py:19: FutureWarning: Pass y=[-0.07971203 -0.06788897 -0.06997888 ... -0.18207055 -0.09883956\n",
      " -0.08949243] as keyword args. From version 0.10 passing these as positional arguments will result in an error\n",
      "C:\\Users\\aleem\\AppData\\Roaming\\Python\\Python37\\site-packages\\ipykernel_launcher.py:19: FutureWarning: Pass y=[-0.00859728 -0.00132998  0.01095957 ... -0.02664503 -0.03912614\n",
      " -0.03363009] as keyword args. From version 0.10 passing these as positional arguments will result in an error\n",
      "C:\\Users\\aleem\\AppData\\Roaming\\Python\\Python37\\site-packages\\ipykernel_launcher.py:19: FutureWarning: Pass y=[ 0.02141077  0.05846754  0.07981873 ... -0.04480778 -0.03607468\n",
      " -0.04477162] as keyword args. From version 0.10 passing these as positional arguments will result in an error\n",
      "C:\\Users\\aleem\\AppData\\Roaming\\Python\\Python37\\site-packages\\ipykernel_launcher.py:19: FutureWarning: Pass y=[ 0.0019677   0.01493732 -0.00117528 ...  0.01382109  0.00941764\n",
      "  0.02336728] as keyword args. From version 0.10 passing these as positional arguments will result in an error\n",
      "C:\\Users\\aleem\\AppData\\Roaming\\Python\\Python37\\site-packages\\ipykernel_launcher.py:19: FutureWarning: Pass y=[-0.05596253 -0.04748058 -0.0305955  ...  0.          0.\n",
      "  0.        ] as keyword args. From version 0.10 passing these as positional arguments will result in an error\n",
      "C:\\Users\\aleem\\AppData\\Roaming\\Python\\Python37\\site-packages\\ipykernel_launcher.py:19: FutureWarning: Pass y=[0.02960975 0.02822706 0.02157556 ... 0.         0.         0.        ] as keyword args. From version 0.10 passing these as positional arguments will result in an error\n",
      "14it [00:05,  2.75it/s]C:\\Users\\aleem\\AppData\\Roaming\\Python\\Python37\\site-packages\\ipykernel_launcher.py:19: FutureWarning: Pass y=[-0.00138085  0.00368892  0.00915533 ...  0.03027472  0.04480848\n",
      "  0.0483028 ] as keyword args. From version 0.10 passing these as positional arguments will result in an error\n",
      "C:\\Users\\aleem\\AppData\\Roaming\\Python\\Python37\\site-packages\\ipykernel_launcher.py:19: FutureWarning: Pass y=[ 0.00548874 -0.01129894 -0.0480238  ...  0.18796313  0.21474038\n",
      "  0.18814145] as keyword args. From version 0.10 passing these as positional arguments will result in an error\n",
      "C:\\Users\\aleem\\AppData\\Roaming\\Python\\Python37\\site-packages\\ipykernel_launcher.py:19: FutureWarning: Pass y=[0.03952301 0.02483543 0.00223048 ... 0.33839798 0.31676295 0.247053  ] as keyword args. From version 0.10 passing these as positional arguments will result in an error\n",
      "C:\\Users\\aleem\\AppData\\Roaming\\Python\\Python37\\site-packages\\ipykernel_launcher.py:19: FutureWarning: Pass y=[ 0.11521627  0.01018633 -0.01230311 ...  0.09720823  0.09114746\n",
      "  0.07123617] as keyword args. From version 0.10 passing these as positional arguments will result in an error\n",
      "C:\\Users\\aleem\\AppData\\Roaming\\Python\\Python37\\site-packages\\ipykernel_launcher.py:19: FutureWarning: Pass y=[ 0.14644526  0.04618296 -0.04142219 ...  0.20996916  0.14338668\n",
      "  0.09787029] as keyword args. From version 0.10 passing these as positional arguments will result in an error\n",
      "C:\\Users\\aleem\\AppData\\Roaming\\Python\\Python37\\site-packages\\ipykernel_launcher.py:19: FutureWarning: Pass y=[0.06853967 0.05290358 0.0416889  ... 0.01191014 0.0229478  0.0145214 ] as keyword args. From version 0.10 passing these as positional arguments will result in an error\n",
      "C:\\Users\\aleem\\AppData\\Roaming\\Python\\Python37\\site-packages\\ipykernel_launcher.py:19: FutureWarning: Pass y=[-0.01470981 -0.0620301  -0.06558049 ... -0.07940138 -0.06672326\n",
      " -0.09873693] as keyword args. From version 0.10 passing these as positional arguments will result in an error\n",
      "C:\\Users\\aleem\\AppData\\Roaming\\Python\\Python37\\site-packages\\ipykernel_launcher.py:19: FutureWarning: Pass y=[ 0.00594797  0.0132762   0.0417639  ... -0.00654356 -0.0055112\n",
      " -0.00969754] as keyword args. From version 0.10 passing these as positional arguments will result in an error\n",
      "C:\\Users\\aleem\\AppData\\Roaming\\Python\\Python37\\site-packages\\ipykernel_launcher.py:19: FutureWarning: Pass y=[-0.15234916 -0.16564593 -0.08120742 ...  0.          0.\n",
      "  0.        ] as keyword args. From version 0.10 passing these as positional arguments will result in an error\n",
      "C:\\Users\\aleem\\AppData\\Roaming\\Python\\Python37\\site-packages\\ipykernel_launcher.py:19: FutureWarning: Pass y=[-0.00877194 -0.00712966 -0.00911572 ...  0.          0.\n",
      "  0.        ] as keyword args. From version 0.10 passing these as positional arguments will result in an error\n",
      "15it [00:05,  3.03it/s]C:\\Users\\aleem\\AppData\\Roaming\\Python\\Python37\\site-packages\\ipykernel_launcher.py:19: FutureWarning: Pass y=[ 0.00379758  0.00895427  0.00799528 ... -0.09336782 -0.0289629\n",
      "  0.08822163] as keyword args. From version 0.10 passing these as positional arguments will result in an error\n",
      "C:\\Users\\aleem\\AppData\\Roaming\\Python\\Python37\\site-packages\\ipykernel_launcher.py:19: FutureWarning: Pass y=[-0.11137348 -0.07911242 -0.0341561  ...  0.03436784  0.05947997\n",
      "  0.00750362] as keyword args. From version 0.10 passing these as positional arguments will result in an error\n",
      "C:\\Users\\aleem\\AppData\\Roaming\\Python\\Python37\\site-packages\\ipykernel_launcher.py:19: FutureWarning: Pass y=[ 0.17286834  0.11067304  0.00989212 ... -0.16776246 -0.19632258\n",
      " -0.19565071] as keyword args. From version 0.10 passing these as positional arguments will result in an error\n",
      "C:\\Users\\aleem\\AppData\\Roaming\\Python\\Python37\\site-packages\\ipykernel_launcher.py:19: FutureWarning: Pass y=[-0.12016699 -0.17493762 -0.12039624 ... -0.00955109  0.00545649\n",
      "  0.0123431 ] as keyword args. From version 0.10 passing these as positional arguments will result in an error\n",
      "C:\\Users\\aleem\\AppData\\Roaming\\Python\\Python37\\site-packages\\ipykernel_launcher.py:19: FutureWarning: Pass y=[-0.1790896  -0.19616485 -0.2079528  ...  0.00321346  0.01031101\n",
      " -0.01516078] as keyword args. From version 0.10 passing these as positional arguments will result in an error\n",
      "C:\\Users\\aleem\\AppData\\Roaming\\Python\\Python37\\site-packages\\ipykernel_launcher.py:19: FutureWarning: Pass y=[0.0221464  0.01845992 0.00656953 ... 0.03543844 0.02186861 0.0035599 ] as keyword args. From version 0.10 passing these as positional arguments will result in an error\n",
      "C:\\Users\\aleem\\AppData\\Roaming\\Python\\Python37\\site-packages\\ipykernel_launcher.py:19: FutureWarning: Pass y=[-0.04009325 -0.05305007 -0.07062208 ...  0.05936401  0.05943749\n",
      "  0.07352933] as keyword args. From version 0.10 passing these as positional arguments will result in an error\n",
      "C:\\Users\\aleem\\AppData\\Roaming\\Python\\Python37\\site-packages\\ipykernel_launcher.py:19: FutureWarning: Pass y=[-0.01982206 -0.04044454 -0.06077975 ... -0.02089158 -0.01828868\n",
      "  0.00964048] as keyword args. From version 0.10 passing these as positional arguments will result in an error\n",
      "C:\\Users\\aleem\\AppData\\Roaming\\Python\\Python37\\site-packages\\ipykernel_launcher.py:19: FutureWarning: Pass y=[0.070556   0.06414791 0.04394318 ... 0.10798466 0.1356406  0.14764482] as keyword args. From version 0.10 passing these as positional arguments will result in an error\n",
      "C:\\Users\\aleem\\AppData\\Roaming\\Python\\Python37\\site-packages\\ipykernel_launcher.py:19: FutureWarning: Pass y=[ 0.02260117 -0.00709923 -0.00980656 ...  0.08150604  0.07633032\n",
      "  0.07327279] as keyword args. From version 0.10 passing these as positional arguments will result in an error\n",
      "C:\\Users\\aleem\\AppData\\Roaming\\Python\\Python37\\site-packages\\ipykernel_launcher.py:19: FutureWarning: Pass y=[0.14967135 0.12008089 0.07172164 ... 0.26770917 0.19341426 0.108505  ] as keyword args. From version 0.10 passing these as positional arguments will result in an error\n",
      "C:\\Users\\aleem\\AppData\\Roaming\\Python\\Python37\\site-packages\\ipykernel_launcher.py:19: FutureWarning: Pass y=[0.07130542 0.06415406 0.05393812 ... 0.08365124 0.1594658  0.1709556 ] as keyword args. From version 0.10 passing these as positional arguments will result in an error\n",
      "C:\\Users\\aleem\\AppData\\Roaming\\Python\\Python37\\site-packages\\ipykernel_launcher.py:19: FutureWarning: Pass y=[ 0.10026147  0.06684036  0.01860865 ... -0.08201269 -0.10596868\n",
      " -0.12736592] as keyword args. From version 0.10 passing these as positional arguments will result in an error\n",
      "C:\\Users\\aleem\\AppData\\Roaming\\Python\\Python37\\site-packages\\ipykernel_launcher.py:19: FutureWarning: Pass y=[ 0.16040996  0.18507223  0.15542245 ... -0.14407362 -0.14624277\n",
      " -0.15686806] as keyword args. From version 0.10 passing these as positional arguments will result in an error\n",
      "C:\\Users\\aleem\\AppData\\Roaming\\Python\\Python37\\site-packages\\ipykernel_launcher.py:19: FutureWarning: Pass y=[-0.15564016 -0.17684814 -0.20030099 ...  0.17502847  0.16291267\n",
      "  0.14300275] as keyword args. From version 0.10 passing these as positional arguments will result in an error\n",
      "C:\\Users\\aleem\\AppData\\Roaming\\Python\\Python37\\site-packages\\ipykernel_launcher.py:19: FutureWarning: Pass y=[-0.17541924 -0.19343516 -0.19547385 ... -0.01149953 -0.01795515\n",
      " -0.02458042] as keyword args. From version 0.10 passing these as positional arguments will result in an error\n",
      "C:\\Users\\aleem\\AppData\\Roaming\\Python\\Python37\\site-packages\\ipykernel_launcher.py:19: FutureWarning: Pass y=[ 0.11594883  0.08053152  0.03877511 ...  0.00232656 -0.00101406\n",
      " -0.00157103] as keyword args. From version 0.10 passing these as positional arguments will result in an error\n",
      "C:\\Users\\aleem\\AppData\\Roaming\\Python\\Python37\\site-packages\\ipykernel_launcher.py:19: FutureWarning: Pass y=[-0.02303371 -0.02267335 -0.02162251 ... -0.11830337 -0.09391448\n",
      " -0.06394967] as keyword args. From version 0.10 passing these as positional arguments will result in an error\n",
      "C:\\Users\\aleem\\AppData\\Roaming\\Python\\Python37\\site-packages\\ipykernel_launcher.py:19: FutureWarning: Pass y=[-0.0002051  -0.00729876 -0.00475482 ...  0.01385723  0.01320108\n",
      "  0.01192096] as keyword args. From version 0.10 passing these as positional arguments will result in an error\n",
      "C:\\Users\\aleem\\AppData\\Roaming\\Python\\Python37\\site-packages\\ipykernel_launcher.py:19: FutureWarning: Pass y=[-0.0289813  -0.00749653  0.02174837 ...  0.          0.\n",
      "  0.        ] as keyword args. From version 0.10 passing these as positional arguments will result in an error\n",
      "C:\\Users\\aleem\\AppData\\Roaming\\Python\\Python37\\site-packages\\ipykernel_launcher.py:19: FutureWarning: Pass y=[0.01184624 0.00866359 0.00856537 ... 0.         0.         0.        ] as keyword args. From version 0.10 passing these as positional arguments will result in an error\n",
      "16it [00:06,  2.65it/s]\n"
     ]
    }
   ],
   "source": [
    "mfcc_data_by_fold = {}\n",
    "\n",
    "# Iterate through the DataFrame and extract MFCC features\n",
    "for index_num, row in tqdm(metadata.iterrows()):\n",
    "    file_name = os.path.join(os.path.abspath(audio_dataset_path), 'fold' + str(row[\"fold\"]) + '/', str(row[\"slice_file_name\"]))\n",
    "    final_class_labels = row[\"class\"]\n",
    "\n",
    "    # MFCC Features Extraction\n",
    "    mfcc_data = mfcc_features_extractor_1sec(file_name)\n",
    "    \n",
    "    # Store the MFCC data in the dictionary by fold number\n",
    "    fold_num = row[\"fold\"]\n",
    "    if fold_num not in mfcc_data_by_fold:\n",
    "        mfcc_data_by_fold[fold_num] = {\n",
    "            \"data\": [],\n",
    "            \"labels\": []\n",
    "        }\n",
    "    mfcc_data_by_fold[fold_num][\"data\"].append(mfcc_data)\n",
    "    mfcc_data_by_fold[fold_num][\"labels\"].append(final_class_labels)\n",
    "\n",
    "# Now, convert the data in mfcc_data_by_fold to NumPy arrays\n",
    "for fold_num, data_dict in mfcc_data_by_fold.items():\n",
    "    data_dict[\"data\"] = np.array(data_dict[\"data\"])\n",
    "    data_dict[\"labels\"] = np.array(data_dict[\"labels\"])"
   ]
  },
  {
   "cell_type": "code",
   "execution_count": 7,
   "metadata": {},
   "outputs": [
    {
     "name": "stdout",
     "output_type": "stream",
     "text": [
      "Shape of data for fold 1: (4, 704, 40)\n",
      "Shape of labels for fold 1: (4,)\n"
     ]
    }
   ],
   "source": [
    "fold_num = 1  # Replace with the fold number you're interested in\n",
    "data_shape = mfcc_data_by_fold[fold_num][\"data\"].shape\n",
    "labels_shape = mfcc_data_by_fold[fold_num][\"labels\"].shape\n",
    "\n",
    "print(f\"Shape of data for fold {fold_num}: {data_shape}\")\n",
    "print(f\"Shape of labels for fold {fold_num}: {labels_shape}\")"
   ]
  },
  {
   "cell_type": "code",
   "execution_count": 8,
   "metadata": {},
   "outputs": [
    {
     "data": {
      "text/plain": [
       "(4, 704, 40)"
      ]
     },
     "execution_count": 8,
     "metadata": {},
     "output_type": "execute_result"
    }
   ],
   "source": [
    "mfcc_data_by_fold[3][\"data\"].shape"
   ]
  },
  {
   "cell_type": "code",
   "execution_count": 9,
   "metadata": {},
   "outputs": [],
   "source": [
    "# Iterate through the dictionary and reshape the data arrays for all fold_num values\n",
    "for fold_num, data_dict in mfcc_data_by_fold.items():\n",
    "    data_dict[\"data\"] = data_dict[\"data\"].reshape(data_dict[\"data\"].shape + (1,))\n",
    "    "
   ]
  },
  {
   "cell_type": "code",
   "execution_count": 10,
   "metadata": {},
   "outputs": [
    {
     "data": {
      "text/plain": [
       "(4, 704, 40, 1)"
      ]
     },
     "execution_count": 10,
     "metadata": {},
     "output_type": "execute_result"
    }
   ],
   "source": [
    "mfcc_data_by_fold[1][\"data\"].shape"
   ]
  },
  {
   "cell_type": "markdown",
   "metadata": {},
   "source": [
    "After Training Work, Deep Features "
   ]
  },
  {
   "cell_type": "code",
   "execution_count": 11,
   "metadata": {},
   "outputs": [
    {
     "name": "stdout",
     "output_type": "stream",
     "text": [
      "1/1 [==============================] - 0s 321ms/step\n",
      "1/1 [==============================] - 0s 66ms/step\n",
      "1/1 [==============================] - 0s 62ms/step\n"
     ]
    }
   ],
   "source": [
    "from keras.models import load_model\n",
    "from keras.models import Model\n",
    "\n",
    "# Load the saved model\n",
    "loaded_model = load_model('Model_CNN2D_startwithnumpylengthsamemfcc_1sec_4032files_90_10_size_result 100_96.29.h5')\n",
    "\n",
    "# Get the name of the intermediate layer from the loaded model summary\n",
    "intermediate_layer_name = 'dense'\n",
    "\n",
    "# Find the index of the intermediate layer in the model's layers list\n",
    "intermediate_layer_index = [i for i, layer in enumerate(loaded_model.layers) if layer.name == intermediate_layer_name][0]\n",
    "\n",
    "# Define a new model that includes layers up to the intermediate layer\n",
    "intermediate_layer_model = Model(inputs=loaded_model.input,\n",
    "                                  outputs=loaded_model.layers[intermediate_layer_index].output)\n",
    "\n",
    "# List of inputs for each fold's MFCC data\n",
    "input_data_list = [mfcc_data_by_fold[fold][\"data\"] for fold in range(1, 4)]  # Adjust the range as needed\n",
    "\n",
    "# List to store intermediate layer outputs for each fold\n",
    "intermediate_layer_outputs = []\n",
    "\n",
    "# Iterate through the input data for each fold and predict the intermediate layer output\n",
    "for input_data in input_data_list:\n",
    "    intermediate_output = intermediate_layer_model.predict(input_data)\n",
    "    intermediate_layer_outputs.append(intermediate_output)\n",
    "\n",
    "# Now, intermediate_layer_outputs contains the intermediate layer outputs for each fold's input data\n"
   ]
  },
  {
   "cell_type": "code",
   "execution_count": 12,
   "metadata": {},
   "outputs": [],
   "source": [
    "intermediate_layer_outputs = np.array(intermediate_layer_outputs)"
   ]
  },
  {
   "cell_type": "code",
   "execution_count": 13,
   "metadata": {},
   "outputs": [
    {
     "data": {
      "text/plain": [
       "(3, 4, 1024)"
      ]
     },
     "execution_count": 13,
     "metadata": {},
     "output_type": "execute_result"
    }
   ],
   "source": [
    "intermediate_layer_outputs.shape"
   ]
  },
  {
   "cell_type": "code",
   "execution_count": 14,
   "metadata": {},
   "outputs": [
    {
     "data": {
      "text/plain": [
       "array([[[-0.7276035 ,  0.99981445,  0.998796  , ...,  0.95670485,\n",
       "         -0.9805024 , -0.90138733],\n",
       "        [-0.8397517 , -0.9939267 ,  0.9582128 , ...,  0.99904543,\n",
       "         -1.        , -0.99666953],\n",
       "        [-0.81174606, -0.97635436,  0.9998601 , ...,  0.9788843 ,\n",
       "         -0.9968211 , -0.9996808 ],\n",
       "        [ 0.58770555,  1.        , -0.64959055, ...,  0.9998399 ,\n",
       "         -1.        , -0.9999405 ]],\n",
       "\n",
       "       [[ 0.557053  ,  0.99998736,  0.9909279 , ...,  0.9632142 ,\n",
       "         -0.994463  , -0.93231887],\n",
       "        [-0.9101296 ,  0.9999868 ,  0.99987453, ...,  0.9972992 ,\n",
       "         -0.99999964, -0.997324  ],\n",
       "        [-0.9878285 , -0.95298856,  0.9982212 , ...,  0.9988926 ,\n",
       "         -0.9975187 , -0.9998727 ],\n",
       "        [-0.97835565,  0.9551669 ,  0.73783225, ...,  0.9999931 ,\n",
       "         -1.        , -0.9999929 ]],\n",
       "\n",
       "       [[-0.8892034 , -0.99995756,  0.98722696, ...,  0.9282733 ,\n",
       "         -0.99248487, -0.99046725],\n",
       "        [-0.999308  , -1.        ,  0.99999684, ...,  0.9692326 ,\n",
       "         -0.9998278 , -0.9989708 ],\n",
       "        [-0.9982663 , -1.        ,  0.9998093 , ...,  0.9929307 ,\n",
       "         -0.9880859 , -0.99647033],\n",
       "        [-1.        , -1.        ,  1.        , ...,  1.        ,\n",
       "         -0.9999974 , -0.9999294 ]]], dtype=float32)"
      ]
     },
     "execution_count": 14,
     "metadata": {},
     "output_type": "execute_result"
    }
   ],
   "source": [
    "intermediate_layer_outputs"
   ]
  },
  {
   "cell_type": "code",
   "execution_count": 15,
   "metadata": {},
   "outputs": [],
   "source": [
    "mean_across_folds = np.mean(intermediate_layer_outputs, axis=0)"
   ]
  },
  {
   "cell_type": "code",
   "execution_count": 17,
   "metadata": {},
   "outputs": [],
   "source": [
    "al_quraish_mean = mean_across_folds"
   ]
  },
  {
   "cell_type": "code",
   "execution_count": 18,
   "metadata": {},
   "outputs": [
    {
     "data": {
      "text/plain": [
       "(4, 1024)"
      ]
     },
     "execution_count": 18,
     "metadata": {},
     "output_type": "execute_result"
    }
   ],
   "source": [
    "al_quraish_mean.shape"
   ]
  },
  {
   "cell_type": "code",
   "execution_count": 19,
   "metadata": {},
   "outputs": [
    {
     "data": {
      "text/plain": [
       "array([[-0.3532513 ,  0.33328143,  0.99231696, ...,  0.9493974 ,\n",
       "        -0.9891501 , -0.94139117],\n",
       "       [-0.91639644, -0.33131328,  0.986028  , ...,  0.9885257 ,\n",
       "        -0.9999425 , -0.99765474],\n",
       "       [-0.9326136 , -0.97644764,  0.9992969 , ...,  0.99023587,\n",
       "        -0.9941419 , -0.9986746 ],\n",
       "       [-0.46355   ,  0.31838894,  0.36274722, ...,  0.9999444 ,\n",
       "        -0.9999991 , -0.9999543 ]], dtype=float32)"
      ]
     },
     "execution_count": 19,
     "metadata": {},
     "output_type": "execute_result"
    }
   ],
   "source": [
    "al_quraish_mean"
   ]
  },
  {
   "cell_type": "code",
   "execution_count": 20,
   "metadata": {},
   "outputs": [],
   "source": [
    "# Specify the file path where you want to save the .npy file\n",
    "file_path = 'al_quraish_mean.npy'\n",
    "\n",
    "# Save the array as a .npy file\n",
    "np.save(file_path, al_quraish_mean)"
   ]
  },
  {
   "cell_type": "markdown",
   "metadata": {
    "slideshow": {
     "slide_type": "slide"
    }
   },
   "source": [
    "Testing of Single Audio"
   ]
  },
  {
   "cell_type": "code",
   "execution_count": 21,
   "metadata": {},
   "outputs": [
    {
     "name": "stderr",
     "output_type": "stream",
     "text": [
      "C:\\Users\\aleem\\AppData\\Roaming\\Python\\Python37\\site-packages\\ipykernel_launcher.py:19: FutureWarning: Pass y=[-0.00690354 -0.00708194  0.00814009 ... -0.02031602 -0.03851673\n",
      " -0.03577803] as keyword args. From version 0.10 passing these as positional arguments will result in an error\n",
      "C:\\Users\\aleem\\AppData\\Roaming\\Python\\Python37\\site-packages\\ipykernel_launcher.py:19: FutureWarning: Pass y=[0.04146133 0.02658811 0.03397983 ... 0.04617729 0.10076655 0.21527734] as keyword args. From version 0.10 passing these as positional arguments will result in an error\n",
      "C:\\Users\\aleem\\AppData\\Roaming\\Python\\Python37\\site-packages\\ipykernel_launcher.py:19: FutureWarning: Pass y=[-0.03517909 -0.04793629 -0.05519976 ...  0.03259142  0.01832691\n",
      " -0.00214196] as keyword args. From version 0.10 passing these as positional arguments will result in an error\n",
      "C:\\Users\\aleem\\AppData\\Roaming\\Python\\Python37\\site-packages\\ipykernel_launcher.py:19: FutureWarning: Pass y=[ 0.2300222   0.15509711  0.09771885 ... -0.32236606 -0.4348901\n",
      " -0.40111196] as keyword args. From version 0.10 passing these as positional arguments will result in an error\n",
      "C:\\Users\\aleem\\AppData\\Roaming\\Python\\Python37\\site-packages\\ipykernel_launcher.py:19: FutureWarning: Pass y=[-0.00420684 -0.00240177  0.00024314 ... -0.06115914 -0.06062729\n",
      " -0.011358  ] as keyword args. From version 0.10 passing these as positional arguments will result in an error\n",
      "C:\\Users\\aleem\\AppData\\Roaming\\Python\\Python37\\site-packages\\ipykernel_launcher.py:19: FutureWarning: Pass y=[-0.19783722  0.08229668  0.20450196 ...  0.14759171  0.0983808\n",
      "  0.0332479 ] as keyword args. From version 0.10 passing these as positional arguments will result in an error\n",
      "C:\\Users\\aleem\\AppData\\Roaming\\Python\\Python37\\site-packages\\ipykernel_launcher.py:19: FutureWarning: Pass y=[ 0.02834774  0.01924306 -0.00402191 ...  0.2203812   0.2579169\n",
      "  0.10879635] as keyword args. From version 0.10 passing these as positional arguments will result in an error\n",
      "C:\\Users\\aleem\\AppData\\Roaming\\Python\\Python37\\site-packages\\ipykernel_launcher.py:19: FutureWarning: Pass y=[-0.00567256 -0.00717452  0.01125656 ...  0.01321832  0.07983144\n",
      "  0.13137887] as keyword args. From version 0.10 passing these as positional arguments will result in an error\n",
      "C:\\Users\\aleem\\AppData\\Roaming\\Python\\Python37\\site-packages\\ipykernel_launcher.py:19: FutureWarning: Pass y=[0.09547798 0.09357939 0.10093068 ... 0.         0.         0.        ] as keyword args. From version 0.10 passing these as positional arguments will result in an error\n",
      "C:\\Users\\aleem\\AppData\\Roaming\\Python\\Python37\\site-packages\\ipykernel_launcher.py:19: FutureWarning: Pass y=[0.08563422 0.09953019 0.09443329 ... 0.         0.         0.        ] as keyword args. From version 0.10 passing these as positional arguments will result in an error\n",
      "C:\\Users\\aleem\\AppData\\Roaming\\Python\\Python37\\site-packages\\ipykernel_launcher.py:19: FutureWarning: Pass y=[0. 0. 0. ... 0. 0. 0.] as keyword args. From version 0.10 passing these as positional arguments will result in an error\n"
     ]
    }
   ],
   "source": [
    "file_name = 'C:/Users/aleem/Desktop/Currentlyworking_New_extracted audio wav after cleaning then augmentation/sliding_window_1_sec/data/quraish_testing.wav'\n",
    "\n",
    "\n",
    "mfcc_extracted_features_single=[]\n",
    "\n",
    "mfcc_extracted_features_single= mfcc_features_extractor_1sec(file_name)\n",
    "\n",
    "mfcc_extracted_features_single = np.array(mfcc_extracted_features_single)\n",
    "\n",
    "mfcc_extracted_features_single = mfcc_extracted_features_single.reshape((1, 704, 40, 1))\n",
    "\n"
   ]
  },
  {
   "cell_type": "code",
   "execution_count": 22,
   "metadata": {},
   "outputs": [
    {
     "data": {
      "text/plain": [
       "array([[[[ -266.35306  ],\n",
       "         [   33.303066 ],\n",
       "         [  -40.37836  ],\n",
       "         ...,\n",
       "         [   -2.9622352],\n",
       "         [    4.2220993],\n",
       "         [    9.093099 ]],\n",
       "\n",
       "        [[ -242.79277  ],\n",
       "         [   21.98935  ],\n",
       "         [  -44.403572 ],\n",
       "         ...,\n",
       "         [    4.3935604],\n",
       "         [    9.239249 ],\n",
       "         [   19.231083 ]],\n",
       "\n",
       "        [[ -249.2378   ],\n",
       "         [   11.613199 ],\n",
       "         [  -49.201927 ],\n",
       "         ...,\n",
       "         [   10.621393 ],\n",
       "         [   10.409626 ],\n",
       "         [   22.362904 ]],\n",
       "\n",
       "        ...,\n",
       "\n",
       "        [[-1131.3708   ],\n",
       "         [    0.       ],\n",
       "         [    0.       ],\n",
       "         ...,\n",
       "         [    0.       ],\n",
       "         [    0.       ],\n",
       "         [    0.       ]],\n",
       "\n",
       "        [[-1131.3708   ],\n",
       "         [    0.       ],\n",
       "         [    0.       ],\n",
       "         ...,\n",
       "         [    0.       ],\n",
       "         [    0.       ],\n",
       "         [    0.       ]],\n",
       "\n",
       "        [[-1131.3708   ],\n",
       "         [    0.       ],\n",
       "         [    0.       ],\n",
       "         ...,\n",
       "         [    0.       ],\n",
       "         [    0.       ],\n",
       "         [    0.       ]]]], dtype=float32)"
      ]
     },
     "execution_count": 22,
     "metadata": {},
     "output_type": "execute_result"
    }
   ],
   "source": [
    "mfcc_extracted_features_single"
   ]
  },
  {
   "cell_type": "code",
   "execution_count": 23,
   "metadata": {},
   "outputs": [
    {
     "name": "stdout",
     "output_type": "stream",
     "text": [
      "1/1 [==============================] - 0s 134ms/step\n"
     ]
    }
   ],
   "source": [
    "from keras.models import load_model\n",
    "from keras.models import Model\n",
    "\n",
    "# Load the saved model\n",
    "loaded_model = load_model('Model_CNN2D_startwithnumpylengthsamemfcc_1sec_4032files_90_10_size_result 100_96.29.h5')\n",
    "\n",
    "# Get the name of the intermediate layer from the loaded model summary\n",
    "intermediate_layer_name = 'dense'\n",
    "\n",
    "# Find the index of the intermediate layer in the model's layers list\n",
    "intermediate_layer_index = [i for i, layer in enumerate(loaded_model.layers) if layer.name == intermediate_layer_name][0]\n",
    "\n",
    "# Define a new model that includes layers up to the intermediate layer\n",
    "intermediate_layer_model = Model(inputs=loaded_model.input,\n",
    "                                  outputs=loaded_model.layers[intermediate_layer_index].output)\n",
    "\n",
    "# Assuming you already have mfcc_extracted_features of shape (704, 40, 1)\n",
    "# Replace this with your actual input data\n",
    "\n",
    "# Predict the intermediate layer output for the input data\n",
    "intermediate_output = intermediate_layer_model.predict(mfcc_extracted_features_single)\n",
    "\n",
    "# Now, intermediate_output contains the intermediate layer output for mfcc_extracted_features\n"
   ]
  },
  {
   "cell_type": "code",
   "execution_count": 24,
   "metadata": {},
   "outputs": [
    {
     "data": {
      "text/plain": [
       "array([[-0.9878285 , -0.95298845,  0.9982212 , ...,  0.9988925 ,\n",
       "        -0.9975187 , -0.99987257]], dtype=float32)"
      ]
     },
     "execution_count": 24,
     "metadata": {},
     "output_type": "execute_result"
    }
   ],
   "source": [
    "intermediate_output"
   ]
  },
  {
   "cell_type": "code",
   "execution_count": 25,
   "metadata": {},
   "outputs": [
    {
     "data": {
      "text/plain": [
       "(1, 1024)"
      ]
     },
     "execution_count": 25,
     "metadata": {},
     "output_type": "execute_result"
    }
   ],
   "source": [
    "intermediate_output.shape"
   ]
  },
  {
   "cell_type": "code",
   "execution_count": 26,
   "metadata": {},
   "outputs": [
    {
     "data": {
      "text/plain": [
       "array([[[-0.7276035 ,  0.99981445,  0.998796  , ...,  0.95670485,\n",
       "         -0.9805024 , -0.90138733],\n",
       "        [-0.8397517 , -0.9939267 ,  0.9582128 , ...,  0.99904543,\n",
       "         -1.        , -0.99666953],\n",
       "        [-0.81174606, -0.97635436,  0.9998601 , ...,  0.9788843 ,\n",
       "         -0.9968211 , -0.9996808 ],\n",
       "        [ 0.58770555,  1.        , -0.64959055, ...,  0.9998399 ,\n",
       "         -1.        , -0.9999405 ]],\n",
       "\n",
       "       [[ 0.557053  ,  0.99998736,  0.9909279 , ...,  0.9632142 ,\n",
       "         -0.994463  , -0.93231887],\n",
       "        [-0.9101296 ,  0.9999868 ,  0.99987453, ...,  0.9972992 ,\n",
       "         -0.99999964, -0.997324  ],\n",
       "        [-0.9878285 , -0.95298856,  0.9982212 , ...,  0.9988926 ,\n",
       "         -0.9975187 , -0.9998727 ],\n",
       "        [-0.97835565,  0.9551669 ,  0.73783225, ...,  0.9999931 ,\n",
       "         -1.        , -0.9999929 ]],\n",
       "\n",
       "       [[-0.8892034 , -0.99995756,  0.98722696, ...,  0.9282733 ,\n",
       "         -0.99248487, -0.99046725],\n",
       "        [-0.999308  , -1.        ,  0.99999684, ...,  0.9692326 ,\n",
       "         -0.9998278 , -0.9989708 ],\n",
       "        [-0.9982663 , -1.        ,  0.9998093 , ...,  0.9929307 ,\n",
       "         -0.9880859 , -0.99647033],\n",
       "        [-1.        , -1.        ,  1.        , ...,  1.        ,\n",
       "         -0.9999974 , -0.9999294 ]]], dtype=float32)"
      ]
     },
     "execution_count": 26,
     "metadata": {},
     "output_type": "execute_result"
    }
   ],
   "source": [
    "intermediate_layer_outputs"
   ]
  },
  {
   "cell_type": "markdown",
   "metadata": {},
   "source": [
    "Euclidian Distance with Mean"
   ]
  },
  {
   "cell_type": "code",
   "execution_count": 28,
   "metadata": {},
   "outputs": [
    {
     "name": "stdout",
     "output_type": "stream",
     "text": [
      "Index of closest value in al_fil_mean: 3\n",
      "Closest value in al_fil_mean: [-0.9326136  -0.97644764  0.9992969  ...  0.99023587 -0.9941419\n",
      " -0.9986746 ]\n"
     ]
    }
   ],
   "source": [
    "import numpy as np\n",
    "\n",
    "# Assuming you have al_fil_mean with shape (5, 1024) and intermediate_output with shape (1, 1024)\n",
    "# Calculate the Euclidean distances between intermediate_output and each row in al_fil_mean\n",
    "distances = np.linalg.norm(al_quraish_mean - intermediate_output, axis=1)\n",
    "\n",
    "# Find the index of the closest row in al_fil_mean\n",
    "closest_index = np.argmin(distances)\n",
    "\n",
    "# The value at closest_index in al_fil_mean is the closest to intermediate_output\n",
    "closest_value = al_quraish_mean[closest_index]\n",
    "\n",
    "# Print the closest_index and closest_value\n",
    "print(f\"Index of closest value in al_quraish_mean: {closest_index+1}\")\n",
    "print(f\"Closest value in al_quraish_mean: {closest_value}\")"
   ]
  },
  {
   "cell_type": "markdown",
   "metadata": {},
   "source": [
    "Euclidian Distance Without Mean"
   ]
  },
  {
   "cell_type": "code",
   "execution_count": 26,
   "metadata": {},
   "outputs": [],
   "source": [
    "# # Reshape intermediate_output to match the shape of intermediate_layer_outputs\n",
    "# intermediate_output_reshaped = intermediate_output.reshape((1, 1, 1024))\n",
    "\n",
    "# # Initialize variables to keep track of the closest indices and distances\n",
    "# closest_indices = None\n",
    "# min_distances = None\n",
    "# closest_set = None  # Initialize variable to track the closest set\n",
    "\n",
    "# for i, intermediate_set in enumerate(intermediate_layer_outputs):\n",
    "#     # Calculate the Euclidean distances between intermediate_output and intermediate_set\n",
    "#     distances = np.linalg.norm(intermediate_set - intermediate_output_reshaped, axis=2)\n",
    "    \n",
    "#     # Find the index of the minimum distance\n",
    "#     current_closest_index = np.argmin(distances)\n",
    "    \n",
    "#     # Update the closest index, distances, and closest set if this set is closer\n",
    "#     if closest_indices is None or np.mean(distances) < np.mean(min_distances):\n",
    "#         closest_indices = current_closest_index\n",
    "#         min_distances = distances\n",
    "#         closest_set = i\n",
    "\n",
    "# # Print the closest index in intermediate_layer_outputs and which set it belongs to\n",
    "# print(f\"Closest index in intermediate_layer_outputs: {closest_indices}\")\n",
    "# if closest_set == 0:\n",
    "#     print(\"It is closest to intermediate_layer_outputs[0]\")\n",
    "# elif closest_set == 1:\n",
    "#     print(\"It is closest to intermediate_layer_outputs[1]\")\n",
    "# elif closest_set == 2:\n",
    "#     print(\"It is closest to intermediate_layer_outputs[2]\")"
   ]
  },
  {
   "cell_type": "code",
   "execution_count": null,
   "metadata": {},
   "outputs": [],
   "source": []
  }
 ],
 "metadata": {
  "kernelspec": {
   "display_name": "Python 3",
   "language": "python",
   "name": "python3"
  },
  "language_info": {
   "codemirror_mode": {
    "name": "ipython",
    "version": 3
   },
   "file_extension": ".py",
   "mimetype": "text/x-python",
   "name": "python",
   "nbconvert_exporter": "python",
   "pygments_lexer": "ipython3",
   "version": "3.7.3"
  },
  "orig_nbformat": 4
 },
 "nbformat": 4,
 "nbformat_minor": 2
}
