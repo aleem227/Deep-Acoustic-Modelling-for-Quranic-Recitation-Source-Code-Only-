{
 "cells": [
  {
   "cell_type": "code",
   "execution_count": 1,
   "metadata": {},
   "outputs": [],
   "source": [
    "import pandas as pd\n",
    "import os\n",
    "import librosa\n",
    "import numpy as np\n",
    "import math\n",
    "import numpy as np\n",
    "from tqdm import tqdm\n",
    "import matplotlib.pyplot as plt\n",
    "%matplotlib inline\n",
    "import librosa.display"
   ]
  },
  {
   "cell_type": "code",
   "execution_count": 2,
   "metadata": {},
   "outputs": [
    {
     "data": {
      "text/html": [
       "<div>\n",
       "<style scoped>\n",
       "    .dataframe tbody tr th:only-of-type {\n",
       "        vertical-align: middle;\n",
       "    }\n",
       "\n",
       "    .dataframe tbody tr th {\n",
       "        vertical-align: top;\n",
       "    }\n",
       "\n",
       "    .dataframe thead th {\n",
       "        text-align: right;\n",
       "    }\n",
       "</style>\n",
       "<table border=\"1\" class=\"dataframe\">\n",
       "  <thead>\n",
       "    <tr style=\"text-align: right;\">\n",
       "      <th></th>\n",
       "      <th>slice_file_name</th>\n",
       "      <th>fold</th>\n",
       "      <th>classID</th>\n",
       "      <th>class</th>\n",
       "    </tr>\n",
       "  </thead>\n",
       "  <tbody>\n",
       "    <tr>\n",
       "      <th>0</th>\n",
       "      <td>2_1.wav</td>\n",
       "      <td>4</td>\n",
       "      <td>108</td>\n",
       "      <td>Al-Kauthar</td>\n",
       "    </tr>\n",
       "    <tr>\n",
       "      <th>1</th>\n",
       "      <td>2_2.wav</td>\n",
       "      <td>4</td>\n",
       "      <td>108</td>\n",
       "      <td>Al-Kauthar</td>\n",
       "    </tr>\n",
       "    <tr>\n",
       "      <th>2</th>\n",
       "      <td>2_3.wav</td>\n",
       "      <td>4</td>\n",
       "      <td>108</td>\n",
       "      <td>Al-Kauthar</td>\n",
       "    </tr>\n",
       "    <tr>\n",
       "      <th>3</th>\n",
       "      <td>a.wav</td>\n",
       "      <td>2</td>\n",
       "      <td>108</td>\n",
       "      <td>Al-Kauthar</td>\n",
       "    </tr>\n",
       "    <tr>\n",
       "      <th>4</th>\n",
       "      <td>b.wav</td>\n",
       "      <td>2</td>\n",
       "      <td>108</td>\n",
       "      <td>Al-Kauthar</td>\n",
       "    </tr>\n",
       "    <tr>\n",
       "      <th>5</th>\n",
       "      <td>c.wav</td>\n",
       "      <td>2</td>\n",
       "      <td>108</td>\n",
       "      <td>Al-Kauthar</td>\n",
       "    </tr>\n",
       "    <tr>\n",
       "      <th>6</th>\n",
       "      <td>1_1.wav</td>\n",
       "      <td>3</td>\n",
       "      <td>108</td>\n",
       "      <td>Al-Kauthar</td>\n",
       "    </tr>\n",
       "    <tr>\n",
       "      <th>7</th>\n",
       "      <td>1_2.wav</td>\n",
       "      <td>3</td>\n",
       "      <td>108</td>\n",
       "      <td>Al-Kauthar</td>\n",
       "    </tr>\n",
       "    <tr>\n",
       "      <th>8</th>\n",
       "      <td>1_3.wav</td>\n",
       "      <td>3</td>\n",
       "      <td>108</td>\n",
       "      <td>Al-Kauthar</td>\n",
       "    </tr>\n",
       "    <tr>\n",
       "      <th>9</th>\n",
       "      <td>1.wav</td>\n",
       "      <td>1</td>\n",
       "      <td>108</td>\n",
       "      <td>Al-Kauthar</td>\n",
       "    </tr>\n",
       "    <tr>\n",
       "      <th>10</th>\n",
       "      <td>2.wav</td>\n",
       "      <td>1</td>\n",
       "      <td>108</td>\n",
       "      <td>Al-Kauthar</td>\n",
       "    </tr>\n",
       "    <tr>\n",
       "      <th>11</th>\n",
       "      <td>3.wav</td>\n",
       "      <td>1</td>\n",
       "      <td>108</td>\n",
       "      <td>Al-Kauthar</td>\n",
       "    </tr>\n",
       "  </tbody>\n",
       "</table>\n",
       "</div>"
      ],
      "text/plain": [
       "   slice_file_name  fold  classID       class\n",
       "0          2_1.wav     4      108  Al-Kauthar\n",
       "1          2_2.wav     4      108  Al-Kauthar\n",
       "2          2_3.wav     4      108  Al-Kauthar\n",
       "3            a.wav     2      108  Al-Kauthar\n",
       "4            b.wav     2      108  Al-Kauthar\n",
       "5            c.wav     2      108  Al-Kauthar\n",
       "6          1_1.wav     3      108  Al-Kauthar\n",
       "7          1_2.wav     3      108  Al-Kauthar\n",
       "8          1_3.wav     3      108  Al-Kauthar\n",
       "9            1.wav     1      108  Al-Kauthar\n",
       "10           2.wav     1      108  Al-Kauthar\n",
       "11           3.wav     1      108  Al-Kauthar"
      ]
     },
     "execution_count": 2,
     "metadata": {},
     "output_type": "execute_result"
    }
   ],
   "source": [
    "audio_dataset_path='C:/Users/aleem/Desktop/Currentlyworking_New_extracted audio wav after cleaning then augmentation/sliding_window_1_sec/data/Al-Kauthar/'\n",
    "metadata=pd.read_csv('C:/Users/aleem/Desktop/Currentlyworking_New_extracted audio wav after cleaning then augmentation/sliding_window_1_sec/data/Al-Kauthar/metadata_108.csv')\n",
    "metadata.head(20)"
   ]
  },
  {
   "cell_type": "markdown",
   "metadata": {},
   "source": [
    "Feature Extraction"
   ]
  },
  {
   "cell_type": "code",
   "execution_count": 3,
   "metadata": {},
   "outputs": [],
   "source": [
    "def mfcc_features_extractor_1sec(file):\n",
    "    # audio, sample_rate = librosa.load(file_name) \n",
    "    # mfccs_features = librosa.feature.mfcc(y=audio, sr=16000, n_mfcc=40)\n",
    "    # mfccs_scaled_features = np.mean(mfccs_features.T,axis=0)\n",
    "    \n",
    "    y, sr = librosa.load(file, sr=16000)\n",
    "    \n",
    "    y = y[:192000]  #12 Secs for all audios\n",
    "    zero_padding = np.zeros(192000 - y.shape[0], dtype=np.float32)\n",
    "    y = np.concatenate([y, zero_padding])   \n",
    "\n",
    "    # Define window size and hop length\n",
    "    win_length = int(sr * 1) # 1 second window\n",
    "    hop_length = int(win_length / 2) # 50% overlap\n",
    "\n",
    "    # Extract MFCC features for each window\n",
    "    mfccs = []\n",
    "    for i in range(0, len(y)-win_length, hop_length):\n",
    "        mfcc = librosa.feature.mfcc(y[i:i+win_length], sr=sr, n_mfcc=40)\n",
    "        mfccs.append(mfcc)\n",
    "\n",
    "    # Combine MFCC features for all windows\n",
    "    mfccs = np.concatenate(mfccs, axis=1)\n",
    "    mfccs = mfccs.T\n",
    "\n",
    "    # Return final MFCC features\n",
    "    return mfccs\n",
    "\n",
    "    \n",
    "    # return mfccs_scaled_features"
   ]
  },
  {
   "cell_type": "code",
   "execution_count": 4,
   "metadata": {},
   "outputs": [],
   "source": [
    "# mfcc_extracted_features=[]\n",
    "\n",
    "# for index_num,row in tqdm(metadata.iterrows()):\n",
    "#     file_name = os.path.join(os.path.abspath(audio_dataset_path),'fold'+str(row[\"fold\"])+'/',str(row[\"slice_file_name\"]))\n",
    "#     final_class_labels=row[\"class\"]\n",
    "    \n",
    "#     # MFCC Features Extraction\n",
    "#     mfcc_data= mfcc_features_extractor_1sec(file_name)\n",
    "#     mfcc_extracted_features.append([mfcc_data,final_class_labels])\n",
    "#     # print(mfcc_extracted_features)"
   ]
  },
  {
   "cell_type": "code",
   "execution_count": 5,
   "metadata": {},
   "outputs": [
    {
     "name": "stderr",
     "output_type": "stream",
     "text": [
      "0it [00:00, ?it/s]C:\\Users\\aleem\\AppData\\Roaming\\Python\\Python37\\site-packages\\ipykernel_launcher.py:19: FutureWarning: Pass y=[ 0.00486436  0.00673475  0.00485178 ... -0.09295268 -0.06584551\n",
      " -0.01902799] as keyword args. From version 0.10 passing these as positional arguments will result in an error\n",
      "C:\\Users\\aleem\\AppData\\Roaming\\Python\\Python37\\site-packages\\ipykernel_launcher.py:19: FutureWarning: Pass y=[ 0.30245954  0.33469692  0.32966295 ... -0.2690308  -0.1085896\n",
      " -0.00173794] as keyword args. From version 0.10 passing these as positional arguments will result in an error\n",
      "C:\\Users\\aleem\\AppData\\Roaming\\Python\\Python37\\site-packages\\ipykernel_launcher.py:19: FutureWarning: Pass y=[0.04010686 0.1026253  0.14761825 ... 0.02582019 0.04975414 0.07409305] as keyword args. From version 0.10 passing these as positional arguments will result in an error\n",
      "C:\\Users\\aleem\\AppData\\Roaming\\Python\\Python37\\site-packages\\ipykernel_launcher.py:19: FutureWarning: Pass y=[0.05863062 0.1473877  0.27582482 ... 0.01057538 0.05630071 0.0787339 ] as keyword args. From version 0.10 passing these as positional arguments will result in an error\n",
      "C:\\Users\\aleem\\AppData\\Roaming\\Python\\Python37\\site-packages\\ipykernel_launcher.py:19: FutureWarning: Pass y=[ 0.04989327  0.00552183 -0.0079915  ...  0.00753259 -0.00430606\n",
      " -0.00610094] as keyword args. From version 0.10 passing these as positional arguments will result in an error\n",
      "C:\\Users\\aleem\\AppData\\Roaming\\Python\\Python37\\site-packages\\ipykernel_launcher.py:19: FutureWarning: Pass y=[0.06856692 0.05882837 0.02366203 ... 0.         0.         0.        ] as keyword args. From version 0.10 passing these as positional arguments will result in an error\n",
      "C:\\Users\\aleem\\AppData\\Roaming\\Python\\Python37\\site-packages\\ipykernel_launcher.py:19: FutureWarning: Pass y=[-0.00232265 -0.01734771 -0.03210069 ...  0.          0.\n",
      "  0.        ] as keyword args. From version 0.10 passing these as positional arguments will result in an error\n",
      "C:\\Users\\aleem\\AppData\\Roaming\\Python\\Python37\\site-packages\\ipykernel_launcher.py:19: FutureWarning: Pass y=[0. 0. 0. ... 0. 0. 0.] as keyword args. From version 0.10 passing these as positional arguments will result in an error\n",
      "1it [00:01,  1.34s/it]C:\\Users\\aleem\\AppData\\Roaming\\Python\\Python37\\site-packages\\ipykernel_launcher.py:19: FutureWarning: Pass y=[0.02069511 0.03552416 0.02549955 ... 0.05382249 0.03570222 0.03715298] as keyword args. From version 0.10 passing these as positional arguments will result in an error\n",
      "C:\\Users\\aleem\\AppData\\Roaming\\Python\\Python37\\site-packages\\ipykernel_launcher.py:19: FutureWarning: Pass y=[ 0.05322695  0.07198272  0.04878885 ... -0.41716582 -0.30840328\n",
      " -0.05002765] as keyword args. From version 0.10 passing these as positional arguments will result in an error\n",
      "C:\\Users\\aleem\\AppData\\Roaming\\Python\\Python37\\site-packages\\ipykernel_launcher.py:19: FutureWarning: Pass y=[0.08491446 0.1415281  0.16507441 ... 0.06688061 0.10909928 0.11025164] as keyword args. From version 0.10 passing these as positional arguments will result in an error\n",
      "C:\\Users\\aleem\\AppData\\Roaming\\Python\\Python37\\site-packages\\ipykernel_launcher.py:19: FutureWarning: Pass y=[0.10271502 0.1340194  0.1706077  ... 0.01299182 0.00943356 0.00378474] as keyword args. From version 0.10 passing these as positional arguments will result in an error\n",
      "C:\\Users\\aleem\\AppData\\Roaming\\Python\\Python37\\site-packages\\ipykernel_launcher.py:19: FutureWarning: Pass y=[ 0.07408791  0.01586083 -0.01180216 ...  0.          0.\n",
      "  0.        ] as keyword args. From version 0.10 passing these as positional arguments will result in an error\n",
      "C:\\Users\\aleem\\AppData\\Roaming\\Python\\Python37\\site-packages\\ipykernel_launcher.py:19: FutureWarning: Pass y=[0.00504956 0.00398944 0.0098167  ... 0.         0.         0.        ] as keyword args. From version 0.10 passing these as positional arguments will result in an error\n",
      "2it [00:01,  1.46it/s]C:\\Users\\aleem\\AppData\\Roaming\\Python\\Python37\\site-packages\\ipykernel_launcher.py:19: FutureWarning: Pass y=[ 0.01223881  0.02456627  0.01843312 ... -0.21478146 -0.21310459\n",
      " -0.18944609] as keyword args. From version 0.10 passing these as positional arguments will result in an error\n",
      "C:\\Users\\aleem\\AppData\\Roaming\\Python\\Python37\\site-packages\\ipykernel_launcher.py:19: FutureWarning: Pass y=[-0.19043843 -0.1817687  -0.14249198 ...  0.07378547  0.08865197\n",
      "  0.08580718] as keyword args. From version 0.10 passing these as positional arguments will result in an error\n",
      "C:\\Users\\aleem\\AppData\\Roaming\\Python\\Python37\\site-packages\\ipykernel_launcher.py:19: FutureWarning: Pass y=[-0.16598327 -0.15680873 -0.15340626 ...  0.18858434  0.2622851\n",
      "  0.20744938] as keyword args. From version 0.10 passing these as positional arguments will result in an error\n",
      "C:\\Users\\aleem\\AppData\\Roaming\\Python\\Python37\\site-packages\\ipykernel_launcher.py:19: FutureWarning: Pass y=[0.07561993 0.08432791 0.11414868 ... 0.24789688 0.2580578  0.29025212] as keyword args. From version 0.10 passing these as positional arguments will result in an error\n",
      "C:\\Users\\aleem\\AppData\\Roaming\\Python\\Python37\\site-packages\\ipykernel_launcher.py:19: FutureWarning: Pass y=[0.17582369 0.22907683 0.22396138 ... 0.15085691 0.15643463 0.16572526] as keyword args. From version 0.10 passing these as positional arguments will result in an error\n",
      "C:\\Users\\aleem\\AppData\\Roaming\\Python\\Python37\\site-packages\\ipykernel_launcher.py:19: FutureWarning: Pass y=[0.265822   0.1873786  0.14932288 ... 0.01799022 0.03681006 0.05509025] as keyword args. From version 0.10 passing these as positional arguments will result in an error\n",
      "C:\\Users\\aleem\\AppData\\Roaming\\Python\\Python37\\site-packages\\ipykernel_launcher.py:19: FutureWarning: Pass y=[ 0.14711243  0.12260864  0.10790273 ... -0.06732976 -0.03010406\n",
      "  0.01373696] as keyword args. From version 0.10 passing these as positional arguments will result in an error\n",
      "C:\\Users\\aleem\\AppData\\Roaming\\Python\\Python37\\site-packages\\ipykernel_launcher.py:19: FutureWarning: Pass y=[ 0.05346609  0.05541058  0.0491612  ... -0.12699504  0.01245781\n",
      "  0.13135722] as keyword args. From version 0.10 passing these as positional arguments will result in an error\n",
      "C:\\Users\\aleem\\AppData\\Roaming\\Python\\Python37\\site-packages\\ipykernel_launcher.py:19: FutureWarning: Pass y=[ 0.05669566  0.08560102  0.10319968 ... -0.01884986 -0.00665297\n",
      " -0.00556621] as keyword args. From version 0.10 passing these as positional arguments will result in an error\n",
      "C:\\Users\\aleem\\AppData\\Roaming\\Python\\Python37\\site-packages\\ipykernel_launcher.py:19: FutureWarning: Pass y=[0.13689476 0.10034538 0.07730376 ... 0.         0.         0.        ] as keyword args. From version 0.10 passing these as positional arguments will result in an error\n",
      "C:\\Users\\aleem\\AppData\\Roaming\\Python\\Python37\\site-packages\\ipykernel_launcher.py:19: FutureWarning: Pass y=[-0.00144493  0.01032537  0.02810103 ...  0.          0.\n",
      "  0.        ] as keyword args. From version 0.10 passing these as positional arguments will result in an error\n",
      "3it [00:01,  1.82it/s]C:\\Users\\aleem\\AppData\\Roaming\\Python\\Python37\\site-packages\\ipykernel_launcher.py:19: FutureWarning: Pass y=[0.00112996 0.00151508 0.00112001 ... 0.16027924 0.16612576 0.15788962] as keyword args. From version 0.10 passing these as positional arguments will result in an error\n",
      "C:\\Users\\aleem\\AppData\\Roaming\\Python\\Python37\\site-packages\\ipykernel_launcher.py:19: FutureWarning: Pass y=[-0.0480081  -0.03432272 -0.08162613 ...  0.14142646  0.18340912\n",
      "  0.2009564 ] as keyword args. From version 0.10 passing these as positional arguments will result in an error\n",
      "C:\\Users\\aleem\\AppData\\Roaming\\Python\\Python37\\site-packages\\ipykernel_launcher.py:19: FutureWarning: Pass y=[0.1291379  0.10003395 0.09649724 ... 0.07055288 0.14120676 0.21845977] as keyword args. From version 0.10 passing these as positional arguments will result in an error\n",
      "C:\\Users\\aleem\\AppData\\Roaming\\Python\\Python37\\site-packages\\ipykernel_launcher.py:19: FutureWarning: Pass y=[ 0.19473459  0.14762501  0.10485281 ... -0.30076358 -0.2686796\n",
      " -0.17864966] as keyword args. From version 0.10 passing these as positional arguments will result in an error\n",
      "C:\\Users\\aleem\\AppData\\Roaming\\Python\\Python37\\site-packages\\ipykernel_launcher.py:19: FutureWarning: Pass y=[ 0.25926152  0.30722654  0.22605057 ... -0.17036654 -0.15005685\n",
      " -0.18449958] as keyword args. From version 0.10 passing these as positional arguments will result in an error\n",
      "C:\\Users\\aleem\\AppData\\Roaming\\Python\\Python37\\site-packages\\ipykernel_launcher.py:19: FutureWarning: Pass y=[-0.2792348  -0.34325242 -0.2998175  ... -0.05153868 -0.06963573\n",
      " -0.04767757] as keyword args. From version 0.10 passing these as positional arguments will result in an error\n",
      "C:\\Users\\aleem\\AppData\\Roaming\\Python\\Python37\\site-packages\\ipykernel_launcher.py:19: FutureWarning: Pass y=[-0.21582024 -0.25617468 -0.2870719  ...  0.16461243  0.11468279\n",
      " -0.00202381] as keyword args. From version 0.10 passing these as positional arguments will result in an error\n",
      "C:\\Users\\aleem\\AppData\\Roaming\\Python\\Python37\\site-packages\\ipykernel_launcher.py:19: FutureWarning: Pass y=[-0.05742589 -0.06459246 -0.03825504 ...  0.08102714  0.04574123\n",
      "  0.18317483] as keyword args. From version 0.10 passing these as positional arguments will result in an error\n",
      "C:\\Users\\aleem\\AppData\\Roaming\\Python\\Python37\\site-packages\\ipykernel_launcher.py:19: FutureWarning: Pass y=[-0.09138402 -0.17462336 -0.2358731  ...  0.09146344  0.07601698\n",
      "  0.03462151] as keyword args. From version 0.10 passing these as positional arguments will result in an error\n",
      "C:\\Users\\aleem\\AppData\\Roaming\\Python\\Python37\\site-packages\\ipykernel_launcher.py:19: FutureWarning: Pass y=[ 0.28289077  0.34837973  0.38568494 ... -0.00789875 -0.02311026\n",
      " -0.01100623] as keyword args. From version 0.10 passing these as positional arguments will result in an error\n",
      "C:\\Users\\aleem\\AppData\\Roaming\\Python\\Python37\\site-packages\\ipykernel_launcher.py:19: FutureWarning: Pass y=[ 0.03287721  0.02021894 -0.003644   ...  0.030489    0.02342092\n",
      "  0.00685663] as keyword args. From version 0.10 passing these as positional arguments will result in an error\n",
      "C:\\Users\\aleem\\AppData\\Roaming\\Python\\Python37\\site-packages\\ipykernel_launcher.py:19: FutureWarning: Pass y=[ 0.00066259 -0.01049164  0.00532406 ...  0.00498322  0.00251245\n",
      " -0.00023396] as keyword args. From version 0.10 passing these as positional arguments will result in an error\n",
      "C:\\Users\\aleem\\AppData\\Roaming\\Python\\Python37\\site-packages\\ipykernel_launcher.py:19: FutureWarning: Pass y=[-0.00323784 -0.00958957 -0.0111584  ...  0.          0.\n",
      "  0.        ] as keyword args. From version 0.10 passing these as positional arguments will result in an error\n",
      "C:\\Users\\aleem\\AppData\\Roaming\\Python\\Python37\\site-packages\\ipykernel_launcher.py:19: FutureWarning: Pass y=[-0.00129717 -0.0009505  -0.00132468 ...  0.          0.\n",
      "  0.        ] as keyword args. From version 0.10 passing these as positional arguments will result in an error\n",
      "4it [00:02,  2.09it/s]C:\\Users\\aleem\\AppData\\Roaming\\Python\\Python37\\site-packages\\ipykernel_launcher.py:19: FutureWarning: Pass y=[ 0.00152552  0.00116163  0.00017591 ... -0.12924773  0.00674683\n",
      " -0.01606241] as keyword args. From version 0.10 passing these as positional arguments will result in an error\n",
      "C:\\Users\\aleem\\AppData\\Roaming\\Python\\Python37\\site-packages\\ipykernel_launcher.py:19: FutureWarning: Pass y=[ 0.15719876  0.09156487  0.19996221 ...  0.0250823  -0.00936632\n",
      " -0.08430377] as keyword args. From version 0.10 passing these as positional arguments will result in an error\n",
      "C:\\Users\\aleem\\AppData\\Roaming\\Python\\Python37\\site-packages\\ipykernel_launcher.py:19: FutureWarning: Pass y=[-0.12272218 -0.05589324  0.00633147 ...  0.07222988  0.0099933\n",
      " -0.18117386] as keyword args. From version 0.10 passing these as positional arguments will result in an error\n",
      "C:\\Users\\aleem\\AppData\\Roaming\\Python\\Python37\\site-packages\\ipykernel_launcher.py:19: FutureWarning: Pass y=[-0.08548963 -0.14062576 -0.1501341  ... -0.03756201 -0.08926007\n",
      " -0.05290749] as keyword args. From version 0.10 passing these as positional arguments will result in an error\n",
      "C:\\Users\\aleem\\AppData\\Roaming\\Python\\Python37\\site-packages\\ipykernel_launcher.py:19: FutureWarning: Pass y=[-0.12901926 -0.10730913 -0.10834333 ...  0.04812742  0.04700132\n",
      "  0.04314547] as keyword args. From version 0.10 passing these as positional arguments will result in an error\n",
      "C:\\Users\\aleem\\AppData\\Roaming\\Python\\Python37\\site-packages\\ipykernel_launcher.py:19: FutureWarning: Pass y=[ 0.01413344 -0.04760242  0.00152167 ...  0.008486    0.01052919\n",
      "  0.01137531] as keyword args. From version 0.10 passing these as positional arguments will result in an error\n",
      "C:\\Users\\aleem\\AppData\\Roaming\\Python\\Python37\\site-packages\\ipykernel_launcher.py:19: FutureWarning: Pass y=[ 0.02375561 -0.0004472  -0.01878842 ...  0.          0.\n",
      "  0.        ] as keyword args. From version 0.10 passing these as positional arguments will result in an error\n",
      "C:\\Users\\aleem\\AppData\\Roaming\\Python\\Python37\\site-packages\\ipykernel_launcher.py:19: FutureWarning: Pass y=[0.01278226 0.01293756 0.01247005 ... 0.         0.         0.        ] as keyword args. From version 0.10 passing these as positional arguments will result in an error\n",
      "5it [00:02,  2.50it/s]C:\\Users\\aleem\\AppData\\Roaming\\Python\\Python37\\site-packages\\ipykernel_launcher.py:19: FutureWarning: Pass y=[ 0.00375711  0.0071991   0.00608332 ... -0.1294299  -0.15200046\n",
      " -0.1438822 ] as keyword args. From version 0.10 passing these as positional arguments will result in an error\n",
      "C:\\Users\\aleem\\AppData\\Roaming\\Python\\Python37\\site-packages\\ipykernel_launcher.py:19: FutureWarning: Pass y=[-0.01324741 -0.05797375 -0.09047946 ...  0.02477443  0.05226669\n",
      "  0.04394342] as keyword args. From version 0.10 passing these as positional arguments will result in an error\n",
      "C:\\Users\\aleem\\AppData\\Roaming\\Python\\Python37\\site-packages\\ipykernel_launcher.py:19: FutureWarning: Pass y=[-0.18818687 -0.2240082  -0.20944336 ... -0.16910997 -0.18645447\n",
      " -0.19132899] as keyword args. From version 0.10 passing these as positional arguments will result in an error\n",
      "C:\\Users\\aleem\\AppData\\Roaming\\Python\\Python37\\site-packages\\ipykernel_launcher.py:19: FutureWarning: Pass y=[-0.07678271 -0.04091443  0.20594028 ...  0.05016645  0.01530636\n",
      " -0.05661836] as keyword args. From version 0.10 passing these as positional arguments will result in an error\n",
      "C:\\Users\\aleem\\AppData\\Roaming\\Python\\Python37\\site-packages\\ipykernel_launcher.py:19: FutureWarning: Pass y=[-0.2092263  -0.17457466 -0.11897154 ... -0.05278434 -0.00472223\n",
      " -0.05950727] as keyword args. From version 0.10 passing these as positional arguments will result in an error\n",
      "C:\\Users\\aleem\\AppData\\Roaming\\Python\\Python37\\site-packages\\ipykernel_launcher.py:19: FutureWarning: Pass y=[-0.0816656  -0.03610079 -0.04679679 ... -0.07365389 -0.03401218\n",
      " -0.10252859] as keyword args. From version 0.10 passing these as positional arguments will result in an error\n",
      "C:\\Users\\aleem\\AppData\\Roaming\\Python\\Python37\\site-packages\\ipykernel_launcher.py:19: FutureWarning: Pass y=[-0.07228103  0.0023377   0.05061754 ... -0.03100467 -0.01872634\n",
      " -0.00891972] as keyword args. From version 0.10 passing these as positional arguments will result in an error\n",
      "C:\\Users\\aleem\\AppData\\Roaming\\Python\\Python37\\site-packages\\ipykernel_launcher.py:19: FutureWarning: Pass y=[-0.18424404 -0.1261207  -0.21126898 ... -0.00721957 -0.00402215\n",
      "  0.0006282 ] as keyword args. From version 0.10 passing these as positional arguments will result in an error\n",
      "C:\\Users\\aleem\\AppData\\Roaming\\Python\\Python37\\site-packages\\ipykernel_launcher.py:19: FutureWarning: Pass y=[-0.00996941  0.01022228  0.02861422 ...  0.          0.\n",
      "  0.        ] as keyword args. From version 0.10 passing these as positional arguments will result in an error\n",
      "C:\\Users\\aleem\\AppData\\Roaming\\Python\\Python37\\site-packages\\ipykernel_launcher.py:19: FutureWarning: Pass y=[0.00290032 0.00347668 0.00322284 ... 0.         0.         0.        ] as keyword args. From version 0.10 passing these as positional arguments will result in an error\n",
      "6it [00:02,  2.73it/s]C:\\Users\\aleem\\AppData\\Roaming\\Python\\Python37\\site-packages\\ipykernel_launcher.py:19: FutureWarning: Pass y=[0.00220958 0.00342118 0.00250346 ... 0.09187641 0.11823731 0.12229025] as keyword args. From version 0.10 passing these as positional arguments will result in an error\n",
      "C:\\Users\\aleem\\AppData\\Roaming\\Python\\Python37\\site-packages\\ipykernel_launcher.py:19: FutureWarning: Pass y=[0.06364793 0.055466   0.06728637 ... 0.08921967 0.09389055 0.10838129] as keyword args. From version 0.10 passing these as positional arguments will result in an error\n",
      "C:\\Users\\aleem\\AppData\\Roaming\\Python\\Python37\\site-packages\\ipykernel_launcher.py:19: FutureWarning: Pass y=[ 0.11238486  0.09427878  0.06691387 ... -0.02430973  0.00583713\n",
      " -0.06285259] as keyword args. From version 0.10 passing these as positional arguments will result in an error\n",
      "C:\\Users\\aleem\\AppData\\Roaming\\Python\\Python37\\site-packages\\ipykernel_launcher.py:19: FutureWarning: Pass y=[ 0.00913096 -0.10174288 -0.18405834 ...  0.15486619  0.10141422\n",
      "  0.05207047] as keyword args. From version 0.10 passing these as positional arguments will result in an error\n",
      "C:\\Users\\aleem\\AppData\\Roaming\\Python\\Python37\\site-packages\\ipykernel_launcher.py:19: FutureWarning: Pass y=[-0.17073607 -0.23437835 -0.18782857 ... -0.15523171 -0.17358652\n",
      " -0.14632569] as keyword args. From version 0.10 passing these as positional arguments will result in an error\n",
      "C:\\Users\\aleem\\AppData\\Roaming\\Python\\Python37\\site-packages\\ipykernel_launcher.py:19: FutureWarning: Pass y=[ 0.00337011 -0.05479513 -0.08114563 ... -0.05693841 -0.06890307\n",
      " -0.07816421] as keyword args. From version 0.10 passing these as positional arguments will result in an error\n",
      "C:\\Users\\aleem\\AppData\\Roaming\\Python\\Python37\\site-packages\\ipykernel_launcher.py:19: FutureWarning: Pass y=[-0.09302175 -0.08427411 -0.09607291 ...  0.0782892   0.04905399\n",
      "  0.01295696] as keyword args. From version 0.10 passing these as positional arguments will result in an error\n",
      "C:\\Users\\aleem\\AppData\\Roaming\\Python\\Python37\\site-packages\\ipykernel_launcher.py:19: FutureWarning: Pass y=[-0.05945935 -0.00926189  0.01683607 ... -0.06535514 -0.10250234\n",
      " -0.16742665] as keyword args. From version 0.10 passing these as positional arguments will result in an error\n",
      "C:\\Users\\aleem\\AppData\\Roaming\\Python\\Python37\\site-packages\\ipykernel_launcher.py:19: FutureWarning: Pass y=[-0.00744971 -0.0197373  -0.0311712  ... -0.1766433  -0.02630539\n",
      "  0.11662673] as keyword args. From version 0.10 passing these as positional arguments will result in an error\n",
      "C:\\Users\\aleem\\AppData\\Roaming\\Python\\Python37\\site-packages\\ipykernel_launcher.py:19: FutureWarning: Pass y=[-0.08942601 -0.01763367 -0.02204563 ...  0.04030773  0.02381839\n",
      "  0.01052093] as keyword args. From version 0.10 passing these as positional arguments will result in an error\n",
      "C:\\Users\\aleem\\AppData\\Roaming\\Python\\Python37\\site-packages\\ipykernel_launcher.py:19: FutureWarning: Pass y=[0.12366553 0.05172557 0.06862625 ... 0.05041083 0.05187517 0.04764638] as keyword args. From version 0.10 passing these as positional arguments will result in an error\n",
      "C:\\Users\\aleem\\AppData\\Roaming\\Python\\Python37\\site-packages\\ipykernel_launcher.py:19: FutureWarning: Pass y=[ 0.00782216  0.00352274 -0.01651985 ... -0.01421933 -0.01417455\n",
      " -0.0133457 ] as keyword args. From version 0.10 passing these as positional arguments will result in an error\n",
      "C:\\Users\\aleem\\AppData\\Roaming\\Python\\Python37\\site-packages\\ipykernel_launcher.py:19: FutureWarning: Pass y=[0.04498965 0.04863392 0.03578323 ... 0.         0.         0.        ] as keyword args. From version 0.10 passing these as positional arguments will result in an error\n",
      "C:\\Users\\aleem\\AppData\\Roaming\\Python\\Python37\\site-packages\\ipykernel_launcher.py:19: FutureWarning: Pass y=[-0.01346685 -0.01531805 -0.01939128 ...  0.          0.\n",
      "  0.        ] as keyword args. From version 0.10 passing these as positional arguments will result in an error\n",
      "7it [00:03,  2.53it/s]C:\\Users\\aleem\\AppData\\Roaming\\Python\\Python37\\site-packages\\ipykernel_launcher.py:19: FutureWarning: Pass y=[-0.00246734 -0.00364862 -0.00239633 ...  0.24904956  0.04502857\n",
      "  0.04840205] as keyword args. From version 0.10 passing these as positional arguments will result in an error\n",
      "C:\\Users\\aleem\\AppData\\Roaming\\Python\\Python37\\site-packages\\ipykernel_launcher.py:19: FutureWarning: Pass y=[-0.00201566 -0.00208887 -0.00303248 ... -0.3311541  -0.2512878\n",
      " -0.15987028] as keyword args. From version 0.10 passing these as positional arguments will result in an error\n",
      "C:\\Users\\aleem\\AppData\\Roaming\\Python\\Python37\\site-packages\\ipykernel_launcher.py:19: FutureWarning: Pass y=[ 0.14790478  0.1724291   0.1107571  ... -0.00629947 -0.00613761\n",
      " -0.00933781] as keyword args. From version 0.10 passing these as positional arguments will result in an error\n",
      "C:\\Users\\aleem\\AppData\\Roaming\\Python\\Python37\\site-packages\\ipykernel_launcher.py:19: FutureWarning: Pass y=[-0.09999403 -0.02298861  0.11821464 ... -0.03989833 -0.04570492\n",
      " -0.04223103] as keyword args. From version 0.10 passing these as positional arguments will result in an error\n",
      "C:\\Users\\aleem\\AppData\\Roaming\\Python\\Python37\\site-packages\\ipykernel_launcher.py:19: FutureWarning: Pass y=[-0.0031027   0.00427111 -0.00202313 ...  0.10004255  0.10894789\n",
      "  0.10781188] as keyword args. From version 0.10 passing these as positional arguments will result in an error\n",
      "C:\\Users\\aleem\\AppData\\Roaming\\Python\\Python37\\site-packages\\ipykernel_launcher.py:19: FutureWarning: Pass y=[-0.05186918 -0.05941918 -0.05036064 ... -0.02132524 -0.01867747\n",
      " -0.0145211 ] as keyword args. From version 0.10 passing these as positional arguments will result in an error\n",
      "C:\\Users\\aleem\\AppData\\Roaming\\Python\\Python37\\site-packages\\ipykernel_launcher.py:19: FutureWarning: Pass y=[0.09764016 0.0867025  0.08667627 ... 0.         0.         0.        ] as keyword args. From version 0.10 passing these as positional arguments will result in an error\n",
      "C:\\Users\\aleem\\AppData\\Roaming\\Python\\Python37\\site-packages\\ipykernel_launcher.py:19: FutureWarning: Pass y=[-0.0047678   0.00689621  0.01527605 ...  0.          0.\n",
      "  0.        ] as keyword args. From version 0.10 passing these as positional arguments will result in an error\n",
      "8it [00:03,  2.74it/s]C:\\Users\\aleem\\AppData\\Roaming\\Python\\Python37\\site-packages\\ipykernel_launcher.py:19: FutureWarning: Pass y=[ 0.00189457  0.00155216 -0.0012764  ...  0.03230209  0.04727463\n",
      "  0.08575809] as keyword args. From version 0.10 passing these as positional arguments will result in an error\n",
      "C:\\Users\\aleem\\AppData\\Roaming\\Python\\Python37\\site-packages\\ipykernel_launcher.py:19: FutureWarning: Pass y=[0.04144347 0.06644316 0.05829407 ... 0.10811514 0.08194326 0.06551451] as keyword args. From version 0.10 passing these as positional arguments will result in an error\n",
      "C:\\Users\\aleem\\AppData\\Roaming\\Python\\Python37\\site-packages\\ipykernel_launcher.py:19: FutureWarning: Pass y=[ 0.08710181  0.06290053  0.07569038 ... -0.02092311  0.02528167\n",
      "  0.04367293] as keyword args. From version 0.10 passing these as positional arguments will result in an error\n",
      "C:\\Users\\aleem\\AppData\\Roaming\\Python\\Python37\\site-packages\\ipykernel_launcher.py:19: FutureWarning: Pass y=[0.05450143 0.04334861 0.03218346 ... 0.07389042 0.05344305 0.018087  ] as keyword args. From version 0.10 passing these as positional arguments will result in an error\n",
      "C:\\Users\\aleem\\AppData\\Roaming\\Python\\Python37\\site-packages\\ipykernel_launcher.py:19: FutureWarning: Pass y=[ 0.0149084  -0.00331129  0.02533138 ...  0.02977361  0.0377536\n",
      "  0.04646816] as keyword args. From version 0.10 passing these as positional arguments will result in an error\n",
      "C:\\Users\\aleem\\AppData\\Roaming\\Python\\Python37\\site-packages\\ipykernel_launcher.py:19: FutureWarning: Pass y=[-0.00624781 -0.01782792 -0.04280927 ... -0.04097502 -0.03312892\n",
      " -0.03951799] as keyword args. From version 0.10 passing these as positional arguments will result in an error\n",
      "C:\\Users\\aleem\\AppData\\Roaming\\Python\\Python37\\site-packages\\ipykernel_launcher.py:19: FutureWarning: Pass y=[ 0.07571358  0.08952406  0.05230142 ... -0.02111188  0.0305445\n",
      "  0.06537648] as keyword args. From version 0.10 passing these as positional arguments will result in an error\n",
      "C:\\Users\\aleem\\AppData\\Roaming\\Python\\Python37\\site-packages\\ipykernel_launcher.py:19: FutureWarning: Pass y=[-0.05858699 -0.07620788 -0.09083952 ... -0.109648   -0.13556749\n",
      " -0.12464313] as keyword args. From version 0.10 passing these as positional arguments will result in an error\n",
      "C:\\Users\\aleem\\AppData\\Roaming\\Python\\Python37\\site-packages\\ipykernel_launcher.py:19: FutureWarning: Pass y=[0.08166223 0.10530854 0.14248596 ... 0.00722974 0.00719843 0.00667262] as keyword args. From version 0.10 passing these as positional arguments will result in an error\n",
      "C:\\Users\\aleem\\AppData\\Roaming\\Python\\Python37\\site-packages\\ipykernel_launcher.py:19: FutureWarning: Pass y=[-0.09693628 -0.07100249 -0.04197097 ... -0.00263033 -0.00282155\n",
      " -0.00212236] as keyword args. From version 0.10 passing these as positional arguments will result in an error\n",
      "C:\\Users\\aleem\\AppData\\Roaming\\Python\\Python37\\site-packages\\ipykernel_launcher.py:19: FutureWarning: Pass y=[ 4.4613373e-03  2.6178097e-03  1.4305543e-03 ... -9.7661134e-05\n",
      " -1.1326632e-05  7.0813476e-05] as keyword args. From version 0.10 passing these as positional arguments will result in an error\n",
      "C:\\Users\\aleem\\AppData\\Roaming\\Python\\Python37\\site-packages\\ipykernel_launcher.py:19: FutureWarning: Pass y=[-0.00217146 -0.00245942 -0.00173581 ... -0.00036028 -0.00035988\n",
      " -0.00043641] as keyword args. From version 0.10 passing these as positional arguments will result in an error\n",
      "C:\\Users\\aleem\\AppData\\Roaming\\Python\\Python37\\site-packages\\ipykernel_launcher.py:19: FutureWarning: Pass y=[-2.6748550e-05 -1.8614324e-04 -3.8511676e-04 ...  0.0000000e+00\n",
      "  0.0000000e+00  0.0000000e+00] as keyword args. From version 0.10 passing these as positional arguments will result in an error\n",
      "C:\\Users\\aleem\\AppData\\Roaming\\Python\\Python37\\site-packages\\ipykernel_launcher.py:19: FutureWarning: Pass y=[-0.00054646 -0.00053346 -0.00053214 ...  0.          0.\n",
      "  0.        ] as keyword args. From version 0.10 passing these as positional arguments will result in an error\n",
      "9it [00:04,  2.00it/s]C:\\Users\\aleem\\AppData\\Roaming\\Python\\Python37\\site-packages\\ipykernel_launcher.py:19: FutureWarning: Pass y=[ 0.00229087  0.00400585  0.00411093 ... -0.10163457 -0.07658017\n",
      " -0.0364586 ] as keyword args. From version 0.10 passing these as positional arguments will result in an error\n",
      "C:\\Users\\aleem\\AppData\\Roaming\\Python\\Python37\\site-packages\\ipykernel_launcher.py:19: FutureWarning: Pass y=[-0.04220961 -0.03868014 -0.05892511 ... -0.17904854 -0.17096195\n",
      " -0.17499693] as keyword args. From version 0.10 passing these as positional arguments will result in an error\n",
      "C:\\Users\\aleem\\AppData\\Roaming\\Python\\Python37\\site-packages\\ipykernel_launcher.py:19: FutureWarning: Pass y=[ 0.00405005  0.00107777 -0.03971959 ...  0.07614208  0.09237005\n",
      "  0.06579237] as keyword args. From version 0.10 passing these as positional arguments will result in an error\n",
      "C:\\Users\\aleem\\AppData\\Roaming\\Python\\Python37\\site-packages\\ipykernel_launcher.py:19: FutureWarning: Pass y=[-0.2228342  -0.25466242 -0.27483794 ... -0.06327261 -0.0775728\n",
      " -0.09821045] as keyword args. From version 0.10 passing these as positional arguments will result in an error\n",
      "C:\\Users\\aleem\\AppData\\Roaming\\Python\\Python37\\site-packages\\ipykernel_launcher.py:19: FutureWarning: Pass y=[0.11935268 0.16306981 0.02194036 ... 0.01005357 0.04973217 0.07938748] as keyword args. From version 0.10 passing these as positional arguments will result in an error\n",
      "C:\\Users\\aleem\\AppData\\Roaming\\Python\\Python37\\site-packages\\ipykernel_launcher.py:19: FutureWarning: Pass y=[-0.06725121 -0.10191061 -0.16080405 ... -0.0839178  -0.14641327\n",
      " -0.18018913] as keyword args. From version 0.10 passing these as positional arguments will result in an error\n",
      "C:\\Users\\aleem\\AppData\\Roaming\\Python\\Python37\\site-packages\\ipykernel_launcher.py:19: FutureWarning: Pass y=[0.10338786 0.10346005 0.12860459 ... 0.02470173 0.03704212 0.03848018] as keyword args. From version 0.10 passing these as positional arguments will result in an error\n",
      "C:\\Users\\aleem\\AppData\\Roaming\\Python\\Python37\\site-packages\\ipykernel_launcher.py:19: FutureWarning: Pass y=[-0.19979234 -0.1709015  -0.14693606 ...  0.03463202  0.08778379\n",
      "  0.11811121] as keyword args. From version 0.10 passing these as positional arguments will result in an error\n",
      "C:\\Users\\aleem\\AppData\\Roaming\\Python\\Python37\\site-packages\\ipykernel_launcher.py:19: FutureWarning: Pass y=[ 0.0228372   0.02397105  0.03727096 ... -0.01771511 -0.01258189\n",
      " -0.01015967] as keyword args. From version 0.10 passing these as positional arguments will result in an error\n",
      "C:\\Users\\aleem\\AppData\\Roaming\\Python\\Python37\\site-packages\\ipykernel_launcher.py:19: FutureWarning: Pass y=[ 0.0197396  -0.03997801  0.01163261 ...  0.          0.\n",
      "  0.        ] as keyword args. From version 0.10 passing these as positional arguments will result in an error\n",
      "C:\\Users\\aleem\\AppData\\Roaming\\Python\\Python37\\site-packages\\ipykernel_launcher.py:19: FutureWarning: Pass y=[-0.00961966 -0.00138308  0.00202028 ...  0.          0.\n",
      "  0.        ] as keyword args. From version 0.10 passing these as positional arguments will result in an error\n",
      "10it [00:04,  2.17it/s]C:\\Users\\aleem\\AppData\\Roaming\\Python\\Python37\\site-packages\\ipykernel_launcher.py:19: FutureWarning: Pass y=[-0.00936412 -0.01686361 -0.01497233 ...  0.08477046  0.07375737\n",
      "  0.08717025] as keyword args. From version 0.10 passing these as positional arguments will result in an error\n",
      "C:\\Users\\aleem\\AppData\\Roaming\\Python\\Python37\\site-packages\\ipykernel_launcher.py:19: FutureWarning: Pass y=[ 0.01854078  0.01961287  0.04376211 ... -0.11068609 -0.07696106\n",
      "  0.01341441] as keyword args. From version 0.10 passing these as positional arguments will result in an error\n",
      "C:\\Users\\aleem\\AppData\\Roaming\\Python\\Python37\\site-packages\\ipykernel_launcher.py:19: FutureWarning: Pass y=[0.11429945 0.08687957 0.07702062 ... 0.14987914 0.15425143 0.149718  ] as keyword args. From version 0.10 passing these as positional arguments will result in an error\n",
      "C:\\Users\\aleem\\AppData\\Roaming\\Python\\Python37\\site-packages\\ipykernel_launcher.py:19: FutureWarning: Pass y=[ 0.05334824  0.05417339  0.01799614 ...  0.00661128  0.00037755\n",
      " -0.00468027] as keyword args. From version 0.10 passing these as positional arguments will result in an error\n",
      "C:\\Users\\aleem\\AppData\\Roaming\\Python\\Python37\\site-packages\\ipykernel_launcher.py:19: FutureWarning: Pass y=[0.16364051 0.11806069 0.06925274 ... 0.         0.         0.        ] as keyword args. From version 0.10 passing these as positional arguments will result in an error\n",
      "C:\\Users\\aleem\\AppData\\Roaming\\Python\\Python37\\site-packages\\ipykernel_launcher.py:19: FutureWarning: Pass y=[-0.00063725 -0.00286807 -0.01369805 ...  0.          0.\n",
      "  0.        ] as keyword args. From version 0.10 passing these as positional arguments will result in an error\n",
      "11it [00:05,  2.52it/s]C:\\Users\\aleem\\AppData\\Roaming\\Python\\Python37\\site-packages\\ipykernel_launcher.py:19: FutureWarning: Pass y=[0.01217701 0.02205951 0.01633106 ... 0.10104413 0.12113156 0.10008185] as keyword args. From version 0.10 passing these as positional arguments will result in an error\n",
      "C:\\Users\\aleem\\AppData\\Roaming\\Python\\Python37\\site-packages\\ipykernel_launcher.py:19: FutureWarning: Pass y=[-0.0061117  -0.01158509 -0.00486635 ...  0.12492678  0.11518675\n",
      "  0.12972108] as keyword args. From version 0.10 passing these as positional arguments will result in an error\n",
      "C:\\Users\\aleem\\AppData\\Roaming\\Python\\Python37\\site-packages\\ipykernel_launcher.py:19: FutureWarning: Pass y=[ 6.5459199e-02  4.8542898e-02  4.9491543e-02 ...  6.0780942e-05\n",
      " -1.2624724e-02 -9.5362570e-03] as keyword args. From version 0.10 passing these as positional arguments will result in an error\n",
      "C:\\Users\\aleem\\AppData\\Roaming\\Python\\Python37\\site-packages\\ipykernel_launcher.py:19: FutureWarning: Pass y=[ 0.11834688  0.15670305  0.20804277 ... -0.02306508 -0.04966582\n",
      " -0.07827305] as keyword args. From version 0.10 passing these as positional arguments will result in an error\n",
      "C:\\Users\\aleem\\AppData\\Roaming\\Python\\Python37\\site-packages\\ipykernel_launcher.py:19: FutureWarning: Pass y=[ 0.00870769  0.01649368  0.01947936 ... -0.00736592 -0.0095679\n",
      "  0.00357699] as keyword args. From version 0.10 passing these as positional arguments will result in an error\n",
      "C:\\Users\\aleem\\AppData\\Roaming\\Python\\Python37\\site-packages\\ipykernel_launcher.py:19: FutureWarning: Pass y=[-0.1167953  -0.1792692  -0.2225933  ...  0.01011165  0.01391536\n",
      "  0.02014547] as keyword args. From version 0.10 passing these as positional arguments will result in an error\n",
      "C:\\Users\\aleem\\AppData\\Roaming\\Python\\Python37\\site-packages\\ipykernel_launcher.py:19: FutureWarning: Pass y=[0.01815468 0.01871316 0.00493444 ... 0.         0.         0.        ] as keyword args. From version 0.10 passing these as positional arguments will result in an error\n",
      "C:\\Users\\aleem\\AppData\\Roaming\\Python\\Python37\\site-packages\\ipykernel_launcher.py:19: FutureWarning: Pass y=[0.02865579 0.03067143 0.04035359 ... 0.         0.         0.        ] as keyword args. From version 0.10 passing these as positional arguments will result in an error\n",
      "12it [00:05,  2.25it/s]\n"
     ]
    }
   ],
   "source": [
    "mfcc_data_by_fold = {}\n",
    "\n",
    "# Iterate through the DataFrame and extract MFCC features\n",
    "for index_num, row in tqdm(metadata.iterrows()):\n",
    "    file_name = os.path.join(os.path.abspath(audio_dataset_path), 'fold' + str(row[\"fold\"]) + '/', str(row[\"slice_file_name\"]))\n",
    "    final_class_labels = row[\"class\"]\n",
    "\n",
    "    # MFCC Features Extraction\n",
    "    mfcc_data = mfcc_features_extractor_1sec(file_name)\n",
    "    \n",
    "    # Store the MFCC data in the dictionary by fold number\n",
    "    fold_num = row[\"fold\"]\n",
    "    if fold_num not in mfcc_data_by_fold:\n",
    "        mfcc_data_by_fold[fold_num] = {\n",
    "            \"data\": [],\n",
    "            \"labels\": []\n",
    "        }\n",
    "    mfcc_data_by_fold[fold_num][\"data\"].append(mfcc_data)\n",
    "    mfcc_data_by_fold[fold_num][\"labels\"].append(final_class_labels)\n",
    "\n",
    "# Now, convert the data in mfcc_data_by_fold to NumPy arrays\n",
    "for fold_num, data_dict in mfcc_data_by_fold.items():\n",
    "    data_dict[\"data\"] = np.array(data_dict[\"data\"])\n",
    "    data_dict[\"labels\"] = np.array(data_dict[\"labels\"])"
   ]
  },
  {
   "cell_type": "code",
   "execution_count": 6,
   "metadata": {},
   "outputs": [
    {
     "name": "stdout",
     "output_type": "stream",
     "text": [
      "Shape of data for fold 1: (3, 704, 40)\n",
      "Shape of labels for fold 1: (3,)\n"
     ]
    }
   ],
   "source": [
    "fold_num = 1  # Replace with the fold number you're interested in\n",
    "data_shape = mfcc_data_by_fold[fold_num][\"data\"].shape\n",
    "labels_shape = mfcc_data_by_fold[fold_num][\"labels\"].shape\n",
    "\n",
    "print(f\"Shape of data for fold {fold_num}: {data_shape}\")\n",
    "print(f\"Shape of labels for fold {fold_num}: {labels_shape}\")"
   ]
  },
  {
   "cell_type": "code",
   "execution_count": 7,
   "metadata": {},
   "outputs": [
    {
     "data": {
      "text/plain": [
       "(3, 704, 40)"
      ]
     },
     "execution_count": 7,
     "metadata": {},
     "output_type": "execute_result"
    }
   ],
   "source": [
    "mfcc_data_by_fold[3][\"data\"].shape"
   ]
  },
  {
   "cell_type": "code",
   "execution_count": 8,
   "metadata": {},
   "outputs": [],
   "source": [
    "# Iterate through the dictionary and reshape the data arrays for all fold_num values\n",
    "for fold_num, data_dict in mfcc_data_by_fold.items():\n",
    "    data_dict[\"data\"] = data_dict[\"data\"].reshape(data_dict[\"data\"].shape + (1,))\n",
    "    "
   ]
  },
  {
   "cell_type": "code",
   "execution_count": 9,
   "metadata": {},
   "outputs": [
    {
     "data": {
      "text/plain": [
       "(3, 704, 40, 1)"
      ]
     },
     "execution_count": 9,
     "metadata": {},
     "output_type": "execute_result"
    }
   ],
   "source": [
    "mfcc_data_by_fold[1][\"data\"].shape"
   ]
  },
  {
   "cell_type": "markdown",
   "metadata": {},
   "source": [
    "After Training Work, Deep Features "
   ]
  },
  {
   "cell_type": "code",
   "execution_count": 10,
   "metadata": {},
   "outputs": [
    {
     "name": "stdout",
     "output_type": "stream",
     "text": [
      "1/1 [==============================] - 0s 176ms/step\n",
      "1/1 [==============================] - 0s 53ms/step\n",
      "1/1 [==============================] - 0s 53ms/step\n"
     ]
    }
   ],
   "source": [
    "from keras.models import load_model\n",
    "from keras.models import Model\n",
    "\n",
    "# Load the saved model\n",
    "loaded_model = load_model('Model_CNN2D_startwithnumpylengthsamemfcc_1sec_4032files_90_10_size_result 100_96.29.h5')\n",
    "\n",
    "# Get the name of the intermediate layer from the loaded model summary\n",
    "intermediate_layer_name = 'dense'\n",
    "\n",
    "# Find the index of the intermediate layer in the model's layers list\n",
    "intermediate_layer_index = [i for i, layer in enumerate(loaded_model.layers) if layer.name == intermediate_layer_name][0]\n",
    "\n",
    "# Define a new model that includes layers up to the intermediate layer\n",
    "intermediate_layer_model = Model(inputs=loaded_model.input,\n",
    "                                  outputs=loaded_model.layers[intermediate_layer_index].output)\n",
    "\n",
    "# List of inputs for each fold's MFCC data\n",
    "input_data_list = [mfcc_data_by_fold[fold][\"data\"] for fold in range(1, 4)]  # Adjust the range as needed\n",
    "\n",
    "# List to store intermediate layer outputs for each fold\n",
    "intermediate_layer_outputs = []\n",
    "\n",
    "# Iterate through the input data for each fold and predict the intermediate layer output\n",
    "for input_data in input_data_list:\n",
    "    intermediate_output = intermediate_layer_model.predict(input_data)\n",
    "    intermediate_layer_outputs.append(intermediate_output)\n",
    "\n",
    "# Now, intermediate_layer_outputs contains the intermediate layer outputs for each fold's input data\n"
   ]
  },
  {
   "cell_type": "code",
   "execution_count": 11,
   "metadata": {},
   "outputs": [],
   "source": [
    "intermediate_layer_outputs = np.array(intermediate_layer_outputs)"
   ]
  },
  {
   "cell_type": "code",
   "execution_count": 12,
   "metadata": {},
   "outputs": [
    {
     "data": {
      "text/plain": [
       "(3, 3, 1024)"
      ]
     },
     "execution_count": 12,
     "metadata": {},
     "output_type": "execute_result"
    }
   ],
   "source": [
    "intermediate_layer_outputs.shape"
   ]
  },
  {
   "cell_type": "code",
   "execution_count": 13,
   "metadata": {},
   "outputs": [
    {
     "data": {
      "text/plain": [
       "array([[[-0.99998754, -1.        ,  0.9999993 , ...,  0.99878347,\n",
       "         -0.99990934, -0.99917936],\n",
       "        [-0.99596024, -1.        ,  0.9999796 , ...,  0.99684095,\n",
       "         -0.9604286 , -0.98960346],\n",
       "        [-0.9988143 , -1.        ,  0.9999668 , ...,  0.9975928 ,\n",
       "         -0.99412966, -0.99999124]],\n",
       "\n",
       "       [[-0.8736672 ,  0.08026168,  0.9956639 , ...,  0.99836016,\n",
       "         -0.72621214, -0.8745978 ],\n",
       "        [-0.9559751 ,  0.87666535,  0.9998687 , ...,  0.9851229 ,\n",
       "         -0.9936816 , -0.9997451 ],\n",
       "        [-0.9824648 ,  0.999865  ,  0.8631964 , ...,  0.9948172 ,\n",
       "         -0.9859189 , -0.9934083 ]],\n",
       "\n",
       "       [[-1.        ,  0.99823284,  0.99999833, ...,  0.99998325,\n",
       "         -0.99997115, -1.        ],\n",
       "        [-0.83630455, -0.49919653,  0.99997365, ...,  0.9983633 ,\n",
       "         -0.9972119 , -0.994444  ],\n",
       "        [-0.99971265,  0.6612473 ,  0.999997  , ...,  0.9988514 ,\n",
       "         -0.9996611 , -0.999964  ]]], dtype=float32)"
      ]
     },
     "execution_count": 13,
     "metadata": {},
     "output_type": "execute_result"
    }
   ],
   "source": [
    "intermediate_layer_outputs"
   ]
  },
  {
   "cell_type": "code",
   "execution_count": 14,
   "metadata": {},
   "outputs": [],
   "source": [
    "mean_across_folds = np.mean(intermediate_layer_outputs, axis=0)"
   ]
  },
  {
   "cell_type": "code",
   "execution_count": 15,
   "metadata": {},
   "outputs": [],
   "source": [
    "al_kauthar_mean = mean_across_folds"
   ]
  },
  {
   "cell_type": "code",
   "execution_count": 16,
   "metadata": {},
   "outputs": [
    {
     "data": {
      "text/plain": [
       "(3, 1024)"
      ]
     },
     "execution_count": 16,
     "metadata": {},
     "output_type": "execute_result"
    }
   ],
   "source": [
    "al_kauthar_mean.shape"
   ]
  },
  {
   "cell_type": "code",
   "execution_count": 17,
   "metadata": {},
   "outputs": [
    {
     "data": {
      "text/plain": [
       "array([[-0.95788497,  0.02616485,  0.9985538 , ...,  0.9990423 ,\n",
       "        -0.90869755, -0.95792574],\n",
       "       [-0.9294133 , -0.2075104 ,  0.9999407 , ...,  0.99344236,\n",
       "        -0.983774  , -0.9945975 ],\n",
       "       [-0.99366397,  0.22037077,  0.9543867 , ...,  0.9970872 ,\n",
       "        -0.99323654, -0.9977879 ]], dtype=float32)"
      ]
     },
     "execution_count": 17,
     "metadata": {},
     "output_type": "execute_result"
    }
   ],
   "source": [
    "al_kauthar_mean"
   ]
  },
  {
   "cell_type": "code",
   "execution_count": 18,
   "metadata": {},
   "outputs": [],
   "source": [
    "# Specify the file path where you want to save the .npy file\n",
    "file_path = 'al_kauthar_mean.npy'\n",
    "\n",
    "# Save the array as a .npy file\n",
    "np.save(file_path, al_kauthar_mean)"
   ]
  },
  {
   "cell_type": "markdown",
   "metadata": {
    "slideshow": {
     "slide_type": "slide"
    }
   },
   "source": [
    "Testing of Single Audio"
   ]
  },
  {
   "cell_type": "code",
   "execution_count": 19,
   "metadata": {},
   "outputs": [
    {
     "name": "stderr",
     "output_type": "stream",
     "text": [
      "C:\\Users\\aleem\\AppData\\Roaming\\Python\\Python37\\site-packages\\ipykernel_launcher.py:19: FutureWarning: Pass y=[ 0.00152552  0.00116163  0.00017591 ... -0.12924773  0.00674683\n",
      " -0.01606241] as keyword args. From version 0.10 passing these as positional arguments will result in an error\n",
      "C:\\Users\\aleem\\AppData\\Roaming\\Python\\Python37\\site-packages\\ipykernel_launcher.py:19: FutureWarning: Pass y=[ 0.15719876  0.09156487  0.19996221 ...  0.0250823  -0.00936632\n",
      " -0.08430377] as keyword args. From version 0.10 passing these as positional arguments will result in an error\n",
      "C:\\Users\\aleem\\AppData\\Roaming\\Python\\Python37\\site-packages\\ipykernel_launcher.py:19: FutureWarning: Pass y=[-0.12272218 -0.05589324  0.00633147 ...  0.07222988  0.0099933\n",
      " -0.18117386] as keyword args. From version 0.10 passing these as positional arguments will result in an error\n",
      "C:\\Users\\aleem\\AppData\\Roaming\\Python\\Python37\\site-packages\\ipykernel_launcher.py:19: FutureWarning: Pass y=[-0.08548963 -0.14062576 -0.1501341  ... -0.03756201 -0.08926007\n",
      " -0.05290749] as keyword args. From version 0.10 passing these as positional arguments will result in an error\n",
      "C:\\Users\\aleem\\AppData\\Roaming\\Python\\Python37\\site-packages\\ipykernel_launcher.py:19: FutureWarning: Pass y=[-0.12901926 -0.10730913 -0.10834333 ...  0.04812742  0.04700132\n",
      "  0.04314547] as keyword args. From version 0.10 passing these as positional arguments will result in an error\n",
      "C:\\Users\\aleem\\AppData\\Roaming\\Python\\Python37\\site-packages\\ipykernel_launcher.py:19: FutureWarning: Pass y=[ 0.01413344 -0.04760242  0.00152167 ...  0.008486    0.01052919\n",
      "  0.01137531] as keyword args. From version 0.10 passing these as positional arguments will result in an error\n",
      "C:\\Users\\aleem\\AppData\\Roaming\\Python\\Python37\\site-packages\\ipykernel_launcher.py:19: FutureWarning: Pass y=[ 0.02375561 -0.0004472  -0.01878842 ...  0.          0.\n",
      "  0.        ] as keyword args. From version 0.10 passing these as positional arguments will result in an error\n",
      "C:\\Users\\aleem\\AppData\\Roaming\\Python\\Python37\\site-packages\\ipykernel_launcher.py:19: FutureWarning: Pass y=[0.01278226 0.01293756 0.01247005 ... 0.         0.         0.        ] as keyword args. From version 0.10 passing these as positional arguments will result in an error\n",
      "C:\\Users\\aleem\\AppData\\Roaming\\Python\\Python37\\site-packages\\ipykernel_launcher.py:19: FutureWarning: Pass y=[0. 0. 0. ... 0. 0. 0.] as keyword args. From version 0.10 passing these as positional arguments will result in an error\n"
     ]
    }
   ],
   "source": [
    "file_name = 'C:/Users/aleem/Desktop/Currentlyworking_New_extracted audio wav after cleaning then augmentation/sliding_window_1_sec/data/kauthar_testing.wav'\n",
    "\n",
    "\n",
    "mfcc_extracted_features_single=[]\n",
    "\n",
    "mfcc_extracted_features_single= mfcc_features_extractor_1sec(file_name)\n",
    "\n",
    "mfcc_extracted_features_single = np.array(mfcc_extracted_features_single)\n",
    "\n",
    "mfcc_extracted_features_single = mfcc_extracted_features_single.reshape((1, 704, 40, 1))\n",
    "\n"
   ]
  },
  {
   "cell_type": "code",
   "execution_count": 20,
   "metadata": {},
   "outputs": [
    {
     "data": {
      "text/plain": [
       "array([[[[-4.72773041e+02],\n",
       "         [ 7.71996002e+01],\n",
       "         [-2.99716711e+00],\n",
       "         ...,\n",
       "         [-2.38157701e+00],\n",
       "         [ 1.83951998e+00],\n",
       "         [ 1.20611382e+01]],\n",
       "\n",
       "        [[-4.54543457e+02],\n",
       "         [ 7.57433777e+01],\n",
       "         [-1.25619564e+01],\n",
       "         ...,\n",
       "         [-5.85508704e-01],\n",
       "         [ 3.38528442e+00],\n",
       "         [ 1.55222988e+01]],\n",
       "\n",
       "        [[-4.61998291e+02],\n",
       "         [ 6.94766235e+01],\n",
       "         [-1.07766056e+01],\n",
       "         ...,\n",
       "         [ 9.29159403e-01],\n",
       "         [ 4.79979610e+00],\n",
       "         [ 1.58003235e+01]],\n",
       "\n",
       "        ...,\n",
       "\n",
       "        [[-1.13137085e+03],\n",
       "         [ 0.00000000e+00],\n",
       "         [ 0.00000000e+00],\n",
       "         ...,\n",
       "         [ 0.00000000e+00],\n",
       "         [ 0.00000000e+00],\n",
       "         [ 0.00000000e+00]],\n",
       "\n",
       "        [[-1.13137085e+03],\n",
       "         [ 0.00000000e+00],\n",
       "         [ 0.00000000e+00],\n",
       "         ...,\n",
       "         [ 0.00000000e+00],\n",
       "         [ 0.00000000e+00],\n",
       "         [ 0.00000000e+00]],\n",
       "\n",
       "        [[-1.13137085e+03],\n",
       "         [ 0.00000000e+00],\n",
       "         [ 0.00000000e+00],\n",
       "         ...,\n",
       "         [ 0.00000000e+00],\n",
       "         [ 0.00000000e+00],\n",
       "         [ 0.00000000e+00]]]], dtype=float32)"
      ]
     },
     "execution_count": 20,
     "metadata": {},
     "output_type": "execute_result"
    }
   ],
   "source": [
    "mfcc_extracted_features_single"
   ]
  },
  {
   "cell_type": "code",
   "execution_count": 21,
   "metadata": {},
   "outputs": [
    {
     "name": "stdout",
     "output_type": "stream",
     "text": [
      "1/1 [==============================] - 0s 110ms/step\n"
     ]
    }
   ],
   "source": [
    "from keras.models import load_model\n",
    "from keras.models import Model\n",
    "\n",
    "# Load the saved model\n",
    "loaded_model = load_model('Model_CNN2D_startwithnumpylengthsamemfcc_1sec_4032files_90_10_size_result 100_96.29.h5')\n",
    "\n",
    "# Get the name of the intermediate layer from the loaded model summary\n",
    "intermediate_layer_name = 'dense'\n",
    "\n",
    "# Find the index of the intermediate layer in the model's layers list\n",
    "intermediate_layer_index = [i for i, layer in enumerate(loaded_model.layers) if layer.name == intermediate_layer_name][0]\n",
    "\n",
    "# Define a new model that includes layers up to the intermediate layer\n",
    "intermediate_layer_model = Model(inputs=loaded_model.input,\n",
    "                                  outputs=loaded_model.layers[intermediate_layer_index].output)\n",
    "\n",
    "# Assuming you already have mfcc_extracted_features of shape (704, 40, 1)\n",
    "# Replace this with your actual input data\n",
    "\n",
    "# Predict the intermediate layer output for the input data\n",
    "intermediate_output = intermediate_layer_model.predict(mfcc_extracted_features_single)\n",
    "\n",
    "# Now, intermediate_output contains the intermediate layer output for mfcc_extracted_features\n"
   ]
  },
  {
   "cell_type": "code",
   "execution_count": 22,
   "metadata": {},
   "outputs": [
    {
     "data": {
      "text/plain": [
       "array([[-0.9559753 ,  0.87666583,  0.9998686 , ...,  0.9851231 ,\n",
       "        -0.9936816 , -0.999745  ]], dtype=float32)"
      ]
     },
     "execution_count": 22,
     "metadata": {},
     "output_type": "execute_result"
    }
   ],
   "source": [
    "intermediate_output"
   ]
  },
  {
   "cell_type": "code",
   "execution_count": 23,
   "metadata": {},
   "outputs": [
    {
     "data": {
      "text/plain": [
       "(1, 1024)"
      ]
     },
     "execution_count": 23,
     "metadata": {},
     "output_type": "execute_result"
    }
   ],
   "source": [
    "intermediate_output.shape"
   ]
  },
  {
   "cell_type": "code",
   "execution_count": 24,
   "metadata": {},
   "outputs": [
    {
     "data": {
      "text/plain": [
       "array([[[-0.99998754, -1.        ,  0.9999993 , ...,  0.99878347,\n",
       "         -0.99990934, -0.99917936],\n",
       "        [-0.99596024, -1.        ,  0.9999796 , ...,  0.99684095,\n",
       "         -0.9604286 , -0.98960346],\n",
       "        [-0.9988143 , -1.        ,  0.9999668 , ...,  0.9975928 ,\n",
       "         -0.99412966, -0.99999124]],\n",
       "\n",
       "       [[-0.8736672 ,  0.08026168,  0.9956639 , ...,  0.99836016,\n",
       "         -0.72621214, -0.8745978 ],\n",
       "        [-0.9559751 ,  0.87666535,  0.9998687 , ...,  0.9851229 ,\n",
       "         -0.9936816 , -0.9997451 ],\n",
       "        [-0.9824648 ,  0.999865  ,  0.8631964 , ...,  0.9948172 ,\n",
       "         -0.9859189 , -0.9934083 ]],\n",
       "\n",
       "       [[-1.        ,  0.99823284,  0.99999833, ...,  0.99998325,\n",
       "         -0.99997115, -1.        ],\n",
       "        [-0.83630455, -0.49919653,  0.99997365, ...,  0.9983633 ,\n",
       "         -0.9972119 , -0.994444  ],\n",
       "        [-0.99971265,  0.6612473 ,  0.999997  , ...,  0.9988514 ,\n",
       "         -0.9996611 , -0.999964  ]]], dtype=float32)"
      ]
     },
     "execution_count": 24,
     "metadata": {},
     "output_type": "execute_result"
    }
   ],
   "source": [
    "intermediate_layer_outputs"
   ]
  },
  {
   "cell_type": "markdown",
   "metadata": {},
   "source": [
    "Euclidian Distance with Mean"
   ]
  },
  {
   "cell_type": "code",
   "execution_count": 25,
   "metadata": {},
   "outputs": [
    {
     "name": "stdout",
     "output_type": "stream",
     "text": [
      "Index of closest value in al_fil_mean: 2\n",
      "Closest value in al_fil_mean: [-0.9294133  -0.2075104   0.9999407  ...  0.99344236 -0.983774\n",
      " -0.9945975 ]\n"
     ]
    }
   ],
   "source": [
    "import numpy as np\n",
    "\n",
    "# Assuming you have al_fil_mean with shape (5, 1024) and intermediate_output with shape (1, 1024)\n",
    "# Calculate the Euclidean distances between intermediate_output and each row in al_fil_mean\n",
    "distances = np.linalg.norm(al_kauthar_mean - intermediate_output, axis=1)\n",
    "\n",
    "# Find the index of the closest row in al_fil_mean\n",
    "closest_index = np.argmin(distances)\n",
    "\n",
    "# The value at closest_index in al_fil_mean is the closest to intermediate_output\n",
    "closest_value = al_kauthar_mean[closest_index]\n",
    "\n",
    "# Print the closest_index and closest_value\n",
    "print(f\"Index of closest value in al_kauthar_mean: {closest_index+1}\")\n",
    "print(f\"Closest value in al_kauthar_mean: {closest_value}\")"
   ]
  },
  {
   "cell_type": "markdown",
   "metadata": {},
   "source": [
    "Euclidian Distance Without Mean"
   ]
  },
  {
   "cell_type": "code",
   "execution_count": 26,
   "metadata": {},
   "outputs": [],
   "source": [
    "# # Reshape intermediate_output to match the shape of intermediate_layer_outputs\n",
    "# intermediate_output_reshaped = intermediate_output.reshape((1, 1, 1024))\n",
    "\n",
    "# # Initialize variables to keep track of the closest indices and distances\n",
    "# closest_indices = None\n",
    "# min_distances = None\n",
    "# closest_set = None  # Initialize variable to track the closest set\n",
    "\n",
    "# for i, intermediate_set in enumerate(intermediate_layer_outputs):\n",
    "#     # Calculate the Euclidean distances between intermediate_output and intermediate_set\n",
    "#     distances = np.linalg.norm(intermediate_set - intermediate_output_reshaped, axis=2)\n",
    "    \n",
    "#     # Find the index of the minimum distance\n",
    "#     current_closest_index = np.argmin(distances)\n",
    "    \n",
    "#     # Update the closest index, distances, and closest set if this set is closer\n",
    "#     if closest_indices is None or np.mean(distances) < np.mean(min_distances):\n",
    "#         closest_indices = current_closest_index\n",
    "#         min_distances = distances\n",
    "#         closest_set = i\n",
    "\n",
    "# # Print the closest index in intermediate_layer_outputs and which set it belongs to\n",
    "# print(f\"Closest index in intermediate_layer_outputs: {closest_indices}\")\n",
    "# if closest_set == 0:\n",
    "#     print(\"It is closest to intermediate_layer_outputs[0]\")\n",
    "# elif closest_set == 1:\n",
    "#     print(\"It is closest to intermediate_layer_outputs[1]\")\n",
    "# elif closest_set == 2:\n",
    "#     print(\"It is closest to intermediate_layer_outputs[2]\")"
   ]
  },
  {
   "cell_type": "code",
   "execution_count": null,
   "metadata": {},
   "outputs": [],
   "source": []
  }
 ],
 "metadata": {
  "kernelspec": {
   "display_name": "Python 3",
   "language": "python",
   "name": "python3"
  },
  "language_info": {
   "codemirror_mode": {
    "name": "ipython",
    "version": 3
   },
   "file_extension": ".py",
   "mimetype": "text/x-python",
   "name": "python",
   "nbconvert_exporter": "python",
   "pygments_lexer": "ipython3",
   "version": "3.7.3"
  },
  "orig_nbformat": 4
 },
 "nbformat": 4,
 "nbformat_minor": 2
}
