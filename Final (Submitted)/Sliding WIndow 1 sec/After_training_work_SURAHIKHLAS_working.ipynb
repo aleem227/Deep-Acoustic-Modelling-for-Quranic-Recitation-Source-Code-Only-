{
 "cells": [
  {
   "cell_type": "code",
   "execution_count": 1,
   "metadata": {},
   "outputs": [],
   "source": [
    "import pandas as pd\n",
    "import os\n",
    "import librosa\n",
    "import numpy as np\n",
    "import math\n",
    "import numpy as np\n",
    "from tqdm import tqdm\n",
    "import matplotlib.pyplot as plt\n",
    "%matplotlib inline\n",
    "import librosa.display"
   ]
  },
  {
   "cell_type": "code",
   "execution_count": 2,
   "metadata": {},
   "outputs": [
    {
     "data": {
      "text/html": [
       "<div>\n",
       "<style scoped>\n",
       "    .dataframe tbody tr th:only-of-type {\n",
       "        vertical-align: middle;\n",
       "    }\n",
       "\n",
       "    .dataframe tbody tr th {\n",
       "        vertical-align: top;\n",
       "    }\n",
       "\n",
       "    .dataframe thead th {\n",
       "        text-align: right;\n",
       "    }\n",
       "</style>\n",
       "<table border=\"1\" class=\"dataframe\">\n",
       "  <thead>\n",
       "    <tr style=\"text-align: right;\">\n",
       "      <th></th>\n",
       "      <th>slice_file_name</th>\n",
       "      <th>fold</th>\n",
       "      <th>classID</th>\n",
       "      <th>class</th>\n",
       "    </tr>\n",
       "  </thead>\n",
       "  <tbody>\n",
       "    <tr>\n",
       "      <th>0</th>\n",
       "      <td>2_1.wav</td>\n",
       "      <td>1</td>\n",
       "      <td>112</td>\n",
       "      <td>Al-Ikhlas</td>\n",
       "    </tr>\n",
       "    <tr>\n",
       "      <th>1</th>\n",
       "      <td>2_2.wav</td>\n",
       "      <td>1</td>\n",
       "      <td>112</td>\n",
       "      <td>Al-Ikhlas</td>\n",
       "    </tr>\n",
       "    <tr>\n",
       "      <th>2</th>\n",
       "      <td>2_3.wav</td>\n",
       "      <td>1</td>\n",
       "      <td>112</td>\n",
       "      <td>Al-Ikhlas</td>\n",
       "    </tr>\n",
       "    <tr>\n",
       "      <th>3</th>\n",
       "      <td>2_4.wav</td>\n",
       "      <td>1</td>\n",
       "      <td>112</td>\n",
       "      <td>Al-Ikhlas</td>\n",
       "    </tr>\n",
       "    <tr>\n",
       "      <th>4</th>\n",
       "      <td>1_1.wav</td>\n",
       "      <td>2</td>\n",
       "      <td>112</td>\n",
       "      <td>Al-Ikhlas</td>\n",
       "    </tr>\n",
       "    <tr>\n",
       "      <th>5</th>\n",
       "      <td>1_2.wav</td>\n",
       "      <td>2</td>\n",
       "      <td>112</td>\n",
       "      <td>Al-Ikhlas</td>\n",
       "    </tr>\n",
       "    <tr>\n",
       "      <th>6</th>\n",
       "      <td>1_3.wav</td>\n",
       "      <td>2</td>\n",
       "      <td>112</td>\n",
       "      <td>Al-Ikhlas</td>\n",
       "    </tr>\n",
       "    <tr>\n",
       "      <th>7</th>\n",
       "      <td>1_4.wav</td>\n",
       "      <td>2</td>\n",
       "      <td>112</td>\n",
       "      <td>Al-Ikhlas</td>\n",
       "    </tr>\n",
       "    <tr>\n",
       "      <th>8</th>\n",
       "      <td>1.wav</td>\n",
       "      <td>3</td>\n",
       "      <td>112</td>\n",
       "      <td>Al-Ikhlas</td>\n",
       "    </tr>\n",
       "    <tr>\n",
       "      <th>9</th>\n",
       "      <td>2.wav</td>\n",
       "      <td>3</td>\n",
       "      <td>112</td>\n",
       "      <td>Al-Ikhlas</td>\n",
       "    </tr>\n",
       "    <tr>\n",
       "      <th>10</th>\n",
       "      <td>3.wav</td>\n",
       "      <td>3</td>\n",
       "      <td>112</td>\n",
       "      <td>Al-Ikhlas</td>\n",
       "    </tr>\n",
       "    <tr>\n",
       "      <th>11</th>\n",
       "      <td>4.wav</td>\n",
       "      <td>3</td>\n",
       "      <td>112</td>\n",
       "      <td>Al-Ikhlas</td>\n",
       "    </tr>\n",
       "  </tbody>\n",
       "</table>\n",
       "</div>"
      ],
      "text/plain": [
       "   slice_file_name  fold  classID      class\n",
       "0          2_1.wav     1      112  Al-Ikhlas\n",
       "1          2_2.wav     1      112  Al-Ikhlas\n",
       "2          2_3.wav     1      112  Al-Ikhlas\n",
       "3          2_4.wav     1      112  Al-Ikhlas\n",
       "4          1_1.wav     2      112  Al-Ikhlas\n",
       "5          1_2.wav     2      112  Al-Ikhlas\n",
       "6          1_3.wav     2      112  Al-Ikhlas\n",
       "7          1_4.wav     2      112  Al-Ikhlas\n",
       "8            1.wav     3      112  Al-Ikhlas\n",
       "9            2.wav     3      112  Al-Ikhlas\n",
       "10           3.wav     3      112  Al-Ikhlas\n",
       "11           4.wav     3      112  Al-Ikhlas"
      ]
     },
     "execution_count": 2,
     "metadata": {},
     "output_type": "execute_result"
    }
   ],
   "source": [
    "audio_dataset_path='C:/Users/aleem/Desktop/Currentlyworking_New_extracted audio wav after cleaning then augmentation/sliding_window_1_sec/data/Al-Ikhlas/'\n",
    "metadata=pd.read_csv('C:/Users/aleem/Desktop/Currentlyworking_New_extracted audio wav after cleaning then augmentation/sliding_window_1_sec/data/Al-Ikhlas/metadata_112.csv')\n",
    "metadata.head(20)"
   ]
  },
  {
   "cell_type": "markdown",
   "metadata": {},
   "source": [
    "Feature Extraction"
   ]
  },
  {
   "cell_type": "code",
   "execution_count": 3,
   "metadata": {},
   "outputs": [],
   "source": [
    "def mfcc_features_extractor_1sec(file):\n",
    "    # audio, sample_rate = librosa.load(file_name) \n",
    "    # mfccs_features = librosa.feature.mfcc(y=audio, sr=16000, n_mfcc=40)\n",
    "    # mfccs_scaled_features = np.mean(mfccs_features.T,axis=0)\n",
    "    \n",
    "    y, sr = librosa.load(file, sr=16000)\n",
    "    \n",
    "    y = y[:192000]  #12 Secs for all audios\n",
    "    zero_padding = np.zeros(192000 - y.shape[0], dtype=np.float32)\n",
    "    y = np.concatenate([y, zero_padding])   \n",
    "\n",
    "    # Define window size and hop length\n",
    "    win_length = int(sr * 1) # 1 second window\n",
    "    hop_length = int(win_length / 2) # 50% overlap\n",
    "\n",
    "    # Extract MFCC features for each window\n",
    "    mfccs = []\n",
    "    for i in range(0, len(y)-win_length, hop_length):\n",
    "        mfcc = librosa.feature.mfcc(y[i:i+win_length], sr=sr, n_mfcc=40)\n",
    "        mfccs.append(mfcc)\n",
    "\n",
    "    # Combine MFCC features for all windows\n",
    "    mfccs = np.concatenate(mfccs, axis=1)\n",
    "    mfccs = mfccs.T\n",
    "\n",
    "    # Return final MFCC features\n",
    "    return mfccs\n",
    "\n",
    "    \n",
    "    # return mfccs_scaled_features"
   ]
  },
  {
   "cell_type": "code",
   "execution_count": 4,
   "metadata": {},
   "outputs": [],
   "source": [
    "# mfcc_extracted_features=[]\n",
    "\n",
    "# for index_num,row in tqdm(metadata.iterrows()):\n",
    "#     file_name = os.path.join(os.path.abspath(audio_dataset_path),'fold'+str(row[\"fold\"])+'/',str(row[\"slice_file_name\"]))\n",
    "#     final_class_labels=row[\"class\"]\n",
    "    \n",
    "#     # MFCC Features Extraction\n",
    "#     mfcc_data= mfcc_features_extractor_1sec(file_name)\n",
    "#     mfcc_extracted_features.append([mfcc_data,final_class_labels])\n",
    "#     # print(mfcc_extracted_features)"
   ]
  },
  {
   "cell_type": "code",
   "execution_count": 5,
   "metadata": {},
   "outputs": [
    {
     "name": "stderr",
     "output_type": "stream",
     "text": [
      "0it [00:00, ?it/s]C:\\Users\\aleem\\AppData\\Roaming\\Python\\Python37\\site-packages\\ipykernel_launcher.py:19: FutureWarning: Pass y=[0.00065982 0.00096187 0.00105611 ... 0.36643252 0.3142157  0.27765784] as keyword args. From version 0.10 passing these as positional arguments will result in an error\n",
      "C:\\Users\\aleem\\AppData\\Roaming\\Python\\Python37\\site-packages\\ipykernel_launcher.py:19: FutureWarning: Pass y=[ 0.09734584  0.09352862  0.09495907 ... -0.0624644  -0.05461849\n",
      " -0.05344357] as keyword args. From version 0.10 passing these as positional arguments will result in an error\n",
      "C:\\Users\\aleem\\AppData\\Roaming\\Python\\Python37\\site-packages\\ipykernel_launcher.py:19: FutureWarning: Pass y=[0.27445894 0.22572826 0.20558178 ... 0.16945887 0.07598746 0.02161639] as keyword args. From version 0.10 passing these as positional arguments will result in an error\n",
      "C:\\Users\\aleem\\AppData\\Roaming\\Python\\Python37\\site-packages\\ipykernel_launcher.py:19: FutureWarning: Pass y=[-0.0495293  -0.04057811 -0.07357457 ... -0.01495162 -0.02744037\n",
      " -0.03413808] as keyword args. From version 0.10 passing these as positional arguments will result in an error\n",
      "C:\\Users\\aleem\\AppData\\Roaming\\Python\\Python37\\site-packages\\ipykernel_launcher.py:19: FutureWarning: Pass y=[ 0.00716947 -0.03676744 -0.09910537 ...  0.01323006  0.01895745\n",
      "  0.01491032] as keyword args. From version 0.10 passing these as positional arguments will result in an error\n",
      "C:\\Users\\aleem\\AppData\\Roaming\\Python\\Python37\\site-packages\\ipykernel_launcher.py:19: FutureWarning: Pass y=[-0.0337165  -0.01693763  0.00145793 ...  0.          0.\n",
      "  0.        ] as keyword args. From version 0.10 passing these as positional arguments will result in an error\n",
      "C:\\Users\\aleem\\AppData\\Roaming\\Python\\Python37\\site-packages\\ipykernel_launcher.py:19: FutureWarning: Pass y=[ 0.00477443 -0.0042658  -0.01264045 ...  0.          0.\n",
      "  0.        ] as keyword args. From version 0.10 passing these as positional arguments will result in an error\n",
      "C:\\Users\\aleem\\AppData\\Roaming\\Python\\Python37\\site-packages\\ipykernel_launcher.py:19: FutureWarning: Pass y=[0. 0. 0. ... 0. 0. 0.] as keyword args. From version 0.10 passing these as positional arguments will result in an error\n",
      "1it [00:00,  1.05it/s]C:\\Users\\aleem\\AppData\\Roaming\\Python\\Python37\\site-packages\\ipykernel_launcher.py:19: FutureWarning: Pass y=[-0.00137282 -0.0022371  -0.00191359 ... -0.25579572 -0.21060422\n",
      " -0.24899611] as keyword args. From version 0.10 passing these as positional arguments will result in an error\n",
      "C:\\Users\\aleem\\AppData\\Roaming\\Python\\Python37\\site-packages\\ipykernel_launcher.py:19: FutureWarning: Pass y=[-0.23352826 -0.26689005 -0.29287297 ... -0.01872062 -0.07461723\n",
      " -0.028702  ] as keyword args. From version 0.10 passing these as positional arguments will result in an error\n",
      "C:\\Users\\aleem\\AppData\\Roaming\\Python\\Python37\\site-packages\\ipykernel_launcher.py:19: FutureWarning: Pass y=[-0.24944273 -0.18091646 -0.08472609 ...  0.00069224 -0.07819851\n",
      " -0.11735225] as keyword args. From version 0.10 passing these as positional arguments will result in an error\n",
      "C:\\Users\\aleem\\AppData\\Roaming\\Python\\Python37\\site-packages\\ipykernel_launcher.py:19: FutureWarning: Pass y=[-0.05587434  0.00883258 -0.03910954 ... -0.01651658 -0.01813586\n",
      " -0.00923755] as keyword args. From version 0.10 passing these as positional arguments will result in an error\n",
      "C:\\Users\\aleem\\AppData\\Roaming\\Python\\Python37\\site-packages\\ipykernel_launcher.py:19: FutureWarning: Pass y=[-0.1183401  -0.09643444 -0.06243448 ... -0.00434331 -0.00378294\n",
      " -0.00221233] as keyword args. From version 0.10 passing these as positional arguments will result in an error\n",
      "C:\\Users\\aleem\\AppData\\Roaming\\Python\\Python37\\site-packages\\ipykernel_launcher.py:19: FutureWarning: Pass y=[0.00558797 0.01392042 0.0126347  ... 0.         0.         0.        ] as keyword args. From version 0.10 passing these as positional arguments will result in an error\n",
      "C:\\Users\\aleem\\AppData\\Roaming\\Python\\Python37\\site-packages\\ipykernel_launcher.py:19: FutureWarning: Pass y=[-0.00066526  0.00061986  0.00091403 ...  0.          0.\n",
      "  0.        ] as keyword args. From version 0.10 passing these as positional arguments will result in an error\n",
      "2it [00:01,  1.97it/s]C:\\Users\\aleem\\AppData\\Roaming\\Python\\Python37\\site-packages\\ipykernel_launcher.py:19: FutureWarning: Pass y=[0.00059546 0.00100644 0.00108621 ... 0.05332774 0.15914159 0.173494  ] as keyword args. From version 0.10 passing these as positional arguments will result in an error\n",
      "C:\\Users\\aleem\\AppData\\Roaming\\Python\\Python37\\site-packages\\ipykernel_launcher.py:19: FutureWarning: Pass y=[-0.2783348  -0.27905938 -0.26059896 ...  0.5945476   0.61433846\n",
      "  0.47864956] as keyword args. From version 0.10 passing these as positional arguments will result in an error\n",
      "C:\\Users\\aleem\\AppData\\Roaming\\Python\\Python37\\site-packages\\ipykernel_launcher.py:19: FutureWarning: Pass y=[0.24342462 0.22496541 0.24910812 ... 0.2677086  0.22826195 0.18530835] as keyword args. From version 0.10 passing these as positional arguments will result in an error\n",
      "C:\\Users\\aleem\\AppData\\Roaming\\Python\\Python37\\site-packages\\ipykernel_launcher.py:19: FutureWarning: Pass y=[ 0.19375452 -0.0923996  -0.252799   ... -0.19905959 -0.21144386\n",
      " -0.20179099] as keyword args. From version 0.10 passing these as positional arguments will result in an error\n",
      "C:\\Users\\aleem\\AppData\\Roaming\\Python\\Python37\\site-packages\\ipykernel_launcher.py:19: FutureWarning: Pass y=[0.19191651 0.19386914 0.14739388 ... 0.00647678 0.00365157 0.00379314] as keyword args. From version 0.10 passing these as positional arguments will result in an error\n",
      "C:\\Users\\aleem\\AppData\\Roaming\\Python\\Python37\\site-packages\\ipykernel_launcher.py:19: FutureWarning: Pass y=[-0.12708324 -0.04402214 -0.0225663  ...  0.00350957  0.0054402\n",
      "  0.00711931] as keyword args. From version 0.10 passing these as positional arguments will result in an error\n",
      "C:\\Users\\aleem\\AppData\\Roaming\\Python\\Python37\\site-packages\\ipykernel_launcher.py:19: FutureWarning: Pass y=[ 0.00800761  0.00504012 -0.0060749  ...  0.          0.\n",
      "  0.        ] as keyword args. From version 0.10 passing these as positional arguments will result in an error\n",
      "C:\\Users\\aleem\\AppData\\Roaming\\Python\\Python37\\site-packages\\ipykernel_launcher.py:19: FutureWarning: Pass y=[0.00721834 0.00735091 0.00709276 ... 0.         0.         0.        ] as keyword args. From version 0.10 passing these as positional arguments will result in an error\n",
      "3it [00:01,  2.67it/s]C:\\Users\\aleem\\AppData\\Roaming\\Python\\Python37\\site-packages\\ipykernel_launcher.py:19: FutureWarning: Pass y=[-0.00082409 -0.00062958  0.00138938 ...  0.08825466  0.05214063\n",
      "  0.01970921] as keyword args. From version 0.10 passing these as positional arguments will result in an error\n",
      "C:\\Users\\aleem\\AppData\\Roaming\\Python\\Python37\\site-packages\\ipykernel_launcher.py:19: FutureWarning: Pass y=[-0.01056923 -0.09544338 -0.15339066 ...  0.23340414  0.2878386\n",
      "  0.2830975 ] as keyword args. From version 0.10 passing these as positional arguments will result in an error\n",
      "C:\\Users\\aleem\\AppData\\Roaming\\Python\\Python37\\site-packages\\ipykernel_launcher.py:19: FutureWarning: Pass y=[-0.01732475 -0.0928409  -0.14552827 ... -0.02171595 -0.001067\n",
      "  0.0341663 ] as keyword args. From version 0.10 passing these as positional arguments will result in an error\n",
      "C:\\Users\\aleem\\AppData\\Roaming\\Python\\Python37\\site-packages\\ipykernel_launcher.py:19: FutureWarning: Pass y=[ 0.17445159  0.11660124  0.10214015 ...  0.02081942 -0.00024822\n",
      "  0.01929104] as keyword args. From version 0.10 passing these as positional arguments will result in an error\n",
      "C:\\Users\\aleem\\AppData\\Roaming\\Python\\Python37\\site-packages\\ipykernel_launcher.py:19: FutureWarning: Pass y=[ 0.05671655  0.07221108  0.05993496 ... -0.1233045  -0.07268231\n",
      " -0.00333951] as keyword args. From version 0.10 passing these as positional arguments will result in an error\n",
      "C:\\Users\\aleem\\AppData\\Roaming\\Python\\Python37\\site-packages\\ipykernel_launcher.py:19: FutureWarning: Pass y=[ 0.03795093  0.04373909  0.04908392 ... -0.00465194  0.04874872\n",
      "  0.11484101] as keyword args. From version 0.10 passing these as positional arguments will result in an error\n",
      "C:\\Users\\aleem\\AppData\\Roaming\\Python\\Python37\\site-packages\\ipykernel_launcher.py:19: FutureWarning: Pass y=[ 0.05769146  0.14767788  0.1779092  ... -0.01077237 -0.0025357\n",
      " -0.00029298] as keyword args. From version 0.10 passing these as positional arguments will result in an error\n",
      "C:\\Users\\aleem\\AppData\\Roaming\\Python\\Python37\\site-packages\\ipykernel_launcher.py:19: FutureWarning: Pass y=[0.09662124 0.07136129 0.05065007 ... 0.         0.         0.        ] as keyword args. From version 0.10 passing these as positional arguments will result in an error\n",
      "C:\\Users\\aleem\\AppData\\Roaming\\Python\\Python37\\site-packages\\ipykernel_launcher.py:19: FutureWarning: Pass y=[-0.00245423 -0.0062609  -0.01105799 ...  0.          0.\n",
      "  0.        ] as keyword args. From version 0.10 passing these as positional arguments will result in an error\n",
      "4it [00:01,  3.08it/s]C:\\Users\\aleem\\AppData\\Roaming\\Python\\Python37\\site-packages\\ipykernel_launcher.py:19: FutureWarning: Pass y=[ 0.00331256  0.00628277  0.00605684 ... -0.567448   -0.6203052\n",
      " -0.630411  ] as keyword args. From version 0.10 passing these as positional arguments will result in an error\n",
      "C:\\Users\\aleem\\AppData\\Roaming\\Python\\Python37\\site-packages\\ipykernel_launcher.py:19: FutureWarning: Pass y=[ 0.04423602  0.08501128  0.11660442 ... -0.36463052 -0.37682673\n",
      " -0.38672957] as keyword args. From version 0.10 passing these as positional arguments will result in an error\n",
      "C:\\Users\\aleem\\AppData\\Roaming\\Python\\Python37\\site-packages\\ipykernel_launcher.py:19: FutureWarning: Pass y=[-0.5633701  -0.42926025 -0.27698383 ...  0.00896703  0.05641893\n",
      "  0.08496745] as keyword args. From version 0.10 passing these as positional arguments will result in an error\n",
      "C:\\Users\\aleem\\AppData\\Roaming\\Python\\Python37\\site-packages\\ipykernel_launcher.py:19: FutureWarning: Pass y=[-0.35581023 -0.41290557 -0.4779257  ...  0.16465816  0.14165655\n",
      "  0.11144331] as keyword args. From version 0.10 passing these as positional arguments will result in an error\n",
      "C:\\Users\\aleem\\AppData\\Roaming\\Python\\Python37\\site-packages\\ipykernel_launcher.py:19: FutureWarning: Pass y=[0.07107177 0.06182699 0.06087392 ... 0.00377908 0.00691717 0.01532827] as keyword args. From version 0.10 passing these as positional arguments will result in an error\n",
      "C:\\Users\\aleem\\AppData\\Roaming\\Python\\Python37\\site-packages\\ipykernel_launcher.py:19: FutureWarning: Pass y=[0.08225883 0.04734061 0.02009997 ... 0.         0.         0.        ] as keyword args. From version 0.10 passing these as positional arguments will result in an error\n",
      "C:\\Users\\aleem\\AppData\\Roaming\\Python\\Python37\\site-packages\\ipykernel_launcher.py:19: FutureWarning: Pass y=[0.02486041 0.02940184 0.02846221 ... 0.         0.         0.        ] as keyword args. From version 0.10 passing these as positional arguments will result in an error\n",
      "5it [00:01,  3.57it/s]C:\\Users\\aleem\\AppData\\Roaming\\Python\\Python37\\site-packages\\ipykernel_launcher.py:19: FutureWarning: Pass y=[0.00827779 0.01175364 0.01195718 ... 0.06391279 0.03385095 0.01194416] as keyword args. From version 0.10 passing these as positional arguments will result in an error\n",
      "C:\\Users\\aleem\\AppData\\Roaming\\Python\\Python37\\site-packages\\ipykernel_launcher.py:19: FutureWarning: Pass y=[0.14268626 0.30537844 0.30296853 ... 0.14962141 0.15857066 0.16601749] as keyword args. From version 0.10 passing these as positional arguments will result in an error\n",
      "C:\\Users\\aleem\\AppData\\Roaming\\Python\\Python37\\site-packages\\ipykernel_launcher.py:19: FutureWarning: Pass y=[-0.00916394 -0.03786713 -0.06071532 ... -0.08792417 -0.14527759\n",
      " -0.15586883] as keyword args. From version 0.10 passing these as positional arguments will result in an error\n",
      "C:\\Users\\aleem\\AppData\\Roaming\\Python\\Python37\\site-packages\\ipykernel_launcher.py:19: FutureWarning: Pass y=[ 1.70106277e-01  1.54157698e-01  1.24129415e-01 ...  8.82538687e-03\n",
      " -6.80962461e-04  3.41191553e-05] as keyword args. From version 0.10 passing these as positional arguments will result in an error\n",
      "C:\\Users\\aleem\\AppData\\Roaming\\Python\\Python37\\site-packages\\ipykernel_launcher.py:19: FutureWarning: Pass y=[-0.14760259 -0.08586151 -0.13489857 ...  0.          0.\n",
      "  0.        ] as keyword args. From version 0.10 passing these as positional arguments will result in an error\n",
      "C:\\Users\\aleem\\AppData\\Roaming\\Python\\Python37\\site-packages\\ipykernel_launcher.py:19: FutureWarning: Pass y=[0.00451146 0.00979618 0.00901712 ... 0.         0.         0.        ] as keyword args. From version 0.10 passing these as positional arguments will result in an error\n",
      "6it [00:01,  4.09it/s]C:\\Users\\aleem\\AppData\\Roaming\\Python\\Python37\\site-packages\\ipykernel_launcher.py:19: FutureWarning: Pass y=[-0.02573714 -0.03759853 -0.0224583  ...  0.3210597   0.3139326\n",
      "  0.32952973] as keyword args. From version 0.10 passing these as positional arguments will result in an error\n",
      "C:\\Users\\aleem\\AppData\\Roaming\\Python\\Python37\\site-packages\\ipykernel_launcher.py:19: FutureWarning: Pass y=[ 0.02650132  0.02444508  0.02303361 ... -0.01911893 -0.04876929\n",
      "  0.01286817] as keyword args. From version 0.10 passing these as positional arguments will result in an error\n",
      "C:\\Users\\aleem\\AppData\\Roaming\\Python\\Python37\\site-packages\\ipykernel_launcher.py:19: FutureWarning: Pass y=[ 0.28380403  0.22565277  0.19751754 ... -0.04556297 -0.06703687\n",
      " -0.07582434] as keyword args. From version 0.10 passing these as positional arguments will result in an error\n",
      "C:\\Users\\aleem\\AppData\\Roaming\\Python\\Python37\\site-packages\\ipykernel_launcher.py:19: FutureWarning: Pass y=[ 0.09015924  0.02714239 -0.02994089 ... -0.08159008 -0.07570322\n",
      " -0.11739048] as keyword args. From version 0.10 passing these as positional arguments will result in an error\n",
      "C:\\Users\\aleem\\AppData\\Roaming\\Python\\Python37\\site-packages\\ipykernel_launcher.py:19: FutureWarning: Pass y=[-0.09714043 -0.11867161 -0.14824565 ...  0.01097076  0.00933831\n",
      "  0.00474276] as keyword args. From version 0.10 passing these as positional arguments will result in an error\n",
      "C:\\Users\\aleem\\AppData\\Roaming\\Python\\Python37\\site-packages\\ipykernel_launcher.py:19: FutureWarning: Pass y=[-0.15001401 -0.12150428 -0.07932995 ...  0.          0.\n",
      "  0.        ] as keyword args. From version 0.10 passing these as positional arguments will result in an error\n",
      "C:\\Users\\aleem\\AppData\\Roaming\\Python\\Python37\\site-packages\\ipykernel_launcher.py:19: FutureWarning: Pass y=[-0.00597018 -0.01974673 -0.02686865 ...  0.          0.\n",
      "  0.        ] as keyword args. From version 0.10 passing these as positional arguments will result in an error\n",
      "7it [00:02,  4.34it/s]C:\\Users\\aleem\\AppData\\Roaming\\Python\\Python37\\site-packages\\ipykernel_launcher.py:19: FutureWarning: Pass y=[ 0.04096039  0.05743741  0.04120998 ... -0.03704648 -0.0516318\n",
      " -0.04083306] as keyword args. From version 0.10 passing these as positional arguments will result in an error\n",
      "C:\\Users\\aleem\\AppData\\Roaming\\Python\\Python37\\site-packages\\ipykernel_launcher.py:19: FutureWarning: Pass y=[-0.0225908   0.06478003  0.11190474 ...  0.02244633  0.02469526\n",
      "  0.03902647] as keyword args. From version 0.10 passing these as positional arguments will result in an error\n",
      "C:\\Users\\aleem\\AppData\\Roaming\\Python\\Python37\\site-packages\\ipykernel_launcher.py:19: FutureWarning: Pass y=[-0.00927529  0.03256154  0.06813195 ... -0.18940142 -0.21341044\n",
      " -0.22633451] as keyword args. From version 0.10 passing these as positional arguments will result in an error\n",
      "C:\\Users\\aleem\\AppData\\Roaming\\Python\\Python37\\site-packages\\ipykernel_launcher.py:19: FutureWarning: Pass y=[0.04083046 0.05202163 0.0817381  ... 0.14450291 0.14387356 0.14604503] as keyword args. From version 0.10 passing these as positional arguments will result in an error\n",
      "C:\\Users\\aleem\\AppData\\Roaming\\Python\\Python37\\site-packages\\ipykernel_launcher.py:19: FutureWarning: Pass y=[-0.2406022  -0.2669448  -0.27757955 ...  0.12640402  0.13420852\n",
      "  0.14023954] as keyword args. From version 0.10 passing these as positional arguments will result in an error\n",
      "C:\\Users\\aleem\\AppData\\Roaming\\Python\\Python37\\site-packages\\ipykernel_launcher.py:19: FutureWarning: Pass y=[0.14543891 0.14185458 0.1299814  ... 0.03681139 0.04431313 0.04797905] as keyword args. From version 0.10 passing these as positional arguments will result in an error\n",
      "C:\\Users\\aleem\\AppData\\Roaming\\Python\\Python37\\site-packages\\ipykernel_launcher.py:19: FutureWarning: Pass y=[ 0.13816155  0.12893979  0.11699282 ... -0.01953964 -0.01969002\n",
      " -0.0180745 ] as keyword args. From version 0.10 passing these as positional arguments will result in an error\n",
      "C:\\Users\\aleem\\AppData\\Roaming\\Python\\Python37\\site-packages\\ipykernel_launcher.py:19: FutureWarning: Pass y=[ 0.03790084  0.02002186  0.00904779 ... -0.0023464  -0.00160517\n",
      " -0.00238347] as keyword args. From version 0.10 passing these as positional arguments will result in an error\n",
      "C:\\Users\\aleem\\AppData\\Roaming\\Python\\Python37\\site-packages\\ipykernel_launcher.py:19: FutureWarning: Pass y=[-0.01724721 -0.01666093 -0.01490935 ...  0.          0.\n",
      "  0.        ] as keyword args. From version 0.10 passing these as positional arguments will result in an error\n",
      "C:\\Users\\aleem\\AppData\\Roaming\\Python\\Python37\\site-packages\\ipykernel_launcher.py:19: FutureWarning: Pass y=[-0.00368671 -0.00585062 -0.00807245 ...  0.          0.\n",
      "  0.        ] as keyword args. From version 0.10 passing these as positional arguments will result in an error\n",
      "8it [00:02,  4.01it/s]C:\\Users\\aleem\\AppData\\Roaming\\Python\\Python37\\site-packages\\ipykernel_launcher.py:19: FutureWarning: Pass y=[-1.4119082e-04  8.3004066e-05  2.5730181e-04 ... -5.5272892e-02\n",
      " -9.8768577e-02 -1.3919844e-01] as keyword args. From version 0.10 passing these as positional arguments will result in an error\n",
      "C:\\Users\\aleem\\AppData\\Roaming\\Python\\Python37\\site-packages\\ipykernel_launcher.py:19: FutureWarning: Pass y=[-0.0111227   0.02840886  0.06342305 ...  0.22072488  0.18333599\n",
      "  0.06323094] as keyword args. From version 0.10 passing these as positional arguments will result in an error\n",
      "C:\\Users\\aleem\\AppData\\Roaming\\Python\\Python37\\site-packages\\ipykernel_launcher.py:19: FutureWarning: Pass y=[-0.09916327 -0.06606995 -0.14138006 ... -0.00376414 -0.0388108\n",
      " -0.03611408] as keyword args. From version 0.10 passing these as positional arguments will result in an error\n",
      "C:\\Users\\aleem\\AppData\\Roaming\\Python\\Python37\\site-packages\\ipykernel_launcher.py:19: FutureWarning: Pass y=[ 0.18902262  0.3429001   0.22617696 ...  0.00430671 -0.0205592\n",
      " -0.01133745] as keyword args. From version 0.10 passing these as positional arguments will result in an error\n",
      "C:\\Users\\aleem\\AppData\\Roaming\\Python\\Python37\\site-packages\\ipykernel_launcher.py:19: FutureWarning: Pass y=[ 0.01694754  0.01861852 -0.03777802 ... -0.00693597  0.00891419\n",
      "  0.01791036] as keyword args. From version 0.10 passing these as positional arguments will result in an error\n",
      "C:\\Users\\aleem\\AppData\\Roaming\\Python\\Python37\\site-packages\\ipykernel_launcher.py:19: FutureWarning: Pass y=[0.02464864 0.03723861 0.00077273 ... 0.         0.         0.        ] as keyword args. From version 0.10 passing these as positional arguments will result in an error\n",
      "C:\\Users\\aleem\\AppData\\Roaming\\Python\\Python37\\site-packages\\ipykernel_launcher.py:19: FutureWarning: Pass y=[ 0.00369593 -0.00865769  0.00131982 ...  0.          0.\n",
      "  0.        ] as keyword args. From version 0.10 passing these as positional arguments will result in an error\n",
      "9it [00:02,  4.32it/s]C:\\Users\\aleem\\AppData\\Roaming\\Python\\Python37\\site-packages\\ipykernel_launcher.py:19: FutureWarning: Pass y=[-0.01904768 -0.02655942 -0.01013249 ... -0.08482973 -0.09947339\n",
      " -0.12486558] as keyword args. From version 0.10 passing these as positional arguments will result in an error\n",
      "C:\\Users\\aleem\\AppData\\Roaming\\Python\\Python37\\site-packages\\ipykernel_launcher.py:19: FutureWarning: Pass y=[-0.11062561 -0.12731822 -0.11099874 ...  0.2920341   0.24467963\n",
      "  0.05571587] as keyword args. From version 0.10 passing these as positional arguments will result in an error\n",
      "C:\\Users\\aleem\\AppData\\Roaming\\Python\\Python37\\site-packages\\ipykernel_launcher.py:19: FutureWarning: Pass y=[-0.13591471 -0.13954584 -0.13595659 ...  0.0654946   0.05340921\n",
      "  0.07763916] as keyword args. From version 0.10 passing these as positional arguments will result in an error\n",
      "C:\\Users\\aleem\\AppData\\Roaming\\Python\\Python37\\site-packages\\ipykernel_launcher.py:19: FutureWarning: Pass y=[0.04548547 0.20249458 0.22936675 ... 0.         0.         0.        ] as keyword args. From version 0.10 passing these as positional arguments will result in an error\n",
      "C:\\Users\\aleem\\AppData\\Roaming\\Python\\Python37\\site-packages\\ipykernel_launcher.py:19: FutureWarning: Pass y=[0.09296566 0.06447289 0.00375237 ... 0.         0.         0.        ] as keyword args. From version 0.10 passing these as positional arguments will result in an error\n",
      "10it [00:02,  4.40it/s]C:\\Users\\aleem\\AppData\\Roaming\\Python\\Python37\\site-packages\\ipykernel_launcher.py:19: FutureWarning: Pass y=[-0.00322821 -0.00886484 -0.00250701 ... -0.00051796  0.03249708\n",
      " -0.01843367] as keyword args. From version 0.10 passing these as positional arguments will result in an error\n",
      "C:\\Users\\aleem\\AppData\\Roaming\\Python\\Python37\\site-packages\\ipykernel_launcher.py:19: FutureWarning: Pass y=[-0.18119998 -0.03395716  0.02842511 ...  0.11896946 -0.04175919\n",
      " -0.17672819] as keyword args. From version 0.10 passing these as positional arguments will result in an error\n",
      "C:\\Users\\aleem\\AppData\\Roaming\\Python\\Python37\\site-packages\\ipykernel_launcher.py:19: FutureWarning: Pass y=[-0.10753331 -0.08957895  0.02682918 ... -0.19264944 -0.19892798\n",
      " -0.194706  ] as keyword args. From version 0.10 passing these as positional arguments will result in an error\n",
      "C:\\Users\\aleem\\AppData\\Roaming\\Python\\Python37\\site-packages\\ipykernel_launcher.py:19: FutureWarning: Pass y=[-0.07688674  0.12225197  0.10856654 ...  0.08619287  0.12207668\n",
      "  0.08807924] as keyword args. From version 0.10 passing these as positional arguments will result in an error\n",
      "C:\\Users\\aleem\\AppData\\Roaming\\Python\\Python37\\site-packages\\ipykernel_launcher.py:19: FutureWarning: Pass y=[-0.23065817 -0.3241867  -0.38816497 ...  0.          0.\n",
      "  0.        ] as keyword args. From version 0.10 passing these as positional arguments will result in an error\n",
      "C:\\Users\\aleem\\AppData\\Roaming\\Python\\Python37\\site-packages\\ipykernel_launcher.py:19: FutureWarning: Pass y=[ 0.02432286 -0.02356538 -0.05204632 ...  0.          0.\n",
      "  0.        ] as keyword args. From version 0.10 passing these as positional arguments will result in an error\n",
      "11it [00:03,  4.50it/s]C:\\Users\\aleem\\AppData\\Roaming\\Python\\Python37\\site-packages\\ipykernel_launcher.py:19: FutureWarning: Pass y=[-0.01942584 -0.01938945  0.00240883 ... -0.19809318 -0.35019252\n",
      " -0.43343407] as keyword args. From version 0.10 passing these as positional arguments will result in an error\n",
      "C:\\Users\\aleem\\AppData\\Roaming\\Python\\Python37\\site-packages\\ipykernel_launcher.py:19: FutureWarning: Pass y=[-0.07767104 -0.0401016  -0.02191782 ...  0.02164366  0.00815499\n",
      "  0.00836186] as keyword args. From version 0.10 passing these as positional arguments will result in an error\n",
      "C:\\Users\\aleem\\AppData\\Roaming\\Python\\Python37\\site-packages\\ipykernel_launcher.py:19: FutureWarning: Pass y=[-0.3656376  -0.23340075 -0.21575604 ...  0.07921889  0.0633276\n",
      "  0.02653962] as keyword args. From version 0.10 passing these as positional arguments will result in an error\n",
      "C:\\Users\\aleem\\AppData\\Roaming\\Python\\Python37\\site-packages\\ipykernel_launcher.py:19: FutureWarning: Pass y=[0.06662211 0.11158718 0.08927739 ... 0.05100401 0.09074223 0.1324819 ] as keyword args. From version 0.10 passing these as positional arguments will result in an error\n",
      "C:\\Users\\aleem\\AppData\\Roaming\\Python\\Python37\\site-packages\\ipykernel_launcher.py:19: FutureWarning: Pass y=[0.02383257 0.04236534 0.04400057 ... 0.02483597 0.02686207 0.02906272] as keyword args. From version 0.10 passing these as positional arguments will result in an error\n",
      "C:\\Users\\aleem\\AppData\\Roaming\\Python\\Python37\\site-packages\\ipykernel_launcher.py:19: FutureWarning: Pass y=[0.1072212  0.06289475 0.05909365 ... 0.07443697 0.03340013 0.00422436] as keyword args. From version 0.10 passing these as positional arguments will result in an error\n",
      "C:\\Users\\aleem\\AppData\\Roaming\\Python\\Python37\\site-packages\\ipykernel_launcher.py:19: FutureWarning: Pass y=[ 0.02927823  0.01739635  0.00458797 ...  0.00336997 -0.00182091\n",
      " -0.00335662] as keyword args. From version 0.10 passing these as positional arguments will result in an error\n",
      "C:\\Users\\aleem\\AppData\\Roaming\\Python\\Python37\\site-packages\\ipykernel_launcher.py:19: FutureWarning: Pass y=[0.01089518 0.01626755 0.00270596 ... 0.         0.         0.        ] as keyword args. From version 0.10 passing these as positional arguments will result in an error\n",
      "C:\\Users\\aleem\\AppData\\Roaming\\Python\\Python37\\site-packages\\ipykernel_launcher.py:19: FutureWarning: Pass y=[-0.00267742 -0.0005271  -0.00066854 ...  0.          0.\n",
      "  0.        ] as keyword args. From version 0.10 passing these as positional arguments will result in an error\n",
      "12it [00:03,  3.59it/s]\n"
     ]
    }
   ],
   "source": [
    "mfcc_data_by_fold = {}\n",
    "\n",
    "# Iterate through the DataFrame and extract MFCC features\n",
    "for index_num, row in tqdm(metadata.iterrows()):\n",
    "    file_name = os.path.join(os.path.abspath(audio_dataset_path), 'fold' + str(row[\"fold\"]) + '/', str(row[\"slice_file_name\"]))\n",
    "    final_class_labels = row[\"class\"]\n",
    "\n",
    "    # MFCC Features Extraction\n",
    "    mfcc_data = mfcc_features_extractor_1sec(file_name)\n",
    "    \n",
    "    # Store the MFCC data in the dictionary by fold number\n",
    "    fold_num = row[\"fold\"]\n",
    "    if fold_num not in mfcc_data_by_fold:\n",
    "        mfcc_data_by_fold[fold_num] = {\n",
    "            \"data\": [],\n",
    "            \"labels\": []\n",
    "        }\n",
    "    mfcc_data_by_fold[fold_num][\"data\"].append(mfcc_data)\n",
    "    mfcc_data_by_fold[fold_num][\"labels\"].append(final_class_labels)\n",
    "\n",
    "# Now, convert the data in mfcc_data_by_fold to NumPy arrays\n",
    "for fold_num, data_dict in mfcc_data_by_fold.items():\n",
    "    data_dict[\"data\"] = np.array(data_dict[\"data\"])\n",
    "    data_dict[\"labels\"] = np.array(data_dict[\"labels\"])"
   ]
  },
  {
   "cell_type": "code",
   "execution_count": 6,
   "metadata": {},
   "outputs": [
    {
     "name": "stdout",
     "output_type": "stream",
     "text": [
      "Shape of data for fold 1: (4, 704, 40)\n",
      "Shape of labels for fold 1: (4,)\n"
     ]
    }
   ],
   "source": [
    "fold_num = 1  # Replace with the fold number you're interested in\n",
    "data_shape = mfcc_data_by_fold[fold_num][\"data\"].shape\n",
    "labels_shape = mfcc_data_by_fold[fold_num][\"labels\"].shape\n",
    "\n",
    "print(f\"Shape of data for fold {fold_num}: {data_shape}\")\n",
    "print(f\"Shape of labels for fold {fold_num}: {labels_shape}\")"
   ]
  },
  {
   "cell_type": "code",
   "execution_count": 7,
   "metadata": {},
   "outputs": [
    {
     "data": {
      "text/plain": [
       "(4, 704, 40)"
      ]
     },
     "execution_count": 7,
     "metadata": {},
     "output_type": "execute_result"
    }
   ],
   "source": [
    "mfcc_data_by_fold[3][\"data\"].shape"
   ]
  },
  {
   "cell_type": "code",
   "execution_count": 8,
   "metadata": {},
   "outputs": [],
   "source": [
    "# Iterate through the dictionary and reshape the data arrays for all fold_num values\n",
    "for fold_num, data_dict in mfcc_data_by_fold.items():\n",
    "    data_dict[\"data\"] = data_dict[\"data\"].reshape(data_dict[\"data\"].shape + (1,))\n",
    "    "
   ]
  },
  {
   "cell_type": "code",
   "execution_count": 9,
   "metadata": {},
   "outputs": [
    {
     "data": {
      "text/plain": [
       "(4, 704, 40, 1)"
      ]
     },
     "execution_count": 9,
     "metadata": {},
     "output_type": "execute_result"
    }
   ],
   "source": [
    "mfcc_data_by_fold[1][\"data\"].shape"
   ]
  },
  {
   "cell_type": "markdown",
   "metadata": {},
   "source": [
    "After Training Work, Deep Features "
   ]
  },
  {
   "cell_type": "code",
   "execution_count": 10,
   "metadata": {},
   "outputs": [
    {
     "name": "stdout",
     "output_type": "stream",
     "text": [
      "1/1 [==============================] - 0s 167ms/step\n",
      "1/1 [==============================] - 0s 56ms/step\n",
      "1/1 [==============================] - 0s 56ms/step\n"
     ]
    }
   ],
   "source": [
    "from keras.models import load_model\n",
    "from keras.models import Model\n",
    "\n",
    "# Load the saved model\n",
    "loaded_model = load_model('Model_CNN2D_startwithnumpylengthsamemfcc_1sec_4032files_90_10_size_result 100_96.29.h5')\n",
    "\n",
    "# Get the name of the intermediate layer from the loaded model summary\n",
    "intermediate_layer_name = 'dense'\n",
    "\n",
    "# Find the index of the intermediate layer in the model's layers list\n",
    "intermediate_layer_index = [i for i, layer in enumerate(loaded_model.layers) if layer.name == intermediate_layer_name][0]\n",
    "\n",
    "# Define a new model that includes layers up to the intermediate layer\n",
    "intermediate_layer_model = Model(inputs=loaded_model.input,\n",
    "                                  outputs=loaded_model.layers[intermediate_layer_index].output)\n",
    "\n",
    "# List of inputs for each fold's MFCC data\n",
    "input_data_list = [mfcc_data_by_fold[fold][\"data\"] for fold in range(1, 4)]  # Adjust the range as needed\n",
    "\n",
    "# List to store intermediate layer outputs for each fold\n",
    "intermediate_layer_outputs = []\n",
    "\n",
    "# Iterate through the input data for each fold and predict the intermediate layer output\n",
    "for input_data in input_data_list:\n",
    "    intermediate_output = intermediate_layer_model.predict(input_data)\n",
    "    intermediate_layer_outputs.append(intermediate_output)\n",
    "\n",
    "# Now, intermediate_layer_outputs contains the intermediate layer outputs for each fold's input data\n"
   ]
  },
  {
   "cell_type": "code",
   "execution_count": 11,
   "metadata": {},
   "outputs": [],
   "source": [
    "intermediate_layer_outputs = np.array(intermediate_layer_outputs)"
   ]
  },
  {
   "cell_type": "code",
   "execution_count": 12,
   "metadata": {},
   "outputs": [
    {
     "data": {
      "text/plain": [
       "(3, 4, 1024)"
      ]
     },
     "execution_count": 12,
     "metadata": {},
     "output_type": "execute_result"
    }
   ],
   "source": [
    "intermediate_layer_outputs.shape"
   ]
  },
  {
   "cell_type": "code",
   "execution_count": 13,
   "metadata": {},
   "outputs": [
    {
     "data": {
      "text/plain": [
       "array([[[-0.7723583 ,  0.99977845,  0.9931204 , ...,  0.95230484,\n",
       "         -0.996556  , -0.9989959 ],\n",
       "        [ 0.27853984, -0.49541616,  0.19128628, ...,  0.43072549,\n",
       "         -0.99350685,  0.48450845],\n",
       "        [-0.42096034,  0.99675286,  0.99633896, ...,  0.928379  ,\n",
       "         -0.76921886, -0.99782264],\n",
       "        [-0.9273225 , -0.85938245,  0.99121815, ...,  0.9584141 ,\n",
       "         -0.91810274, -0.9985679 ]],\n",
       "\n",
       "       [[-0.97089106, -0.9442637 ,  0.99917907, ...,  0.9909407 ,\n",
       "         -0.9765208 , -0.9986903 ],\n",
       "        [ 0.12287705, -0.98120856,  0.99930054, ...,  0.79761904,\n",
       "         -0.9191569 , -0.9985452 ],\n",
       "        [-0.5937335 ,  0.9992535 ,  0.99373305, ...,  0.9432749 ,\n",
       "         -0.9746527 , -0.9980872 ],\n",
       "        [-0.9542508 ,  0.9978574 ,  0.9990384 , ...,  0.69193053,\n",
       "         -0.7335738 , -0.9999748 ]],\n",
       "\n",
       "       [[-0.6778858 ,  0.9966063 ,  0.9960319 , ...,  0.98029196,\n",
       "         -0.9996476 , -0.9847367 ],\n",
       "        [ 0.2428239 ,  0.9937839 ,  0.9755024 , ...,  0.8241374 ,\n",
       "         -0.96047693, -0.9092076 ],\n",
       "        [ 0.29871732,  0.99999684,  0.98224753, ...,  0.503518  ,\n",
       "         -0.9941267 , -0.99853814],\n",
       "        [ 0.09620883,  0.9584529 ,  0.9999888 , ...,  0.83802503,\n",
       "         -0.9818935 , -0.999919  ]]], dtype=float32)"
      ]
     },
     "execution_count": 13,
     "metadata": {},
     "output_type": "execute_result"
    }
   ],
   "source": [
    "intermediate_layer_outputs"
   ]
  },
  {
   "cell_type": "code",
   "execution_count": 14,
   "metadata": {},
   "outputs": [],
   "source": [
    "mean_across_folds = np.mean(intermediate_layer_outputs, axis=0)"
   ]
  },
  {
   "cell_type": "code",
   "execution_count": 15,
   "metadata": {},
   "outputs": [],
   "source": [
    "al_ikhlas_mean = mean_across_folds"
   ]
  },
  {
   "cell_type": "code",
   "execution_count": 16,
   "metadata": {},
   "outputs": [
    {
     "data": {
      "text/plain": [
       "(4, 1024)"
      ]
     },
     "execution_count": 16,
     "metadata": {},
     "output_type": "execute_result"
    }
   ],
   "source": [
    "al_ikhlas_mean.shape"
   ]
  },
  {
   "cell_type": "code",
   "execution_count": 17,
   "metadata": {},
   "outputs": [
    {
     "data": {
      "text/plain": [
       "array([[-0.80704504,  0.35070702,  0.99611044, ...,  0.9745125 ,\n",
       "        -0.99090815, -0.9941409 ],\n",
       "       [ 0.21474694, -0.16094695,  0.7220297 , ...,  0.68416065,\n",
       "        -0.95771354, -0.4744148 ],\n",
       "       [-0.23865885,  0.9986677 ,  0.9907732 , ...,  0.79172397,\n",
       "        -0.9126661 , -0.9981494 ],\n",
       "       [-0.5951215 ,  0.36564264,  0.99674845, ...,  0.82945657,\n",
       "        -0.8778567 , -0.9994872 ]], dtype=float32)"
      ]
     },
     "execution_count": 17,
     "metadata": {},
     "output_type": "execute_result"
    }
   ],
   "source": [
    "al_ikhlas_mean"
   ]
  },
  {
   "cell_type": "code",
   "execution_count": 18,
   "metadata": {},
   "outputs": [],
   "source": [
    "# Specify the file path where you want to save the .npy file\n",
    "file_path = 'al_ikhlas_mean.npy'\n",
    "\n",
    "# Save the array as a .npy file\n",
    "np.save(file_path, al_ikhlas_mean)"
   ]
  },
  {
   "cell_type": "markdown",
   "metadata": {
    "slideshow": {
     "slide_type": "slide"
    }
   },
   "source": [
    "Testing of Single Audio"
   ]
  },
  {
   "cell_type": "code",
   "execution_count": 19,
   "metadata": {},
   "outputs": [
    {
     "name": "stderr",
     "output_type": "stream",
     "text": [
      "C:\\Users\\aleem\\AppData\\Roaming\\Python\\Python37\\site-packages\\ipykernel_launcher.py:19: FutureWarning: Pass y=[0.00827779 0.01175364 0.01195718 ... 0.06391279 0.03385095 0.01194416] as keyword args. From version 0.10 passing these as positional arguments will result in an error\n",
      "C:\\Users\\aleem\\AppData\\Roaming\\Python\\Python37\\site-packages\\ipykernel_launcher.py:19: FutureWarning: Pass y=[0.14268626 0.30537844 0.30296853 ... 0.14962141 0.15857066 0.16601749] as keyword args. From version 0.10 passing these as positional arguments will result in an error\n",
      "C:\\Users\\aleem\\AppData\\Roaming\\Python\\Python37\\site-packages\\ipykernel_launcher.py:19: FutureWarning: Pass y=[-0.00916394 -0.03786713 -0.06071532 ... -0.08792417 -0.14527759\n",
      " -0.15586883] as keyword args. From version 0.10 passing these as positional arguments will result in an error\n",
      "C:\\Users\\aleem\\AppData\\Roaming\\Python\\Python37\\site-packages\\ipykernel_launcher.py:19: FutureWarning: Pass y=[ 1.70106277e-01  1.54157698e-01  1.24129415e-01 ...  8.82538687e-03\n",
      " -6.80962461e-04  3.41191553e-05] as keyword args. From version 0.10 passing these as positional arguments will result in an error\n",
      "C:\\Users\\aleem\\AppData\\Roaming\\Python\\Python37\\site-packages\\ipykernel_launcher.py:19: FutureWarning: Pass y=[-0.14760259 -0.08586151 -0.13489857 ...  0.          0.\n",
      "  0.        ] as keyword args. From version 0.10 passing these as positional arguments will result in an error\n",
      "C:\\Users\\aleem\\AppData\\Roaming\\Python\\Python37\\site-packages\\ipykernel_launcher.py:19: FutureWarning: Pass y=[0.00451146 0.00979618 0.00901712 ... 0.         0.         0.        ] as keyword args. From version 0.10 passing these as positional arguments will result in an error\n",
      "C:\\Users\\aleem\\AppData\\Roaming\\Python\\Python37\\site-packages\\ipykernel_launcher.py:19: FutureWarning: Pass y=[0. 0. 0. ... 0. 0. 0.] as keyword args. From version 0.10 passing these as positional arguments will result in an error\n"
     ]
    }
   ],
   "source": [
    "file_name = 'C:/Users/aleem/Desktop/Currentlyworking_New_extracted audio wav after cleaning then augmentation/sliding_window_1_sec/data/ikhlas_testing.wav'\n",
    "\n",
    "\n",
    "mfcc_extracted_features_single=[]\n",
    "\n",
    "mfcc_extracted_features_single= mfcc_features_extractor_1sec(file_name)\n",
    "\n",
    "mfcc_extracted_features_single = np.array(mfcc_extracted_features_single)\n",
    "\n",
    "mfcc_extracted_features_single = mfcc_extracted_features_single.reshape((1, 704, 40, 1))\n",
    "\n"
   ]
  },
  {
   "cell_type": "code",
   "execution_count": 20,
   "metadata": {},
   "outputs": [
    {
     "data": {
      "text/plain": [
       "array([[[[ -328.34464  ],\n",
       "         [  117.98322  ],\n",
       "         [  -21.96954  ],\n",
       "         ...,\n",
       "         [   -4.6924276],\n",
       "         [   -7.5491514],\n",
       "         [    5.618508 ]],\n",
       "\n",
       "        [[ -313.32214  ],\n",
       "         [  123.52269  ],\n",
       "         [  -26.504478 ],\n",
       "         ...,\n",
       "         [    1.152132 ],\n",
       "         [   -7.100539 ],\n",
       "         [    5.887247 ]],\n",
       "\n",
       "        [[ -330.50635  ],\n",
       "         [  126.29224  ],\n",
       "         [  -26.654266 ],\n",
       "         ...,\n",
       "         [    3.8891613],\n",
       "         [   -8.564703 ],\n",
       "         [    7.454237 ]],\n",
       "\n",
       "        ...,\n",
       "\n",
       "        [[-1131.3708   ],\n",
       "         [    0.       ],\n",
       "         [    0.       ],\n",
       "         ...,\n",
       "         [    0.       ],\n",
       "         [    0.       ],\n",
       "         [    0.       ]],\n",
       "\n",
       "        [[-1131.3708   ],\n",
       "         [    0.       ],\n",
       "         [    0.       ],\n",
       "         ...,\n",
       "         [    0.       ],\n",
       "         [    0.       ],\n",
       "         [    0.       ]],\n",
       "\n",
       "        [[-1131.3708   ],\n",
       "         [    0.       ],\n",
       "         [    0.       ],\n",
       "         ...,\n",
       "         [    0.       ],\n",
       "         [    0.       ],\n",
       "         [    0.       ]]]], dtype=float32)"
      ]
     },
     "execution_count": 20,
     "metadata": {},
     "output_type": "execute_result"
    }
   ],
   "source": [
    "mfcc_extracted_features_single"
   ]
  },
  {
   "cell_type": "code",
   "execution_count": 21,
   "metadata": {},
   "outputs": [
    {
     "name": "stdout",
     "output_type": "stream",
     "text": [
      "1/1 [==============================] - 0s 134ms/step\n"
     ]
    }
   ],
   "source": [
    "from keras.models import load_model\n",
    "from keras.models import Model\n",
    "\n",
    "# Load the saved model\n",
    "loaded_model = load_model('Model_CNN2D_startwithnumpylengthsamemfcc_1sec_4032files_90_10_size_result 100_96.29.h5')\n",
    "\n",
    "# Get the name of the intermediate layer from the loaded model summary\n",
    "intermediate_layer_name = 'dense'\n",
    "\n",
    "# Find the index of the intermediate layer in the model's layers list\n",
    "intermediate_layer_index = [i for i, layer in enumerate(loaded_model.layers) if layer.name == intermediate_layer_name][0]\n",
    "\n",
    "# Define a new model that includes layers up to the intermediate layer\n",
    "intermediate_layer_model = Model(inputs=loaded_model.input,\n",
    "                                  outputs=loaded_model.layers[intermediate_layer_index].output)\n",
    "\n",
    "# Assuming you already have mfcc_extracted_features of shape (704, 40, 1)\n",
    "# Replace this with your actual input data\n",
    "\n",
    "# Predict the intermediate layer output for the input data\n",
    "intermediate_output = intermediate_layer_model.predict(mfcc_extracted_features_single)\n",
    "\n",
    "# Now, intermediate_output contains the intermediate layer output for mfcc_extracted_features\n"
   ]
  },
  {
   "cell_type": "code",
   "execution_count": 22,
   "metadata": {},
   "outputs": [
    {
     "data": {
      "text/plain": [
       "array([[ 0.12287717, -0.98120856,  0.99930054, ...,  0.7976193 ,\n",
       "        -0.91915727, -0.9985453 ]], dtype=float32)"
      ]
     },
     "execution_count": 22,
     "metadata": {},
     "output_type": "execute_result"
    }
   ],
   "source": [
    "intermediate_output"
   ]
  },
  {
   "cell_type": "code",
   "execution_count": 23,
   "metadata": {},
   "outputs": [
    {
     "data": {
      "text/plain": [
       "(1, 1024)"
      ]
     },
     "execution_count": 23,
     "metadata": {},
     "output_type": "execute_result"
    }
   ],
   "source": [
    "intermediate_output.shape"
   ]
  },
  {
   "cell_type": "code",
   "execution_count": 24,
   "metadata": {},
   "outputs": [
    {
     "data": {
      "text/plain": [
       "array([[[-0.7723583 ,  0.99977845,  0.9931204 , ...,  0.95230484,\n",
       "         -0.996556  , -0.9989959 ],\n",
       "        [ 0.27853984, -0.49541616,  0.19128628, ...,  0.43072549,\n",
       "         -0.99350685,  0.48450845],\n",
       "        [-0.42096034,  0.99675286,  0.99633896, ...,  0.928379  ,\n",
       "         -0.76921886, -0.99782264],\n",
       "        [-0.9273225 , -0.85938245,  0.99121815, ...,  0.9584141 ,\n",
       "         -0.91810274, -0.9985679 ]],\n",
       "\n",
       "       [[-0.97089106, -0.9442637 ,  0.99917907, ...,  0.9909407 ,\n",
       "         -0.9765208 , -0.9986903 ],\n",
       "        [ 0.12287705, -0.98120856,  0.99930054, ...,  0.79761904,\n",
       "         -0.9191569 , -0.9985452 ],\n",
       "        [-0.5937335 ,  0.9992535 ,  0.99373305, ...,  0.9432749 ,\n",
       "         -0.9746527 , -0.9980872 ],\n",
       "        [-0.9542508 ,  0.9978574 ,  0.9990384 , ...,  0.69193053,\n",
       "         -0.7335738 , -0.9999748 ]],\n",
       "\n",
       "       [[-0.6778858 ,  0.9966063 ,  0.9960319 , ...,  0.98029196,\n",
       "         -0.9996476 , -0.9847367 ],\n",
       "        [ 0.2428239 ,  0.9937839 ,  0.9755024 , ...,  0.8241374 ,\n",
       "         -0.96047693, -0.9092076 ],\n",
       "        [ 0.29871732,  0.99999684,  0.98224753, ...,  0.503518  ,\n",
       "         -0.9941267 , -0.99853814],\n",
       "        [ 0.09620883,  0.9584529 ,  0.9999888 , ...,  0.83802503,\n",
       "         -0.9818935 , -0.999919  ]]], dtype=float32)"
      ]
     },
     "execution_count": 24,
     "metadata": {},
     "output_type": "execute_result"
    }
   ],
   "source": [
    "intermediate_layer_outputs"
   ]
  },
  {
   "cell_type": "markdown",
   "metadata": {},
   "source": [
    "Euclidian Distance with Mean"
   ]
  },
  {
   "cell_type": "code",
   "execution_count": 25,
   "metadata": {},
   "outputs": [
    {
     "name": "stdout",
     "output_type": "stream",
     "text": [
      "Index of closest value in al_ikhlas_mean: 2\n",
      "Closest value in al_ikhlas_mean: [ 0.21474694 -0.16094695  0.7220297  ...  0.68416065 -0.95771354\n",
      " -0.4744148 ]\n"
     ]
    }
   ],
   "source": [
    "import numpy as np\n",
    "\n",
    "# Assuming you have al_fil_mean with shape (5, 1024) and intermediate_output with shape (1, 1024)\n",
    "# Calculate the Euclidean distances between intermediate_output and each row in al_fil_mean\n",
    "distances = np.linalg.norm(al_ikhlas_mean - intermediate_output, axis=1)\n",
    "\n",
    "# Find the index of the closest row in al_fil_mean\n",
    "closest_index = np.argmin(distances)\n",
    "\n",
    "# The value at closest_index in al_fil_mean is the closest to intermediate_output\n",
    "closest_value = al_ikhlas_mean[closest_index]\n",
    "\n",
    "# Print the closest_index and closest_value\n",
    "print(f\"Index of closest value in al_ikhlas_mean: {closest_index+1}\")\n",
    "print(f\"Closest value in al_ikhlas_mean: {closest_value}\")"
   ]
  },
  {
   "cell_type": "markdown",
   "metadata": {},
   "source": [
    "Euclidian Distance Without Mean"
   ]
  },
  {
   "cell_type": "code",
   "execution_count": 26,
   "metadata": {},
   "outputs": [],
   "source": [
    "# # Reshape intermediate_output to match the shape of intermediate_layer_outputs\n",
    "# intermediate_output_reshaped = intermediate_output.reshape((1, 1, 1024))\n",
    "\n",
    "# # Initialize variables to keep track of the closest indices and distances\n",
    "# closest_indices = None\n",
    "# min_distances = None\n",
    "# closest_set = None  # Initialize variable to track the closest set\n",
    "\n",
    "# for i, intermediate_set in enumerate(intermediate_layer_outputs):\n",
    "#     # Calculate the Euclidean distances between intermediate_output and intermediate_set\n",
    "#     distances = np.linalg.norm(intermediate_set - intermediate_output_reshaped, axis=2)\n",
    "    \n",
    "#     # Find the index of the minimum distance\n",
    "#     current_closest_index = np.argmin(distances)\n",
    "    \n",
    "#     # Update the closest index, distances, and closest set if this set is closer\n",
    "#     if closest_indices is None or np.mean(distances) < np.mean(min_distances):\n",
    "#         closest_indices = current_closest_index\n",
    "#         min_distances = distances\n",
    "#         closest_set = i\n",
    "\n",
    "# # Print the closest index in intermediate_layer_outputs and which set it belongs to\n",
    "# print(f\"Closest index in intermediate_layer_outputs: {closest_indices}\")\n",
    "# if closest_set == 0:\n",
    "#     print(\"It is closest to intermediate_layer_outputs[0]\")\n",
    "# elif closest_set == 1:\n",
    "#     print(\"It is closest to intermediate_layer_outputs[1]\")\n",
    "# elif closest_set == 2:\n",
    "#     print(\"It is closest to intermediate_layer_outputs[2]\")"
   ]
  },
  {
   "cell_type": "code",
   "execution_count": null,
   "metadata": {},
   "outputs": [],
   "source": []
  }
 ],
 "metadata": {
  "kernelspec": {
   "display_name": "Python 3",
   "language": "python",
   "name": "python3"
  },
  "language_info": {
   "codemirror_mode": {
    "name": "ipython",
    "version": 3
   },
   "file_extension": ".py",
   "mimetype": "text/x-python",
   "name": "python",
   "nbconvert_exporter": "python",
   "pygments_lexer": "ipython3",
   "version": "3.7.3"
  },
  "orig_nbformat": 4
 },
 "nbformat": 4,
 "nbformat_minor": 2
}
