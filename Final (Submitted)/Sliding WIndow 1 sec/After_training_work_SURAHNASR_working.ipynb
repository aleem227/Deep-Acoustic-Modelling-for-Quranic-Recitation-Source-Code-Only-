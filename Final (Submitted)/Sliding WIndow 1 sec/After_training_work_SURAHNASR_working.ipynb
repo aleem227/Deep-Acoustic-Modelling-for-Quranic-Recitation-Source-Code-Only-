{
 "cells": [
  {
   "cell_type": "code",
   "execution_count": 1,
   "metadata": {},
   "outputs": [],
   "source": [
    "import pandas as pd\n",
    "import os\n",
    "import librosa\n",
    "import numpy as np\n",
    "import math\n",
    "import numpy as np\n",
    "from tqdm import tqdm\n",
    "import matplotlib.pyplot as plt\n",
    "%matplotlib inline\n",
    "import librosa.display"
   ]
  },
  {
   "cell_type": "code",
   "execution_count": 2,
   "metadata": {},
   "outputs": [
    {
     "data": {
      "text/html": [
       "<div>\n",
       "<style scoped>\n",
       "    .dataframe tbody tr th:only-of-type {\n",
       "        vertical-align: middle;\n",
       "    }\n",
       "\n",
       "    .dataframe tbody tr th {\n",
       "        vertical-align: top;\n",
       "    }\n",
       "\n",
       "    .dataframe thead th {\n",
       "        text-align: right;\n",
       "    }\n",
       "</style>\n",
       "<table border=\"1\" class=\"dataframe\">\n",
       "  <thead>\n",
       "    <tr style=\"text-align: right;\">\n",
       "      <th></th>\n",
       "      <th>slice_file_name</th>\n",
       "      <th>fold</th>\n",
       "      <th>classID</th>\n",
       "      <th>class</th>\n",
       "    </tr>\n",
       "  </thead>\n",
       "  <tbody>\n",
       "    <tr>\n",
       "      <th>0</th>\n",
       "      <td>3_1.wav</td>\n",
       "      <td>4</td>\n",
       "      <td>110</td>\n",
       "      <td>An-Nasr</td>\n",
       "    </tr>\n",
       "    <tr>\n",
       "      <th>1</th>\n",
       "      <td>3_2.wav</td>\n",
       "      <td>4</td>\n",
       "      <td>110</td>\n",
       "      <td>An-Nasr</td>\n",
       "    </tr>\n",
       "    <tr>\n",
       "      <th>2</th>\n",
       "      <td>3_3.wav</td>\n",
       "      <td>4</td>\n",
       "      <td>110</td>\n",
       "      <td>An-Nasr</td>\n",
       "    </tr>\n",
       "    <tr>\n",
       "      <th>3</th>\n",
       "      <td>3_4.wav</td>\n",
       "      <td>4</td>\n",
       "      <td>110</td>\n",
       "      <td>An-Nasr</td>\n",
       "    </tr>\n",
       "    <tr>\n",
       "      <th>4</th>\n",
       "      <td>2_1.wav</td>\n",
       "      <td>3</td>\n",
       "      <td>110</td>\n",
       "      <td>An-Nasr</td>\n",
       "    </tr>\n",
       "    <tr>\n",
       "      <th>5</th>\n",
       "      <td>2_2.wav</td>\n",
       "      <td>3</td>\n",
       "      <td>110</td>\n",
       "      <td>An-Nasr</td>\n",
       "    </tr>\n",
       "    <tr>\n",
       "      <th>6</th>\n",
       "      <td>2_3.wav</td>\n",
       "      <td>3</td>\n",
       "      <td>110</td>\n",
       "      <td>An-Nasr</td>\n",
       "    </tr>\n",
       "    <tr>\n",
       "      <th>7</th>\n",
       "      <td>2_4.wav</td>\n",
       "      <td>3</td>\n",
       "      <td>110</td>\n",
       "      <td>An-Nasr</td>\n",
       "    </tr>\n",
       "    <tr>\n",
       "      <th>8</th>\n",
       "      <td>1_1.wav</td>\n",
       "      <td>1</td>\n",
       "      <td>110</td>\n",
       "      <td>An-Nasr</td>\n",
       "    </tr>\n",
       "    <tr>\n",
       "      <th>9</th>\n",
       "      <td>1_2.wav</td>\n",
       "      <td>1</td>\n",
       "      <td>110</td>\n",
       "      <td>An-Nasr</td>\n",
       "    </tr>\n",
       "    <tr>\n",
       "      <th>10</th>\n",
       "      <td>1_3.wav</td>\n",
       "      <td>1</td>\n",
       "      <td>110</td>\n",
       "      <td>An-Nasr</td>\n",
       "    </tr>\n",
       "    <tr>\n",
       "      <th>11</th>\n",
       "      <td>1_4.wav</td>\n",
       "      <td>1</td>\n",
       "      <td>110</td>\n",
       "      <td>An-Nasr</td>\n",
       "    </tr>\n",
       "    <tr>\n",
       "      <th>12</th>\n",
       "      <td>1.wav</td>\n",
       "      <td>2</td>\n",
       "      <td>110</td>\n",
       "      <td>An-Nasr</td>\n",
       "    </tr>\n",
       "    <tr>\n",
       "      <th>13</th>\n",
       "      <td>2.wav</td>\n",
       "      <td>2</td>\n",
       "      <td>110</td>\n",
       "      <td>An-Nasr</td>\n",
       "    </tr>\n",
       "    <tr>\n",
       "      <th>14</th>\n",
       "      <td>3.wav</td>\n",
       "      <td>2</td>\n",
       "      <td>110</td>\n",
       "      <td>An-Nasr</td>\n",
       "    </tr>\n",
       "    <tr>\n",
       "      <th>15</th>\n",
       "      <td>4.wav</td>\n",
       "      <td>2</td>\n",
       "      <td>110</td>\n",
       "      <td>An-Nasr</td>\n",
       "    </tr>\n",
       "  </tbody>\n",
       "</table>\n",
       "</div>"
      ],
      "text/plain": [
       "   slice_file_name  fold  classID    class\n",
       "0          3_1.wav     4      110  An-Nasr\n",
       "1          3_2.wav     4      110  An-Nasr\n",
       "2          3_3.wav     4      110  An-Nasr\n",
       "3          3_4.wav     4      110  An-Nasr\n",
       "4          2_1.wav     3      110  An-Nasr\n",
       "5          2_2.wav     3      110  An-Nasr\n",
       "6          2_3.wav     3      110  An-Nasr\n",
       "7          2_4.wav     3      110  An-Nasr\n",
       "8          1_1.wav     1      110  An-Nasr\n",
       "9          1_2.wav     1      110  An-Nasr\n",
       "10         1_3.wav     1      110  An-Nasr\n",
       "11         1_4.wav     1      110  An-Nasr\n",
       "12           1.wav     2      110  An-Nasr\n",
       "13           2.wav     2      110  An-Nasr\n",
       "14           3.wav     2      110  An-Nasr\n",
       "15           4.wav     2      110  An-Nasr"
      ]
     },
     "execution_count": 2,
     "metadata": {},
     "output_type": "execute_result"
    }
   ],
   "source": [
    "audio_dataset_path='C:/Users/aleem/Desktop/Currentlyworking_New_extracted audio wav after cleaning then augmentation/sliding_window_1_sec/data/An-Nasr/'\n",
    "metadata=pd.read_csv('C:/Users/aleem/Desktop/Currentlyworking_New_extracted audio wav after cleaning then augmentation/sliding_window_1_sec/data/An-Nasr/metadata_110.csv')\n",
    "metadata.head(20)"
   ]
  },
  {
   "cell_type": "markdown",
   "metadata": {},
   "source": [
    "Feature Extraction"
   ]
  },
  {
   "cell_type": "code",
   "execution_count": 3,
   "metadata": {},
   "outputs": [],
   "source": [
    "def mfcc_features_extractor_1sec(file):\n",
    "    # audio, sample_rate = librosa.load(file_name) \n",
    "    # mfccs_features = librosa.feature.mfcc(y=audio, sr=16000, n_mfcc=40)\n",
    "    # mfccs_scaled_features = np.mean(mfccs_features.T,axis=0)\n",
    "    \n",
    "    y, sr = librosa.load(file, sr=16000)\n",
    "    \n",
    "    y = y[:192000]  #12 Secs for all audios\n",
    "    zero_padding = np.zeros(192000 - y.shape[0], dtype=np.float32)\n",
    "    y = np.concatenate([y, zero_padding])   \n",
    "\n",
    "    # Define window size and hop length\n",
    "    win_length = int(sr * 1) # 1 second window\n",
    "    hop_length = int(win_length / 2) # 50% overlap\n",
    "\n",
    "    # Extract MFCC features for each window\n",
    "    mfccs = []\n",
    "    for i in range(0, len(y)-win_length, hop_length):\n",
    "        mfcc = librosa.feature.mfcc(y[i:i+win_length], sr=sr, n_mfcc=40)\n",
    "        mfccs.append(mfcc)\n",
    "\n",
    "    # Combine MFCC features for all windows\n",
    "    mfccs = np.concatenate(mfccs, axis=1)\n",
    "    mfccs = mfccs.T\n",
    "\n",
    "    # Return final MFCC features\n",
    "    return mfccs\n",
    "\n",
    "    \n",
    "    # return mfccs_scaled_features"
   ]
  },
  {
   "cell_type": "code",
   "execution_count": 4,
   "metadata": {},
   "outputs": [],
   "source": [
    "# mfcc_extracted_features=[]\n",
    "\n",
    "# for index_num,row in tqdm(metadata.iterrows()):\n",
    "#     file_name = os.path.join(os.path.abspath(audio_dataset_path),'fold'+str(row[\"fold\"])+'/',str(row[\"slice_file_name\"]))\n",
    "#     final_class_labels=row[\"class\"]\n",
    "    \n",
    "#     # MFCC Features Extraction\n",
    "#     mfcc_data= mfcc_features_extractor_1sec(file_name)\n",
    "#     mfcc_extracted_features.append([mfcc_data,final_class_labels])\n",
    "#     # print(mfcc_extracted_features)"
   ]
  },
  {
   "cell_type": "code",
   "execution_count": 5,
   "metadata": {},
   "outputs": [
    {
     "name": "stderr",
     "output_type": "stream",
     "text": [
      "0it [00:00, ?it/s]C:\\Users\\aleem\\AppData\\Roaming\\Python\\Python37\\site-packages\\ipykernel_launcher.py:19: FutureWarning: Pass y=[ 0.00179377  0.00487049  0.00431925 ... -0.15333343 -0.13051389\n",
      " -0.15450318] as keyword args. From version 0.10 passing these as positional arguments will result in an error\n",
      "C:\\Users\\aleem\\AppData\\Roaming\\Python\\Python37\\site-packages\\ipykernel_launcher.py:19: FutureWarning: Pass y=[-0.06791052  0.02416206  0.01926574 ...  0.1288552   0.16924351\n",
      "  0.20366314] as keyword args. From version 0.10 passing these as positional arguments will result in an error\n",
      "C:\\Users\\aleem\\AppData\\Roaming\\Python\\Python37\\site-packages\\ipykernel_launcher.py:19: FutureWarning: Pass y=[-0.10735187 -0.06064139 -0.08216329 ... -0.04587401 -0.05375952\n",
      " -0.00395003] as keyword args. From version 0.10 passing these as positional arguments will result in an error\n",
      "C:\\Users\\aleem\\AppData\\Roaming\\Python\\Python37\\site-packages\\ipykernel_launcher.py:19: FutureWarning: Pass y=[ 0.26102832  0.29242945  0.26738238 ... -0.24947448 -0.20775305\n",
      " -0.0769138 ] as keyword args. From version 0.10 passing these as positional arguments will result in an error\n",
      "C:\\Users\\aleem\\AppData\\Roaming\\Python\\Python37\\site-packages\\ipykernel_launcher.py:19: FutureWarning: Pass y=[ 0.04396408  0.06543887  0.07248004 ... -0.13680191 -0.16424513\n",
      " -0.20843159] as keyword args. From version 0.10 passing these as positional arguments will result in an error\n",
      "C:\\Users\\aleem\\AppData\\Roaming\\Python\\Python37\\site-packages\\ipykernel_launcher.py:19: FutureWarning: Pass y=[-0.08132401  0.01063344  0.05365055 ...  0.08211953  0.08854613\n",
      "  0.10371748] as keyword args. From version 0.10 passing these as positional arguments will result in an error\n",
      "C:\\Users\\aleem\\AppData\\Roaming\\Python\\Python37\\site-packages\\ipykernel_launcher.py:19: FutureWarning: Pass y=[-0.19361548 -0.18105789 -0.18798542 ...  0.0461993   0.03618012\n",
      "  0.01973471] as keyword args. From version 0.10 passing these as positional arguments will result in an error\n",
      "C:\\Users\\aleem\\AppData\\Roaming\\Python\\Python37\\site-packages\\ipykernel_launcher.py:19: FutureWarning: Pass y=[ 0.10646088  0.08783316  0.06608857 ...  0.04975659 -0.00318933\n",
      " -0.01575442] as keyword args. From version 0.10 passing these as positional arguments will result in an error\n",
      "C:\\Users\\aleem\\AppData\\Roaming\\Python\\Python37\\site-packages\\ipykernel_launcher.py:19: FutureWarning: Pass y=[ 0.02481882  0.04408577  0.06240865 ... -0.0074444   0.010863\n",
      "  0.00506581] as keyword args. From version 0.10 passing these as positional arguments will result in an error\n",
      "C:\\Users\\aleem\\AppData\\Roaming\\Python\\Python37\\site-packages\\ipykernel_launcher.py:19: FutureWarning: Pass y=[0.01741695 0.06078985 0.03574164 ... 0.         0.         0.        ] as keyword args. From version 0.10 passing these as positional arguments will result in an error\n",
      "C:\\Users\\aleem\\AppData\\Roaming\\Python\\Python37\\site-packages\\ipykernel_launcher.py:19: FutureWarning: Pass y=[-0.01498495 -0.0113671  -0.0022352  ...  0.          0.\n",
      "  0.        ] as keyword args. From version 0.10 passing these as positional arguments will result in an error\n",
      "C:\\Users\\aleem\\AppData\\Roaming\\Python\\Python37\\site-packages\\ipykernel_launcher.py:19: FutureWarning: Pass y=[0. 0. 0. ... 0. 0. 0.] as keyword args. From version 0.10 passing these as positional arguments will result in an error\n",
      "1it [00:01,  1.17s/it]C:\\Users\\aleem\\AppData\\Roaming\\Python\\Python37\\site-packages\\ipykernel_launcher.py:19: FutureWarning: Pass y=[-0.00180424 -0.00159582 -0.00598829 ...  0.07410564  0.0915665\n",
      "  0.02813718] as keyword args. From version 0.10 passing these as positional arguments will result in an error\n",
      "C:\\Users\\aleem\\AppData\\Roaming\\Python\\Python37\\site-packages\\ipykernel_launcher.py:19: FutureWarning: Pass y=[-0.02409439  0.01448992  0.04716924 ...  0.04343146  0.0428821\n",
      "  0.04750251] as keyword args. From version 0.10 passing these as positional arguments will result in an error\n",
      "C:\\Users\\aleem\\AppData\\Roaming\\Python\\Python37\\site-packages\\ipykernel_launcher.py:19: FutureWarning: Pass y=[-0.02387465  0.02779038  0.16413458 ...  0.04207354  0.0392346\n",
      "  0.04202162] as keyword args. From version 0.10 passing these as positional arguments will result in an error\n",
      "C:\\Users\\aleem\\AppData\\Roaming\\Python\\Python37\\site-packages\\ipykernel_launcher.py:19: FutureWarning: Pass y=[ 0.05578163  0.05640671  0.05035791 ... -0.1448442  -0.1474594\n",
      " -0.15279926] as keyword args. From version 0.10 passing these as positional arguments will result in an error\n",
      "C:\\Users\\aleem\\AppData\\Roaming\\Python\\Python37\\site-packages\\ipykernel_launcher.py:19: FutureWarning: Pass y=[0.04958769 0.04680086 0.0353779  ... 0.0858084  0.08073519 0.06374951] as keyword args. From version 0.10 passing these as positional arguments will result in an error\n",
      "C:\\Users\\aleem\\AppData\\Roaming\\Python\\Python37\\site-packages\\ipykernel_launcher.py:19: FutureWarning: Pass y=[-0.16015828 -0.20904674 -0.25204387 ...  0.02632584 -0.0039566\n",
      " -0.02803324] as keyword args. From version 0.10 passing these as positional arguments will result in an error\n",
      "C:\\Users\\aleem\\AppData\\Roaming\\Python\\Python37\\site-packages\\ipykernel_launcher.py:19: FutureWarning: Pass y=[0.0602755  0.0645192  0.0752677  ... 0.05233723 0.05830071 0.03803858] as keyword args. From version 0.10 passing these as positional arguments will result in an error\n",
      "C:\\Users\\aleem\\AppData\\Roaming\\Python\\Python37\\site-packages\\ipykernel_launcher.py:19: FutureWarning: Pass y=[-0.03489641 -0.04974546 -0.04886743 ... -0.09530407 -0.08682394\n",
      " -0.12296181] as keyword args. From version 0.10 passing these as positional arguments will result in an error\n",
      "C:\\Users\\aleem\\AppData\\Roaming\\Python\\Python37\\site-packages\\ipykernel_launcher.py:19: FutureWarning: Pass y=[ 0.04372713  0.0626184   0.03477056 ... -0.00633505 -0.01932434\n",
      " -0.0299694 ] as keyword args. From version 0.10 passing these as positional arguments will result in an error\n",
      "C:\\Users\\aleem\\AppData\\Roaming\\Python\\Python37\\site-packages\\ipykernel_launcher.py:19: FutureWarning: Pass y=[-0.16641083 -0.20192322 -0.12919244 ...  0.0843804   0.10158015\n",
      "  0.12536128] as keyword args. From version 0.10 passing these as positional arguments will result in an error\n",
      "C:\\Users\\aleem\\AppData\\Roaming\\Python\\Python37\\site-packages\\ipykernel_launcher.py:19: FutureWarning: Pass y=[-0.02357331 -0.03109214 -0.04778906 ...  0.03417062  0.02342472\n",
      "  0.00905323] as keyword args. From version 0.10 passing these as positional arguments will result in an error\n",
      "C:\\Users\\aleem\\AppData\\Roaming\\Python\\Python37\\site-packages\\ipykernel_launcher.py:19: FutureWarning: Pass y=[0.15876669 0.1118073  0.04183716 ... 0.02978224 0.05572393 0.07425578] as keyword args. From version 0.10 passing these as positional arguments will result in an error\n",
      "C:\\Users\\aleem\\AppData\\Roaming\\Python\\Python37\\site-packages\\ipykernel_launcher.py:19: FutureWarning: Pass y=[-0.0095926  -0.01415069 -0.01531726 ... -0.11766133  0.05585565\n",
      "  0.16820708] as keyword args. From version 0.10 passing these as positional arguments will result in an error\n",
      "C:\\Users\\aleem\\AppData\\Roaming\\Python\\Python37\\site-packages\\ipykernel_launcher.py:19: FutureWarning: Pass y=[0.09782843 0.11653559 0.12559086 ... 0.01351659 0.01848932 0.0133973 ] as keyword args. From version 0.10 passing these as positional arguments will result in an error\n",
      "C:\\Users\\aleem\\AppData\\Roaming\\Python\\Python37\\site-packages\\ipykernel_launcher.py:19: FutureWarning: Pass y=[0.29689202 0.2994568  0.19871531 ... 0.         0.         0.        ] as keyword args. From version 0.10 passing these as positional arguments will result in an error\n",
      "C:\\Users\\aleem\\AppData\\Roaming\\Python\\Python37\\site-packages\\ipykernel_launcher.py:19: FutureWarning: Pass y=[0.01649174 0.01714225 0.00968861 ... 0.         0.         0.        ] as keyword args. From version 0.10 passing these as positional arguments will result in an error\n",
      "2it [00:01,  1.42it/s]C:\\Users\\aleem\\AppData\\Roaming\\Python\\Python37\\site-packages\\ipykernel_launcher.py:19: FutureWarning: Pass y=[ 0.00463529  0.00191354 -0.00334336 ... -0.05390631 -0.03099391\n",
      "  0.01761111] as keyword args. From version 0.10 passing these as positional arguments will result in an error\n",
      "C:\\Users\\aleem\\AppData\\Roaming\\Python\\Python37\\site-packages\\ipykernel_launcher.py:19: FutureWarning: Pass y=[ 0.13696268  0.11041243  0.1187906  ... -0.01236643 -0.01763458\n",
      " -0.02260055] as keyword args. From version 0.10 passing these as positional arguments will result in an error\n",
      "C:\\Users\\aleem\\AppData\\Roaming\\Python\\Python37\\site-packages\\ipykernel_launcher.py:19: FutureWarning: Pass y=[ 0.06887238  0.01951467 -0.04293823 ... -0.18026388 -0.20778492\n",
      " -0.25042263] as keyword args. From version 0.10 passing these as positional arguments will result in an error\n",
      "C:\\Users\\aleem\\AppData\\Roaming\\Python\\Python37\\site-packages\\ipykernel_launcher.py:19: FutureWarning: Pass y=[-0.03243914 -0.05158199 -0.08541571 ...  0.01640622 -0.03608202\n",
      " -0.05033325] as keyword args. From version 0.10 passing these as positional arguments will result in an error\n",
      "C:\\Users\\aleem\\AppData\\Roaming\\Python\\Python37\\site-packages\\ipykernel_launcher.py:19: FutureWarning: Pass y=[-0.2971163  -0.33242372 -0.32860968 ...  0.01872766  0.00183415\n",
      " -0.00276863] as keyword args. From version 0.10 passing these as positional arguments will result in an error\n",
      "C:\\Users\\aleem\\AppData\\Roaming\\Python\\Python37\\site-packages\\ipykernel_launcher.py:19: FutureWarning: Pass y=[-0.0135227   0.01899699  0.03109279 ... -0.00513936  0.00271744\n",
      "  0.02237026] as keyword args. From version 0.10 passing these as positional arguments will result in an error\n",
      "C:\\Users\\aleem\\AppData\\Roaming\\Python\\Python37\\site-packages\\ipykernel_launcher.py:19: FutureWarning: Pass y=[0.00954412 0.00553303 0.003949   ... 0.         0.         0.        ] as keyword args. From version 0.10 passing these as positional arguments will result in an error\n",
      "C:\\Users\\aleem\\AppData\\Roaming\\Python\\Python37\\site-packages\\ipykernel_launcher.py:19: FutureWarning: Pass y=[ 0.03508683  0.01912482 -0.03564287 ...  0.          0.\n",
      "  0.        ] as keyword args. From version 0.10 passing these as positional arguments will result in an error\n",
      "3it [00:01,  2.02it/s]C:\\Users\\aleem\\AppData\\Roaming\\Python\\Python37\\site-packages\\ipykernel_launcher.py:19: FutureWarning: Pass y=[-0.06389266 -0.12606725 -0.13001181 ... -0.13233285 -0.16628528\n",
      " -0.19152416] as keyword args. From version 0.10 passing these as positional arguments will result in an error\n",
      "C:\\Users\\aleem\\AppData\\Roaming\\Python\\Python37\\site-packages\\ipykernel_launcher.py:19: FutureWarning: Pass y=[-0.1598281  -0.1956608  -0.1825806  ... -0.05239419 -0.05668265\n",
      " -0.05378474] as keyword args. From version 0.10 passing these as positional arguments will result in an error\n",
      "C:\\Users\\aleem\\AppData\\Roaming\\Python\\Python37\\site-packages\\ipykernel_launcher.py:19: FutureWarning: Pass y=[-0.19899411 -0.19976656 -0.18409026 ... -0.02664725 -0.03595466\n",
      " -0.00463885] as keyword args. From version 0.10 passing these as positional arguments will result in an error\n",
      "C:\\Users\\aleem\\AppData\\Roaming\\Python\\Python37\\site-packages\\ipykernel_launcher.py:19: FutureWarning: Pass y=[-0.04645889 -0.03769298 -0.02280979 ...  0.08553062  0.07668506\n",
      "  0.06700975] as keyword args. From version 0.10 passing these as positional arguments will result in an error\n",
      "C:\\Users\\aleem\\AppData\\Roaming\\Python\\Python37\\site-packages\\ipykernel_launcher.py:19: FutureWarning: Pass y=[ 0.03664433  0.04851821  0.05444769 ... -0.06040254 -0.031628\n",
      "  0.02352814] as keyword args. From version 0.10 passing these as positional arguments will result in an error\n",
      "C:\\Users\\aleem\\AppData\\Roaming\\Python\\Python37\\site-packages\\ipykernel_launcher.py:19: FutureWarning: Pass y=[ 0.06408624  0.05423961  0.04864387 ... -0.15970363 -0.08058131\n",
      "  0.0139387 ] as keyword args. From version 0.10 passing these as positional arguments will result in an error\n",
      "C:\\Users\\aleem\\AppData\\Roaming\\Python\\Python37\\site-packages\\ipykernel_launcher.py:19: FutureWarning: Pass y=[ 0.07048021  0.06301298  0.08350829 ... -0.00658057 -0.01213098\n",
      " -0.00812793] as keyword args. From version 0.10 passing these as positional arguments will result in an error\n",
      "C:\\Users\\aleem\\AppData\\Roaming\\Python\\Python37\\site-packages\\ipykernel_launcher.py:19: FutureWarning: Pass y=[0.12146922 0.20283389 0.22930118 ... 0.0031773  0.00320753 0.00132581] as keyword args. From version 0.10 passing these as positional arguments will result in an error\n",
      "C:\\Users\\aleem\\AppData\\Roaming\\Python\\Python37\\site-packages\\ipykernel_launcher.py:19: FutureWarning: Pass y=[-0.00873966 -0.00649691  0.0015732  ...  0.          0.\n",
      "  0.        ] as keyword args. From version 0.10 passing these as positional arguments will result in an error\n",
      "C:\\Users\\aleem\\AppData\\Roaming\\Python\\Python37\\site-packages\\ipykernel_launcher.py:19: FutureWarning: Pass y=[-0.00130175 -0.0024983  -0.00338405 ...  0.          0.\n",
      "  0.        ] as keyword args. From version 0.10 passing these as positional arguments will result in an error\n",
      "4it [00:02,  2.45it/s]C:\\Users\\aleem\\AppData\\Roaming\\Python\\Python37\\site-packages\\ipykernel_launcher.py:19: FutureWarning: Pass y=[-0.00114205 -0.00236134 -0.0022104  ...  0.06259967 -0.00745036\n",
      " -0.05978706] as keyword args. From version 0.10 passing these as positional arguments will result in an error\n",
      "C:\\Users\\aleem\\AppData\\Roaming\\Python\\Python37\\site-packages\\ipykernel_launcher.py:19: FutureWarning: Pass y=[ 0.00159825 -0.13773803 -0.14336994 ...  0.51227945  0.4595324\n",
      "  0.3441946 ] as keyword args. From version 0.10 passing these as positional arguments will result in an error\n",
      "C:\\Users\\aleem\\AppData\\Roaming\\Python\\Python37\\site-packages\\ipykernel_launcher.py:19: FutureWarning: Pass y=[-0.07401244 -0.06897924 -0.06572184 ... -0.13730477 -0.1541443\n",
      " -0.17216738] as keyword args. From version 0.10 passing these as positional arguments will result in an error\n",
      "C:\\Users\\aleem\\AppData\\Roaming\\Python\\Python37\\site-packages\\ipykernel_launcher.py:19: FutureWarning: Pass y=[ 0.15227853 -0.04904873 -0.10335834 ...  0.12758392  0.23668808\n",
      "  0.15414141] as keyword args. From version 0.10 passing these as positional arguments will result in an error\n",
      "C:\\Users\\aleem\\AppData\\Roaming\\Python\\Python37\\site-packages\\ipykernel_launcher.py:19: FutureWarning: Pass y=[-0.10623287 -0.03556456  0.02818942 ...  0.44447777  0.4480148\n",
      "  0.370553  ] as keyword args. From version 0.10 passing these as positional arguments will result in an error\n",
      "C:\\Users\\aleem\\AppData\\Roaming\\Python\\Python37\\site-packages\\ipykernel_launcher.py:19: FutureWarning: Pass y=[ 0.26685852  0.217278    0.07977122 ... -0.29838136 -0.2712157\n",
      " -0.25780857] as keyword args. From version 0.10 passing these as positional arguments will result in an error\n",
      "C:\\Users\\aleem\\AppData\\Roaming\\Python\\Python37\\site-packages\\ipykernel_launcher.py:19: FutureWarning: Pass y=[ 0.1205638  -0.09364318 -0.22763194 ...  0.03369581  0.02014186\n",
      "  0.10994411] as keyword args. From version 0.10 passing these as positional arguments will result in an error\n",
      "C:\\Users\\aleem\\AppData\\Roaming\\Python\\Python37\\site-packages\\ipykernel_launcher.py:19: FutureWarning: Pass y=[-0.23635113 -0.17687687 -0.13852212 ... -0.40375203 -0.38437003\n",
      " -0.4550268 ] as keyword args. From version 0.10 passing these as positional arguments will result in an error\n",
      "C:\\Users\\aleem\\AppData\\Roaming\\Python\\Python37\\site-packages\\ipykernel_launcher.py:19: FutureWarning: Pass y=[ 0.12868011  0.18015957  0.20518026 ...  0.02872078 -0.01403815\n",
      " -0.05238166] as keyword args. From version 0.10 passing these as positional arguments will result in an error\n",
      "C:\\Users\\aleem\\AppData\\Roaming\\Python\\Python37\\site-packages\\ipykernel_launcher.py:19: FutureWarning: Pass y=[-0.42771834 -0.39102682 -0.31566137 ...  0.07737988 -0.08069368\n",
      " -0.06334212] as keyword args. From version 0.10 passing these as positional arguments will result in an error\n",
      "C:\\Users\\aleem\\AppData\\Roaming\\Python\\Python37\\site-packages\\ipykernel_launcher.py:19: FutureWarning: Pass y=[-0.10256007 -0.15615296 -0.13612953 ... -0.0018273   0.00566876\n",
      "  0.00884436] as keyword args. From version 0.10 passing these as positional arguments will result in an error\n",
      "C:\\Users\\aleem\\AppData\\Roaming\\Python\\Python37\\site-packages\\ipykernel_launcher.py:19: FutureWarning: Pass y=[-0.11396394 -0.12722147 -0.09581835 ...  0.          0.\n",
      "  0.        ] as keyword args. From version 0.10 passing these as positional arguments will result in an error\n",
      "C:\\Users\\aleem\\AppData\\Roaming\\Python\\Python37\\site-packages\\ipykernel_launcher.py:19: FutureWarning: Pass y=[ 0.00640244 -0.00292475 -0.01226347 ...  0.          0.\n",
      "  0.        ] as keyword args. From version 0.10 passing these as positional arguments will result in an error\n",
      "5it [00:02,  2.60it/s]C:\\Users\\aleem\\AppData\\Roaming\\Python\\Python37\\site-packages\\ipykernel_launcher.py:19: FutureWarning: Pass y=[-0.00112564 -0.00074402  0.00151171 ...  0.1478921   0.34222093\n",
      "  0.38931635] as keyword args. From version 0.10 passing these as positional arguments will result in an error\n",
      "C:\\Users\\aleem\\AppData\\Roaming\\Python\\Python37\\site-packages\\ipykernel_launcher.py:19: FutureWarning: Pass y=[-0.06910737 -0.06873856 -0.07214202 ...  0.27390993  0.22644006\n",
      "  0.19961217] as keyword args. From version 0.10 passing these as positional arguments will result in an error\n",
      "C:\\Users\\aleem\\AppData\\Roaming\\Python\\Python37\\site-packages\\ipykernel_launcher.py:19: FutureWarning: Pass y=[ 0.21136482 -0.01086552 -0.1608339  ...  0.17315152  0.13335562\n",
      "  0.12848446] as keyword args. From version 0.10 passing these as positional arguments will result in an error\n",
      "C:\\Users\\aleem\\AppData\\Roaming\\Python\\Python37\\site-packages\\ipykernel_launcher.py:19: FutureWarning: Pass y=[ 0.15180025  0.20028336  0.24558736 ... -0.29456198 -0.27083927\n",
      " -0.16217068] as keyword args. From version 0.10 passing these as positional arguments will result in an error\n",
      "C:\\Users\\aleem\\AppData\\Roaming\\Python\\Python37\\site-packages\\ipykernel_launcher.py:19: FutureWarning: Pass y=[0.10165708 0.10997695 0.1618314  ... 0.09456826 0.02355668 0.00865257] as keyword args. From version 0.10 passing these as positional arguments will result in an error\n",
      "C:\\Users\\aleem\\AppData\\Roaming\\Python\\Python37\\site-packages\\ipykernel_launcher.py:19: FutureWarning: Pass y=[-0.07791379 -0.03793224 -0.05953864 ... -0.02616895 -0.01309505\n",
      " -0.03276926] as keyword args. From version 0.10 passing these as positional arguments will result in an error\n",
      "C:\\Users\\aleem\\AppData\\Roaming\\Python\\Python37\\site-packages\\ipykernel_launcher.py:19: FutureWarning: Pass y=[-0.06009506 -0.02851675  0.03258448 ...  0.00226464  0.02437431\n",
      "  0.04329293] as keyword args. From version 0.10 passing these as positional arguments will result in an error\n",
      "C:\\Users\\aleem\\AppData\\Roaming\\Python\\Python37\\site-packages\\ipykernel_launcher.py:19: FutureWarning: Pass y=[-0.02973182 -0.01118777 -0.03369932 ...  0.04226474  0.05171973\n",
      "  0.01888376] as keyword args. From version 0.10 passing these as positional arguments will result in an error\n",
      "C:\\Users\\aleem\\AppData\\Roaming\\Python\\Python37\\site-packages\\ipykernel_launcher.py:19: FutureWarning: Pass y=[ 4.48831320e-02  4.99014445e-02  5.77230416e-02 ...  1.81850500e-03\n",
      " -1.47263855e-02 -6.25082757e-05] as keyword args. From version 0.10 passing these as positional arguments will result in an error\n",
      "C:\\Users\\aleem\\AppData\\Roaming\\Python\\Python37\\site-packages\\ipykernel_launcher.py:19: FutureWarning: Pass y=[-0.04158223 -0.01138884  0.02733346 ... -0.12889825 -0.2736031\n",
      " -0.24979262] as keyword args. From version 0.10 passing these as positional arguments will result in an error\n",
      "C:\\Users\\aleem\\AppData\\Roaming\\Python\\Python37\\site-packages\\ipykernel_launcher.py:19: FutureWarning: Pass y=[-0.01482021  0.0486066   0.10676899 ...  0.01066511  0.00257145\n",
      " -0.07341111] as keyword args. From version 0.10 passing these as positional arguments will result in an error\n",
      "C:\\Users\\aleem\\AppData\\Roaming\\Python\\Python37\\site-packages\\ipykernel_launcher.py:19: FutureWarning: Pass y=[-0.31252787 -0.19134343  0.22952513 ... -0.08705433 -0.08930501\n",
      " -0.05170733] as keyword args. From version 0.10 passing these as positional arguments will result in an error\n",
      "C:\\Users\\aleem\\AppData\\Roaming\\Python\\Python37\\site-packages\\ipykernel_launcher.py:19: FutureWarning: Pass y=[-0.05385288 -0.0433116  -0.03896191 ...  0.00664323 -0.09485484\n",
      " -0.06059809] as keyword args. From version 0.10 passing these as positional arguments will result in an error\n",
      "C:\\Users\\aleem\\AppData\\Roaming\\Python\\Python37\\site-packages\\ipykernel_launcher.py:19: FutureWarning: Pass y=[-0.01690215  0.00182621  0.01334432 ...  0.01575462  0.01913946\n",
      "  0.0270579 ] as keyword args. From version 0.10 passing these as positional arguments will result in an error\n",
      "C:\\Users\\aleem\\AppData\\Roaming\\Python\\Python37\\site-packages\\ipykernel_launcher.py:19: FutureWarning: Pass y=[-0.07781956 -0.0855196  -0.03770217 ... -0.00736268 -0.00497997\n",
      " -0.00063377] as keyword args. From version 0.10 passing these as positional arguments will result in an error\n",
      "C:\\Users\\aleem\\AppData\\Roaming\\Python\\Python37\\site-packages\\ipykernel_launcher.py:19: FutureWarning: Pass y=[ 0.02199116  0.00071666 -0.01527584 ...  0.          0.\n",
      "  0.        ] as keyword args. From version 0.10 passing these as positional arguments will result in an error\n",
      "C:\\Users\\aleem\\AppData\\Roaming\\Python\\Python37\\site-packages\\ipykernel_launcher.py:19: FutureWarning: Pass y=[0.00237395 0.00442506 0.00440194 ... 0.         0.         0.        ] as keyword args. From version 0.10 passing these as positional arguments will result in an error\n",
      "6it [00:02,  2.57it/s]C:\\Users\\aleem\\AppData\\Roaming\\Python\\Python37\\site-packages\\ipykernel_launcher.py:19: FutureWarning: Pass y=[ 0.00074511 -0.00023108 -0.00205645 ... -0.10523934 -0.00728663\n",
      " -0.03129632] as keyword args. From version 0.10 passing these as positional arguments will result in an error\n",
      "C:\\Users\\aleem\\AppData\\Roaming\\Python\\Python37\\site-packages\\ipykernel_launcher.py:19: FutureWarning: Pass y=[ 0.07961517  0.20157105  0.24860999 ... -0.13492633 -0.16815807\n",
      " -0.19435984] as keyword args. From version 0.10 passing these as positional arguments will result in an error\n",
      "C:\\Users\\aleem\\AppData\\Roaming\\Python\\Python37\\site-packages\\ipykernel_launcher.py:19: FutureWarning: Pass y=[ 0.01114602  0.00431199 -0.03995579 ...  0.03290598 -0.03755117\n",
      " -0.04495982] as keyword args. From version 0.10 passing these as positional arguments will result in an error\n",
      "C:\\Users\\aleem\\AppData\\Roaming\\Python\\Python37\\site-packages\\ipykernel_launcher.py:19: FutureWarning: Pass y=[-0.21977125 -0.21947233 -0.22847492 ...  0.12086997  0.13667732\n",
      "  0.12720567] as keyword args. From version 0.10 passing these as positional arguments will result in an error\n",
      "C:\\Users\\aleem\\AppData\\Roaming\\Python\\Python37\\site-packages\\ipykernel_launcher.py:19: FutureWarning: Pass y=[-0.07164487 -0.07360898 -0.06669568 ...  0.01077986  0.00735845\n",
      "  0.02936169] as keyword args. From version 0.10 passing these as positional arguments will result in an error\n",
      "C:\\Users\\aleem\\AppData\\Roaming\\Python\\Python37\\site-packages\\ipykernel_launcher.py:19: FutureWarning: Pass y=[ 0.05174332 -0.06136702 -0.1419204  ... -0.17562445 -0.24888638\n",
      " -0.01489722] as keyword args. From version 0.10 passing these as positional arguments will result in an error\n",
      "C:\\Users\\aleem\\AppData\\Roaming\\Python\\Python37\\site-packages\\ipykernel_launcher.py:19: FutureWarning: Pass y=[0.01455136 0.02720465 0.04775054 ... 0.00165074 0.00783045 0.01260003] as keyword args. From version 0.10 passing these as positional arguments will result in an error\n",
      "C:\\Users\\aleem\\AppData\\Roaming\\Python\\Python37\\site-packages\\ipykernel_launcher.py:19: FutureWarning: Pass y=[-1.5266937e-02 -1.1588952e-01 -4.1124906e-02 ... -5.1435956e-05\n",
      "  6.8063248e-04  1.3573880e-03] as keyword args. From version 0.10 passing these as positional arguments will result in an error\n",
      "C:\\Users\\aleem\\AppData\\Roaming\\Python\\Python37\\site-packages\\ipykernel_launcher.py:19: FutureWarning: Pass y=[0.01809683 0.01700262 0.01024343 ... 0.         0.         0.        ] as keyword args. From version 0.10 passing these as positional arguments will result in an error\n",
      "C:\\Users\\aleem\\AppData\\Roaming\\Python\\Python37\\site-packages\\ipykernel_launcher.py:19: FutureWarning: Pass y=[0.00098824 0.00112621 0.00041057 ... 0.         0.         0.        ] as keyword args. From version 0.10 passing these as positional arguments will result in an error\n",
      "7it [00:03,  2.80it/s]C:\\Users\\aleem\\AppData\\Roaming\\Python\\Python37\\site-packages\\ipykernel_launcher.py:19: FutureWarning: Pass y=[-0.00070079 -0.00148612 -0.00192171 ... -0.15159975 -0.15355769\n",
      " -0.15357405] as keyword args. From version 0.10 passing these as positional arguments will result in an error\n",
      "C:\\Users\\aleem\\AppData\\Roaming\\Python\\Python37\\site-packages\\ipykernel_launcher.py:19: FutureWarning: Pass y=[-0.03320136  0.01178804  0.0761631  ...  0.02813986  0.01590328\n",
      "  0.00968627] as keyword args. From version 0.10 passing these as positional arguments will result in an error\n",
      "C:\\Users\\aleem\\AppData\\Roaming\\Python\\Python37\\site-packages\\ipykernel_launcher.py:19: FutureWarning: Pass y=[-0.15708682 -0.11919709 -0.09665089 ...  0.1334412   0.13401848\n",
      "  0.27547494] as keyword args. From version 0.10 passing these as positional arguments will result in an error\n",
      "C:\\Users\\aleem\\AppData\\Roaming\\Python\\Python37\\site-packages\\ipykernel_launcher.py:19: FutureWarning: Pass y=[-0.04104013 -0.05269162 -0.04289409 ... -0.06765973 -0.0310954\n",
      "  0.01089993] as keyword args. From version 0.10 passing these as positional arguments will result in an error\n",
      "C:\\Users\\aleem\\AppData\\Roaming\\Python\\Python37\\site-packages\\ipykernel_launcher.py:19: FutureWarning: Pass y=[ 0.25605312 -0.08513682 -0.12598614 ...  0.27992553  0.15101299\n",
      "  0.36030617] as keyword args. From version 0.10 passing these as positional arguments will result in an error\n",
      "C:\\Users\\aleem\\AppData\\Roaming\\Python\\Python37\\site-packages\\ipykernel_launcher.py:19: FutureWarning: Pass y=[ 0.00482853  0.01166693  0.07291786 ... -0.13218333 -0.07792945\n",
      " -0.05669857] as keyword args. From version 0.10 passing these as positional arguments will result in an error\n",
      "C:\\Users\\aleem\\AppData\\Roaming\\Python\\Python37\\site-packages\\ipykernel_launcher.py:19: FutureWarning: Pass y=[ 0.42191672  0.21983932  0.30559072 ...  0.02366502  0.00501704\n",
      " -0.01550097] as keyword args. From version 0.10 passing these as positional arguments will result in an error\n",
      "C:\\Users\\aleem\\AppData\\Roaming\\Python\\Python37\\site-packages\\ipykernel_launcher.py:19: FutureWarning: Pass y=[0.24885412 0.37072217 0.23730011 ... 0.01184017 0.01111143 0.0108903 ] as keyword args. From version 0.10 passing these as positional arguments will result in an error\n",
      "C:\\Users\\aleem\\AppData\\Roaming\\Python\\Python37\\site-packages\\ipykernel_launcher.py:19: FutureWarning: Pass y=[-0.00850227 -0.01433373 -0.04747737 ...  0.          0.\n",
      "  0.        ] as keyword args. From version 0.10 passing these as positional arguments will result in an error\n",
      "C:\\Users\\aleem\\AppData\\Roaming\\Python\\Python37\\site-packages\\ipykernel_launcher.py:19: FutureWarning: Pass y=[0.01437235 0.01527762 0.01330466 ... 0.         0.         0.        ] as keyword args. From version 0.10 passing these as positional arguments will result in an error\n",
      "8it [00:03,  2.97it/s]C:\\Users\\aleem\\AppData\\Roaming\\Python\\Python37\\site-packages\\ipykernel_launcher.py:19: FutureWarning: Pass y=[0.00571969 0.00915547 0.00733583 ... 0.25105873 0.2109086  0.17416315] as keyword args. From version 0.10 passing these as positional arguments will result in an error\n",
      "C:\\Users\\aleem\\AppData\\Roaming\\Python\\Python37\\site-packages\\ipykernel_launcher.py:19: FutureWarning: Pass y=[-0.05037071 -0.01874766 -0.05294176 ... -0.41162902 -0.24839702\n",
      " -0.0492799 ] as keyword args. From version 0.10 passing these as positional arguments will result in an error\n",
      "C:\\Users\\aleem\\AppData\\Roaming\\Python\\Python37\\site-packages\\ipykernel_launcher.py:19: FutureWarning: Pass y=[0.21390145 0.27235717 0.2520576  ... 0.16722879 0.19582571 0.19506477] as keyword args. From version 0.10 passing these as positional arguments will result in an error\n",
      "C:\\Users\\aleem\\AppData\\Roaming\\Python\\Python37\\site-packages\\ipykernel_launcher.py:19: FutureWarning: Pass y=[ 0.1507022   0.21043646  0.27098444 ... -0.02430713 -0.22275768\n",
      " -0.30160522] as keyword args. From version 0.10 passing these as positional arguments will result in an error\n",
      "C:\\Users\\aleem\\AppData\\Roaming\\Python\\Python37\\site-packages\\ipykernel_launcher.py:19: FutureWarning: Pass y=[ 0.27493408  0.27729484  0.12182794 ... -0.03170055  0.02398423\n",
      "  0.06610177] as keyword args. From version 0.10 passing these as positional arguments will result in an error\n",
      "C:\\Users\\aleem\\AppData\\Roaming\\Python\\Python37\\site-packages\\ipykernel_launcher.py:19: FutureWarning: Pass y=[-0.21878095 -0.04684287  0.12414771 ... -0.15618843 -0.02776644\n",
      "  0.01962851] as keyword args. From version 0.10 passing these as positional arguments will result in an error\n",
      "C:\\Users\\aleem\\AppData\\Roaming\\Python\\Python37\\site-packages\\ipykernel_launcher.py:19: FutureWarning: Pass y=[ 0.10015902  0.09753788  0.01436249 ... -0.34022647 -0.36085647\n",
      " -0.35683963] as keyword args. From version 0.10 passing these as positional arguments will result in an error\n",
      "C:\\Users\\aleem\\AppData\\Roaming\\Python\\Python37\\site-packages\\ipykernel_launcher.py:19: FutureWarning: Pass y=[ 0.0812953   0.24480185  0.3828004  ... -0.05905659 -0.017868\n",
      " -0.00639023] as keyword args. From version 0.10 passing these as positional arguments will result in an error\n",
      "C:\\Users\\aleem\\AppData\\Roaming\\Python\\Python37\\site-packages\\ipykernel_launcher.py:19: FutureWarning: Pass y=[-0.383908   -0.3616259  -0.28225553 ... -0.04721378 -0.02715057\n",
      "  0.01754916] as keyword args. From version 0.10 passing these as positional arguments will result in an error\n",
      "C:\\Users\\aleem\\AppData\\Roaming\\Python\\Python37\\site-packages\\ipykernel_launcher.py:19: FutureWarning: Pass y=[ 0.01619848  0.06058202  0.08337113 ... -0.022287   -0.0180623\n",
      " -0.03774518] as keyword args. From version 0.10 passing these as positional arguments will result in an error\n",
      "C:\\Users\\aleem\\AppData\\Roaming\\Python\\Python37\\site-packages\\ipykernel_launcher.py:19: FutureWarning: Pass y=[ 0.01805574  0.01665968  0.05315528 ... -0.01328174 -0.02141312\n",
      " -0.02974851] as keyword args. From version 0.10 passing these as positional arguments will result in an error\n",
      "C:\\Users\\aleem\\AppData\\Roaming\\Python\\Python37\\site-packages\\ipykernel_launcher.py:19: FutureWarning: Pass y=[-0.05590125 -0.06026753 -0.05256243 ... -0.02612196 -0.02587919\n",
      " -0.00832906] as keyword args. From version 0.10 passing these as positional arguments will result in an error\n",
      "C:\\Users\\aleem\\AppData\\Roaming\\Python\\Python37\\site-packages\\ipykernel_launcher.py:19: FutureWarning: Pass y=[-0.02992738 -0.0234527  -0.02331297 ...  0.00335035  0.00474344\n",
      "  0.00348348] as keyword args. From version 0.10 passing these as positional arguments will result in an error\n",
      "C:\\Users\\aleem\\AppData\\Roaming\\Python\\Python37\\site-packages\\ipykernel_launcher.py:19: FutureWarning: Pass y=[ 0.00139742 -0.00025432  0.00073809 ...  0.          0.\n",
      "  0.        ] as keyword args. From version 0.10 passing these as positional arguments will result in an error\n",
      "C:\\Users\\aleem\\AppData\\Roaming\\Python\\Python37\\site-packages\\ipykernel_launcher.py:19: FutureWarning: Pass y=[-0.00203934 -0.00860107 -0.01152739 ...  0.          0.\n",
      "  0.        ] as keyword args. From version 0.10 passing these as positional arguments will result in an error\n",
      "9it [00:03,  2.83it/s]C:\\Users\\aleem\\AppData\\Roaming\\Python\\Python37\\site-packages\\ipykernel_launcher.py:19: FutureWarning: Pass y=[ 0.0033965   0.00556685  0.00567797 ...  0.02215809 -0.03458237\n",
      " -0.03423446] as keyword args. From version 0.10 passing these as positional arguments will result in an error\n",
      "C:\\Users\\aleem\\AppData\\Roaming\\Python\\Python37\\site-packages\\ipykernel_launcher.py:19: FutureWarning: Pass y=[-0.00627947  0.03483854  0.07943244 ...  0.07028098  0.03714719\n",
      "  0.01888748] as keyword args. From version 0.10 passing these as positional arguments will result in an error\n",
      "C:\\Users\\aleem\\AppData\\Roaming\\Python\\Python37\\site-packages\\ipykernel_launcher.py:19: FutureWarning: Pass y=[ 0.00699985  0.01936573 -0.02126702 ...  0.1072018   0.10428818\n",
      "  0.11296667] as keyword args. From version 0.10 passing these as positional arguments will result in an error\n",
      "C:\\Users\\aleem\\AppData\\Roaming\\Python\\Python37\\site-packages\\ipykernel_launcher.py:19: FutureWarning: Pass y=[0.02677232 0.02958348 0.01865333 ... 0.04207052 0.11968449 0.15576826] as keyword args. From version 0.10 passing these as positional arguments will result in an error\n",
      "C:\\Users\\aleem\\AppData\\Roaming\\Python\\Python37\\site-packages\\ipykernel_launcher.py:19: FutureWarning: Pass y=[ 0.123602    0.13698696  0.1283288  ... -0.2619678  -0.34742743\n",
      " -0.40636307] as keyword args. From version 0.10 passing these as positional arguments will result in an error\n",
      "C:\\Users\\aleem\\AppData\\Roaming\\Python\\Python37\\site-packages\\ipykernel_launcher.py:19: FutureWarning: Pass y=[0.14255556 0.12162899 0.09703936 ... 0.02664755 0.04442982 0.04177523] as keyword args. From version 0.10 passing these as positional arguments will result in an error\n",
      "C:\\Users\\aleem\\AppData\\Roaming\\Python\\Python37\\site-packages\\ipykernel_launcher.py:19: FutureWarning: Pass y=[-0.41864976 -0.36216003 -0.2574827  ... -0.05497064  0.00293147\n",
      "  0.06325379] as keyword args. From version 0.10 passing these as positional arguments will result in an error\n",
      "C:\\Users\\aleem\\AppData\\Roaming\\Python\\Python37\\site-packages\\ipykernel_launcher.py:19: FutureWarning: Pass y=[0.02668849 0.01670598 0.00764091 ... 0.02882988 0.01831802 0.02244126] as keyword args. From version 0.10 passing these as positional arguments will result in an error\n",
      "C:\\Users\\aleem\\AppData\\Roaming\\Python\\Python37\\site-packages\\ipykernel_launcher.py:19: FutureWarning: Pass y=[0.11227358 0.15171346 0.18505043 ... 0.09197507 0.09986732 0.11807574] as keyword args. From version 0.10 passing these as positional arguments will result in an error\n",
      "C:\\Users\\aleem\\AppData\\Roaming\\Python\\Python37\\site-packages\\ipykernel_launcher.py:19: FutureWarning: Pass y=[ 0.02959082  0.04230332  0.0564536  ... -0.10659968 -0.07366967\n",
      " -0.03208281] as keyword args. From version 0.10 passing these as positional arguments will result in an error\n",
      "C:\\Users\\aleem\\AppData\\Roaming\\Python\\Python37\\site-packages\\ipykernel_launcher.py:19: FutureWarning: Pass y=[ 0.0922084   0.05718863  0.05002892 ... -0.03654878  0.00141745\n",
      " -0.0175472 ] as keyword args. From version 0.10 passing these as positional arguments will result in an error\n",
      "C:\\Users\\aleem\\AppData\\Roaming\\Python\\Python37\\site-packages\\ipykernel_launcher.py:19: FutureWarning: Pass y=[-0.0546808  -0.05210833  0.04486955 ... -0.02770281 -0.05451634\n",
      " -0.07537619] as keyword args. From version 0.10 passing these as positional arguments will result in an error\n",
      "C:\\Users\\aleem\\AppData\\Roaming\\Python\\Python37\\site-packages\\ipykernel_launcher.py:19: FutureWarning: Pass y=[-0.04673048 -0.06848312 -0.10201023 ...  0.18370391  0.15119873\n",
      "  0.1265534 ] as keyword args. From version 0.10 passing these as positional arguments will result in an error\n",
      "C:\\Users\\aleem\\AppData\\Roaming\\Python\\Python37\\site-packages\\ipykernel_launcher.py:19: FutureWarning: Pass y=[-0.07994971 -0.07856252 -0.0759447  ...  0.00539116  0.02781278\n",
      "  0.04494556] as keyword args. From version 0.10 passing these as positional arguments will result in an error\n",
      "C:\\Users\\aleem\\AppData\\Roaming\\Python\\Python37\\site-packages\\ipykernel_launcher.py:19: FutureWarning: Pass y=[ 0.10665131  0.06201619  0.01578641 ... -0.07594087 -0.05186732\n",
      "  0.01267802] as keyword args. From version 0.10 passing these as positional arguments will result in an error\n",
      "C:\\Users\\aleem\\AppData\\Roaming\\Python\\Python37\\site-packages\\ipykernel_launcher.py:19: FutureWarning: Pass y=[ 0.06229531  0.08224324  0.0841668  ... -0.01666358 -0.01378949\n",
      " -0.01373895] as keyword args. From version 0.10 passing these as positional arguments will result in an error\n",
      "C:\\Users\\aleem\\AppData\\Roaming\\Python\\Python37\\site-packages\\ipykernel_launcher.py:19: FutureWarning: Pass y=[0.06220879 0.11988832 0.18145643 ... 0.         0.         0.        ] as keyword args. From version 0.10 passing these as positional arguments will result in an error\n",
      "C:\\Users\\aleem\\AppData\\Roaming\\Python\\Python37\\site-packages\\ipykernel_launcher.py:19: FutureWarning: Pass y=[-0.01292129 -0.01356256 -0.0115728  ...  0.          0.\n",
      "  0.        ] as keyword args. From version 0.10 passing these as positional arguments will result in an error\n",
      "10it [00:04,  2.65it/s]C:\\Users\\aleem\\AppData\\Roaming\\Python\\Python37\\site-packages\\ipykernel_launcher.py:19: FutureWarning: Pass y=[0.01565439 0.02284539 0.01367186 ... 0.12176124 0.11427383 0.06756066] as keyword args. From version 0.10 passing these as positional arguments will result in an error\n",
      "C:\\Users\\aleem\\AppData\\Roaming\\Python\\Python37\\site-packages\\ipykernel_launcher.py:19: FutureWarning: Pass y=[-0.24447747 -0.2570948  -0.26287752 ...  0.00080044  0.02879446\n",
      "  0.03968757] as keyword args. From version 0.10 passing these as positional arguments will result in an error\n",
      "C:\\Users\\aleem\\AppData\\Roaming\\Python\\Python37\\site-packages\\ipykernel_launcher.py:19: FutureWarning: Pass y=[ 0.02019377 -0.01910114 -0.03164737 ...  0.17115222  0.15928419\n",
      "  0.14766823] as keyword args. From version 0.10 passing these as positional arguments will result in an error\n",
      "C:\\Users\\aleem\\AppData\\Roaming\\Python\\Python37\\site-packages\\ipykernel_launcher.py:19: FutureWarning: Pass y=[ 0.04259708  0.04602045  0.04058612 ... -0.07371279 -0.08044614\n",
      " -0.08465519] as keyword args. From version 0.10 passing these as positional arguments will result in an error\n",
      "C:\\Users\\aleem\\AppData\\Roaming\\Python\\Python37\\site-packages\\ipykernel_launcher.py:19: FutureWarning: Pass y=[0.13888052 0.12213281 0.09883749 ... 0.1415384  0.18684614 0.22098158] as keyword args. From version 0.10 passing these as positional arguments will result in an error\n",
      "C:\\Users\\aleem\\AppData\\Roaming\\Python\\Python37\\site-packages\\ipykernel_launcher.py:19: FutureWarning: Pass y=[-0.08829615 -0.09013689 -0.08344205 ...  0.02461168  0.02895726\n",
      "  0.02654384] as keyword args. From version 0.10 passing these as positional arguments will result in an error\n",
      "C:\\Users\\aleem\\AppData\\Roaming\\Python\\Python37\\site-packages\\ipykernel_launcher.py:19: FutureWarning: Pass y=[0.20904496 0.16602026 0.17236184 ... 0.02674494 0.00130439 0.01292291] as keyword args. From version 0.10 passing these as positional arguments will result in an error\n",
      "C:\\Users\\aleem\\AppData\\Roaming\\Python\\Python37\\site-packages\\ipykernel_launcher.py:19: FutureWarning: Pass y=[0.02798489 0.01579074 0.02478685 ... 0.02563397 0.02411866 0.02484017] as keyword args. From version 0.10 passing these as positional arguments will result in an error\n",
      "C:\\Users\\aleem\\AppData\\Roaming\\Python\\Python37\\site-packages\\ipykernel_launcher.py:19: FutureWarning: Pass y=[0.01158665 0.02176948 0.00844929 ... 0.         0.         0.        ] as keyword args. From version 0.10 passing these as positional arguments will result in an error\n",
      "C:\\Users\\aleem\\AppData\\Roaming\\Python\\Python37\\site-packages\\ipykernel_launcher.py:19: FutureWarning: Pass y=[0.02921031 0.03372322 0.02773372 ... 0.         0.         0.        ] as keyword args. From version 0.10 passing these as positional arguments will result in an error\n",
      "11it [00:04,  2.87it/s]C:\\Users\\aleem\\AppData\\Roaming\\Python\\Python37\\site-packages\\ipykernel_launcher.py:19: FutureWarning: Pass y=[-0.00414097 -0.00523782 -0.00251177 ...  0.01875653  0.01585405\n",
      "  0.00327314] as keyword args. From version 0.10 passing these as positional arguments will result in an error\n",
      "C:\\Users\\aleem\\AppData\\Roaming\\Python\\Python37\\site-packages\\ipykernel_launcher.py:19: FutureWarning: Pass y=[ 0.1053291   0.09770775  0.07930677 ...  0.00638427 -0.04735142\n",
      " -0.0962308 ] as keyword args. From version 0.10 passing these as positional arguments will result in an error\n",
      "C:\\Users\\aleem\\AppData\\Roaming\\Python\\Python37\\site-packages\\ipykernel_launcher.py:19: FutureWarning: Pass y=[ 0.00403738 -0.0046634  -0.01549266 ...  0.07340667  0.06752805\n",
      "  0.06544935] as keyword args. From version 0.10 passing these as positional arguments will result in an error\n",
      "C:\\Users\\aleem\\AppData\\Roaming\\Python\\Python37\\site-packages\\ipykernel_launcher.py:19: FutureWarning: Pass y=[-0.14744075 -0.17737556 -0.20499723 ...  0.06642684  0.0508297\n",
      "  0.04765717] as keyword args. From version 0.10 passing these as positional arguments will result in an error\n",
      "C:\\Users\\aleem\\AppData\\Roaming\\Python\\Python37\\site-packages\\ipykernel_launcher.py:19: FutureWarning: Pass y=[ 0.06170145  0.06258608  0.06602945 ... -0.26404473 -0.2255094\n",
      " -0.15139256] as keyword args. From version 0.10 passing these as positional arguments will result in an error\n",
      "C:\\Users\\aleem\\AppData\\Roaming\\Python\\Python37\\site-packages\\ipykernel_launcher.py:19: FutureWarning: Pass y=[ 0.05296693  0.05187905  0.04056262 ... -0.06336526 -0.06903687\n",
      " -0.05138141] as keyword args. From version 0.10 passing these as positional arguments will result in an error\n",
      "C:\\Users\\aleem\\AppData\\Roaming\\Python\\Python37\\site-packages\\ipykernel_launcher.py:19: FutureWarning: Pass y=[-0.08143107  0.0233757   0.09056672 ... -0.04590224 -0.04083463\n",
      " -0.03464641] as keyword args. From version 0.10 passing these as positional arguments will result in an error\n",
      "C:\\Users\\aleem\\AppData\\Roaming\\Python\\Python37\\site-packages\\ipykernel_launcher.py:19: FutureWarning: Pass y=[-0.05066314 -0.06689654 -0.06975023 ... -0.05727044 -0.05509109\n",
      " -0.04589062] as keyword args. From version 0.10 passing these as positional arguments will result in an error\n",
      "C:\\Users\\aleem\\AppData\\Roaming\\Python\\Python37\\site-packages\\ipykernel_launcher.py:19: FutureWarning: Pass y=[-0.02917784 -0.0195962  -0.00855601 ... -0.01464176 -0.01579501\n",
      " -0.00967018] as keyword args. From version 0.10 passing these as positional arguments will result in an error\n",
      "C:\\Users\\aleem\\AppData\\Roaming\\Python\\Python37\\site-packages\\ipykernel_launcher.py:19: FutureWarning: Pass y=[-0.03525706 -0.02259183 -0.0089721  ... -0.00096326 -0.00172502\n",
      " -0.00191894] as keyword args. From version 0.10 passing these as positional arguments will result in an error\n",
      "C:\\Users\\aleem\\AppData\\Roaming\\Python\\Python37\\site-packages\\ipykernel_launcher.py:19: FutureWarning: Pass y=[0.00070267 0.00452142 0.00283044 ... 0.00117646 0.00094836 0.00080628] as keyword args. From version 0.10 passing these as positional arguments will result in an error\n",
      "C:\\Users\\aleem\\AppData\\Roaming\\Python\\Python37\\site-packages\\ipykernel_launcher.py:19: FutureWarning: Pass y=[-0.00257316 -0.00317397 -0.00321997 ...  0.          0.\n",
      "  0.        ] as keyword args. From version 0.10 passing these as positional arguments will result in an error\n",
      "C:\\Users\\aleem\\AppData\\Roaming\\Python\\Python37\\site-packages\\ipykernel_launcher.py:19: FutureWarning: Pass y=[0.00077815 0.00067238 0.00043938 ... 0.         0.         0.        ] as keyword args. From version 0.10 passing these as positional arguments will result in an error\n",
      "12it [00:04,  2.87it/s]C:\\Users\\aleem\\AppData\\Roaming\\Python\\Python37\\site-packages\\ipykernel_launcher.py:19: FutureWarning: Pass y=[ 2.5582782e-05  6.4725935e-04 -3.9354281e-04 ...  1.3046472e-02\n",
      "  4.5981463e-02  5.8185790e-02] as keyword args. From version 0.10 passing these as positional arguments will result in an error\n",
      "C:\\Users\\aleem\\AppData\\Roaming\\Python\\Python37\\site-packages\\ipykernel_launcher.py:19: FutureWarning: Pass y=[-0.21695305 -0.27225217 -0.43641308 ... -0.14666337 -0.17650928\n",
      " -0.15476103] as keyword args. From version 0.10 passing these as positional arguments will result in an error\n",
      "C:\\Users\\aleem\\AppData\\Roaming\\Python\\Python37\\site-packages\\ipykernel_launcher.py:19: FutureWarning: Pass y=[ 0.06138124  0.06694755  0.06345515 ... -0.07218805 -0.02809596\n",
      " -0.00176867] as keyword args. From version 0.10 passing these as positional arguments will result in an error\n",
      "C:\\Users\\aleem\\AppData\\Roaming\\Python\\Python37\\site-packages\\ipykernel_launcher.py:19: FutureWarning: Pass y=[-0.08639657  0.00263423  0.06991529 ...  0.1152233   0.09510303\n",
      "  0.02654407] as keyword args. From version 0.10 passing these as positional arguments will result in an error\n",
      "C:\\Users\\aleem\\AppData\\Roaming\\Python\\Python37\\site-packages\\ipykernel_launcher.py:19: FutureWarning: Pass y=[-0.00451932  0.00279195  0.01081722 ... -0.11508812 -0.10202589\n",
      " -0.08297128] as keyword args. From version 0.10 passing these as positional arguments will result in an error\n",
      "C:\\Users\\aleem\\AppData\\Roaming\\Python\\Python37\\site-packages\\ipykernel_launcher.py:19: FutureWarning: Pass y=[ 0.07790232  0.18128951  0.1311243  ... -0.01483539 -0.03362779\n",
      " -0.03671975] as keyword args. From version 0.10 passing these as positional arguments will result in an error\n",
      "C:\\Users\\aleem\\AppData\\Roaming\\Python\\Python37\\site-packages\\ipykernel_launcher.py:19: FutureWarning: Pass y=[-0.09047297 -0.10382515 -0.08011396 ...  0.10840331  0.07797843\n",
      "  0.04583485] as keyword args. From version 0.10 passing these as positional arguments will result in an error\n",
      "C:\\Users\\aleem\\AppData\\Roaming\\Python\\Python37\\site-packages\\ipykernel_launcher.py:19: FutureWarning: Pass y=[-0.02328467 -0.02899146 -0.02002255 ...  0.06154715  0.07383221\n",
      "  0.0633807 ] as keyword args. From version 0.10 passing these as positional arguments will result in an error\n",
      "C:\\Users\\aleem\\AppData\\Roaming\\Python\\Python37\\site-packages\\ipykernel_launcher.py:19: FutureWarning: Pass y=[0.02757354 0.03673818 0.01468643 ... 0.00170578 0.00661208 0.01496061] as keyword args. From version 0.10 passing these as positional arguments will result in an error\n",
      "C:\\Users\\aleem\\AppData\\Roaming\\Python\\Python37\\site-packages\\ipykernel_launcher.py:19: FutureWarning: Pass y=[ 0.02980181  0.00719969  0.01555305 ...  0.00799914 -0.01208211\n",
      " -0.02133344] as keyword args. From version 0.10 passing these as positional arguments will result in an error\n",
      "C:\\Users\\aleem\\AppData\\Roaming\\Python\\Python37\\site-packages\\ipykernel_launcher.py:19: FutureWarning: Pass y=[0.02634588 0.03895698 0.0508014  ... 0.         0.         0.        ] as keyword args. From version 0.10 passing these as positional arguments will result in an error\n",
      "C:\\Users\\aleem\\AppData\\Roaming\\Python\\Python37\\site-packages\\ipykernel_launcher.py:19: FutureWarning: Pass y=[0.00207861 0.02343387 0.02250858 ... 0.         0.         0.        ] as keyword args. From version 0.10 passing these as positional arguments will result in an error\n",
      "13it [00:05,  2.98it/s]C:\\Users\\aleem\\AppData\\Roaming\\Python\\Python37\\site-packages\\ipykernel_launcher.py:19: FutureWarning: Pass y=[ 0.00419787  0.00104592 -0.00624901 ...  0.05824679  0.08108611\n",
      "  0.05952923] as keyword args. From version 0.10 passing these as positional arguments will result in an error\n",
      "C:\\Users\\aleem\\AppData\\Roaming\\Python\\Python37\\site-packages\\ipykernel_launcher.py:19: FutureWarning: Pass y=[ 0.00216445 -0.00215369 -0.01827893 ... -0.00603084  0.0226048\n",
      " -0.02538452] as keyword args. From version 0.10 passing these as positional arguments will result in an error\n",
      "C:\\Users\\aleem\\AppData\\Roaming\\Python\\Python37\\site-packages\\ipykernel_launcher.py:19: FutureWarning: Pass y=[ 0.01324084 -0.0107719  -0.11379354 ...  0.00789507 -0.00934773\n",
      "  0.01106532] as keyword args. From version 0.10 passing these as positional arguments will result in an error\n",
      "C:\\Users\\aleem\\AppData\\Roaming\\Python\\Python37\\site-packages\\ipykernel_launcher.py:19: FutureWarning: Pass y=[-0.10659249 -0.18188182 -0.22909103 ...  0.1324481   0.1495291\n",
      "  0.11379361] as keyword args. From version 0.10 passing these as positional arguments will result in an error\n",
      "C:\\Users\\aleem\\AppData\\Roaming\\Python\\Python37\\site-packages\\ipykernel_launcher.py:19: FutureWarning: Pass y=[ 0.05701667  0.10080151  0.11394384 ...  0.04653423 -0.00223376\n",
      "  0.02324351] as keyword args. From version 0.10 passing these as positional arguments will result in an error\n",
      "C:\\Users\\aleem\\AppData\\Roaming\\Python\\Python37\\site-packages\\ipykernel_launcher.py:19: FutureWarning: Pass y=[ 0.04943611  0.00435084 -0.02242629 ... -0.07078472  0.06679656\n",
      "  0.09990153] as keyword args. From version 0.10 passing these as positional arguments will result in an error\n",
      "C:\\Users\\aleem\\AppData\\Roaming\\Python\\Python37\\site-packages\\ipykernel_launcher.py:19: FutureWarning: Pass y=[ 0.01712469  0.04658566  0.05347557 ... -0.05524957 -0.08468442\n",
      " -0.11680502] as keyword args. From version 0.10 passing these as positional arguments will result in an error\n",
      "C:\\Users\\aleem\\AppData\\Roaming\\Python\\Python37\\site-packages\\ipykernel_launcher.py:19: FutureWarning: Pass y=[ 0.0306341  -0.04244418  0.1108195  ...  0.02409358  0.06381992\n",
      "  0.05833209] as keyword args. From version 0.10 passing these as positional arguments will result in an error\n",
      "C:\\Users\\aleem\\AppData\\Roaming\\Python\\Python37\\site-packages\\ipykernel_launcher.py:19: FutureWarning: Pass y=[-0.11268377 -0.11797991 -0.19441295 ...  0.06051732  0.03933217\n",
      "  0.0489402 ] as keyword args. From version 0.10 passing these as positional arguments will result in an error\n",
      "C:\\Users\\aleem\\AppData\\Roaming\\Python\\Python37\\site-packages\\ipykernel_launcher.py:19: FutureWarning: Pass y=[ 0.07262298  0.10905142  0.16026571 ... -0.00855319 -0.01414662\n",
      " -0.0018657 ] as keyword args. From version 0.10 passing these as positional arguments will result in an error\n",
      "C:\\Users\\aleem\\AppData\\Roaming\\Python\\Python37\\site-packages\\ipykernel_launcher.py:19: FutureWarning: Pass y=[ 0.06914882  0.08889317  0.042244   ... -0.08247522 -0.08936159\n",
      " -0.0337454 ] as keyword args. From version 0.10 passing these as positional arguments will result in an error\n",
      "C:\\Users\\aleem\\AppData\\Roaming\\Python\\Python37\\site-packages\\ipykernel_launcher.py:19: FutureWarning: Pass y=[-0.02440402 -0.10461924 -0.14314373 ... -0.12446275 -0.17866355\n",
      " -0.1695072 ] as keyword args. From version 0.10 passing these as positional arguments will result in an error\n",
      "C:\\Users\\aleem\\AppData\\Roaming\\Python\\Python37\\site-packages\\ipykernel_launcher.py:19: FutureWarning: Pass y=[ 0.03136627  0.03396808 -0.02464184 ...  0.02778561  0.0243638\n",
      "  0.02114658] as keyword args. From version 0.10 passing these as positional arguments will result in an error\n",
      "C:\\Users\\aleem\\AppData\\Roaming\\Python\\Python37\\site-packages\\ipykernel_launcher.py:19: FutureWarning: Pass y=[-0.15220842 -0.10849226 -0.06758735 ...  0.01034055 -0.01333293\n",
      " -0.0137872 ] as keyword args. From version 0.10 passing these as positional arguments will result in an error\n",
      "C:\\Users\\aleem\\AppData\\Roaming\\Python\\Python37\\site-packages\\ipykernel_launcher.py:19: FutureWarning: Pass y=[-0.00866148  0.0053681   0.02491549 ...  0.07955954  0.03909686\n",
      " -0.08904197] as keyword args. From version 0.10 passing these as positional arguments will result in an error\n",
      "C:\\Users\\aleem\\AppData\\Roaming\\Python\\Python37\\site-packages\\ipykernel_launcher.py:19: FutureWarning: Pass y=[0.04007634 0.09598297 0.08518214 ... 0.03523768 0.07156317 0.06325195] as keyword args. From version 0.10 passing these as positional arguments will result in an error\n",
      "C:\\Users\\aleem\\AppData\\Roaming\\Python\\Python37\\site-packages\\ipykernel_launcher.py:19: FutureWarning: Pass y=[-0.22294554 -0.24336305 -0.14977251 ...  0.          0.\n",
      "  0.        ] as keyword args. From version 0.10 passing these as positional arguments will result in an error\n",
      "C:\\Users\\aleem\\AppData\\Roaming\\Python\\Python37\\site-packages\\ipykernel_launcher.py:19: FutureWarning: Pass y=[0.02830552 0.00913725 0.01530558 ... 0.         0.         0.        ] as keyword args. From version 0.10 passing these as positional arguments will result in an error\n",
      "14it [00:05,  2.79it/s]C:\\Users\\aleem\\AppData\\Roaming\\Python\\Python37\\site-packages\\ipykernel_launcher.py:19: FutureWarning: Pass y=[-0.02447489 -0.03222428 -0.02468761 ... -0.2657158  -0.24030596\n",
      " -0.07220507] as keyword args. From version 0.10 passing these as positional arguments will result in an error\n",
      "C:\\Users\\aleem\\AppData\\Roaming\\Python\\Python37\\site-packages\\ipykernel_launcher.py:19: FutureWarning: Pass y=[-0.01424541 -0.0241472  -0.015983   ...  0.33049658  0.22692284\n",
      "  0.20399912] as keyword args. From version 0.10 passing these as positional arguments will result in an error\n",
      "C:\\Users\\aleem\\AppData\\Roaming\\Python\\Python37\\site-packages\\ipykernel_launcher.py:19: FutureWarning: Pass y=[ 0.04054253  0.10352927  0.18676463 ... -0.00976586 -0.02542766\n",
      "  0.03632969] as keyword args. From version 0.10 passing these as positional arguments will result in an error\n",
      "C:\\Users\\aleem\\AppData\\Roaming\\Python\\Python37\\site-packages\\ipykernel_launcher.py:19: FutureWarning: Pass y=[ 0.1759049   0.00886919 -0.18086846 ... -0.00034746  0.02630584\n",
      "  0.01644728] as keyword args. From version 0.10 passing these as positional arguments will result in an error\n",
      "C:\\Users\\aleem\\AppData\\Roaming\\Python\\Python37\\site-packages\\ipykernel_launcher.py:19: FutureWarning: Pass y=[0.08859369 0.07426678 0.03908784 ... 0.01583101 0.0406778  0.03604771] as keyword args. From version 0.10 passing these as positional arguments will result in an error\n",
      "C:\\Users\\aleem\\AppData\\Roaming\\Python\\Python37\\site-packages\\ipykernel_launcher.py:19: FutureWarning: Pass y=[-0.02014248 -0.03960882 -0.04347451 ...  0.00961986  0.11316353\n",
      "  0.00155184] as keyword args. From version 0.10 passing these as positional arguments will result in an error\n",
      "C:\\Users\\aleem\\AppData\\Roaming\\Python\\Python37\\site-packages\\ipykernel_launcher.py:19: FutureWarning: Pass y=[ 0.00344846 -0.04682513 -0.06539919 ...  0.03989657  0.0086863\n",
      "  0.0083701 ] as keyword args. From version 0.10 passing these as positional arguments will result in an error\n",
      "C:\\Users\\aleem\\AppData\\Roaming\\Python\\Python37\\site-packages\\ipykernel_launcher.py:19: FutureWarning: Pass y=[ 0.00034173  0.05905833  0.06724631 ...  0.01086462 -0.02770344\n",
      " -0.00486767] as keyword args. From version 0.10 passing these as positional arguments will result in an error\n",
      "C:\\Users\\aleem\\AppData\\Roaming\\Python\\Python37\\site-packages\\ipykernel_launcher.py:19: FutureWarning: Pass y=[0.04574383 0.06170019 0.05086586 ... 0.         0.         0.        ] as keyword args. From version 0.10 passing these as positional arguments will result in an error\n",
      "C:\\Users\\aleem\\AppData\\Roaming\\Python\\Python37\\site-packages\\ipykernel_launcher.py:19: FutureWarning: Pass y=[0.04602245 0.07816935 0.09693349 ... 0.         0.         0.        ] as keyword args. From version 0.10 passing these as positional arguments will result in an error\n",
      "15it [00:05,  2.97it/s]C:\\Users\\aleem\\AppData\\Roaming\\Python\\Python37\\site-packages\\ipykernel_launcher.py:19: FutureWarning: Pass y=[ 0.01234916 -0.00538819 -0.02653091 ... -0.03019317 -0.04816491\n",
      " -0.08977658] as keyword args. From version 0.10 passing these as positional arguments will result in an error\n",
      "C:\\Users\\aleem\\AppData\\Roaming\\Python\\Python37\\site-packages\\ipykernel_launcher.py:19: FutureWarning: Pass y=[ 0.16187468  0.1344847   0.08234412 ...  0.01447512 -0.00967486\n",
      " -0.03051243] as keyword args. From version 0.10 passing these as positional arguments will result in an error\n",
      "C:\\Users\\aleem\\AppData\\Roaming\\Python\\Python37\\site-packages\\ipykernel_launcher.py:19: FutureWarning: Pass y=[-0.13783948 -0.16480036 -0.17279132 ... -0.14066334 -0.11299108\n",
      " -0.07653499] as keyword args. From version 0.10 passing these as positional arguments will result in an error\n",
      "C:\\Users\\aleem\\AppData\\Roaming\\Python\\Python37\\site-packages\\ipykernel_launcher.py:19: FutureWarning: Pass y=[-0.04173627 -0.07336772 -0.11845194 ...  0.00394845  0.02211173\n",
      "  0.05703137] as keyword args. From version 0.10 passing these as positional arguments will result in an error\n",
      "C:\\Users\\aleem\\AppData\\Roaming\\Python\\Python37\\site-packages\\ipykernel_launcher.py:19: FutureWarning: Pass y=[-0.06645059 -0.04236756 -0.02215152 ... -0.04585404 -0.05473713\n",
      " -0.05032369] as keyword args. From version 0.10 passing these as positional arguments will result in an error\n",
      "C:\\Users\\aleem\\AppData\\Roaming\\Python\\Python37\\site-packages\\ipykernel_launcher.py:19: FutureWarning: Pass y=[ 0.05295272  0.00301008 -0.04224776 ... -0.06160345 -0.0943122\n",
      " -0.12261418] as keyword args. From version 0.10 passing these as positional arguments will result in an error\n",
      "C:\\Users\\aleem\\AppData\\Roaming\\Python\\Python37\\site-packages\\ipykernel_launcher.py:19: FutureWarning: Pass y=[-0.02100111  0.01119612  0.01962708 ...  0.00291502  0.02494901\n",
      " -0.01299676] as keyword args. From version 0.10 passing these as positional arguments will result in an error\n",
      "C:\\Users\\aleem\\AppData\\Roaming\\Python\\Python37\\site-packages\\ipykernel_launcher.py:19: FutureWarning: Pass y=[-0.0814991  -0.03608156 -0.04187457 ... -0.01881789  0.01090615\n",
      "  0.02194007] as keyword args. From version 0.10 passing these as positional arguments will result in an error\n",
      "C:\\Users\\aleem\\AppData\\Roaming\\Python\\Python37\\site-packages\\ipykernel_launcher.py:19: FutureWarning: Pass y=[-0.064204   -0.10491682 -0.13318577 ...  0.          0.\n",
      "  0.        ] as keyword args. From version 0.10 passing these as positional arguments will result in an error\n",
      "C:\\Users\\aleem\\AppData\\Roaming\\Python\\Python37\\site-packages\\ipykernel_launcher.py:19: FutureWarning: Pass y=[0.01634176 0.01361001 0.01901374 ... 0.         0.         0.        ] as keyword args. From version 0.10 passing these as positional arguments will result in an error\n",
      "16it [00:06,  2.61it/s]\n"
     ]
    }
   ],
   "source": [
    "mfcc_data_by_fold = {}\n",
    "\n",
    "# Iterate through the DataFrame and extract MFCC features\n",
    "for index_num, row in tqdm(metadata.iterrows()):\n",
    "    file_name = os.path.join(os.path.abspath(audio_dataset_path), 'fold' + str(row[\"fold\"]) + '/', str(row[\"slice_file_name\"]))\n",
    "    final_class_labels = row[\"class\"]\n",
    "\n",
    "    # MFCC Features Extraction\n",
    "    mfcc_data = mfcc_features_extractor_1sec(file_name)\n",
    "    \n",
    "    # Store the MFCC data in the dictionary by fold number\n",
    "    fold_num = row[\"fold\"]\n",
    "    if fold_num not in mfcc_data_by_fold:\n",
    "        mfcc_data_by_fold[fold_num] = {\n",
    "            \"data\": [],\n",
    "            \"labels\": []\n",
    "        }\n",
    "    mfcc_data_by_fold[fold_num][\"data\"].append(mfcc_data)\n",
    "    mfcc_data_by_fold[fold_num][\"labels\"].append(final_class_labels)\n",
    "\n",
    "# Now, convert the data in mfcc_data_by_fold to NumPy arrays\n",
    "for fold_num, data_dict in mfcc_data_by_fold.items():\n",
    "    data_dict[\"data\"] = np.array(data_dict[\"data\"])\n",
    "    data_dict[\"labels\"] = np.array(data_dict[\"labels\"])"
   ]
  },
  {
   "cell_type": "code",
   "execution_count": 6,
   "metadata": {},
   "outputs": [
    {
     "name": "stdout",
     "output_type": "stream",
     "text": [
      "Shape of data for fold 1: (4, 704, 40)\n",
      "Shape of labels for fold 1: (4,)\n"
     ]
    }
   ],
   "source": [
    "fold_num = 1  # Replace with the fold number you're interested in\n",
    "data_shape = mfcc_data_by_fold[fold_num][\"data\"].shape\n",
    "labels_shape = mfcc_data_by_fold[fold_num][\"labels\"].shape\n",
    "\n",
    "print(f\"Shape of data for fold {fold_num}: {data_shape}\")\n",
    "print(f\"Shape of labels for fold {fold_num}: {labels_shape}\")"
   ]
  },
  {
   "cell_type": "code",
   "execution_count": 7,
   "metadata": {},
   "outputs": [
    {
     "data": {
      "text/plain": [
       "(4, 704, 40)"
      ]
     },
     "execution_count": 7,
     "metadata": {},
     "output_type": "execute_result"
    }
   ],
   "source": [
    "mfcc_data_by_fold[3][\"data\"].shape"
   ]
  },
  {
   "cell_type": "code",
   "execution_count": 8,
   "metadata": {},
   "outputs": [],
   "source": [
    "# Iterate through the dictionary and reshape the data arrays for all fold_num values\n",
    "for fold_num, data_dict in mfcc_data_by_fold.items():\n",
    "    data_dict[\"data\"] = data_dict[\"data\"].reshape(data_dict[\"data\"].shape + (1,))\n",
    "    "
   ]
  },
  {
   "cell_type": "code",
   "execution_count": 9,
   "metadata": {},
   "outputs": [
    {
     "data": {
      "text/plain": [
       "(4, 704, 40, 1)"
      ]
     },
     "execution_count": 9,
     "metadata": {},
     "output_type": "execute_result"
    }
   ],
   "source": [
    "mfcc_data_by_fold[1][\"data\"].shape"
   ]
  },
  {
   "cell_type": "markdown",
   "metadata": {},
   "source": [
    "After Training Work, Deep Features "
   ]
  },
  {
   "cell_type": "code",
   "execution_count": 10,
   "metadata": {},
   "outputs": [
    {
     "name": "stdout",
     "output_type": "stream",
     "text": [
      "1/1 [==============================] - 0s 167ms/step\n",
      "1/1 [==============================] - 0s 62ms/step\n",
      "1/1 [==============================] - 0s 58ms/step\n"
     ]
    }
   ],
   "source": [
    "from keras.models import load_model\n",
    "from keras.models import Model\n",
    "\n",
    "# Load the saved model\n",
    "loaded_model = load_model('Model_CNN2D_startwithnumpylengthsamemfcc_1sec_4032files_90_10_size_result 100_96.29.h5')\n",
    "\n",
    "# Get the name of the intermediate layer from the loaded model summary\n",
    "intermediate_layer_name = 'dense'\n",
    "\n",
    "# Find the index of the intermediate layer in the model's layers list\n",
    "intermediate_layer_index = [i for i, layer in enumerate(loaded_model.layers) if layer.name == intermediate_layer_name][0]\n",
    "\n",
    "# Define a new model that includes layers up to the intermediate layer\n",
    "intermediate_layer_model = Model(inputs=loaded_model.input,\n",
    "                                  outputs=loaded_model.layers[intermediate_layer_index].output)\n",
    "\n",
    "# List of inputs for each fold's MFCC data\n",
    "input_data_list = [mfcc_data_by_fold[fold][\"data\"] for fold in range(1, 4)]  # Adjust the range as needed\n",
    "\n",
    "# List to store intermediate layer outputs for each fold\n",
    "intermediate_layer_outputs = []\n",
    "\n",
    "# Iterate through the input data for each fold and predict the intermediate layer output\n",
    "for input_data in input_data_list:\n",
    "    intermediate_output = intermediate_layer_model.predict(input_data)\n",
    "    intermediate_layer_outputs.append(intermediate_output)\n",
    "\n",
    "# Now, intermediate_layer_outputs contains the intermediate layer outputs for each fold's input data\n"
   ]
  },
  {
   "cell_type": "code",
   "execution_count": 11,
   "metadata": {},
   "outputs": [],
   "source": [
    "intermediate_layer_outputs = np.array(intermediate_layer_outputs)"
   ]
  },
  {
   "cell_type": "code",
   "execution_count": 12,
   "metadata": {},
   "outputs": [
    {
     "data": {
      "text/plain": [
       "(3, 4, 1024)"
      ]
     },
     "execution_count": 12,
     "metadata": {},
     "output_type": "execute_result"
    }
   ],
   "source": [
    "intermediate_layer_outputs.shape"
   ]
  },
  {
   "cell_type": "code",
   "execution_count": 13,
   "metadata": {},
   "outputs": [
    {
     "data": {
      "text/plain": [
       "array([[[-0.9999135 , -0.9999997 ,  0.99999493, ...,  0.9967931 ,\n",
       "         -0.9996835 , -0.99990237],\n",
       "        [-0.99692655,  0.9936453 ,  1.        , ...,  0.99973905,\n",
       "         -0.9662983 , -0.999993  ],\n",
       "        [-0.95497555, -0.5871579 ,  0.9993012 , ...,  0.99623895,\n",
       "         -0.9001138 , -0.99999136],\n",
       "        [-0.99998343, -0.9959189 ,  0.9999933 , ...,  0.99837726,\n",
       "         -0.99964947, -1.        ]],\n",
       "\n",
       "       [[-0.9663701 , -0.9998363 ,  0.99884135, ...,  0.9996569 ,\n",
       "         -0.9974964 , -0.99913484],\n",
       "        [-0.88986105,  0.46070212,  0.99761826, ...,  0.99996036,\n",
       "         -0.9983824 , -0.9999352 ],\n",
       "        [-0.98454285,  0.4226775 ,  0.9999793 , ...,  0.9998223 ,\n",
       "         -0.99489975, -0.99998766],\n",
       "        [-0.95427567, -0.24313056,  0.9993921 , ...,  0.99865544,\n",
       "         -0.99993366, -0.9999926 ]],\n",
       "\n",
       "       [[-0.99416983, -0.9991154 ,  0.79551303, ...,  0.9983113 ,\n",
       "         -0.95728   , -0.9862086 ],\n",
       "        [-0.9454105 ,  1.        ,  0.7228058 , ...,  0.9984402 ,\n",
       "         -0.99281883, -0.9975103 ],\n",
       "        [-0.96767145,  0.22273754,  0.9852637 , ...,  0.9888005 ,\n",
       "         -0.6245157 , -0.9993587 ],\n",
       "        [-0.9852241 ,  0.9999558 ,  0.9834547 , ...,  0.99057   ,\n",
       "         -0.83787394, -0.9818508 ]]], dtype=float32)"
      ]
     },
     "execution_count": 13,
     "metadata": {},
     "output_type": "execute_result"
    }
   ],
   "source": [
    "intermediate_layer_outputs"
   ]
  },
  {
   "cell_type": "code",
   "execution_count": 14,
   "metadata": {},
   "outputs": [],
   "source": [
    "mean_across_folds = np.mean(intermediate_layer_outputs, axis=0)"
   ]
  },
  {
   "cell_type": "code",
   "execution_count": 15,
   "metadata": {},
   "outputs": [],
   "source": [
    "an_nasr_mean = mean_across_folds"
   ]
  },
  {
   "cell_type": "code",
   "execution_count": 16,
   "metadata": {},
   "outputs": [
    {
     "data": {
      "text/plain": [
       "(4, 1024)"
      ]
     },
     "execution_count": 16,
     "metadata": {},
     "output_type": "execute_result"
    }
   ],
   "source": [
    "an_nasr_mean.shape"
   ]
  },
  {
   "cell_type": "code",
   "execution_count": 17,
   "metadata": {},
   "outputs": [
    {
     "data": {
      "text/plain": [
       "array([[-0.98681784, -0.9996505 ,  0.9314497 , ...,  0.99825376,\n",
       "        -0.98481995, -0.99508196],\n",
       "       [-0.94406605,  0.8181158 ,  0.90680796, ...,  0.9993799 ,\n",
       "        -0.98583317, -0.99914616],\n",
       "       [-0.9690633 ,  0.01941904,  0.9948481 , ...,  0.99495393,\n",
       "        -0.8398431 , -0.9997792 ],\n",
       "       [-0.9798277 , -0.07969788,  0.99428004, ...,  0.99586755,\n",
       "        -0.9458191 , -0.9939478 ]], dtype=float32)"
      ]
     },
     "execution_count": 17,
     "metadata": {},
     "output_type": "execute_result"
    }
   ],
   "source": [
    "an_nasr_mean"
   ]
  },
  {
   "cell_type": "code",
   "execution_count": 18,
   "metadata": {},
   "outputs": [],
   "source": [
    "# Specify the file path where you want to save the .npy file\n",
    "file_path = 'an_nasr_mean.npy'\n",
    "\n",
    "# Save the array as a .npy file\n",
    "np.save(file_path, an_nasr_mean)"
   ]
  },
  {
   "cell_type": "markdown",
   "metadata": {
    "slideshow": {
     "slide_type": "slide"
    }
   },
   "source": [
    "Testing of Single Audio"
   ]
  },
  {
   "cell_type": "code",
   "execution_count": 19,
   "metadata": {},
   "outputs": [
    {
     "name": "stderr",
     "output_type": "stream",
     "text": [
      "C:\\Users\\aleem\\AppData\\Roaming\\Python\\Python37\\site-packages\\ipykernel_launcher.py:19: FutureWarning: Pass y=[ 0.00179377  0.00487049  0.00431925 ... -0.15333343 -0.13051389\n",
      " -0.15450318] as keyword args. From version 0.10 passing these as positional arguments will result in an error\n",
      "C:\\Users\\aleem\\AppData\\Roaming\\Python\\Python37\\site-packages\\ipykernel_launcher.py:19: FutureWarning: Pass y=[-0.06791052  0.02416206  0.01926574 ...  0.1288552   0.16924351\n",
      "  0.20366314] as keyword args. From version 0.10 passing these as positional arguments will result in an error\n",
      "C:\\Users\\aleem\\AppData\\Roaming\\Python\\Python37\\site-packages\\ipykernel_launcher.py:19: FutureWarning: Pass y=[-0.10735187 -0.06064139 -0.08216329 ... -0.04587401 -0.05375952\n",
      " -0.00395003] as keyword args. From version 0.10 passing these as positional arguments will result in an error\n",
      "C:\\Users\\aleem\\AppData\\Roaming\\Python\\Python37\\site-packages\\ipykernel_launcher.py:19: FutureWarning: Pass y=[ 0.26102832  0.29242945  0.26738238 ... -0.24947448 -0.20775305\n",
      " -0.0769138 ] as keyword args. From version 0.10 passing these as positional arguments will result in an error\n",
      "C:\\Users\\aleem\\AppData\\Roaming\\Python\\Python37\\site-packages\\ipykernel_launcher.py:19: FutureWarning: Pass y=[ 0.04396408  0.06543887  0.07248004 ... -0.13680191 -0.16424513\n",
      " -0.20843159] as keyword args. From version 0.10 passing these as positional arguments will result in an error\n",
      "C:\\Users\\aleem\\AppData\\Roaming\\Python\\Python37\\site-packages\\ipykernel_launcher.py:19: FutureWarning: Pass y=[-0.08132401  0.01063344  0.05365055 ...  0.08211953  0.08854613\n",
      "  0.10371748] as keyword args. From version 0.10 passing these as positional arguments will result in an error\n",
      "C:\\Users\\aleem\\AppData\\Roaming\\Python\\Python37\\site-packages\\ipykernel_launcher.py:19: FutureWarning: Pass y=[-0.19361548 -0.18105789 -0.18798542 ...  0.0461993   0.03618012\n",
      "  0.01973471] as keyword args. From version 0.10 passing these as positional arguments will result in an error\n",
      "C:\\Users\\aleem\\AppData\\Roaming\\Python\\Python37\\site-packages\\ipykernel_launcher.py:19: FutureWarning: Pass y=[ 0.10646088  0.08783316  0.06608857 ...  0.04975659 -0.00318933\n",
      " -0.01575442] as keyword args. From version 0.10 passing these as positional arguments will result in an error\n",
      "C:\\Users\\aleem\\AppData\\Roaming\\Python\\Python37\\site-packages\\ipykernel_launcher.py:19: FutureWarning: Pass y=[ 0.02481882  0.04408577  0.06240865 ... -0.0074444   0.010863\n",
      "  0.00506581] as keyword args. From version 0.10 passing these as positional arguments will result in an error\n",
      "C:\\Users\\aleem\\AppData\\Roaming\\Python\\Python37\\site-packages\\ipykernel_launcher.py:19: FutureWarning: Pass y=[0.01741695 0.06078985 0.03574164 ... 0.         0.         0.        ] as keyword args. From version 0.10 passing these as positional arguments will result in an error\n",
      "C:\\Users\\aleem\\AppData\\Roaming\\Python\\Python37\\site-packages\\ipykernel_launcher.py:19: FutureWarning: Pass y=[-0.01498495 -0.0113671  -0.0022352  ...  0.          0.\n",
      "  0.        ] as keyword args. From version 0.10 passing these as positional arguments will result in an error\n",
      "C:\\Users\\aleem\\AppData\\Roaming\\Python\\Python37\\site-packages\\ipykernel_launcher.py:19: FutureWarning: Pass y=[0. 0. 0. ... 0. 0. 0.] as keyword args. From version 0.10 passing these as positional arguments will result in an error\n"
     ]
    }
   ],
   "source": [
    "file_name = 'C:/Users/aleem/Desktop/Currentlyworking_New_extracted audio wav after cleaning then augmentation/sliding_window_1_sec/data/nasr_testing.wav'\n",
    "\n",
    "\n",
    "mfcc_extracted_features_single=[]\n",
    "\n",
    "mfcc_extracted_features_single= mfcc_features_extractor_1sec(file_name)\n",
    "\n",
    "mfcc_extracted_features_single = np.array(mfcc_extracted_features_single)\n",
    "\n",
    "mfcc_extracted_features_single = mfcc_extracted_features_single.reshape((1, 704, 40, 1))\n",
    "\n"
   ]
  },
  {
   "cell_type": "code",
   "execution_count": 20,
   "metadata": {},
   "outputs": [
    {
     "data": {
      "text/plain": [
       "array([[[[-4.6013333e+02],\n",
       "         [ 6.5609756e+01],\n",
       "         [ 2.1376125e+01],\n",
       "         ...,\n",
       "         [ 7.6098692e-01],\n",
       "         [-2.7450769e+00],\n",
       "         [-1.3067177e+01]],\n",
       "\n",
       "        [[-4.3865445e+02],\n",
       "         [ 7.1171974e+01],\n",
       "         [ 1.6183195e+01],\n",
       "         ...,\n",
       "         [-1.1471810e+00],\n",
       "         [-1.2708418e+01],\n",
       "         [-1.4497263e+01]],\n",
       "\n",
       "        [[-3.5120190e+02],\n",
       "         [ 7.0384903e+01],\n",
       "         [ 3.1417423e+01],\n",
       "         ...,\n",
       "         [ 6.5818250e-01],\n",
       "         [-1.1579357e+01],\n",
       "         [-7.5934291e+00]],\n",
       "\n",
       "        ...,\n",
       "\n",
       "        [[-1.1313708e+03],\n",
       "         [ 0.0000000e+00],\n",
       "         [ 0.0000000e+00],\n",
       "         ...,\n",
       "         [ 0.0000000e+00],\n",
       "         [ 0.0000000e+00],\n",
       "         [ 0.0000000e+00]],\n",
       "\n",
       "        [[-1.1313708e+03],\n",
       "         [ 0.0000000e+00],\n",
       "         [ 0.0000000e+00],\n",
       "         ...,\n",
       "         [ 0.0000000e+00],\n",
       "         [ 0.0000000e+00],\n",
       "         [ 0.0000000e+00]],\n",
       "\n",
       "        [[-1.1313708e+03],\n",
       "         [ 0.0000000e+00],\n",
       "         [ 0.0000000e+00],\n",
       "         ...,\n",
       "         [ 0.0000000e+00],\n",
       "         [ 0.0000000e+00],\n",
       "         [ 0.0000000e+00]]]], dtype=float32)"
      ]
     },
     "execution_count": 20,
     "metadata": {},
     "output_type": "execute_result"
    }
   ],
   "source": [
    "mfcc_extracted_features_single"
   ]
  },
  {
   "cell_type": "code",
   "execution_count": 21,
   "metadata": {},
   "outputs": [
    {
     "name": "stdout",
     "output_type": "stream",
     "text": [
      "1/1 [==============================] - 0s 124ms/step\n"
     ]
    }
   ],
   "source": [
    "from keras.models import load_model\n",
    "from keras.models import Model\n",
    "\n",
    "# Load the saved model\n",
    "loaded_model = load_model('Model_CNN2D_startwithnumpylengthsamemfcc_1sec_4032files_90_10_size_result 100_96.29.h5')\n",
    "\n",
    "# Get the name of the intermediate layer from the loaded model summary\n",
    "intermediate_layer_name = 'dense'\n",
    "\n",
    "# Find the index of the intermediate layer in the model's layers list\n",
    "intermediate_layer_index = [i for i, layer in enumerate(loaded_model.layers) if layer.name == intermediate_layer_name][0]\n",
    "\n",
    "# Define a new model that includes layers up to the intermediate layer\n",
    "intermediate_layer_model = Model(inputs=loaded_model.input,\n",
    "                                  outputs=loaded_model.layers[intermediate_layer_index].output)\n",
    "\n",
    "# Assuming you already have mfcc_extracted_features of shape (704, 40, 1)\n",
    "# Replace this with your actual input data\n",
    "\n",
    "# Predict the intermediate layer output for the input data\n",
    "intermediate_output = intermediate_layer_model.predict(mfcc_extracted_features_single)\n",
    "\n",
    "# Now, intermediate_output contains the intermediate layer output for mfcc_extracted_features\n"
   ]
  },
  {
   "cell_type": "code",
   "execution_count": 22,
   "metadata": {},
   "outputs": [
    {
     "data": {
      "text/plain": [
       "array([[-0.99999756, -1.        ,  0.9999996 , ...,  0.99886787,\n",
       "        -0.9833616 , -0.99988276]], dtype=float32)"
      ]
     },
     "execution_count": 22,
     "metadata": {},
     "output_type": "execute_result"
    }
   ],
   "source": [
    "intermediate_output"
   ]
  },
  {
   "cell_type": "code",
   "execution_count": 23,
   "metadata": {},
   "outputs": [
    {
     "data": {
      "text/plain": [
       "(1, 1024)"
      ]
     },
     "execution_count": 23,
     "metadata": {},
     "output_type": "execute_result"
    }
   ],
   "source": [
    "intermediate_output.shape"
   ]
  },
  {
   "cell_type": "code",
   "execution_count": 24,
   "metadata": {},
   "outputs": [
    {
     "data": {
      "text/plain": [
       "array([[[-0.9999135 , -0.9999997 ,  0.99999493, ...,  0.9967931 ,\n",
       "         -0.9996835 , -0.99990237],\n",
       "        [-0.99692655,  0.9936453 ,  1.        , ...,  0.99973905,\n",
       "         -0.9662983 , -0.999993  ],\n",
       "        [-0.95497555, -0.5871579 ,  0.9993012 , ...,  0.99623895,\n",
       "         -0.9001138 , -0.99999136],\n",
       "        [-0.99998343, -0.9959189 ,  0.9999933 , ...,  0.99837726,\n",
       "         -0.99964947, -1.        ]],\n",
       "\n",
       "       [[-0.9663701 , -0.9998363 ,  0.99884135, ...,  0.9996569 ,\n",
       "         -0.9974964 , -0.99913484],\n",
       "        [-0.88986105,  0.46070212,  0.99761826, ...,  0.99996036,\n",
       "         -0.9983824 , -0.9999352 ],\n",
       "        [-0.98454285,  0.4226775 ,  0.9999793 , ...,  0.9998223 ,\n",
       "         -0.99489975, -0.99998766],\n",
       "        [-0.95427567, -0.24313056,  0.9993921 , ...,  0.99865544,\n",
       "         -0.99993366, -0.9999926 ]],\n",
       "\n",
       "       [[-0.99416983, -0.9991154 ,  0.79551303, ...,  0.9983113 ,\n",
       "         -0.95728   , -0.9862086 ],\n",
       "        [-0.9454105 ,  1.        ,  0.7228058 , ...,  0.9984402 ,\n",
       "         -0.99281883, -0.9975103 ],\n",
       "        [-0.96767145,  0.22273754,  0.9852637 , ...,  0.9888005 ,\n",
       "         -0.6245157 , -0.9993587 ],\n",
       "        [-0.9852241 ,  0.9999558 ,  0.9834547 , ...,  0.99057   ,\n",
       "         -0.83787394, -0.9818508 ]]], dtype=float32)"
      ]
     },
     "execution_count": 24,
     "metadata": {},
     "output_type": "execute_result"
    }
   ],
   "source": [
    "intermediate_layer_outputs"
   ]
  },
  {
   "cell_type": "markdown",
   "metadata": {},
   "source": [
    "Euclidian Distance with Mean"
   ]
  },
  {
   "cell_type": "code",
   "execution_count": 25,
   "metadata": {},
   "outputs": [
    {
     "name": "stdout",
     "output_type": "stream",
     "text": [
      "Index of closest value in an_nasr_mean: 1\n",
      "Closest value in an_nasr_mean: [-0.98681784 -0.9996505   0.9314497  ...  0.99825376 -0.98481995\n",
      " -0.99508196]\n"
     ]
    }
   ],
   "source": [
    "import numpy as np\n",
    "\n",
    "# Assuming you have al_fil_mean with shape (5, 1024) and intermediate_output with shape (1, 1024)\n",
    "# Calculate the Euclidean distances between intermediate_output and each row in al_fil_mean\n",
    "distances = np.linalg.norm(an_nasr_mean - intermediate_output, axis=1)\n",
    "\n",
    "# Find the index of the closest row in al_fil_mean\n",
    "closest_index = np.argmin(distances)\n",
    "\n",
    "# The value at closest_index in al_fil_mean is the closest to intermediate_output\n",
    "closest_value = an_nasr_mean[closest_index]\n",
    "\n",
    "# Print the closest_index and closest_value\n",
    "print(f\"Index of closest value in an_nasr_mean: {closest_index+1}\")\n",
    "print(f\"Closest value in an_nasr_mean: {closest_value}\")"
   ]
  },
  {
   "cell_type": "markdown",
   "metadata": {},
   "source": [
    "Euclidian Distance Without Mean"
   ]
  },
  {
   "cell_type": "code",
   "execution_count": 26,
   "metadata": {},
   "outputs": [],
   "source": [
    "# # Reshape intermediate_output to match the shape of intermediate_layer_outputs\n",
    "# intermediate_output_reshaped = intermediate_output.reshape((1, 1, 1024))\n",
    "\n",
    "# # Initialize variables to keep track of the closest indices and distances\n",
    "# closest_indices = None\n",
    "# min_distances = None\n",
    "# closest_set = None  # Initialize variable to track the closest set\n",
    "\n",
    "# for i, intermediate_set in enumerate(intermediate_layer_outputs):\n",
    "#     # Calculate the Euclidean distances between intermediate_output and intermediate_set\n",
    "#     distances = np.linalg.norm(intermediate_set - intermediate_output_reshaped, axis=2)\n",
    "    \n",
    "#     # Find the index of the minimum distance\n",
    "#     current_closest_index = np.argmin(distances)\n",
    "    \n",
    "#     # Update the closest index, distances, and closest set if this set is closer\n",
    "#     if closest_indices is None or np.mean(distances) < np.mean(min_distances):\n",
    "#         closest_indices = current_closest_index\n",
    "#         min_distances = distances\n",
    "#         closest_set = i\n",
    "\n",
    "# # Print the closest index in intermediate_layer_outputs and which set it belongs to\n",
    "# print(f\"Closest index in intermediate_layer_outputs: {closest_indices}\")\n",
    "# if closest_set == 0:\n",
    "#     print(\"It is closest to intermediate_layer_outputs[0]\")\n",
    "# elif closest_set == 1:\n",
    "#     print(\"It is closest to intermediate_layer_outputs[1]\")\n",
    "# elif closest_set == 2:\n",
    "#     print(\"It is closest to intermediate_layer_outputs[2]\")"
   ]
  },
  {
   "cell_type": "code",
   "execution_count": null,
   "metadata": {},
   "outputs": [],
   "source": []
  }
 ],
 "metadata": {
  "kernelspec": {
   "display_name": "Python 3",
   "language": "python",
   "name": "python3"
  },
  "language_info": {
   "codemirror_mode": {
    "name": "ipython",
    "version": 3
   },
   "file_extension": ".py",
   "mimetype": "text/x-python",
   "name": "python",
   "nbconvert_exporter": "python",
   "pygments_lexer": "ipython3",
   "version": "3.7.3"
  },
  "orig_nbformat": 4
 },
 "nbformat": 4,
 "nbformat_minor": 2
}
