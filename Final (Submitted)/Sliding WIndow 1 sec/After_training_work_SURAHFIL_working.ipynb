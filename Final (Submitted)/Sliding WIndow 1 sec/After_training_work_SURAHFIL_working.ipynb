{
 "cells": [
  {
   "cell_type": "code",
   "execution_count": 2,
   "metadata": {},
   "outputs": [],
   "source": [
    "import pandas as pd\n",
    "import os\n",
    "import librosa\n",
    "import numpy as np\n",
    "import math\n",
    "import numpy as np\n",
    "from tqdm import tqdm\n",
    "import matplotlib.pyplot as plt\n",
    "%matplotlib inline\n",
    "import librosa.display"
   ]
  },
  {
   "cell_type": "code",
   "execution_count": 3,
   "metadata": {},
   "outputs": [
    {
     "data": {
      "text/html": [
       "<div>\n",
       "<style scoped>\n",
       "    .dataframe tbody tr th:only-of-type {\n",
       "        vertical-align: middle;\n",
       "    }\n",
       "\n",
       "    .dataframe tbody tr th {\n",
       "        vertical-align: top;\n",
       "    }\n",
       "\n",
       "    .dataframe thead th {\n",
       "        text-align: right;\n",
       "    }\n",
       "</style>\n",
       "<table border=\"1\" class=\"dataframe\">\n",
       "  <thead>\n",
       "    <tr style=\"text-align: right;\">\n",
       "      <th></th>\n",
       "      <th>slice_file_name</th>\n",
       "      <th>fold</th>\n",
       "      <th>classID</th>\n",
       "      <th>class</th>\n",
       "    </tr>\n",
       "  </thead>\n",
       "  <tbody>\n",
       "    <tr>\n",
       "      <th>0</th>\n",
       "      <td>file2_2.wav</td>\n",
       "      <td>1</td>\n",
       "      <td>105</td>\n",
       "      <td>Al-Fil</td>\n",
       "    </tr>\n",
       "    <tr>\n",
       "      <th>1</th>\n",
       "      <td>file2_3.wav</td>\n",
       "      <td>1</td>\n",
       "      <td>105</td>\n",
       "      <td>Al-Fil</td>\n",
       "    </tr>\n",
       "    <tr>\n",
       "      <th>2</th>\n",
       "      <td>file2_4.wav</td>\n",
       "      <td>1</td>\n",
       "      <td>105</td>\n",
       "      <td>Al-Fil</td>\n",
       "    </tr>\n",
       "    <tr>\n",
       "      <th>3</th>\n",
       "      <td>file2_5.wav</td>\n",
       "      <td>1</td>\n",
       "      <td>105</td>\n",
       "      <td>Al-Fil</td>\n",
       "    </tr>\n",
       "    <tr>\n",
       "      <th>4</th>\n",
       "      <td>file2_6.wav</td>\n",
       "      <td>1</td>\n",
       "      <td>105</td>\n",
       "      <td>Al-Fil</td>\n",
       "    </tr>\n",
       "    <tr>\n",
       "      <th>5</th>\n",
       "      <td>file3_2.wav</td>\n",
       "      <td>2</td>\n",
       "      <td>105</td>\n",
       "      <td>Al-Fil</td>\n",
       "    </tr>\n",
       "    <tr>\n",
       "      <th>6</th>\n",
       "      <td>file3_3.wav</td>\n",
       "      <td>2</td>\n",
       "      <td>105</td>\n",
       "      <td>Al-Fil</td>\n",
       "    </tr>\n",
       "    <tr>\n",
       "      <th>7</th>\n",
       "      <td>file3_4.wav</td>\n",
       "      <td>2</td>\n",
       "      <td>105</td>\n",
       "      <td>Al-Fil</td>\n",
       "    </tr>\n",
       "    <tr>\n",
       "      <th>8</th>\n",
       "      <td>file3_5.wav</td>\n",
       "      <td>2</td>\n",
       "      <td>105</td>\n",
       "      <td>Al-Fil</td>\n",
       "    </tr>\n",
       "    <tr>\n",
       "      <th>9</th>\n",
       "      <td>file3_6.wav</td>\n",
       "      <td>2</td>\n",
       "      <td>105</td>\n",
       "      <td>Al-Fil</td>\n",
       "    </tr>\n",
       "    <tr>\n",
       "      <th>10</th>\n",
       "      <td>file4_2.wav</td>\n",
       "      <td>3</td>\n",
       "      <td>105</td>\n",
       "      <td>Al-Fil</td>\n",
       "    </tr>\n",
       "    <tr>\n",
       "      <th>11</th>\n",
       "      <td>file4_3.wav</td>\n",
       "      <td>3</td>\n",
       "      <td>105</td>\n",
       "      <td>Al-Fil</td>\n",
       "    </tr>\n",
       "    <tr>\n",
       "      <th>12</th>\n",
       "      <td>file4_4.wav</td>\n",
       "      <td>3</td>\n",
       "      <td>105</td>\n",
       "      <td>Al-Fil</td>\n",
       "    </tr>\n",
       "    <tr>\n",
       "      <th>13</th>\n",
       "      <td>file4_5.wav</td>\n",
       "      <td>3</td>\n",
       "      <td>105</td>\n",
       "      <td>Al-Fil</td>\n",
       "    </tr>\n",
       "    <tr>\n",
       "      <th>14</th>\n",
       "      <td>file4_6.wav</td>\n",
       "      <td>3</td>\n",
       "      <td>105</td>\n",
       "      <td>Al-Fil</td>\n",
       "    </tr>\n",
       "  </tbody>\n",
       "</table>\n",
       "</div>"
      ],
      "text/plain": [
       "   slice_file_name  fold  classID   class\n",
       "0      file2_2.wav     1      105  Al-Fil\n",
       "1      file2_3.wav     1      105  Al-Fil\n",
       "2      file2_4.wav     1      105  Al-Fil\n",
       "3      file2_5.wav     1      105  Al-Fil\n",
       "4      file2_6.wav     1      105  Al-Fil\n",
       "5      file3_2.wav     2      105  Al-Fil\n",
       "6      file3_3.wav     2      105  Al-Fil\n",
       "7      file3_4.wav     2      105  Al-Fil\n",
       "8      file3_5.wav     2      105  Al-Fil\n",
       "9      file3_6.wav     2      105  Al-Fil\n",
       "10     file4_2.wav     3      105  Al-Fil\n",
       "11     file4_3.wav     3      105  Al-Fil\n",
       "12     file4_4.wav     3      105  Al-Fil\n",
       "13     file4_5.wav     3      105  Al-Fil\n",
       "14     file4_6.wav     3      105  Al-Fil"
      ]
     },
     "execution_count": 3,
     "metadata": {},
     "output_type": "execute_result"
    }
   ],
   "source": [
    "audio_dataset_path='C:/Users/aleem/Desktop/Currentlyworking_New_extracted audio wav after cleaning then augmentation/sliding_window_1_sec/data/Al-Fil/'\n",
    "metadata=pd.read_csv('C:/Users/aleem/Desktop/Currentlyworking_New_extracted audio wav after cleaning then augmentation/sliding_window_1_sec/data/Al-Fil/metadata_105.csv')\n",
    "metadata.head(20)"
   ]
  },
  {
   "cell_type": "markdown",
   "metadata": {},
   "source": [
    "Feature Extraction"
   ]
  },
  {
   "cell_type": "code",
   "execution_count": 4,
   "metadata": {},
   "outputs": [],
   "source": [
    "def mfcc_features_extractor_1sec(file):\n",
    "    # audio, sample_rate = librosa.load(file_name) \n",
    "    # mfccs_features = librosa.feature.mfcc(y=audio, sr=16000, n_mfcc=40)\n",
    "    # mfccs_scaled_features = np.mean(mfccs_features.T,axis=0)\n",
    "    \n",
    "    y, sr = librosa.load(file, sr=16000)\n",
    "    \n",
    "    y = y[:192000]  #12 Secs for all audios\n",
    "    zero_padding = np.zeros(192000 - y.shape[0], dtype=np.float32)\n",
    "    y = np.concatenate([y, zero_padding])   \n",
    "\n",
    "    # Define window size and hop length\n",
    "    win_length = int(sr * 1) # 1 second window\n",
    "    hop_length = int(win_length / 2) # 50% overlap\n",
    "\n",
    "    # Extract MFCC features for each window\n",
    "    mfccs = []\n",
    "    for i in range(0, len(y)-win_length, hop_length):\n",
    "        mfcc = librosa.feature.mfcc(y[i:i+win_length], sr=sr, n_mfcc=40)\n",
    "        mfccs.append(mfcc)\n",
    "\n",
    "    # Combine MFCC features for all windows\n",
    "    mfccs = np.concatenate(mfccs, axis=1)\n",
    "    mfccs = mfccs.T\n",
    "\n",
    "    # Return final MFCC features\n",
    "    return mfccs\n",
    "\n",
    "    \n",
    "    # return mfccs_scaled_features"
   ]
  },
  {
   "cell_type": "code",
   "execution_count": 5,
   "metadata": {},
   "outputs": [],
   "source": [
    "# mfcc_extracted_features=[]\n",
    "\n",
    "# for index_num,row in tqdm(metadata.iterrows()):\n",
    "#     file_name = os.path.join(os.path.abspath(audio_dataset_path),'fold'+str(row[\"fold\"])+'/',str(row[\"slice_file_name\"]))\n",
    "#     final_class_labels=row[\"class\"]\n",
    "    \n",
    "#     # MFCC Features Extraction\n",
    "#     mfcc_data= mfcc_features_extractor_1sec(file_name)\n",
    "#     mfcc_extracted_features.append([mfcc_data,final_class_labels])\n",
    "#     # print(mfcc_extracted_features)"
   ]
  },
  {
   "cell_type": "code",
   "execution_count": 6,
   "metadata": {},
   "outputs": [
    {
     "name": "stderr",
     "output_type": "stream",
     "text": [
      "0it [00:00, ?it/s]C:\\Users\\aleem\\AppData\\Roaming\\Python\\Python37\\site-packages\\ipykernel_launcher.py:19: FutureWarning: Pass y=[-0.00217523  0.00521813  0.00339093 ... -0.29806244 -0.43185666\n",
      " -0.24938205] as keyword args. From version 0.10 passing these as positional arguments will result in an error\n",
      "C:\\Users\\aleem\\AppData\\Roaming\\Python\\Python37\\site-packages\\ipykernel_launcher.py:19: FutureWarning: Pass y=[-0.14031436 -0.14093682 -0.09778552 ...  0.47530606  0.40005422\n",
      "  0.55055577] as keyword args. From version 0.10 passing these as positional arguments will result in an error\n",
      "C:\\Users\\aleem\\AppData\\Roaming\\Python\\Python37\\site-packages\\ipykernel_launcher.py:19: FutureWarning: Pass y=[-0.19895402 -0.2985239  -0.24242662 ... -0.16960028 -0.31309488\n",
      " -0.39246798] as keyword args. From version 0.10 passing these as positional arguments will result in an error\n",
      "C:\\Users\\aleem\\AppData\\Roaming\\Python\\Python37\\site-packages\\ipykernel_launcher.py:19: FutureWarning: Pass y=[0.539929   0.44819164 0.56892383 ... 0.00994868 0.02563057 0.03906684] as keyword args. From version 0.10 passing these as positional arguments will result in an error\n",
      "C:\\Users\\aleem\\AppData\\Roaming\\Python\\Python37\\site-packages\\ipykernel_launcher.py:19: FutureWarning: Pass y=[-0.22786434 -0.14385739 -0.1711587  ... -0.4418825  -0.32477412\n",
      " -0.25302508] as keyword args. From version 0.10 passing these as positional arguments will result in an error\n",
      "C:\\Users\\aleem\\AppData\\Roaming\\Python\\Python37\\site-packages\\ipykernel_launcher.py:19: FutureWarning: Pass y=[ 0.07511653  0.12362151  0.15674004 ...  0.16926299  0.1166949\n",
      " -0.00176373] as keyword args. From version 0.10 passing these as positional arguments will result in an error\n",
      "C:\\Users\\aleem\\AppData\\Roaming\\Python\\Python37\\site-packages\\ipykernel_launcher.py:19: FutureWarning: Pass y=[-0.33868375 -0.4560275  -0.34668362 ...  0.0463748  -0.00249176\n",
      "  0.16038479] as keyword args. From version 0.10 passing these as positional arguments will result in an error\n",
      "C:\\Users\\aleem\\AppData\\Roaming\\Python\\Python37\\site-packages\\ipykernel_launcher.py:19: FutureWarning: Pass y=[-0.00685646  0.02918814 -0.097584   ... -0.33189443 -0.3539942\n",
      " -0.3575686 ] as keyword args. From version 0.10 passing these as positional arguments will result in an error\n",
      "C:\\Users\\aleem\\AppData\\Roaming\\Python\\Python37\\site-packages\\ipykernel_launcher.py:19: FutureWarning: Pass y=[ 0.14766245  0.0851715   0.02430549 ... -0.25798532 -0.09730153\n",
      " -0.09471252] as keyword args. From version 0.10 passing these as positional arguments will result in an error\n",
      "C:\\Users\\aleem\\AppData\\Roaming\\Python\\Python37\\site-packages\\ipykernel_launcher.py:19: FutureWarning: Pass y=[-0.3504394  -0.41735432 -0.4211246  ... -0.07187445 -0.13155851\n",
      " -0.15997997] as keyword args. From version 0.10 passing these as positional arguments will result in an error\n",
      "C:\\Users\\aleem\\AppData\\Roaming\\Python\\Python37\\site-packages\\ipykernel_launcher.py:19: FutureWarning: Pass y=[-0.2505263  -0.04880515 -0.08890422 ...  0.          0.\n",
      "  0.        ] as keyword args. From version 0.10 passing these as positional arguments will result in an error\n",
      "C:\\Users\\aleem\\AppData\\Roaming\\Python\\Python37\\site-packages\\ipykernel_launcher.py:19: FutureWarning: Pass y=[-0.14148225 -0.13088548 -0.22656001 ...  0.          0.\n",
      "  0.        ] as keyword args. From version 0.10 passing these as positional arguments will result in an error\n",
      "C:\\Users\\aleem\\AppData\\Roaming\\Python\\Python37\\site-packages\\ipykernel_launcher.py:19: FutureWarning: Pass y=[0. 0. 0. ... 0. 0. 0.] as keyword args. From version 0.10 passing these as positional arguments will result in an error\n",
      "1it [00:00,  6.76it/s]C:\\Users\\aleem\\AppData\\Roaming\\Python\\Python37\\site-packages\\ipykernel_launcher.py:19: FutureWarning: Pass y=[-1.1751547e-03  4.6872773e-04  4.5031030e-04 ... -1.0004176e+00\n",
      " -9.7760677e-01 -8.9248151e-01] as keyword args. From version 0.10 passing these as positional arguments will result in an error\n",
      "C:\\Users\\aleem\\AppData\\Roaming\\Python\\Python37\\site-packages\\ipykernel_launcher.py:19: FutureWarning: Pass y=[0.46900904 0.42068452 0.302814   ... 0.06336316 0.0235204  0.05938981] as keyword args. From version 0.10 passing these as positional arguments will result in an error\n",
      "C:\\Users\\aleem\\AppData\\Roaming\\Python\\Python37\\site-packages\\ipykernel_launcher.py:19: FutureWarning: Pass y=[-0.6648985  -0.33913344 -0.03404119 ... -0.18702431 -0.1470152\n",
      " -0.10499562] as keyword args. From version 0.10 passing these as positional arguments will result in an error\n",
      "C:\\Users\\aleem\\AppData\\Roaming\\Python\\Python37\\site-packages\\ipykernel_launcher.py:19: FutureWarning: Pass y=[ 0.02413016  0.084168    0.03479639 ... -0.25041312 -0.24158503\n",
      " -0.21621032] as keyword args. From version 0.10 passing these as positional arguments will result in an error\n",
      "C:\\Users\\aleem\\AppData\\Roaming\\Python\\Python37\\site-packages\\ipykernel_launcher.py:19: FutureWarning: Pass y=[-0.14472853 -0.17991404 -0.2131771  ... -0.14160766 -0.14169714\n",
      " -0.13479033] as keyword args. From version 0.10 passing these as positional arguments will result in an error\n",
      "C:\\Users\\aleem\\AppData\\Roaming\\Python\\Python37\\site-packages\\ipykernel_launcher.py:19: FutureWarning: Pass y=[-0.20006895 -0.24536647 -0.33418363 ...  0.01541447 -0.02301427\n",
      " -0.12774865] as keyword args. From version 0.10 passing these as positional arguments will result in an error\n",
      "C:\\Users\\aleem\\AppData\\Roaming\\Python\\Python37\\site-packages\\ipykernel_launcher.py:19: FutureWarning: Pass y=[-0.12546863 -0.13696642 -0.14958085 ...  0.11948479  0.10442007\n",
      "  0.1645437 ] as keyword args. From version 0.10 passing these as positional arguments will result in an error\n",
      "C:\\Users\\aleem\\AppData\\Roaming\\Python\\Python37\\site-packages\\ipykernel_launcher.py:19: FutureWarning: Pass y=[-0.12502341 -0.07501633 -0.17855257 ...  0.04137341  0.03183556\n",
      "  0.02761191] as keyword args. From version 0.10 passing these as positional arguments will result in an error\n",
      "C:\\Users\\aleem\\AppData\\Roaming\\Python\\Python37\\site-packages\\ipykernel_launcher.py:19: FutureWarning: Pass y=[0.2656783  0.20866705 0.1492791  ... 0.         0.         0.        ] as keyword args. From version 0.10 passing these as positional arguments will result in an error\n",
      "C:\\Users\\aleem\\AppData\\Roaming\\Python\\Python37\\site-packages\\ipykernel_launcher.py:19: FutureWarning: Pass y=[0.02525586 0.02202792 0.01866771 ... 0.         0.         0.        ] as keyword args. From version 0.10 passing these as positional arguments will result in an error\n",
      "2it [00:00,  6.29it/s]C:\\Users\\aleem\\AppData\\Roaming\\Python\\Python37\\site-packages\\ipykernel_launcher.py:19: FutureWarning: Pass y=[ 0.00423934  0.00310416  0.00109997 ... -0.10338777  0.01654878\n",
      "  0.02100291] as keyword args. From version 0.10 passing these as positional arguments will result in an error\n",
      "C:\\Users\\aleem\\AppData\\Roaming\\Python\\Python37\\site-packages\\ipykernel_launcher.py:19: FutureWarning: Pass y=[ 0.06521591  0.26005307  0.06161476 ...  0.02485735  0.03717479\n",
      " -0.09829228] as keyword args. From version 0.10 passing these as positional arguments will result in an error\n",
      "C:\\Users\\aleem\\AppData\\Roaming\\Python\\Python37\\site-packages\\ipykernel_launcher.py:19: FutureWarning: Pass y=[-0.09654344  0.20552215  0.35974917 ... -0.2873242  -0.31228527\n",
      " -0.19325049] as keyword args. From version 0.10 passing these as positional arguments will result in an error\n",
      "C:\\Users\\aleem\\AppData\\Roaming\\Python\\Python37\\site-packages\\ipykernel_launcher.py:19: FutureWarning: Pass y=[-0.07252657  0.06669316 -0.04756047 ... -0.08807664 -0.13639778\n",
      " -0.22867298] as keyword args. From version 0.10 passing these as positional arguments will result in an error\n",
      "C:\\Users\\aleem\\AppData\\Roaming\\Python\\Python37\\site-packages\\ipykernel_launcher.py:19: FutureWarning: Pass y=[-0.25398993 -0.13127771  0.01393131 ...  0.15858345  0.12406213\n",
      "  0.03933344] as keyword args. From version 0.10 passing these as positional arguments will result in an error\n",
      "C:\\Users\\aleem\\AppData\\Roaming\\Python\\Python37\\site-packages\\ipykernel_launcher.py:19: FutureWarning: Pass y=[-0.25669992 -0.28163815 -0.32906115 ... -0.2638581  -0.3038905\n",
      " -0.24467409] as keyword args. From version 0.10 passing these as positional arguments will result in an error\n",
      "C:\\Users\\aleem\\AppData\\Roaming\\Python\\Python37\\site-packages\\ipykernel_launcher.py:19: FutureWarning: Pass y=[-0.06547143 -0.00609649 -0.06947863 ... -0.41137382 -0.44104257\n",
      " -0.44480872] as keyword args. From version 0.10 passing these as positional arguments will result in an error\n",
      "C:\\Users\\aleem\\AppData\\Roaming\\Python\\Python37\\site-packages\\ipykernel_launcher.py:19: FutureWarning: Pass y=[-0.18426628 -0.2107539  -0.29222593 ...  0.30414608  0.30111188\n",
      "  0.33534023] as keyword args. From version 0.10 passing these as positional arguments will result in an error\n",
      "C:\\Users\\aleem\\AppData\\Roaming\\Python\\Python37\\site-packages\\ipykernel_launcher.py:19: FutureWarning: Pass y=[-0.40785718 -0.37096292 -0.35916564 ...  0.          0.\n",
      "  0.        ] as keyword args. From version 0.10 passing these as positional arguments will result in an error\n",
      "C:\\Users\\aleem\\AppData\\Roaming\\Python\\Python37\\site-packages\\ipykernel_launcher.py:19: FutureWarning: Pass y=[0.34612125 0.30943745 0.30554026 ... 0.         0.         0.        ] as keyword args. From version 0.10 passing these as positional arguments will result in an error\n",
      "3it [00:00,  7.36it/s]C:\\Users\\aleem\\AppData\\Roaming\\Python\\Python37\\site-packages\\ipykernel_launcher.py:19: FutureWarning: Pass y=[-0.00481661 -0.00790634 -0.00644077 ... -0.07926092 -0.11891225\n",
      " -0.11440136] as keyword args. From version 0.10 passing these as positional arguments will result in an error\n",
      "C:\\Users\\aleem\\AppData\\Roaming\\Python\\Python37\\site-packages\\ipykernel_launcher.py:19: FutureWarning: Pass y=[-0.31818837 -0.37342194 -0.25292835 ... -0.4241395  -0.43137628\n",
      " -0.44988972] as keyword args. From version 0.10 passing these as positional arguments will result in an error\n",
      "C:\\Users\\aleem\\AppData\\Roaming\\Python\\Python37\\site-packages\\ipykernel_launcher.py:19: FutureWarning: Pass y=[-0.12033914 -0.06276175  0.02078996 ...  0.08495121  0.08391359\n",
      "  0.01318104] as keyword args. From version 0.10 passing these as positional arguments will result in an error\n",
      "C:\\Users\\aleem\\AppData\\Roaming\\Python\\Python37\\site-packages\\ipykernel_launcher.py:19: FutureWarning: Pass y=[-0.46333292 -0.47573343 -0.482719   ... -0.04015324 -0.02099396\n",
      "  0.00133423] as keyword args. From version 0.10 passing these as positional arguments will result in an error\n",
      "C:\\Users\\aleem\\AppData\\Roaming\\Python\\Python37\\site-packages\\ipykernel_launcher.py:19: FutureWarning: Pass y=[-0.04910771  0.02945852  0.00112239 ... -0.08289488 -0.04526756\n",
      "  0.04912664] as keyword args. From version 0.10 passing these as positional arguments will result in an error\n",
      "C:\\Users\\aleem\\AppData\\Roaming\\Python\\Python37\\site-packages\\ipykernel_launcher.py:19: FutureWarning: Pass y=[-0.0186295   0.00457429  0.00189385 ... -0.08716329 -0.06869381\n",
      " -0.02131948] as keyword args. From version 0.10 passing these as positional arguments will result in an error\n",
      "C:\\Users\\aleem\\AppData\\Roaming\\Python\\Python37\\site-packages\\ipykernel_launcher.py:19: FutureWarning: Pass y=[0.12603937 0.14388467 0.04266255 ... 0.13913973 0.15091299 0.16714966] as keyword args. From version 0.10 passing these as positional arguments will result in an error\n",
      "C:\\Users\\aleem\\AppData\\Roaming\\Python\\Python37\\site-packages\\ipykernel_launcher.py:19: FutureWarning: Pass y=[ 0.0046728   0.00545586  0.02669839 ... -0.06169517 -0.11033116\n",
      " -0.11924382] as keyword args. From version 0.10 passing these as positional arguments will result in an error\n",
      "C:\\Users\\aleem\\AppData\\Roaming\\Python\\Python37\\site-packages\\ipykernel_launcher.py:19: FutureWarning: Pass y=[ 2.2906604e-01  3.6826238e-01  2.2401080e-01 ...  2.3912688e-01\n",
      "  1.2833172e-01 -3.2441897e-04] as keyword args. From version 0.10 passing these as positional arguments will result in an error\n",
      "C:\\Users\\aleem\\AppData\\Roaming\\Python\\Python37\\site-packages\\ipykernel_launcher.py:19: FutureWarning: Pass y=[-1.4642785e-01 -2.5949878e-01 -2.6859125e-01 ...  9.4802708e-05\n",
      " -5.9367466e-04  1.8712834e-02] as keyword args. From version 0.10 passing these as positional arguments will result in an error\n",
      "C:\\Users\\aleem\\AppData\\Roaming\\Python\\Python37\\site-packages\\ipykernel_launcher.py:19: FutureWarning: Pass y=[ 0.18548298 -0.02711337 -0.06881095 ...  0.19512044  0.23164298\n",
      "  0.36025706] as keyword args. From version 0.10 passing these as positional arguments will result in an error\n",
      "C:\\Users\\aleem\\AppData\\Roaming\\Python\\Python37\\site-packages\\ipykernel_launcher.py:19: FutureWarning: Pass y=[ 0.00671974 -0.02144997  0.0058904  ... -0.22717896 -0.2659604\n",
      " -0.31850377] as keyword args. From version 0.10 passing these as positional arguments will result in an error\n",
      "C:\\Users\\aleem\\AppData\\Roaming\\Python\\Python37\\site-packages\\ipykernel_launcher.py:19: FutureWarning: Pass y=[ 0.3106926   0.16442083  0.25199598 ... -0.00150253 -0.01307201\n",
      " -0.00631915] as keyword args. From version 0.10 passing these as positional arguments will result in an error\n",
      "C:\\Users\\aleem\\AppData\\Roaming\\Python\\Python37\\site-packages\\ipykernel_launcher.py:19: FutureWarning: Pass y=[-0.22195223 -0.27373892 -0.34028888 ...  0.          0.\n",
      "  0.        ] as keyword args. From version 0.10 passing these as positional arguments will result in an error\n",
      "C:\\Users\\aleem\\AppData\\Roaming\\Python\\Python37\\site-packages\\ipykernel_launcher.py:19: FutureWarning: Pass y=[ 0.00179295 -0.0097977  -0.00233942 ...  0.          0.\n",
      "  0.        ] as keyword args. From version 0.10 passing these as positional arguments will result in an error\n",
      "4it [00:00,  8.00it/s]C:\\Users\\aleem\\AppData\\Roaming\\Python\\Python37\\site-packages\\ipykernel_launcher.py:19: FutureWarning: Pass y=[ 2.3516266e-04  6.6138955e-04 -2.8295923e-04 ...  2.4240722e-01\n",
      "  2.1044397e-01  2.7209523e-01] as keyword args. From version 0.10 passing these as positional arguments will result in an error\n",
      "C:\\Users\\aleem\\AppData\\Roaming\\Python\\Python37\\site-packages\\ipykernel_launcher.py:19: FutureWarning: Pass y=[-0.15791261 -0.14155078 -0.13485608 ... -0.53512305 -0.5056334\n",
      " -0.4994219 ] as keyword args. From version 0.10 passing these as positional arguments will result in an error\n",
      "C:\\Users\\aleem\\AppData\\Roaming\\Python\\Python37\\site-packages\\ipykernel_launcher.py:19: FutureWarning: Pass y=[ 0.32866505  0.3397374   0.2440782  ... -0.19312704 -0.26091197\n",
      " -0.20630606] as keyword args. From version 0.10 passing these as positional arguments will result in an error\n",
      "C:\\Users\\aleem\\AppData\\Roaming\\Python\\Python37\\site-packages\\ipykernel_launcher.py:19: FutureWarning: Pass y=[-0.453416   -0.3156297  -0.17620726 ...  0.04712435  0.08416978\n",
      "  0.09024858] as keyword args. From version 0.10 passing these as positional arguments will result in an error\n",
      "C:\\Users\\aleem\\AppData\\Roaming\\Python\\Python37\\site-packages\\ipykernel_launcher.py:19: FutureWarning: Pass y=[-0.2392631  -0.21658172 -0.20109184 ...  0.05200334  0.12505318\n",
      " -0.00724787] as keyword args. From version 0.10 passing these as positional arguments will result in an error\n",
      "C:\\Users\\aleem\\AppData\\Roaming\\Python\\Python37\\site-packages\\ipykernel_launcher.py:19: FutureWarning: Pass y=[0.11187356 0.13588391 0.12182154 ... 0.31389174 0.33509734 0.36672184] as keyword args. From version 0.10 passing these as positional arguments will result in an error\n",
      "C:\\Users\\aleem\\AppData\\Roaming\\Python\\Python37\\site-packages\\ipykernel_launcher.py:19: FutureWarning: Pass y=[-0.2153822  -0.34853387 -0.26709077 ...  0.27634645  0.3191061\n",
      "  0.33382678] as keyword args. From version 0.10 passing these as positional arguments will result in an error\n",
      "C:\\Users\\aleem\\AppData\\Roaming\\Python\\Python37\\site-packages\\ipykernel_launcher.py:19: FutureWarning: Pass y=[0.38929993 0.4025175  0.39046562 ... 0.15388471 0.09408322 0.02139521] as keyword args. From version 0.10 passing these as positional arguments will result in an error\n",
      "C:\\Users\\aleem\\AppData\\Roaming\\Python\\Python37\\site-packages\\ipykernel_launcher.py:19: FutureWarning: Pass y=[0.34352338 0.33079112 0.3132164  ... 0.         0.         0.        ] as keyword args. From version 0.10 passing these as positional arguments will result in an error\n",
      "C:\\Users\\aleem\\AppData\\Roaming\\Python\\Python37\\site-packages\\ipykernel_launcher.py:19: FutureWarning: Pass y=[-0.06827076 -0.15277489 -0.198818   ...  0.          0.\n",
      "  0.        ] as keyword args. From version 0.10 passing these as positional arguments will result in an error\n",
      "C:\\Users\\aleem\\AppData\\Roaming\\Python\\Python37\\site-packages\\ipykernel_launcher.py:19: FutureWarning: Pass y=[-0.01265529 -0.01166431 -0.01166669 ... -0.11210807 -0.14101651\n",
      " -0.1417628 ] as keyword args. From version 0.10 passing these as positional arguments will result in an error\n",
      "C:\\Users\\aleem\\AppData\\Roaming\\Python\\Python37\\site-packages\\ipykernel_launcher.py:19: FutureWarning: Pass y=[-0.1319731  -0.21208766 -0.27315444 ... -0.15180689 -0.11911572\n",
      " -0.12250475] as keyword args. From version 0.10 passing these as positional arguments will result in an error\n",
      "C:\\Users\\aleem\\AppData\\Roaming\\Python\\Python37\\site-packages\\ipykernel_launcher.py:19: FutureWarning: Pass y=[-0.24205922 -0.33780137 -0.08875966 ... -0.04606653 -0.23847744\n",
      " -0.34596413] as keyword args. From version 0.10 passing these as positional arguments will result in an error\n",
      "C:\\Users\\aleem\\AppData\\Roaming\\Python\\Python37\\site-packages\\ipykernel_launcher.py:19: FutureWarning: Pass y=[-0.13031705 -0.11995569 -0.11267593 ... -0.30703467 -0.32602075\n",
      " -0.15287928] as keyword args. From version 0.10 passing these as positional arguments will result in an error\n",
      "C:\\Users\\aleem\\AppData\\Roaming\\Python\\Python37\\site-packages\\ipykernel_launcher.py:19: FutureWarning: Pass y=[-0.34553787 -0.1858633   0.0921749  ... -0.01094281  0.01701884\n",
      "  0.04953403] as keyword args. From version 0.10 passing these as positional arguments will result in an error\n",
      "C:\\Users\\aleem\\AppData\\Roaming\\Python\\Python37\\site-packages\\ipykernel_launcher.py:19: FutureWarning: Pass y=[-0.13298078 -0.25500628 -0.31445333 ...  0.01390733  0.0269499\n",
      "  0.03917835] as keyword args. From version 0.10 passing these as positional arguments will result in an error\n",
      "C:\\Users\\aleem\\AppData\\Roaming\\Python\\Python37\\site-packages\\ipykernel_launcher.py:19: FutureWarning: Pass y=[ 0.1056938   0.15537368  0.18653695 ... -0.02850638 -0.02028625\n",
      "  0.08497799] as keyword args. From version 0.10 passing these as positional arguments will result in an error\n",
      "C:\\Users\\aleem\\AppData\\Roaming\\Python\\Python37\\site-packages\\ipykernel_launcher.py:19: FutureWarning: Pass y=[ 0.0276833  -0.00672879 -0.04491506 ... -0.5313613  -0.5519039\n",
      " -0.5735322 ] as keyword args. From version 0.10 passing these as positional arguments will result in an error\n",
      "C:\\Users\\aleem\\AppData\\Roaming\\Python\\Python37\\site-packages\\ipykernel_launcher.py:19: FutureWarning: Pass y=[ 0.03358085 -0.06464367 -0.07592915 ... -0.17957214 -0.19058706\n",
      " -0.16851047] as keyword args. From version 0.10 passing these as positional arguments will result in an error\n",
      "C:\\Users\\aleem\\AppData\\Roaming\\Python\\Python37\\site-packages\\ipykernel_launcher.py:19: FutureWarning: Pass y=[-0.5311212  -0.29502854 -0.0213843  ... -0.12311044 -0.10528306\n",
      " -0.01625725] as keyword args. From version 0.10 passing these as positional arguments will result in an error\n",
      "C:\\Users\\aleem\\AppData\\Roaming\\Python\\Python37\\site-packages\\ipykernel_launcher.py:19: FutureWarning: Pass y=[-0.16935022 -0.17698194 -0.17828329 ...  0.20277107  0.09282798\n",
      "  0.03771892] as keyword args. From version 0.10 passing these as positional arguments will result in an error\n",
      "C:\\Users\\aleem\\AppData\\Roaming\\Python\\Python37\\site-packages\\ipykernel_launcher.py:19: FutureWarning: Pass y=[-0.00319735 -0.03951015 -0.14088066 ... -0.06707854  0.00734791\n",
      " -0.00138697] as keyword args. From version 0.10 passing these as positional arguments will result in an error\n",
      "C:\\Users\\aleem\\AppData\\Roaming\\Python\\Python37\\site-packages\\ipykernel_launcher.py:19: FutureWarning: Pass y=[ 0.08341759  0.14208095  0.13640805 ... -0.00946073  0.00873522\n",
      "  0.07539122] as keyword args. From version 0.10 passing these as positional arguments will result in an error\n",
      "C:\\Users\\aleem\\AppData\\Roaming\\Python\\Python37\\site-packages\\ipykernel_launcher.py:19: FutureWarning: Pass y=[-0.06666243 -0.18015143 -0.28365207 ... -0.00085838 -0.00887395\n",
      " -0.00787331] as keyword args. From version 0.10 passing these as positional arguments will result in an error\n",
      "C:\\Users\\aleem\\AppData\\Roaming\\Python\\Python37\\site-packages\\ipykernel_launcher.py:19: FutureWarning: Pass y=[ 0.08592032  0.02542137 -0.00975352 ...  0.          0.\n",
      "  0.        ] as keyword args. From version 0.10 passing these as positional arguments will result in an error\n",
      "C:\\Users\\aleem\\AppData\\Roaming\\Python\\Python37\\site-packages\\ipykernel_launcher.py:19: FutureWarning: Pass y=[0.00235834 0.01345857 0.02146557 ... 0.         0.         0.        ] as keyword args. From version 0.10 passing these as positional arguments will result in an error\n",
      "6it [00:00,  9.11it/s]C:\\Users\\aleem\\AppData\\Roaming\\Python\\Python37\\site-packages\\ipykernel_launcher.py:19: FutureWarning: Pass y=[-0.00262423 -0.00475643 -0.00474912 ... -0.11396669  0.1602972\n",
      "  0.49125892] as keyword args. From version 0.10 passing these as positional arguments will result in an error\n",
      "C:\\Users\\aleem\\AppData\\Roaming\\Python\\Python37\\site-packages\\ipykernel_launcher.py:19: FutureWarning: Pass y=[ 0.23832844  0.17951256  0.16450362 ... -0.08367937 -0.07023101\n",
      " -0.049218  ] as keyword args. From version 0.10 passing these as positional arguments will result in an error\n",
      "C:\\Users\\aleem\\AppData\\Roaming\\Python\\Python37\\site-packages\\ipykernel_launcher.py:19: FutureWarning: Pass y=[ 0.5893466   0.5882698   0.5351643  ... -0.05850996 -0.07562492\n",
      " -0.08191351] as keyword args. From version 0.10 passing these as positional arguments will result in an error\n",
      "C:\\Users\\aleem\\AppData\\Roaming\\Python\\Python37\\site-packages\\ipykernel_launcher.py:19: FutureWarning: Pass y=[-0.01488051  0.04256178  0.10093503 ...  0.08179599  0.10171711\n",
      "  0.10311935] as keyword args. From version 0.10 passing these as positional arguments will result in an error\n",
      "C:\\Users\\aleem\\AppData\\Roaming\\Python\\Python37\\site-packages\\ipykernel_launcher.py:19: FutureWarning: Pass y=[-0.09240637 -0.08196471 -0.06712687 ...  0.19454657  0.15244497\n",
      "  0.23268446] as keyword args. From version 0.10 passing these as positional arguments will result in an error\n",
      "C:\\Users\\aleem\\AppData\\Roaming\\Python\\Python37\\site-packages\\ipykernel_launcher.py:19: FutureWarning: Pass y=[ 0.0683208   0.02713621  0.0150771  ...  0.00557526  0.0024585\n",
      " -0.02320562] as keyword args. From version 0.10 passing these as positional arguments will result in an error\n",
      "C:\\Users\\aleem\\AppData\\Roaming\\Python\\Python37\\site-packages\\ipykernel_launcher.py:19: FutureWarning: Pass y=[ 0.29145694  0.17593358  0.0839159  ... -0.10726108 -0.0479368\n",
      "  0.03681989] as keyword args. From version 0.10 passing these as positional arguments will result in an error\n",
      "C:\\Users\\aleem\\AppData\\Roaming\\Python\\Python37\\site-packages\\ipykernel_launcher.py:19: FutureWarning: Pass y=[-0.05091455 -0.04200047 -0.02551849 ... -0.07060377 -0.04792193\n",
      "  0.05918935] as keyword args. From version 0.10 passing these as positional arguments will result in an error\n",
      "C:\\Users\\aleem\\AppData\\Roaming\\Python\\Python37\\site-packages\\ipykernel_launcher.py:19: FutureWarning: Pass y=[ 0.02184949 -0.03088402 -0.06156874 ...  0.15683119  0.14233068\n",
      "  0.08706782] as keyword args. From version 0.10 passing these as positional arguments will result in an error\n",
      "C:\\Users\\aleem\\AppData\\Roaming\\Python\\Python37\\site-packages\\ipykernel_launcher.py:19: FutureWarning: Pass y=[0.0967386  0.06464262 0.01573295 ... 0.16137922 0.15932457 0.14049312] as keyword args. From version 0.10 passing these as positional arguments will result in an error\n",
      "C:\\Users\\aleem\\AppData\\Roaming\\Python\\Python37\\site-packages\\ipykernel_launcher.py:19: FutureWarning: Pass y=[0.07130416 0.10877592 0.16223662 ... 0.04927557 0.03816105 0.03244397] as keyword args. From version 0.10 passing these as positional arguments will result in an error\n",
      "C:\\Users\\aleem\\AppData\\Roaming\\Python\\Python37\\site-packages\\ipykernel_launcher.py:19: FutureWarning: Pass y=[ 0.11250592  0.04645884 -0.04951001 ...  0.          0.\n",
      "  0.        ] as keyword args. From version 0.10 passing these as positional arguments will result in an error\n",
      "C:\\Users\\aleem\\AppData\\Roaming\\Python\\Python37\\site-packages\\ipykernel_launcher.py:19: FutureWarning: Pass y=[0.04410409 0.05213682 0.04340746 ... 0.         0.         0.        ] as keyword args. From version 0.10 passing these as positional arguments will result in an error\n",
      "7it [00:00,  9.01it/s]C:\\Users\\aleem\\AppData\\Roaming\\Python\\Python37\\site-packages\\ipykernel_launcher.py:19: FutureWarning: Pass y=[ 2.7431277e-04 -1.3984826e-03 -3.1430542e-03 ...  3.7970427e-01\n",
      "  7.8959531e-01  7.6485413e-01] as keyword args. From version 0.10 passing these as positional arguments will result in an error\n",
      "C:\\Users\\aleem\\AppData\\Roaming\\Python\\Python37\\site-packages\\ipykernel_launcher.py:19: FutureWarning: Pass y=[0.00122997 0.10945064 0.23227797 ... 0.02386504 0.17442939 0.2782561 ] as keyword args. From version 0.10 passing these as positional arguments will result in an error\n",
      "C:\\Users\\aleem\\AppData\\Roaming\\Python\\Python37\\site-packages\\ipykernel_launcher.py:19: FutureWarning: Pass y=[ 0.758734    0.7614283   0.33020064 ... -0.28994343 -0.22785214\n",
      " -0.17504059] as keyword args. From version 0.10 passing these as positional arguments will result in an error\n",
      "C:\\Users\\aleem\\AppData\\Roaming\\Python\\Python37\\site-packages\\ipykernel_launcher.py:19: FutureWarning: Pass y=[0.17442073 0.08783843 0.11038049 ... 0.17995824 0.16919628 0.12081497] as keyword args. From version 0.10 passing these as positional arguments will result in an error\n",
      "C:\\Users\\aleem\\AppData\\Roaming\\Python\\Python37\\site-packages\\ipykernel_launcher.py:19: FutureWarning: Pass y=[-0.14047897 -0.08680805 -0.07371894 ...  0.2216384   0.18910576\n",
      "  0.13071613] as keyword args. From version 0.10 passing these as positional arguments will result in an error\n",
      "C:\\Users\\aleem\\AppData\\Roaming\\Python\\Python37\\site-packages\\ipykernel_launcher.py:19: FutureWarning: Pass y=[0.12921508 0.11193311 0.04503508 ... 0.38924015 0.48270836 0.47021914] as keyword args. From version 0.10 passing these as positional arguments will result in an error\n",
      "C:\\Users\\aleem\\AppData\\Roaming\\Python\\Python37\\site-packages\\ipykernel_launcher.py:19: FutureWarning: Pass y=[ 0.05487647 -0.03907603 -0.11524982 ...  0.06698082  0.1030828\n",
      "  0.02990043] as keyword args. From version 0.10 passing these as positional arguments will result in an error\n",
      "C:\\Users\\aleem\\AppData\\Roaming\\Python\\Python37\\site-packages\\ipykernel_launcher.py:19: FutureWarning: Pass y=[ 0.4082868   0.33019835  0.19919223 ... -0.03649529 -0.07412679\n",
      " -0.10195839] as keyword args. From version 0.10 passing these as positional arguments will result in an error\n",
      "C:\\Users\\aleem\\AppData\\Roaming\\Python\\Python37\\site-packages\\ipykernel_launcher.py:19: FutureWarning: Pass y=[-0.04348103 -0.0469328  -0.00905138 ... -0.15768906 -0.17927088\n",
      " -0.20280954] as keyword args. From version 0.10 passing these as positional arguments will result in an error\n",
      "C:\\Users\\aleem\\AppData\\Roaming\\Python\\Python37\\site-packages\\ipykernel_launcher.py:19: FutureWarning: Pass y=[-0.15190111 -0.17971979 -0.23587203 ...  0.24206816  0.233779\n",
      "  0.22786765] as keyword args. From version 0.10 passing these as positional arguments will result in an error\n",
      "C:\\Users\\aleem\\AppData\\Roaming\\Python\\Python37\\site-packages\\ipykernel_launcher.py:19: FutureWarning: Pass y=[-0.2268598  -0.20274825 -0.18194762 ... -0.01168195  0.05813038\n",
      " -0.02401806] as keyword args. From version 0.10 passing these as positional arguments will result in an error\n",
      "C:\\Users\\aleem\\AppData\\Roaming\\Python\\Python37\\site-packages\\ipykernel_launcher.py:19: FutureWarning: Pass y=[ 0.22138792  0.20465727  0.16946004 ...  0.04942157  0.01057502\n",
      " -0.02599918] as keyword args. From version 0.10 passing these as positional arguments will result in an error\n",
      "C:\\Users\\aleem\\AppData\\Roaming\\Python\\Python37\\site-packages\\ipykernel_launcher.py:19: FutureWarning: Pass y=[-0.10162741 -0.03252234  0.02026994 ...  0.          0.\n",
      "  0.        ] as keyword args. From version 0.10 passing these as positional arguments will result in an error\n",
      "C:\\Users\\aleem\\AppData\\Roaming\\Python\\Python37\\site-packages\\ipykernel_launcher.py:19: FutureWarning: Pass y=[-0.0337634  -0.02443664 -0.02056449 ...  0.          0.\n",
      "  0.        ] as keyword args. From version 0.10 passing these as positional arguments will result in an error\n",
      "8it [00:00,  9.11it/s]C:\\Users\\aleem\\AppData\\Roaming\\Python\\Python37\\site-packages\\ipykernel_launcher.py:19: FutureWarning: Pass y=[ 0.01367874  0.01518148  0.01239014 ... -0.44233462 -0.41430613\n",
      " -0.1908986 ] as keyword args. From version 0.10 passing these as positional arguments will result in an error\n",
      "C:\\Users\\aleem\\AppData\\Roaming\\Python\\Python37\\site-packages\\ipykernel_launcher.py:19: FutureWarning: Pass y=[0.16389728 0.207669   0.22860494 ... 0.2026479  0.24293545 0.19960673] as keyword args. From version 0.10 passing these as positional arguments will result in an error\n",
      "C:\\Users\\aleem\\AppData\\Roaming\\Python\\Python37\\site-packages\\ipykernel_launcher.py:19: FutureWarning: Pass y=[-0.12216285 -0.26317456 -0.34939924 ...  0.25616047  0.27568984\n",
      "  0.27854016] as keyword args. From version 0.10 passing these as positional arguments will result in an error\n",
      "C:\\Users\\aleem\\AppData\\Roaming\\Python\\Python37\\site-packages\\ipykernel_launcher.py:19: FutureWarning: Pass y=[0.19076724 0.1848354  0.18669897 ... 0.00899907 0.02781307 0.02959464] as keyword args. From version 0.10 passing these as positional arguments will result in an error\n",
      "C:\\Users\\aleem\\AppData\\Roaming\\Python\\Python37\\site-packages\\ipykernel_launcher.py:19: FutureWarning: Pass y=[ 0.23626575  0.17742956  0.13657981 ... -0.02675776  0.07943211\n",
      "  0.11380396] as keyword args. From version 0.10 passing these as positional arguments will result in an error\n",
      "C:\\Users\\aleem\\AppData\\Roaming\\Python\\Python37\\site-packages\\ipykernel_launcher.py:19: FutureWarning: Pass y=[ 0.00664381 -0.07415389 -0.06341743 ...  0.0799799  -0.01285906\n",
      " -0.04459636] as keyword args. From version 0.10 passing these as positional arguments will result in an error\n",
      "C:\\Users\\aleem\\AppData\\Roaming\\Python\\Python37\\site-packages\\ipykernel_launcher.py:19: FutureWarning: Pass y=[0.18556646 0.25034136 0.28197634 ... 0.13567956 0.11433653 0.08784798] as keyword args. From version 0.10 passing these as positional arguments will result in an error\n",
      "C:\\Users\\aleem\\AppData\\Roaming\\Python\\Python37\\site-packages\\ipykernel_launcher.py:19: FutureWarning: Pass y=[ 0.1254016   0.19660547  0.05627493 ... -0.20956083 -0.23894571\n",
      " -0.2618171 ] as keyword args. From version 0.10 passing these as positional arguments will result in an error\n",
      "C:\\Users\\aleem\\AppData\\Roaming\\Python\\Python37\\site-packages\\ipykernel_launcher.py:19: FutureWarning: Pass y=[ 0.08489731  0.07464898  0.05867758 ... -0.34348232 -0.3852817\n",
      " -0.34029588] as keyword args. From version 0.10 passing these as positional arguments will result in an error\n",
      "C:\\Users\\aleem\\AppData\\Roaming\\Python\\Python37\\site-packages\\ipykernel_launcher.py:19: FutureWarning: Pass y=[-0.26863098 -0.25909436 -0.22913189 ... -0.30080655 -0.29388458\n",
      " -0.30847615] as keyword args. From version 0.10 passing these as positional arguments will result in an error\n",
      "C:\\Users\\aleem\\AppData\\Roaming\\Python\\Python37\\site-packages\\ipykernel_launcher.py:19: FutureWarning: Pass y=[-0.24436069 -0.14507926  0.01466595 ... -0.14800249 -0.11741578\n",
      " -0.06406829] as keyword args. From version 0.10 passing these as positional arguments will result in an error\n",
      "C:\\Users\\aleem\\AppData\\Roaming\\Python\\Python37\\site-packages\\ipykernel_launcher.py:19: FutureWarning: Pass y=[-0.27247986 -0.23045844 -0.1930222  ... -0.10898563 -0.06075026\n",
      " -0.11923257] as keyword args. From version 0.10 passing these as positional arguments will result in an error\n",
      "C:\\Users\\aleem\\AppData\\Roaming\\Python\\Python37\\site-packages\\ipykernel_launcher.py:19: FutureWarning: Pass y=[-0.03925465 -0.0183452  -0.00426342 ... -0.25675184 -0.22166203\n",
      " -0.21981746] as keyword args. From version 0.10 passing these as positional arguments will result in an error\n",
      "C:\\Users\\aleem\\AppData\\Roaming\\Python\\Python37\\site-packages\\ipykernel_launcher.py:19: FutureWarning: Pass y=[-0.16559923 -0.19907841 -0.17587444 ...  0.09595788  0.11473513\n",
      "  0.12034334] as keyword args. From version 0.10 passing these as positional arguments will result in an error\n",
      "C:\\Users\\aleem\\AppData\\Roaming\\Python\\Python37\\site-packages\\ipykernel_launcher.py:19: FutureWarning: Pass y=[-0.196944   -0.20898725 -0.25972658 ...  0.04527244  0.06179872\n",
      "  0.05782099] as keyword args. From version 0.10 passing these as positional arguments will result in an error\n",
      "C:\\Users\\aleem\\AppData\\Roaming\\Python\\Python37\\site-packages\\ipykernel_launcher.py:19: FutureWarning: Pass y=[ 0.11328868  0.11220604  0.11999606 ... -0.0101037  -0.02271893\n",
      " -0.01061486] as keyword args. From version 0.10 passing these as positional arguments will result in an error\n",
      "C:\\Users\\aleem\\AppData\\Roaming\\Python\\Python37\\site-packages\\ipykernel_launcher.py:19: FutureWarning: Pass y=[ 0.06493578  0.101849    0.13264032 ... -0.13328193 -0.15313314\n",
      " -0.10463248] as keyword args. From version 0.10 passing these as positional arguments will result in an error\n",
      "C:\\Users\\aleem\\AppData\\Roaming\\Python\\Python37\\site-packages\\ipykernel_launcher.py:19: FutureWarning: Pass y=[-0.01063141 -0.04777633 -0.12587543 ...  0.          0.\n",
      "  0.        ] as keyword args. From version 0.10 passing these as positional arguments will result in an error\n",
      "C:\\Users\\aleem\\AppData\\Roaming\\Python\\Python37\\site-packages\\ipykernel_launcher.py:19: FutureWarning: Pass y=[0.011275   0.1060604  0.16875389 ... 0.         0.         0.        ] as keyword args. From version 0.10 passing these as positional arguments will result in an error\n",
      "9it [00:01,  9.24it/s]C:\\Users\\aleem\\AppData\\Roaming\\Python\\Python37\\site-packages\\ipykernel_launcher.py:19: FutureWarning: Pass y=[-0.00951615 -0.01399801 -0.01075465 ...  0.08755103  0.01742855\n",
      "  0.0347626 ] as keyword args. From version 0.10 passing these as positional arguments will result in an error\n",
      "C:\\Users\\aleem\\AppData\\Roaming\\Python\\Python37\\site-packages\\ipykernel_launcher.py:19: FutureWarning: Pass y=[-0.14384976 -0.08733456  0.0243731  ... -0.20285615 -0.08588103\n",
      "  0.14268768] as keyword args. From version 0.10 passing these as positional arguments will result in an error\n",
      "C:\\Users\\aleem\\AppData\\Roaming\\Python\\Python37\\site-packages\\ipykernel_launcher.py:19: FutureWarning: Pass y=[ 0.06332003  0.08744092  0.13150595 ... -0.00820596 -0.10212807\n",
      " -0.15489231] as keyword args. From version 0.10 passing these as positional arguments will result in an error\n",
      "C:\\Users\\aleem\\AppData\\Roaming\\Python\\Python37\\site-packages\\ipykernel_launcher.py:19: FutureWarning: Pass y=[0.1886343  0.11964991 0.22557093 ... 0.30957657 0.36132017 0.3797076 ] as keyword args. From version 0.10 passing these as positional arguments will result in an error\n",
      "C:\\Users\\aleem\\AppData\\Roaming\\Python\\Python37\\site-packages\\ipykernel_launcher.py:19: FutureWarning: Pass y=[-0.11788597 -0.06961881  0.00167967 ...  0.18971395  0.2028466\n",
      "  0.20785806] as keyword args. From version 0.10 passing these as positional arguments will result in an error\n",
      "C:\\Users\\aleem\\AppData\\Roaming\\Python\\Python37\\site-packages\\ipykernel_launcher.py:19: FutureWarning: Pass y=[0.33940926 0.30901068 0.26335326 ... 0.07561341 0.10806325 0.15718165] as keyword args. From version 0.10 passing these as positional arguments will result in an error\n",
      "C:\\Users\\aleem\\AppData\\Roaming\\Python\\Python37\\site-packages\\ipykernel_launcher.py:19: FutureWarning: Pass y=[ 0.20139524  0.19156992  0.17489962 ... -0.00561889  0.01265156\n",
      "  0.01661876] as keyword args. From version 0.10 passing these as positional arguments will result in an error\n",
      "C:\\Users\\aleem\\AppData\\Roaming\\Python\\Python37\\site-packages\\ipykernel_launcher.py:19: FutureWarning: Pass y=[0.17249823 0.19799265 0.16823998 ... 0.3570202  0.37995154 0.35610506] as keyword args. From version 0.10 passing these as positional arguments will result in an error\n",
      "C:\\Users\\aleem\\AppData\\Roaming\\Python\\Python37\\site-packages\\ipykernel_launcher.py:19: FutureWarning: Pass y=[0.01350478 0.03264445 0.0433556  ... 0.02781962 0.08018801 0.14631188] as keyword args. From version 0.10 passing these as positional arguments will result in an error\n",
      "C:\\Users\\aleem\\AppData\\Roaming\\Python\\Python37\\site-packages\\ipykernel_launcher.py:19: FutureWarning: Pass y=[ 0.33079728  0.3059787   0.27780387 ...  0.09563904  0.01816329\n",
      " -0.06891243] as keyword args. From version 0.10 passing these as positional arguments will result in an error\n",
      "C:\\Users\\aleem\\AppData\\Roaming\\Python\\Python37\\site-packages\\ipykernel_launcher.py:19: FutureWarning: Pass y=[ 0.1598135   0.19248852  0.19890898 ...  0.00620015  0.00036139\n",
      " -0.0391801 ] as keyword args. From version 0.10 passing these as positional arguments will result in an error\n",
      "C:\\Users\\aleem\\AppData\\Roaming\\Python\\Python37\\site-packages\\ipykernel_launcher.py:19: FutureWarning: Pass y=[-0.15189259 -0.23455395 -0.32875502 ...  0.2037802   0.24773662\n",
      "  0.27450183] as keyword args. From version 0.10 passing these as positional arguments will result in an error\n",
      "C:\\Users\\aleem\\AppData\\Roaming\\Python\\Python37\\site-packages\\ipykernel_launcher.py:19: FutureWarning: Pass y=[-0.08657107 -0.11568037 -0.13992903 ... -0.32544756 -0.29371634\n",
      " -0.24449177] as keyword args. From version 0.10 passing these as positional arguments will result in an error\n",
      "C:\\Users\\aleem\\AppData\\Roaming\\Python\\Python37\\site-packages\\ipykernel_launcher.py:19: FutureWarning: Pass y=[0.25977826 0.25855637 0.2584769  ... 0.02361439 0.01669236 0.02412608] as keyword args. From version 0.10 passing these as positional arguments will result in an error\n",
      "C:\\Users\\aleem\\AppData\\Roaming\\Python\\Python37\\site-packages\\ipykernel_launcher.py:19: FutureWarning: Pass y=[-0.2142556  -0.15947632 -0.09463595 ...  0.          0.\n",
      "  0.        ] as keyword args. From version 0.10 passing these as positional arguments will result in an error\n",
      "C:\\Users\\aleem\\AppData\\Roaming\\Python\\Python37\\site-packages\\ipykernel_launcher.py:19: FutureWarning: Pass y=[0.04267202 0.06041111 0.05089993 ... 0.         0.         0.        ] as keyword args. From version 0.10 passing these as positional arguments will result in an error\n",
      "10it [00:01,  9.38it/s]C:\\Users\\aleem\\AppData\\Roaming\\Python\\Python37\\site-packages\\ipykernel_launcher.py:19: FutureWarning: Pass y=[-0.00856515 -0.00227814 -0.00076557 ...  0.00475086  0.0231488\n",
      "  0.03313412] as keyword args. From version 0.10 passing these as positional arguments will result in an error\n",
      "C:\\Users\\aleem\\AppData\\Roaming\\Python\\Python37\\site-packages\\ipykernel_launcher.py:19: FutureWarning: Pass y=[-0.07028677  0.02909976  0.07024863 ...  0.06928922  0.04854051\n",
      "  0.03960804] as keyword args. From version 0.10 passing these as positional arguments will result in an error\n",
      "C:\\Users\\aleem\\AppData\\Roaming\\Python\\Python37\\site-packages\\ipykernel_launcher.py:19: FutureWarning: Pass y=[ 0.00631908 -0.0309395  -0.04328607 ...  0.00198085  0.17216437\n",
      "  0.30878258] as keyword args. From version 0.10 passing these as positional arguments will result in an error\n",
      "C:\\Users\\aleem\\AppData\\Roaming\\Python\\Python37\\site-packages\\ipykernel_launcher.py:19: FutureWarning: Pass y=[ 0.0064805  -0.00791729 -0.00823103 ... -0.15419713 -0.09950574\n",
      " -0.01541541] as keyword args. From version 0.10 passing these as positional arguments will result in an error\n",
      "C:\\Users\\aleem\\AppData\\Roaming\\Python\\Python37\\site-packages\\ipykernel_launcher.py:19: FutureWarning: Pass y=[0.33036968 0.21899149 0.13710646 ... 0.04385663 0.03193362 0.00923338] as keyword args. From version 0.10 passing these as positional arguments will result in an error\n",
      "C:\\Users\\aleem\\AppData\\Roaming\\Python\\Python37\\site-packages\\ipykernel_launcher.py:19: FutureWarning: Pass y=[ 0.01851642 -0.01442963 -0.04550718 ...  0.09702416  0.0991706\n",
      "  0.06642304] as keyword args. From version 0.10 passing these as positional arguments will result in an error\n",
      "C:\\Users\\aleem\\AppData\\Roaming\\Python\\Python37\\site-packages\\ipykernel_launcher.py:19: FutureWarning: Pass y=[0.01520582 0.0169952  0.01009013 ... 0.19206983 0.308312   0.3657614 ] as keyword args. From version 0.10 passing these as positional arguments will result in an error\n",
      "C:\\Users\\aleem\\AppData\\Roaming\\Python\\Python37\\site-packages\\ipykernel_launcher.py:19: FutureWarning: Pass y=[ 0.00881818 -0.01319346 -0.07887204 ...  0.03790749  0.0839276\n",
      "  0.11538588] as keyword args. From version 0.10 passing these as positional arguments will result in an error\n",
      "C:\\Users\\aleem\\AppData\\Roaming\\Python\\Python37\\site-packages\\ipykernel_launcher.py:19: FutureWarning: Pass y=[ 0.10119774 -0.16696541 -0.22791763 ...  0.10864364  0.18320751\n",
      "  0.17126055] as keyword args. From version 0.10 passing these as positional arguments will result in an error\n",
      "C:\\Users\\aleem\\AppData\\Roaming\\Python\\Python37\\site-packages\\ipykernel_launcher.py:19: FutureWarning: Pass y=[ 0.10724457  0.07320774  0.05855178 ... -0.1091463  -0.20228355\n",
      " -0.2858706 ] as keyword args. From version 0.10 passing these as positional arguments will result in an error\n",
      "C:\\Users\\aleem\\AppData\\Roaming\\Python\\Python37\\site-packages\\ipykernel_launcher.py:19: FutureWarning: Pass y=[ 0.12058075 -0.01440783 -0.11989528 ...  0.03732995  0.27618355\n",
      "  0.3714777 ] as keyword args. From version 0.10 passing these as positional arguments will result in an error\n",
      "C:\\Users\\aleem\\AppData\\Roaming\\Python\\Python37\\site-packages\\ipykernel_launcher.py:19: FutureWarning: Pass y=[-0.19538854  0.02151002  0.17786857 ...  0.05378339  0.07464096\n",
      "  0.05252806] as keyword args. From version 0.10 passing these as positional arguments will result in an error\n",
      "C:\\Users\\aleem\\AppData\\Roaming\\Python\\Python37\\site-packages\\ipykernel_launcher.py:19: FutureWarning: Pass y=[0.23781468 0.0758596  0.02267759 ... 0.         0.         0.        ] as keyword args. From version 0.10 passing these as positional arguments will result in an error\n",
      "C:\\Users\\aleem\\AppData\\Roaming\\Python\\Python37\\site-packages\\ipykernel_launcher.py:19: FutureWarning: Pass y=[0.0075073  0.00018636 0.01676954 ... 0.         0.         0.        ] as keyword args. From version 0.10 passing these as positional arguments will result in an error\n",
      "C:\\Users\\aleem\\AppData\\Roaming\\Python\\Python37\\site-packages\\ipykernel_launcher.py:19: FutureWarning: Pass y=[ 0.0066485  -0.00471152 -0.02249943 ...  0.04836011 -0.04056039\n",
      " -0.12698212] as keyword args. From version 0.10 passing these as positional arguments will result in an error\n",
      "C:\\Users\\aleem\\AppData\\Roaming\\Python\\Python37\\site-packages\\ipykernel_launcher.py:19: FutureWarning: Pass y=[ 0.19853812  0.05932165 -0.00974374 ...  0.07835324  0.05771785\n",
      "  0.0040354 ] as keyword args. From version 0.10 passing these as positional arguments will result in an error\n",
      "C:\\Users\\aleem\\AppData\\Roaming\\Python\\Python37\\site-packages\\ipykernel_launcher.py:19: FutureWarning: Pass y=[-0.1828714  -0.2687636  -0.36330485 ...  0.09181484  0.1477984\n",
      "  0.17825836] as keyword args. From version 0.10 passing these as positional arguments will result in an error\n",
      "C:\\Users\\aleem\\AppData\\Roaming\\Python\\Python37\\site-packages\\ipykernel_launcher.py:19: FutureWarning: Pass y=[-0.009064    0.00680708  0.00860894 ...  0.0686707   0.07684555\n",
      "  0.07390538] as keyword args. From version 0.10 passing these as positional arguments will result in an error\n",
      "C:\\Users\\aleem\\AppData\\Roaming\\Python\\Python37\\site-packages\\ipykernel_launcher.py:19: FutureWarning: Pass y=[ 0.21752131  0.2654736   0.25121516 ... -0.01198912  0.0078751\n",
      "  0.00596153] as keyword args. From version 0.10 passing these as positional arguments will result in an error\n",
      "C:\\Users\\aleem\\AppData\\Roaming\\Python\\Python37\\site-packages\\ipykernel_launcher.py:19: FutureWarning: Pass y=[ 0.05863103  0.04973457  0.04607125 ... -0.05883832 -0.04035041\n",
      " -0.04908756] as keyword args. From version 0.10 passing these as positional arguments will result in an error\n",
      "C:\\Users\\aleem\\AppData\\Roaming\\Python\\Python37\\site-packages\\ipykernel_launcher.py:19: FutureWarning: Pass y=[-0.01805    -0.01649756 -0.00152057 ...  0.08772033  0.06088366\n",
      " -0.02722955] as keyword args. From version 0.10 passing these as positional arguments will result in an error\n",
      "C:\\Users\\aleem\\AppData\\Roaming\\Python\\Python37\\site-packages\\ipykernel_launcher.py:19: FutureWarning: Pass y=[-0.04949706 -0.00542675  0.04374747 ...  0.16776787  0.14716722\n",
      " -0.03652958] as keyword args. From version 0.10 passing these as positional arguments will result in an error\n",
      "C:\\Users\\aleem\\AppData\\Roaming\\Python\\Python37\\site-packages\\ipykernel_launcher.py:19: FutureWarning: Pass y=[-0.04376459  0.07461488  0.11895094 ...  0.05890717 -0.00144524\n",
      " -0.02507792] as keyword args. From version 0.10 passing these as positional arguments will result in an error\n",
      "C:\\Users\\aleem\\AppData\\Roaming\\Python\\Python37\\site-packages\\ipykernel_launcher.py:19: FutureWarning: Pass y=[-0.15583216 -0.11120823 -0.03008445 ...  0.          0.\n",
      "  0.        ] as keyword args. From version 0.10 passing these as positional arguments will result in an error\n",
      "C:\\Users\\aleem\\AppData\\Roaming\\Python\\Python37\\site-packages\\ipykernel_launcher.py:19: FutureWarning: Pass y=[0.04621676 0.08824454 0.06365363 ... 0.         0.         0.        ] as keyword args. From version 0.10 passing these as positional arguments will result in an error\n",
      "12it [00:01,  9.67it/s]C:\\Users\\aleem\\AppData\\Roaming\\Python\\Python37\\site-packages\\ipykernel_launcher.py:19: FutureWarning: Pass y=[-0.0336724  -0.05285884 -0.04347204 ...  0.04456346  0.02733617\n",
      " -0.05289151] as keyword args. From version 0.10 passing these as positional arguments will result in an error\n",
      "C:\\Users\\aleem\\AppData\\Roaming\\Python\\Python37\\site-packages\\ipykernel_launcher.py:19: FutureWarning: Pass y=[ 0.15689105  0.16911842  0.17098087 ... -0.29199943 -0.4120683\n",
      " -0.38039297] as keyword args. From version 0.10 passing these as positional arguments will result in an error\n",
      "C:\\Users\\aleem\\AppData\\Roaming\\Python\\Python37\\site-packages\\ipykernel_launcher.py:19: FutureWarning: Pass y=[-0.07864172  0.02141579  0.11736023 ...  0.1319062   0.10756195\n",
      "  0.09597277] as keyword args. From version 0.10 passing these as positional arguments will result in an error\n",
      "C:\\Users\\aleem\\AppData\\Roaming\\Python\\Python37\\site-packages\\ipykernel_launcher.py:19: FutureWarning: Pass y=[-0.16624913  0.0052274  -0.05432576 ...  0.03441954  0.07605018\n",
      " -0.03185953] as keyword args. From version 0.10 passing these as positional arguments will result in an error\n",
      "C:\\Users\\aleem\\AppData\\Roaming\\Python\\Python37\\site-packages\\ipykernel_launcher.py:19: FutureWarning: Pass y=[ 0.14033438  0.21772262  0.18450585 ...  0.04820851  0.02494939\n",
      " -0.0286788 ] as keyword args. From version 0.10 passing these as positional arguments will result in an error\n",
      "C:\\Users\\aleem\\AppData\\Roaming\\Python\\Python37\\site-packages\\ipykernel_launcher.py:19: FutureWarning: Pass y=[-0.1435738  -0.15546624 -0.07371651 ... -0.1089571  -0.10088921\n",
      " -0.11249909] as keyword args. From version 0.10 passing these as positional arguments will result in an error\n",
      "C:\\Users\\aleem\\AppData\\Roaming\\Python\\Python37\\site-packages\\ipykernel_launcher.py:19: FutureWarning: Pass y=[-0.0794957  -0.14467327 -0.16970529 ... -0.08034903 -0.04610372\n",
      "  0.00700805] as keyword args. From version 0.10 passing these as positional arguments will result in an error\n",
      "C:\\Users\\aleem\\AppData\\Roaming\\Python\\Python37\\site-packages\\ipykernel_launcher.py:19: FutureWarning: Pass y=[-0.13092391 -0.14095187 -0.1023752  ... -0.00145908  0.08367496\n",
      "  0.13872007] as keyword args. From version 0.10 passing these as positional arguments will result in an error\n",
      "C:\\Users\\aleem\\AppData\\Roaming\\Python\\Python37\\site-packages\\ipykernel_launcher.py:19: FutureWarning: Pass y=[ 0.02028897  0.01458912 -0.02259272 ... -0.02452886 -0.01826265\n",
      " -0.00768713] as keyword args. From version 0.10 passing these as positional arguments will result in an error\n",
      "C:\\Users\\aleem\\AppData\\Roaming\\Python\\Python37\\site-packages\\ipykernel_launcher.py:19: FutureWarning: Pass y=[0.15006967 0.10196701 0.05019175 ... 0.         0.         0.        ] as keyword args. From version 0.10 passing these as positional arguments will result in an error\n",
      "C:\\Users\\aleem\\AppData\\Roaming\\Python\\Python37\\site-packages\\ipykernel_launcher.py:19: FutureWarning: Pass y=[-0.0254609  -0.04673168 -0.03374397 ...  0.          0.\n",
      "  0.        ] as keyword args. From version 0.10 passing these as positional arguments will result in an error\n",
      "13it [00:01,  9.73it/s]C:\\Users\\aleem\\AppData\\Roaming\\Python\\Python37\\site-packages\\ipykernel_launcher.py:19: FutureWarning: Pass y=[ 0.00950201  0.020695   -0.01580162 ...  0.19384381  0.3393348\n",
      "  0.1324403 ] as keyword args. From version 0.10 passing these as positional arguments will result in an error\n",
      "C:\\Users\\aleem\\AppData\\Roaming\\Python\\Python37\\site-packages\\ipykernel_launcher.py:19: FutureWarning: Pass y=[-0.5495026  -0.6407364  -0.2504766  ...  0.03035004  0.01180694\n",
      " -0.01053738] as keyword args. From version 0.10 passing these as positional arguments will result in an error\n",
      "C:\\Users\\aleem\\AppData\\Roaming\\Python\\Python37\\site-packages\\ipykernel_launcher.py:19: FutureWarning: Pass y=[-0.31466502 -0.39124423 -0.02490238 ...  0.05154921  0.07340549\n",
      "  0.14245903] as keyword args. From version 0.10 passing these as positional arguments will result in an error\n",
      "C:\\Users\\aleem\\AppData\\Roaming\\Python\\Python37\\site-packages\\ipykernel_launcher.py:19: FutureWarning: Pass y=[-0.01071765  0.00649052  0.05123094 ...  0.13797115  0.18923359\n",
      "  0.17539686] as keyword args. From version 0.10 passing these as positional arguments will result in an error\n",
      "C:\\Users\\aleem\\AppData\\Roaming\\Python\\Python37\\site-packages\\ipykernel_launcher.py:19: FutureWarning: Pass y=[0.16055195 0.16825715 0.17202091 ... 0.04176793 0.06071434 0.01796882] as keyword args. From version 0.10 passing these as positional arguments will result in an error\n",
      "C:\\Users\\aleem\\AppData\\Roaming\\Python\\Python37\\site-packages\\ipykernel_launcher.py:19: FutureWarning: Pass y=[ 0.12786612  0.04091638 -0.03963878 ... -0.12875791 -0.10783674\n",
      " -0.14267495] as keyword args. From version 0.10 passing these as positional arguments will result in an error\n",
      "C:\\Users\\aleem\\AppData\\Roaming\\Python\\Python37\\site-packages\\ipykernel_launcher.py:19: FutureWarning: Pass y=[0.02097606 0.00478277 0.00300829 ... 0.05402978 0.07364242 0.09259342] as keyword args. From version 0.10 passing these as positional arguments will result in an error\n",
      "C:\\Users\\aleem\\AppData\\Roaming\\Python\\Python37\\site-packages\\ipykernel_launcher.py:19: FutureWarning: Pass y=[-0.17100117 -0.14973928 -0.07174163 ... -0.05950309 -0.22744916\n",
      " -0.31371757] as keyword args. From version 0.10 passing these as positional arguments will result in an error\n",
      "C:\\Users\\aleem\\AppData\\Roaming\\Python\\Python37\\site-packages\\ipykernel_launcher.py:19: FutureWarning: Pass y=[ 0.09545402  0.08197995  0.07305442 ...  0.0052893  -0.05226769\n",
      "  0.00908408] as keyword args. From version 0.10 passing these as positional arguments will result in an error\n",
      "C:\\Users\\aleem\\AppData\\Roaming\\Python\\Python37\\site-packages\\ipykernel_launcher.py:19: FutureWarning: Pass y=[-0.14206423  0.16025609  0.19372962 ...  0.03938111  0.01672842\n",
      " -0.04100321] as keyword args. From version 0.10 passing these as positional arguments will result in an error\n",
      "C:\\Users\\aleem\\AppData\\Roaming\\Python\\Python37\\site-packages\\ipykernel_launcher.py:19: FutureWarning: Pass y=[ 0.03419795 -0.02617603 -0.02072833 ... -0.25815162  0.029993\n",
      "  0.2217457 ] as keyword args. From version 0.10 passing these as positional arguments will result in an error\n",
      "C:\\Users\\aleem\\AppData\\Roaming\\Python\\Python37\\site-packages\\ipykernel_launcher.py:19: FutureWarning: Pass y=[ 0.01137119  0.01736125  0.05352182 ... -0.04568221 -0.01027656\n",
      " -0.10017169] as keyword args. From version 0.10 passing these as positional arguments will result in an error\n",
      "C:\\Users\\aleem\\AppData\\Roaming\\Python\\Python37\\site-packages\\ipykernel_launcher.py:19: FutureWarning: Pass y=[-0.02278188 -0.45975557 -0.5152658  ... -0.0554877  -0.04791263\n",
      " -0.01023173] as keyword args. From version 0.10 passing these as positional arguments will result in an error\n",
      "C:\\Users\\aleem\\AppData\\Roaming\\Python\\Python37\\site-packages\\ipykernel_launcher.py:19: FutureWarning: Pass y=[-0.21495335 -0.2519053  -0.12716976 ...  0.          0.\n",
      "  0.        ] as keyword args. From version 0.10 passing these as positional arguments will result in an error\n",
      "C:\\Users\\aleem\\AppData\\Roaming\\Python\\Python37\\site-packages\\ipykernel_launcher.py:19: FutureWarning: Pass y=[ 0.01701164  0.00267825 -0.02269954 ...  0.          0.\n",
      "  0.        ] as keyword args. From version 0.10 passing these as positional arguments will result in an error\n",
      "14it [00:01,  9.32it/s]C:\\Users\\aleem\\AppData\\Roaming\\Python\\Python37\\site-packages\\ipykernel_launcher.py:19: FutureWarning: Pass y=[-0.01433475  0.00295545  0.00495826 ... -0.27659822 -0.1525839\n",
      " -0.02926605] as keyword args. From version 0.10 passing these as positional arguments will result in an error\n",
      "C:\\Users\\aleem\\AppData\\Roaming\\Python\\Python37\\site-packages\\ipykernel_launcher.py:19: FutureWarning: Pass y=[-0.09459819 -0.10031634 -0.10666057 ... -0.70443267 -0.45892844\n",
      "  0.0537183 ] as keyword args. From version 0.10 passing these as positional arguments will result in an error\n",
      "C:\\Users\\aleem\\AppData\\Roaming\\Python\\Python37\\site-packages\\ipykernel_launcher.py:19: FutureWarning: Pass y=[ 0.02456808  0.13523681  0.27250776 ... -0.02415485 -0.03756404\n",
      " -0.0202268 ] as keyword args. From version 0.10 passing these as positional arguments will result in an error\n",
      "C:\\Users\\aleem\\AppData\\Roaming\\Python\\Python37\\site-packages\\ipykernel_launcher.py:19: FutureWarning: Pass y=[ 0.46423632  0.5476211   0.35757837 ... -0.00123977 -0.01587965\n",
      " -0.04805654] as keyword args. From version 0.10 passing these as positional arguments will result in an error\n",
      "C:\\Users\\aleem\\AppData\\Roaming\\Python\\Python37\\site-packages\\ipykernel_launcher.py:19: FutureWarning: Pass y=[-0.02560951  0.01280554  0.0305385  ...  0.          0.\n",
      "  0.        ] as keyword args. From version 0.10 passing these as positional arguments will result in an error\n",
      "C:\\Users\\aleem\\AppData\\Roaming\\Python\\Python37\\site-packages\\ipykernel_launcher.py:19: FutureWarning: Pass y=[-0.07235859 -0.08229113 -0.06673327 ...  0.          0.\n",
      "  0.        ] as keyword args. From version 0.10 passing these as positional arguments will result in an error\n",
      "15it [00:01,  8.54it/s]\n"
     ]
    }
   ],
   "source": [
    "mfcc_data_by_fold = {}\n",
    "\n",
    "# Iterate through the DataFrame and extract MFCC features\n",
    "for index_num, row in tqdm(metadata.iterrows()):\n",
    "    file_name = os.path.join(os.path.abspath(audio_dataset_path), 'fold' + str(row[\"fold\"]) + '/', str(row[\"slice_file_name\"]))\n",
    "    final_class_labels = row[\"class\"]\n",
    "\n",
    "    # MFCC Features Extraction\n",
    "    mfcc_data = mfcc_features_extractor_1sec(file_name)\n",
    "    \n",
    "    # Store the MFCC data in the dictionary by fold number\n",
    "    fold_num = row[\"fold\"]\n",
    "    if fold_num not in mfcc_data_by_fold:\n",
    "        mfcc_data_by_fold[fold_num] = {\n",
    "            \"data\": [],\n",
    "            \"labels\": []\n",
    "        }\n",
    "    mfcc_data_by_fold[fold_num][\"data\"].append(mfcc_data)\n",
    "    mfcc_data_by_fold[fold_num][\"labels\"].append(final_class_labels)\n",
    "\n",
    "# Now, convert the data in mfcc_data_by_fold to NumPy arrays\n",
    "for fold_num, data_dict in mfcc_data_by_fold.items():\n",
    "    data_dict[\"data\"] = np.array(data_dict[\"data\"])\n",
    "    data_dict[\"labels\"] = np.array(data_dict[\"labels\"])"
   ]
  },
  {
   "cell_type": "code",
   "execution_count": 7,
   "metadata": {},
   "outputs": [
    {
     "name": "stdout",
     "output_type": "stream",
     "text": [
      "Shape of data for fold 1: (5, 704, 40)\n",
      "Shape of labels for fold 1: (5,)\n"
     ]
    }
   ],
   "source": [
    "fold_num = 1  # Replace with the fold number you're interested in\n",
    "data_shape = mfcc_data_by_fold[fold_num][\"data\"].shape\n",
    "labels_shape = mfcc_data_by_fold[fold_num][\"labels\"].shape\n",
    "\n",
    "print(f\"Shape of data for fold {fold_num}: {data_shape}\")\n",
    "print(f\"Shape of labels for fold {fold_num}: {labels_shape}\")"
   ]
  },
  {
   "cell_type": "code",
   "execution_count": 8,
   "metadata": {},
   "outputs": [
    {
     "data": {
      "text/plain": [
       "(5, 704, 40)"
      ]
     },
     "execution_count": 8,
     "metadata": {},
     "output_type": "execute_result"
    }
   ],
   "source": [
    "mfcc_data_by_fold[3][\"data\"].shape"
   ]
  },
  {
   "cell_type": "code",
   "execution_count": 9,
   "metadata": {},
   "outputs": [],
   "source": [
    "# Iterate through the dictionary and reshape the data arrays for all fold_num values\n",
    "for fold_num, data_dict in mfcc_data_by_fold.items():\n",
    "    data_dict[\"data\"] = data_dict[\"data\"].reshape(data_dict[\"data\"].shape + (1,))\n",
    "    "
   ]
  },
  {
   "cell_type": "code",
   "execution_count": 10,
   "metadata": {},
   "outputs": [
    {
     "data": {
      "text/plain": [
       "(5, 704, 40, 1)"
      ]
     },
     "execution_count": 10,
     "metadata": {},
     "output_type": "execute_result"
    }
   ],
   "source": [
    "mfcc_data_by_fold[1][\"data\"].shape"
   ]
  },
  {
   "cell_type": "markdown",
   "metadata": {},
   "source": [
    "After Training Work, Deep Features "
   ]
  },
  {
   "cell_type": "code",
   "execution_count": 11,
   "metadata": {},
   "outputs": [
    {
     "name": "stdout",
     "output_type": "stream",
     "text": [
      "1/1 [==============================] - 0s 192ms/step\n",
      "1/1 [==============================] - 0s 67ms/step\n",
      "1/1 [==============================] - 0s 63ms/step\n"
     ]
    }
   ],
   "source": [
    "from keras.models import load_model\n",
    "from keras.models import Model\n",
    "\n",
    "# Load the saved model\n",
    "loaded_model = load_model('Model_CNN2D_startwithnumpylengthsamemfcc_1sec_4032files_90_10_size_result 100_96.29.h5')\n",
    "\n",
    "# Get the name of the intermediate layer from the loaded model summary\n",
    "intermediate_layer_name = 'dense'\n",
    "\n",
    "# Find the index of the intermediate layer in the model's layers list\n",
    "intermediate_layer_index = [i for i, layer in enumerate(loaded_model.layers) if layer.name == intermediate_layer_name][0]\n",
    "\n",
    "# Define a new model that includes layers up to the intermediate layer\n",
    "intermediate_layer_model = Model(inputs=loaded_model.input,\n",
    "                                  outputs=loaded_model.layers[intermediate_layer_index].output)\n",
    "\n",
    "# List of inputs for each fold's MFCC data\n",
    "input_data_list = [mfcc_data_by_fold[fold][\"data\"] for fold in range(1, 4)]  # Adjust the range as needed\n",
    "\n",
    "# List to store intermediate layer outputs for each fold\n",
    "intermediate_layer_outputs = []\n",
    "\n",
    "# Iterate through the input data for each fold and predict the intermediate layer output\n",
    "for input_data in input_data_list:\n",
    "    intermediate_output = intermediate_layer_model.predict(input_data)\n",
    "    intermediate_layer_outputs.append(intermediate_output)\n",
    "\n",
    "# Now, intermediate_layer_outputs contains the intermediate layer outputs for each fold's input data\n"
   ]
  },
  {
   "cell_type": "code",
   "execution_count": 12,
   "metadata": {},
   "outputs": [],
   "source": [
    "intermediate_layer_outputs = np.array(intermediate_layer_outputs)"
   ]
  },
  {
   "cell_type": "code",
   "execution_count": 13,
   "metadata": {},
   "outputs": [
    {
     "data": {
      "text/plain": [
       "(3, 5, 1024)"
      ]
     },
     "execution_count": 13,
     "metadata": {},
     "output_type": "execute_result"
    }
   ],
   "source": [
    "intermediate_layer_outputs.shape"
   ]
  },
  {
   "cell_type": "code",
   "execution_count": 14,
   "metadata": {},
   "outputs": [
    {
     "data": {
      "text/plain": [
       "array([[[-0.9966796 ,  0.9913081 ,  0.9997488 , ...,  0.9984734 ,\n",
       "         -0.962979  , -0.99998736],\n",
       "        [-0.93324685,  0.76708627,  0.99977   , ...,  0.99805427,\n",
       "         -0.5641571 , -0.9984994 ],\n",
       "        [-0.97005504,  0.99884194,  0.99764955, ...,  0.9967407 ,\n",
       "         -0.7019466 , -0.9999055 ],\n",
       "        [-0.9935172 ,  1.        ,  0.99997896, ...,  0.99583876,\n",
       "         -1.        , -0.9577738 ],\n",
       "        [-0.89148533,  0.58337855,  0.9971279 , ...,  0.99977314,\n",
       "         -0.76066726, -0.9997212 ]],\n",
       "\n",
       "       [[-0.9945564 , -1.        ,  1.        , ...,  0.95468074,\n",
       "         -0.9799491 , -0.9999792 ],\n",
       "        [-0.99746776, -1.        ,  0.99999076, ...,  0.99520576,\n",
       "          0.17624061, -0.9999809 ],\n",
       "        [-0.9999667 , -1.        ,  1.        , ...,  0.9760541 ,\n",
       "         -0.99677   , -0.9999979 ],\n",
       "        [-0.9983352 ,  1.        ,  1.        , ...,  0.87811196,\n",
       "         -1.        , -0.9999962 ],\n",
       "        [-0.99999803, -1.        ,  1.        , ...,  0.99998754,\n",
       "         -0.85647166, -0.9999998 ]],\n",
       "\n",
       "       [[ 0.44852448,  0.99989   ,  0.9985243 , ...,  0.9976532 ,\n",
       "         -0.9999915 , -0.9991489 ],\n",
       "        [-0.99729925,  0.35277972,  0.9974758 , ...,  0.99607104,\n",
       "         -0.99998736, -0.9997452 ],\n",
       "        [-0.80059236,  0.4988267 ,  0.9942794 , ...,  0.9959938 ,\n",
       "         -0.9938814 , -0.99890995],\n",
       "        [-0.9998395 ,  0.99299395,  0.9999859 , ...,  0.99988043,\n",
       "         -0.99999666, -0.99977833],\n",
       "        [-0.9716698 , -0.97132367,  0.9913884 , ...,  0.99264497,\n",
       "         -0.9780615 , -0.9621203 ]]], dtype=float32)"
      ]
     },
     "execution_count": 14,
     "metadata": {},
     "output_type": "execute_result"
    }
   ],
   "source": [
    "intermediate_layer_outputs"
   ]
  },
  {
   "cell_type": "code",
   "execution_count": 15,
   "metadata": {},
   "outputs": [],
   "source": [
    "mean_across_folds = np.mean(intermediate_layer_outputs, axis=0)"
   ]
  },
  {
   "cell_type": "code",
   "execution_count": 16,
   "metadata": {},
   "outputs": [],
   "source": [
    "al_fil_mean = mean_across_folds"
   ]
  },
  {
   "cell_type": "code",
   "execution_count": 17,
   "metadata": {},
   "outputs": [
    {
     "data": {
      "text/plain": [
       "(5, 1024)"
      ]
     },
     "execution_count": 17,
     "metadata": {},
     "output_type": "execute_result"
    }
   ],
   "source": [
    "al_fil_mean.shape"
   ]
  },
  {
   "cell_type": "code",
   "execution_count": 27,
   "metadata": {},
   "outputs": [
    {
     "data": {
      "text/plain": [
       "array([[-0.51423717,  0.33039936,  0.9994244 , ...,  0.98360246,\n",
       "        -0.9809732 , -0.99970514],\n",
       "       [-0.9760046 ,  0.03995533,  0.9990788 , ...,  0.9964437 ,\n",
       "        -0.46263465, -0.9994085 ],\n",
       "       [-0.923538  ,  0.16588955,  0.9973097 , ...,  0.9895962 ,\n",
       "        -0.8975327 , -0.99960446],\n",
       "       [-0.9972306 ,  0.99766463,  0.9999883 , ...,  0.95794374,\n",
       "        -0.99999887, -0.98584944],\n",
       "       [-0.9543843 , -0.4626484 ,  0.99617213, ...,  0.99746853,\n",
       "        -0.86506677, -0.9872804 ]], dtype=float32)"
      ]
     },
     "execution_count": 27,
     "metadata": {},
     "output_type": "execute_result"
    }
   ],
   "source": [
    "al_fil_mean"
   ]
  },
  {
   "cell_type": "code",
   "execution_count": 28,
   "metadata": {},
   "outputs": [],
   "source": [
    "# Specify the file path where you want to save the .npy file\n",
    "file_path = 'al_fil_mean.npy'\n",
    "\n",
    "# Save the array as a .npy file\n",
    "np.save(file_path, al_fil_mean)"
   ]
  },
  {
   "cell_type": "markdown",
   "metadata": {
    "slideshow": {
     "slide_type": "slide"
    }
   },
   "source": [
    "Testing of Single Audio"
   ]
  },
  {
   "cell_type": "code",
   "execution_count": 19,
   "metadata": {},
   "outputs": [
    {
     "name": "stderr",
     "output_type": "stream",
     "text": [
      "C:\\Users\\aleem\\AppData\\Roaming\\Python\\Python37\\site-packages\\ipykernel_launcher.py:19: FutureWarning: Pass y=[-0.09312387 -0.16650012 -0.1283591  ...  0.13541992  0.08281836\n",
      " -0.15978362] as keyword args. From version 0.10 passing these as positional arguments will result in an error\n",
      "C:\\Users\\aleem\\AppData\\Roaming\\Python\\Python37\\site-packages\\ipykernel_launcher.py:19: FutureWarning: Pass y=[ 0.47740942  0.5156708   0.51956135 ... -0.886065   -1.0185649\n",
      " -0.99103105] as keyword args. From version 0.10 passing these as positional arguments will result in an error\n",
      "C:\\Users\\aleem\\AppData\\Roaming\\Python\\Python37\\site-packages\\ipykernel_launcher.py:19: FutureWarning: Pass y=[-0.2417877   0.06852865  0.35304728 ...  0.40275878  0.32651764\n",
      "  0.29308468] as keyword args. From version 0.10 passing these as positional arguments will result in an error\n",
      "C:\\Users\\aleem\\AppData\\Roaming\\Python\\Python37\\site-packages\\ipykernel_launcher.py:19: FutureWarning: Pass y=[-0.5820711   0.08506176 -0.24607421 ...  0.10327943  0.23230071\n",
      " -0.09698877] as keyword args. From version 0.10 passing these as positional arguments will result in an error\n",
      "C:\\Users\\aleem\\AppData\\Roaming\\Python\\Python37\\site-packages\\ipykernel_launcher.py:19: FutureWarning: Pass y=[ 0.42663467  0.6634426   0.56157607 ...  0.1463729   0.07626095\n",
      " -0.08745203] as keyword args. From version 0.10 passing these as positional arguments will result in an error\n",
      "C:\\Users\\aleem\\AppData\\Roaming\\Python\\Python37\\site-packages\\ipykernel_launcher.py:19: FutureWarning: Pass y=[-0.4380082  -0.47195637 -0.22645491 ... -0.3303165  -0.30936688\n",
      " -0.3399323 ] as keyword args. From version 0.10 passing these as positional arguments will result in an error\n",
      "C:\\Users\\aleem\\AppData\\Roaming\\Python\\Python37\\site-packages\\ipykernel_launcher.py:19: FutureWarning: Pass y=[-0.24219212 -0.44021663 -0.5173591  ... -0.24632894 -0.1393258\n",
      "  0.02094699] as keyword args. From version 0.10 passing these as positional arguments will result in an error\n",
      "C:\\Users\\aleem\\AppData\\Roaming\\Python\\Python37\\site-packages\\ipykernel_launcher.py:19: FutureWarning: Pass y=[-0.40170324 -0.42604932 -0.3148425  ... -0.00409709  0.25428566\n",
      "  0.42297503] as keyword args. From version 0.10 passing these as positional arguments will result in an error\n",
      "C:\\Users\\aleem\\AppData\\Roaming\\Python\\Python37\\site-packages\\ipykernel_launcher.py:19: FutureWarning: Pass y=[ 0.06139206  0.04554696 -0.0706129  ... -0.07474769 -0.05560836\n",
      " -0.02339747] as keyword args. From version 0.10 passing these as positional arguments will result in an error\n",
      "C:\\Users\\aleem\\AppData\\Roaming\\Python\\Python37\\site-packages\\ipykernel_launcher.py:19: FutureWarning: Pass y=[0.45638344 0.31103036 0.15241179 ... 0.         0.         0.        ] as keyword args. From version 0.10 passing these as positional arguments will result in an error\n",
      "C:\\Users\\aleem\\AppData\\Roaming\\Python\\Python37\\site-packages\\ipykernel_launcher.py:19: FutureWarning: Pass y=[-0.07763448 -0.14217977 -0.10296616 ...  0.          0.\n",
      "  0.        ] as keyword args. From version 0.10 passing these as positional arguments will result in an error\n",
      "C:\\Users\\aleem\\AppData\\Roaming\\Python\\Python37\\site-packages\\ipykernel_launcher.py:19: FutureWarning: Pass y=[0. 0. 0. ... 0. 0. 0.] as keyword args. From version 0.10 passing these as positional arguments will result in an error\n"
     ]
    }
   ],
   "source": [
    "file_name = 'C:/Users/aleem/Desktop/Currentlyworking_New_extracted audio wav after cleaning then augmentation/sliding_window_1_sec/data/testing4.wav'\n",
    "\n",
    "\n",
    "mfcc_extracted_features_single=[]\n",
    "\n",
    "mfcc_extracted_features_single= mfcc_features_extractor_1sec(file_name)\n",
    "\n",
    "mfcc_extracted_features_single = np.array(mfcc_extracted_features_single)\n",
    "\n",
    "mfcc_extracted_features_single = mfcc_extracted_features_single.reshape((1, 704, 40, 1))\n",
    "\n"
   ]
  },
  {
   "cell_type": "code",
   "execution_count": 20,
   "metadata": {},
   "outputs": [
    {
     "data": {
      "text/plain": [
       "array([[[[-7.6138634e+01],\n",
       "         [ 1.1789563e+02],\n",
       "         [-2.4836512e+01],\n",
       "         ...,\n",
       "         [-1.1109576e+00],\n",
       "         [-3.8540106e+00],\n",
       "         [ 1.7562889e+00]],\n",
       "\n",
       "        [[-1.8079348e+01],\n",
       "         [ 8.9505051e+01],\n",
       "         [-2.4861050e+01],\n",
       "         ...,\n",
       "         [-7.3070498e+00],\n",
       "         [-6.7992964e+00],\n",
       "         [ 6.4401622e+00]],\n",
       "\n",
       "        [[ 1.2121010e+01],\n",
       "         [ 6.0270958e+01],\n",
       "         [-3.3406509e+01],\n",
       "         ...,\n",
       "         [-1.2088049e+01],\n",
       "         [-1.2273276e+01],\n",
       "         [ 9.1229563e+00]],\n",
       "\n",
       "        ...,\n",
       "\n",
       "        [[-1.1313708e+03],\n",
       "         [ 0.0000000e+00],\n",
       "         [ 0.0000000e+00],\n",
       "         ...,\n",
       "         [ 0.0000000e+00],\n",
       "         [ 0.0000000e+00],\n",
       "         [ 0.0000000e+00]],\n",
       "\n",
       "        [[-1.1313708e+03],\n",
       "         [ 0.0000000e+00],\n",
       "         [ 0.0000000e+00],\n",
       "         ...,\n",
       "         [ 0.0000000e+00],\n",
       "         [ 0.0000000e+00],\n",
       "         [ 0.0000000e+00]],\n",
       "\n",
       "        [[-1.1313708e+03],\n",
       "         [ 0.0000000e+00],\n",
       "         [ 0.0000000e+00],\n",
       "         ...,\n",
       "         [ 0.0000000e+00],\n",
       "         [ 0.0000000e+00],\n",
       "         [ 0.0000000e+00]]]], dtype=float32)"
      ]
     },
     "execution_count": 20,
     "metadata": {},
     "output_type": "execute_result"
    }
   ],
   "source": [
    "mfcc_extracted_features_single"
   ]
  },
  {
   "cell_type": "code",
   "execution_count": 21,
   "metadata": {},
   "outputs": [
    {
     "name": "stdout",
     "output_type": "stream",
     "text": [
      "1/1 [==============================] - 0s 108ms/step\n"
     ]
    }
   ],
   "source": [
    "from keras.models import load_model\n",
    "from keras.models import Model\n",
    "\n",
    "# Load the saved model\n",
    "loaded_model = load_model('Model_CNN2D_startwithnumpylengthsamemfcc_1sec_4032files_90_10_size_result 100_96.29.h5')\n",
    "\n",
    "# Get the name of the intermediate layer from the loaded model summary\n",
    "intermediate_layer_name = 'dense'\n",
    "\n",
    "# Find the index of the intermediate layer in the model's layers list\n",
    "intermediate_layer_index = [i for i, layer in enumerate(loaded_model.layers) if layer.name == intermediate_layer_name][0]\n",
    "\n",
    "# Define a new model that includes layers up to the intermediate layer\n",
    "intermediate_layer_model = Model(inputs=loaded_model.input,\n",
    "                                  outputs=loaded_model.layers[intermediate_layer_index].output)\n",
    "\n",
    "# Assuming you already have mfcc_extracted_features of shape (704, 40, 1)\n",
    "# Replace this with your actual input data\n",
    "\n",
    "# Predict the intermediate layer output for the input data\n",
    "intermediate_output = intermediate_layer_model.predict(mfcc_extracted_features_single)\n",
    "\n",
    "# Now, intermediate_output contains the intermediate layer output for mfcc_extracted_features\n"
   ]
  },
  {
   "cell_type": "code",
   "execution_count": 22,
   "metadata": {},
   "outputs": [
    {
     "data": {
      "text/plain": [
       "array([[-0.3269354 ,  0.20568976,  0.9460579 , ...,  0.95006675,\n",
       "        -0.97158957, -0.99939054]], dtype=float32)"
      ]
     },
     "execution_count": 22,
     "metadata": {},
     "output_type": "execute_result"
    }
   ],
   "source": [
    "intermediate_output"
   ]
  },
  {
   "cell_type": "code",
   "execution_count": 23,
   "metadata": {},
   "outputs": [
    {
     "data": {
      "text/plain": [
       "(1, 1024)"
      ]
     },
     "execution_count": 23,
     "metadata": {},
     "output_type": "execute_result"
    }
   ],
   "source": [
    "intermediate_output.shape"
   ]
  },
  {
   "cell_type": "code",
   "execution_count": 24,
   "metadata": {},
   "outputs": [
    {
     "data": {
      "text/plain": [
       "array([[[-0.9966796 ,  0.9913081 ,  0.9997488 , ...,  0.9984734 ,\n",
       "         -0.962979  , -0.99998736],\n",
       "        [-0.93324685,  0.76708627,  0.99977   , ...,  0.99805427,\n",
       "         -0.5641571 , -0.9984994 ],\n",
       "        [-0.97005504,  0.99884194,  0.99764955, ...,  0.9967407 ,\n",
       "         -0.7019466 , -0.9999055 ],\n",
       "        [-0.9935172 ,  1.        ,  0.99997896, ...,  0.99583876,\n",
       "         -1.        , -0.9577738 ],\n",
       "        [-0.89148533,  0.58337855,  0.9971279 , ...,  0.99977314,\n",
       "         -0.76066726, -0.9997212 ]],\n",
       "\n",
       "       [[-0.9945564 , -1.        ,  1.        , ...,  0.95468074,\n",
       "         -0.9799491 , -0.9999792 ],\n",
       "        [-0.99746776, -1.        ,  0.99999076, ...,  0.99520576,\n",
       "          0.17624061, -0.9999809 ],\n",
       "        [-0.9999667 , -1.        ,  1.        , ...,  0.9760541 ,\n",
       "         -0.99677   , -0.9999979 ],\n",
       "        [-0.9983352 ,  1.        ,  1.        , ...,  0.87811196,\n",
       "         -1.        , -0.9999962 ],\n",
       "        [-0.99999803, -1.        ,  1.        , ...,  0.99998754,\n",
       "         -0.85647166, -0.9999998 ]],\n",
       "\n",
       "       [[ 0.44852448,  0.99989   ,  0.9985243 , ...,  0.9976532 ,\n",
       "         -0.9999915 , -0.9991489 ],\n",
       "        [-0.99729925,  0.35277972,  0.9974758 , ...,  0.99607104,\n",
       "         -0.99998736, -0.9997452 ],\n",
       "        [-0.80059236,  0.4988267 ,  0.9942794 , ...,  0.9959938 ,\n",
       "         -0.9938814 , -0.99890995],\n",
       "        [-0.9998395 ,  0.99299395,  0.9999859 , ...,  0.99988043,\n",
       "         -0.99999666, -0.99977833],\n",
       "        [-0.9716698 , -0.97132367,  0.9913884 , ...,  0.99264497,\n",
       "         -0.9780615 , -0.9621203 ]]], dtype=float32)"
      ]
     },
     "execution_count": 24,
     "metadata": {},
     "output_type": "execute_result"
    }
   ],
   "source": [
    "intermediate_layer_outputs"
   ]
  },
  {
   "cell_type": "markdown",
   "metadata": {},
   "source": [
    "Euclidian Distance with Mean"
   ]
  },
  {
   "cell_type": "code",
   "execution_count": 25,
   "metadata": {},
   "outputs": [
    {
     "name": "stdout",
     "output_type": "stream",
     "text": [
      "Index of closest value in al_fil_mean: 3\n",
      "Closest value in al_fil_mean: [-0.923538    0.16588955  0.9973097  ...  0.9895962  -0.8975327\n",
      " -0.99960446]\n"
     ]
    }
   ],
   "source": [
    "import numpy as np\n",
    "\n",
    "# Assuming you have al_fil_mean with shape (5, 1024) and intermediate_output with shape (1, 1024)\n",
    "# Calculate the Euclidean distances between intermediate_output and each row in al_fil_mean\n",
    "distances = np.linalg.norm(al_fil_mean - intermediate_output, axis=1)\n",
    "\n",
    "# Find the index of the closest row in al_fil_mean\n",
    "closest_index = np.argmin(distances)\n",
    "\n",
    "# The value at closest_index in al_fil_mean is the closest to intermediate_output\n",
    "closest_value = al_fil_mean[closest_index]\n",
    "\n",
    "# Print the closest_index and closest_value\n",
    "print(f\"Index of closest value in al_fil_mean: {closest_index+1}\")\n",
    "print(f\"Closest value in al_fil_mean: {closest_value}\")"
   ]
  },
  {
   "cell_type": "markdown",
   "metadata": {},
   "source": [
    "Euclidian Distance Without Mean"
   ]
  },
  {
   "cell_type": "code",
   "execution_count": 26,
   "metadata": {},
   "outputs": [],
   "source": [
    "# # Reshape intermediate_output to match the shape of intermediate_layer_outputs\n",
    "# intermediate_output_reshaped = intermediate_output.reshape((1, 1, 1024))\n",
    "\n",
    "# # Initialize variables to keep track of the closest indices and distances\n",
    "# closest_indices = None\n",
    "# min_distances = None\n",
    "# closest_set = None  # Initialize variable to track the closest set\n",
    "\n",
    "# for i, intermediate_set in enumerate(intermediate_layer_outputs):\n",
    "#     # Calculate the Euclidean distances between intermediate_output and intermediate_set\n",
    "#     distances = np.linalg.norm(intermediate_set - intermediate_output_reshaped, axis=2)\n",
    "    \n",
    "#     # Find the index of the minimum distance\n",
    "#     current_closest_index = np.argmin(distances)\n",
    "    \n",
    "#     # Update the closest index, distances, and closest set if this set is closer\n",
    "#     if closest_indices is None or np.mean(distances) < np.mean(min_distances):\n",
    "#         closest_indices = current_closest_index\n",
    "#         min_distances = distances\n",
    "#         closest_set = i\n",
    "\n",
    "# # Print the closest index in intermediate_layer_outputs and which set it belongs to\n",
    "# print(f\"Closest index in intermediate_layer_outputs: {closest_indices}\")\n",
    "# if closest_set == 0:\n",
    "#     print(\"It is closest to intermediate_layer_outputs[0]\")\n",
    "# elif closest_set == 1:\n",
    "#     print(\"It is closest to intermediate_layer_outputs[1]\")\n",
    "# elif closest_set == 2:\n",
    "#     print(\"It is closest to intermediate_layer_outputs[2]\")"
   ]
  }
 ],
 "metadata": {
  "kernelspec": {
   "display_name": "Python 3",
   "language": "python",
   "name": "python3"
  },
  "language_info": {
   "codemirror_mode": {
    "name": "ipython",
    "version": 3
   },
   "file_extension": ".py",
   "mimetype": "text/x-python",
   "name": "python",
   "nbconvert_exporter": "python",
   "pygments_lexer": "ipython3",
   "version": "3.7.3"
  },
  "orig_nbformat": 4
 },
 "nbformat": 4,
 "nbformat_minor": 2
}
