{
 "cells": [
  {
   "cell_type": "code",
   "execution_count": 1,
   "metadata": {},
   "outputs": [],
   "source": [
    "import pandas as pd\n",
    "import os\n",
    "import librosa\n",
    "import numpy as np\n",
    "import math\n",
    "import numpy as np\n",
    "from tqdm import tqdm\n",
    "import matplotlib.pyplot as plt\n",
    "%matplotlib inline\n",
    "import librosa\n",
    "import pandas as pd\n",
    "import numpy as np\n",
    "\n",
    "\n",
    "import os\n",
    "import pathlib\n",
    "\n",
    "import matplotlib.pyplot as plt\n",
    "import numpy as np\n",
    "import seaborn as sns\n",
    "import tensorflow as tf\n",
    "\n",
    "from tensorflow.keras.layers.experimental import preprocessing\n",
    "from tensorflow.keras import layers\n",
    "from tensorflow.keras import models\n",
    "from IPython import display\n",
    "\n",
    "from tqdm.notebook import tqdm\n",
    "\n",
    "from sklearn.preprocessing import OneHotEncoder\n",
    "\n",
    "# Set seed for experiment reproducibility\n",
    "seed = 42\n",
    "tf.random.set_seed(seed)\n",
    "np.random.seed(seed)"
   ]
  },
  {
   "cell_type": "code",
   "execution_count": 2,
   "metadata": {},
   "outputs": [],
   "source": [
    "X = np.load('mfcc_X_data.npy')\n",
    "Y = np.load('mfcc_Y_data.npy', allow_pickle='True')"
   ]
  },
  {
   "cell_type": "code",
   "execution_count": 3,
   "metadata": {},
   "outputs": [
    {
     "data": {
      "text/html": [
       "<div>\n",
       "<style scoped>\n",
       "    .dataframe tbody tr th:only-of-type {\n",
       "        vertical-align: middle;\n",
       "    }\n",
       "\n",
       "    .dataframe tbody tr th {\n",
       "        vertical-align: top;\n",
       "    }\n",
       "\n",
       "    .dataframe thead th {\n",
       "        text-align: right;\n",
       "    }\n",
       "</style>\n",
       "<table border=\"1\" class=\"dataframe\">\n",
       "  <thead>\n",
       "    <tr style=\"text-align: right;\">\n",
       "      <th></th>\n",
       "      <th>0</th>\n",
       "    </tr>\n",
       "  </thead>\n",
       "  <tbody>\n",
       "    <tr>\n",
       "      <th>0</th>\n",
       "      <td>An-Nas</td>\n",
       "    </tr>\n",
       "    <tr>\n",
       "      <th>1</th>\n",
       "      <td>An-Nas</td>\n",
       "    </tr>\n",
       "    <tr>\n",
       "      <th>2</th>\n",
       "      <td>An-Nas</td>\n",
       "    </tr>\n",
       "    <tr>\n",
       "      <th>3</th>\n",
       "      <td>An-Nas</td>\n",
       "    </tr>\n",
       "    <tr>\n",
       "      <th>4</th>\n",
       "      <td>An-Nas</td>\n",
       "    </tr>\n",
       "  </tbody>\n",
       "</table>\n",
       "</div>"
      ],
      "text/plain": [
       "        0\n",
       "0  An-Nas\n",
       "1  An-Nas\n",
       "2  An-Nas\n",
       "3  An-Nas\n",
       "4  An-Nas"
      ]
     },
     "execution_count": 3,
     "metadata": {},
     "output_type": "execute_result"
    }
   ],
   "source": [
    "Y_df = pd.DataFrame(Y)\n",
    "Y_df.head()"
   ]
  },
  {
   "cell_type": "code",
   "execution_count": 4,
   "metadata": {},
   "outputs": [
    {
     "data": {
      "text/html": [
       "<div>\n",
       "<style scoped>\n",
       "    .dataframe tbody tr th:only-of-type {\n",
       "        vertical-align: middle;\n",
       "    }\n",
       "\n",
       "    .dataframe tbody tr th {\n",
       "        vertical-align: top;\n",
       "    }\n",
       "\n",
       "    .dataframe thead th {\n",
       "        text-align: right;\n",
       "    }\n",
       "</style>\n",
       "<table border=\"1\" class=\"dataframe\">\n",
       "  <thead>\n",
       "    <tr style=\"text-align: right;\">\n",
       "      <th></th>\n",
       "      <th>0</th>\n",
       "      <th>1</th>\n",
       "      <th>2</th>\n",
       "      <th>3</th>\n",
       "      <th>4</th>\n",
       "      <th>5</th>\n",
       "      <th>6</th>\n",
       "      <th>7</th>\n",
       "      <th>8</th>\n",
       "      <th>9</th>\n",
       "      <th>...</th>\n",
       "      <th>30</th>\n",
       "      <th>31</th>\n",
       "      <th>32</th>\n",
       "      <th>33</th>\n",
       "      <th>34</th>\n",
       "      <th>35</th>\n",
       "      <th>36</th>\n",
       "      <th>37</th>\n",
       "      <th>38</th>\n",
       "      <th>39</th>\n",
       "    </tr>\n",
       "  </thead>\n",
       "  <tbody>\n",
       "    <tr>\n",
       "      <th>0</th>\n",
       "      <td>-221.180679</td>\n",
       "      <td>126.025711</td>\n",
       "      <td>-50.995396</td>\n",
       "      <td>47.782433</td>\n",
       "      <td>-17.575918</td>\n",
       "      <td>28.504759</td>\n",
       "      <td>-16.543465</td>\n",
       "      <td>4.723109</td>\n",
       "      <td>-16.000511</td>\n",
       "      <td>-13.612542</td>\n",
       "      <td>...</td>\n",
       "      <td>-6.393832</td>\n",
       "      <td>-3.856801</td>\n",
       "      <td>1.254481</td>\n",
       "      <td>6.601337</td>\n",
       "      <td>8.466876</td>\n",
       "      <td>15.015834</td>\n",
       "      <td>4.340286</td>\n",
       "      <td>12.090161</td>\n",
       "      <td>12.014910</td>\n",
       "      <td>26.821383</td>\n",
       "    </tr>\n",
       "    <tr>\n",
       "      <th>1</th>\n",
       "      <td>-211.255005</td>\n",
       "      <td>119.753944</td>\n",
       "      <td>-52.348122</td>\n",
       "      <td>63.510727</td>\n",
       "      <td>-21.535557</td>\n",
       "      <td>29.757116</td>\n",
       "      <td>-18.222822</td>\n",
       "      <td>7.571888</td>\n",
       "      <td>-12.699204</td>\n",
       "      <td>-14.380175</td>\n",
       "      <td>...</td>\n",
       "      <td>-6.207137</td>\n",
       "      <td>-4.994766</td>\n",
       "      <td>-0.988067</td>\n",
       "      <td>6.583804</td>\n",
       "      <td>10.860059</td>\n",
       "      <td>22.726280</td>\n",
       "      <td>10.932115</td>\n",
       "      <td>10.071551</td>\n",
       "      <td>1.016532</td>\n",
       "      <td>5.640285</td>\n",
       "    </tr>\n",
       "    <tr>\n",
       "      <th>2</th>\n",
       "      <td>-212.992538</td>\n",
       "      <td>111.009041</td>\n",
       "      <td>-51.069992</td>\n",
       "      <td>55.615635</td>\n",
       "      <td>-29.020407</td>\n",
       "      <td>37.870895</td>\n",
       "      <td>-22.575338</td>\n",
       "      <td>4.039803</td>\n",
       "      <td>-10.614483</td>\n",
       "      <td>-17.730742</td>\n",
       "      <td>...</td>\n",
       "      <td>3.250622</td>\n",
       "      <td>3.888988</td>\n",
       "      <td>8.326393</td>\n",
       "      <td>7.663583</td>\n",
       "      <td>4.940736</td>\n",
       "      <td>5.889103</td>\n",
       "      <td>-3.204108</td>\n",
       "      <td>9.284558</td>\n",
       "      <td>7.726558</td>\n",
       "      <td>22.162859</td>\n",
       "    </tr>\n",
       "    <tr>\n",
       "      <th>3</th>\n",
       "      <td>-252.801468</td>\n",
       "      <td>135.314240</td>\n",
       "      <td>-43.591640</td>\n",
       "      <td>50.476078</td>\n",
       "      <td>-1.697368</td>\n",
       "      <td>27.965115</td>\n",
       "      <td>-11.784382</td>\n",
       "      <td>10.756843</td>\n",
       "      <td>-10.194268</td>\n",
       "      <td>-16.072851</td>\n",
       "      <td>...</td>\n",
       "      <td>-10.171225</td>\n",
       "      <td>-7.709264</td>\n",
       "      <td>-2.342036</td>\n",
       "      <td>8.532597</td>\n",
       "      <td>15.277192</td>\n",
       "      <td>21.758413</td>\n",
       "      <td>5.262423</td>\n",
       "      <td>8.937285</td>\n",
       "      <td>7.269296</td>\n",
       "      <td>15.028630</td>\n",
       "    </tr>\n",
       "    <tr>\n",
       "      <th>4</th>\n",
       "      <td>-155.234695</td>\n",
       "      <td>131.976410</td>\n",
       "      <td>-41.808273</td>\n",
       "      <td>38.996029</td>\n",
       "      <td>-39.036037</td>\n",
       "      <td>46.623611</td>\n",
       "      <td>-22.237730</td>\n",
       "      <td>-8.598266</td>\n",
       "      <td>-6.576684</td>\n",
       "      <td>-20.480564</td>\n",
       "      <td>...</td>\n",
       "      <td>0.876611</td>\n",
       "      <td>-1.357790</td>\n",
       "      <td>-15.314865</td>\n",
       "      <td>3.491620</td>\n",
       "      <td>-9.598725</td>\n",
       "      <td>-5.994679</td>\n",
       "      <td>0.465712</td>\n",
       "      <td>-9.627331</td>\n",
       "      <td>-9.393802</td>\n",
       "      <td>-8.305319</td>\n",
       "    </tr>\n",
       "  </tbody>\n",
       "</table>\n",
       "<p>5 rows × 40 columns</p>\n",
       "</div>"
      ],
      "text/plain": [
       "           0           1          2          3          4          5   \\\n",
       "0 -221.180679  126.025711 -50.995396  47.782433 -17.575918  28.504759   \n",
       "1 -211.255005  119.753944 -52.348122  63.510727 -21.535557  29.757116   \n",
       "2 -212.992538  111.009041 -51.069992  55.615635 -29.020407  37.870895   \n",
       "3 -252.801468  135.314240 -43.591640  50.476078  -1.697368  27.965115   \n",
       "4 -155.234695  131.976410 -41.808273  38.996029 -39.036037  46.623611   \n",
       "\n",
       "          6          7          8          9   ...         30        31  \\\n",
       "0 -16.543465   4.723109 -16.000511 -13.612542  ...  -6.393832 -3.856801   \n",
       "1 -18.222822   7.571888 -12.699204 -14.380175  ...  -6.207137 -4.994766   \n",
       "2 -22.575338   4.039803 -10.614483 -17.730742  ...   3.250622  3.888988   \n",
       "3 -11.784382  10.756843 -10.194268 -16.072851  ... -10.171225 -7.709264   \n",
       "4 -22.237730  -8.598266  -6.576684 -20.480564  ...   0.876611 -1.357790   \n",
       "\n",
       "          32        33         34         35         36         37         38  \\\n",
       "0   1.254481  6.601337   8.466876  15.015834   4.340286  12.090161  12.014910   \n",
       "1  -0.988067  6.583804  10.860059  22.726280  10.932115  10.071551   1.016532   \n",
       "2   8.326393  7.663583   4.940736   5.889103  -3.204108   9.284558   7.726558   \n",
       "3  -2.342036  8.532597  15.277192  21.758413   5.262423   8.937285   7.269296   \n",
       "4 -15.314865  3.491620  -9.598725  -5.994679   0.465712  -9.627331  -9.393802   \n",
       "\n",
       "          39  \n",
       "0  26.821383  \n",
       "1   5.640285  \n",
       "2  22.162859  \n",
       "3  15.028630  \n",
       "4  -8.305319  \n",
       "\n",
       "[5 rows x 40 columns]"
      ]
     },
     "execution_count": 4,
     "metadata": {},
     "output_type": "execute_result"
    }
   ],
   "source": [
    "X_df = pd.DataFrame(X)\n",
    "X_df.head()"
   ]
  },
  {
   "attachments": {},
   "cell_type": "markdown",
   "metadata": {},
   "source": [
    "Unison Shuffling"
   ]
  },
  {
   "cell_type": "code",
   "execution_count": 5,
   "metadata": {},
   "outputs": [],
   "source": [
    "import numpy \n",
    "\n",
    "\n",
    "def shuffle_in_unison(a, b):\n",
    "    assert len(a) == len(b)\n",
    "    shuffled_a = numpy.empty(a.shape, dtype=a.dtype)\n",
    "    shuffled_b = numpy.empty(b.shape, dtype=b.dtype)\n",
    "    permutation = numpy.random.permutation(len(a))\n",
    "    for old_index, new_index in enumerate(permutation):\n",
    "        shuffled_a[new_index] = a[old_index]\n",
    "        shuffled_b[new_index] = b[old_index]\n",
    "    return shuffled_a, shuffled_b"
   ]
  },
  {
   "cell_type": "code",
   "execution_count": 6,
   "metadata": {},
   "outputs": [],
   "source": [
    "X_pre, y_pre = shuffle_in_unison(X, Y)"
   ]
  },
  {
   "cell_type": "code",
   "execution_count": 7,
   "metadata": {},
   "outputs": [
    {
     "name": "stdout",
     "output_type": "stream",
     "text": [
      "(1210, 40)\n",
      "(1210,)\n"
     ]
    }
   ],
   "source": [
    "print(X_pre.shape)\n",
    "print(y_pre.shape)"
   ]
  },
  {
   "attachments": {},
   "cell_type": "markdown",
   "metadata": {},
   "source": [
    "One Hot Encoding for 10 Classes"
   ]
  },
  {
   "cell_type": "code",
   "execution_count": 8,
   "metadata": {},
   "outputs": [],
   "source": [
    "labels = ['An-Nas', 'Al-Falaq','Al-Fil','Quraish','Al-Maun','Al-Kauthar','Al-Kafirun','An-Nasr','Al-Masad','Al-Ikhlas']"
   ]
  },
  {
   "cell_type": "code",
   "execution_count": 9,
   "metadata": {},
   "outputs": [],
   "source": [
    "y_enc = np.array([labels.index(l) for l in y_pre])\n",
    "y_enc = tf.one_hot(y_enc, len(labels))"
   ]
  },
  {
   "cell_type": "code",
   "execution_count": 10,
   "metadata": {},
   "outputs": [
    {
     "name": "stdout",
     "output_type": "stream",
     "text": [
      "(1210, 10)\n"
     ]
    }
   ],
   "source": [
    "print(y_enc.shape)"
   ]
  },
  {
   "attachments": {},
   "cell_type": "markdown",
   "metadata": {},
   "source": [
    "Train-Test Split"
   ]
  },
  {
   "cell_type": "code",
   "execution_count": 11,
   "metadata": {},
   "outputs": [],
   "source": [
    "def train_test_split(X, y, test_size):\n",
    "    n_test = int(X.shape[0] * test_size)\n",
    "    X_test = X[:n_test]\n",
    "    y_test = y[:n_test]\n",
    "    X_train = X[n_test:]\n",
    "    y_train = y[n_test:]\n",
    "    return X_train, X_test, y_train, y_test"
   ]
  },
  {
   "cell_type": "code",
   "execution_count": 12,
   "metadata": {},
   "outputs": [],
   "source": [
    "X_train, X_test, y_train, y_test = train_test_split(X_pre, y_enc, 0.15)"
   ]
  },
  {
   "cell_type": "code",
   "execution_count": 13,
   "metadata": {},
   "outputs": [
    {
     "name": "stdout",
     "output_type": "stream",
     "text": [
      "(1029, 40) (1029, 10)\n",
      "(181, 40) (181, 10)\n"
     ]
    }
   ],
   "source": [
    "print(X_train.shape, y_train.shape)\n",
    "print(X_test.shape, y_test.shape)"
   ]
  },
  {
   "cell_type": "code",
   "execution_count": 14,
   "metadata": {},
   "outputs": [],
   "source": [
    "# X_train, y_train = shuffle_in_unison (X_train, y_train)\n",
    "# X_test, y_test = shuffle_in_unison (X_test, y_test)"
   ]
  },
  {
   "attachments": {},
   "cell_type": "markdown",
   "metadata": {},
   "source": [
    "Expand Dimension for CNN-1D, CNN-2D and Transformers"
   ]
  },
  {
   "cell_type": "code",
   "execution_count": 15,
   "metadata": {},
   "outputs": [
    {
     "name": "stdout",
     "output_type": "stream",
     "text": [
      "Shape of X Train (1029, 40, 1)\n",
      "Shape of X Test (181, 40, 1)\n"
     ]
    }
   ],
   "source": [
    "X_train = np.expand_dims(X_train, axis=2)\n",
    "X_test = np.expand_dims(X_test, axis = 2)\n",
    "\n",
    "print(\"Shape of X Train\", X_train.shape)\n",
    "print(\"Shape of X Test\", X_test.shape)"
   ]
  },
  {
   "attachments": {},
   "cell_type": "markdown",
   "metadata": {},
   "source": [
    "Reshape for Only Transformer Models and CNN-2D Models"
   ]
  },
  {
   "cell_type": "code",
   "execution_count": 16,
   "metadata": {},
   "outputs": [
    {
     "name": "stdout",
     "output_type": "stream",
     "text": [
      "(1029, 10, 4, 1) (1029, 10)\n",
      "(181, 10, 4, 1) (181, 10)\n"
     ]
    }
   ],
   "source": [
    "X_train_reshaped = X_train.reshape(X_train.shape[0], 10, 4, 1)\n",
    "X_test_reshaped = X_test.reshape(X_test.shape[0], 10, 4, 1)\n",
    "\n",
    "print(X_train_reshaped.shape, y_train.shape)\n",
    "print(X_test_reshaped.shape, y_test.shape)"
   ]
  },
  {
   "attachments": {},
   "cell_type": "markdown",
   "metadata": {},
   "source": [
    "-  CNN 1D Model For 10 Classes"
   ]
  },
  {
   "cell_type": "code",
   "execution_count": 17,
   "metadata": {},
   "outputs": [],
   "source": [
    "import IPython.display as ipd\n",
    "import librosa\n",
    "import librosa.display\n",
    "import pandas as pd\n",
    "import os, time, warnings\n",
    "import seaborn as sns\n",
    "import numpy as np\n",
    "from tqdm import tqdm\n",
    "import matplotlib.pyplot as plt\n",
    "from sklearn.model_selection import train_test_split\n",
    "from sklearn.preprocessing import LabelEncoder\n",
    "from tensorflow.keras.utils import to_categorical\n",
    "from tensorflow.keras.models import Sequential\n",
    "from tensorflow.keras.layers import (\n",
    "    Dense,\n",
    "    Conv1D,\n",
    "    MaxPooling1D,\n",
    "    BatchNormalization,\n",
    "    Dropout,\n",
    "    Flatten,\n",
    "    Conv2D,\n",
    "    MaxPool2D,\n",
    ")\n",
    "\n",
    "from keras import regularizers\n",
    "warnings.filterwarnings(\"ignore\")"
   ]
  },
  {
   "cell_type": "code",
   "execution_count": 18,
   "metadata": {},
   "outputs": [
    {
     "name": "stdout",
     "output_type": "stream",
     "text": [
      "Model: \"sequential\"\n",
      "_________________________________________________________________\n",
      " Layer (type)                Output Shape              Param #   \n",
      "=================================================================\n",
      " conv1d (Conv1D)             (None, 40, 256)           1536      \n",
      "                                                                 \n",
      " batch_normalization (BatchN  (None, 40, 256)          1024      \n",
      " ormalization)                                                   \n",
      "                                                                 \n",
      " max_pooling1d (MaxPooling1D  (None, 20, 256)          0         \n",
      " )                                                               \n",
      "                                                                 \n",
      " conv1d_1 (Conv1D)           (None, 20, 256)           327936    \n",
      "                                                                 \n",
      " dropout (Dropout)           (None, 20, 256)           0         \n",
      "                                                                 \n",
      " max_pooling1d_1 (MaxPooling  (None, 10, 256)          0         \n",
      " 1D)                                                             \n",
      "                                                                 \n",
      " conv1d_2 (Conv1D)           (None, 10, 128)           163968    \n",
      "                                                                 \n",
      " dropout_1 (Dropout)         (None, 10, 128)           0         \n",
      "                                                                 \n",
      " max_pooling1d_2 (MaxPooling  (None, 5, 128)           0         \n",
      " 1D)                                                             \n",
      "                                                                 \n",
      " conv1d_3 (Conv1D)           (None, 5, 64)             41024     \n",
      "                                                                 \n",
      " dropout_2 (Dropout)         (None, 5, 64)             0         \n",
      "                                                                 \n",
      " max_pooling1d_3 (MaxPooling  (None, 3, 64)            0         \n",
      " 1D)                                                             \n",
      "                                                                 \n",
      " flatten (Flatten)           (None, 192)               0         \n",
      "                                                                 \n",
      " dense (Dense)               (None, 1024)              197632    \n",
      "                                                                 \n",
      " dropout_3 (Dropout)         (None, 1024)              0         \n",
      "                                                                 \n",
      " dense_1 (Dense)             (None, 10)                10250     \n",
      "                                                                 \n",
      "=================================================================\n",
      "Total params: 743,370\n",
      "Trainable params: 742,858\n",
      "Non-trainable params: 512\n",
      "_________________________________________________________________\n"
     ]
    }
   ],
   "source": [
    "CNN1D_Model = Sequential()\n",
    "CNN1D_Model.add(\n",
    "    Conv1D(\n",
    "        256,\n",
    "        5,\n",
    "        strides=1,\n",
    "        padding=\"same\",\n",
    "        activation=\"relu\",\n",
    "        input_shape=(X_train.shape[1], 1),\n",
    "    )\n",
    ")\n",
    "CNN1D_Model.add(BatchNormalization())\n",
    "CNN1D_Model.add(MaxPooling1D(3, strides=2, padding=\"same\"))\n",
    "CNN1D_Model.add(Conv1D(256, 5, strides=1, padding=\"same\", activation=\"relu\"))\n",
    "CNN1D_Model.add(Dropout(0.3))\n",
    "CNN1D_Model.add(MaxPooling1D(3, strides=2, padding=\"same\"))\n",
    "CNN1D_Model.add(Conv1D(128, 5, strides=1, padding=\"same\", activation=\"relu\"))\n",
    "CNN1D_Model.add(Dropout(0.3))\n",
    "CNN1D_Model.add(MaxPooling1D(3, strides=2, padding=\"same\"))\n",
    "CNN1D_Model.add(Conv1D(64, 5, strides=1, padding=\"same\", activation=\"relu\"))\n",
    "CNN1D_Model.add(Dropout(0.3))\n",
    "CNN1D_Model.add(MaxPooling1D(3, strides=2, padding=\"same\"))\n",
    "CNN1D_Model.add(Flatten())\n",
    "CNN1D_Model.add(Dense(units=1024, activation=\"relu\"))\n",
    "CNN1D_Model.add(Dropout(0.3))\n",
    "CNN1D_Model.add(Dense(units=10, activation=\"softmax\"))\n",
    "CNN1D_Model.summary()"
   ]
  },
  {
   "cell_type": "code",
   "execution_count": 19,
   "metadata": {},
   "outputs": [],
   "source": [
    "CNN1D_Model.compile(\n",
    "    optimizer=\"adam\", loss=\"categorical_crossentropy\", metrics=[\"accuracy\"]\n",
    ")"
   ]
  },
  {
   "cell_type": "code",
   "execution_count": 20,
   "metadata": {},
   "outputs": [
    {
     "name": "stdout",
     "output_type": "stream",
     "text": [
      "Epoch 1/150\n",
      "33/33 [==============================] - 3s 42ms/step - loss: 2.4818 - accuracy: 0.1341 - val_loss: 2.2590 - val_accuracy: 0.1823\n",
      "Epoch 2/150\n",
      "33/33 [==============================] - 1s 33ms/step - loss: 2.2803 - accuracy: 0.1467 - val_loss: 2.3020 - val_accuracy: 0.1105\n",
      "Epoch 3/150\n",
      "33/33 [==============================] - 1s 44ms/step - loss: 2.2485 - accuracy: 0.1710 - val_loss: 2.2106 - val_accuracy: 0.1823\n",
      "Epoch 4/150\n",
      "33/33 [==============================] - 1s 43ms/step - loss: 2.1708 - accuracy: 0.1963 - val_loss: 2.0824 - val_accuracy: 0.2320\n",
      "Epoch 5/150\n",
      "33/33 [==============================] - 1s 43ms/step - loss: 2.0517 - accuracy: 0.2614 - val_loss: 1.9758 - val_accuracy: 0.2541\n",
      "Epoch 6/150\n",
      "33/33 [==============================] - 1s 41ms/step - loss: 1.9975 - accuracy: 0.2760 - val_loss: 1.9691 - val_accuracy: 0.2597\n",
      "Epoch 7/150\n",
      "33/33 [==============================] - 2s 51ms/step - loss: 1.9537 - accuracy: 0.2828 - val_loss: 1.8221 - val_accuracy: 0.3370\n",
      "Epoch 8/150\n",
      "33/33 [==============================] - 1s 39ms/step - loss: 1.8908 - accuracy: 0.3178 - val_loss: 1.7445 - val_accuracy: 0.3867\n",
      "Epoch 9/150\n",
      "33/33 [==============================] - 1s 41ms/step - loss: 1.7702 - accuracy: 0.3625 - val_loss: 1.6546 - val_accuracy: 0.5138\n",
      "Epoch 10/150\n",
      "33/33 [==============================] - 1s 41ms/step - loss: 1.7026 - accuracy: 0.3829 - val_loss: 1.5568 - val_accuracy: 0.4254\n",
      "Epoch 11/150\n",
      "33/33 [==============================] - 1s 38ms/step - loss: 1.5808 - accuracy: 0.4286 - val_loss: 1.4209 - val_accuracy: 0.5249\n",
      "Epoch 12/150\n",
      "33/33 [==============================] - 1s 40ms/step - loss: 1.4134 - accuracy: 0.4859 - val_loss: 1.2537 - val_accuracy: 0.5967\n",
      "Epoch 13/150\n",
      "33/33 [==============================] - 1s 41ms/step - loss: 1.4073 - accuracy: 0.4859 - val_loss: 1.1520 - val_accuracy: 0.6298\n",
      "Epoch 14/150\n",
      "33/33 [==============================] - 1s 39ms/step - loss: 1.2294 - accuracy: 0.5656 - val_loss: 1.0499 - val_accuracy: 0.6630\n",
      "Epoch 15/150\n",
      "33/33 [==============================] - 1s 39ms/step - loss: 1.2074 - accuracy: 0.5821 - val_loss: 1.0153 - val_accuracy: 0.6851\n",
      "Epoch 16/150\n",
      "33/33 [==============================] - 1s 42ms/step - loss: 1.1280 - accuracy: 0.5899 - val_loss: 0.9180 - val_accuracy: 0.7348\n",
      "Epoch 17/150\n",
      "33/33 [==============================] - 1s 39ms/step - loss: 1.2041 - accuracy: 0.6006 - val_loss: 0.9915 - val_accuracy: 0.6464\n",
      "Epoch 18/150\n",
      "33/33 [==============================] - 1s 39ms/step - loss: 1.0240 - accuracy: 0.6404 - val_loss: 0.8433 - val_accuracy: 0.7238\n",
      "Epoch 19/150\n",
      "33/33 [==============================] - 1s 40ms/step - loss: 0.9749 - accuracy: 0.6550 - val_loss: 0.7444 - val_accuracy: 0.7459\n",
      "Epoch 20/150\n",
      "33/33 [==============================] - 1s 41ms/step - loss: 0.8779 - accuracy: 0.6871 - val_loss: 0.7704 - val_accuracy: 0.7348\n",
      "Epoch 21/150\n",
      "33/33 [==============================] - 1s 39ms/step - loss: 0.8934 - accuracy: 0.6978 - val_loss: 0.7253 - val_accuracy: 0.7348\n",
      "Epoch 22/150\n",
      "33/33 [==============================] - 1s 38ms/step - loss: 0.8295 - accuracy: 0.7007 - val_loss: 0.6591 - val_accuracy: 0.7790\n",
      "Epoch 23/150\n",
      "33/33 [==============================] - 1s 42ms/step - loss: 0.6718 - accuracy: 0.7619 - val_loss: 0.6086 - val_accuracy: 0.8011\n",
      "Epoch 24/150\n",
      "33/33 [==============================] - 1s 41ms/step - loss: 0.6997 - accuracy: 0.7444 - val_loss: 0.5808 - val_accuracy: 0.8122\n",
      "Epoch 25/150\n",
      "33/33 [==============================] - 1s 39ms/step - loss: 0.6434 - accuracy: 0.7736 - val_loss: 0.5491 - val_accuracy: 0.8508\n",
      "Epoch 26/150\n",
      "33/33 [==============================] - 1s 40ms/step - loss: 0.5632 - accuracy: 0.8008 - val_loss: 0.5464 - val_accuracy: 0.8453\n",
      "Epoch 27/150\n",
      "33/33 [==============================] - 1s 39ms/step - loss: 0.5818 - accuracy: 0.7804 - val_loss: 0.5832 - val_accuracy: 0.7956\n",
      "Epoch 28/150\n",
      "33/33 [==============================] - 1s 42ms/step - loss: 0.6148 - accuracy: 0.7891 - val_loss: 0.5549 - val_accuracy: 0.8287\n",
      "Epoch 29/150\n",
      "33/33 [==============================] - 1s 44ms/step - loss: 0.5900 - accuracy: 0.7891 - val_loss: 0.5087 - val_accuracy: 0.8398\n",
      "Epoch 30/150\n",
      "33/33 [==============================] - 1s 39ms/step - loss: 0.5694 - accuracy: 0.8076 - val_loss: 0.5578 - val_accuracy: 0.8564\n",
      "Epoch 31/150\n",
      "33/33 [==============================] - 1s 38ms/step - loss: 0.4957 - accuracy: 0.8338 - val_loss: 0.5190 - val_accuracy: 0.8232\n",
      "Epoch 32/150\n",
      "33/33 [==============================] - 1s 40ms/step - loss: 0.4998 - accuracy: 0.8387 - val_loss: 0.4407 - val_accuracy: 0.8564\n",
      "Epoch 33/150\n",
      "33/33 [==============================] - 2s 50ms/step - loss: 0.4023 - accuracy: 0.8494 - val_loss: 0.4650 - val_accuracy: 0.8398\n",
      "Epoch 34/150\n",
      "33/33 [==============================] - 1s 44ms/step - loss: 0.3895 - accuracy: 0.8591 - val_loss: 0.4615 - val_accuracy: 0.8564\n",
      "Epoch 35/150\n",
      "33/33 [==============================] - 1s 41ms/step - loss: 0.3853 - accuracy: 0.8639 - val_loss: 0.4169 - val_accuracy: 0.8785\n",
      "Epoch 36/150\n",
      "33/33 [==============================] - 2s 55ms/step - loss: 0.3895 - accuracy: 0.8669 - val_loss: 0.3657 - val_accuracy: 0.8895\n",
      "Epoch 37/150\n",
      "33/33 [==============================] - 2s 60ms/step - loss: 0.3795 - accuracy: 0.8707 - val_loss: 0.3922 - val_accuracy: 0.8729\n",
      "Epoch 38/150\n",
      "33/33 [==============================] - 1s 44ms/step - loss: 0.4628 - accuracy: 0.8484 - val_loss: 0.4213 - val_accuracy: 0.8508\n",
      "Epoch 39/150\n",
      "33/33 [==============================] - 1s 41ms/step - loss: 0.4419 - accuracy: 0.8465 - val_loss: 0.4078 - val_accuracy: 0.8619\n",
      "Epoch 40/150\n",
      "33/33 [==============================] - 1s 42ms/step - loss: 0.3421 - accuracy: 0.8805 - val_loss: 0.4436 - val_accuracy: 0.8564\n",
      "Epoch 41/150\n",
      "33/33 [==============================] - 1s 44ms/step - loss: 0.4018 - accuracy: 0.8737 - val_loss: 0.4048 - val_accuracy: 0.8840\n",
      "Epoch 42/150\n",
      "33/33 [==============================] - 1s 40ms/step - loss: 0.3251 - accuracy: 0.8892 - val_loss: 0.4204 - val_accuracy: 0.8453\n",
      "Epoch 43/150\n",
      "33/33 [==============================] - 1s 39ms/step - loss: 0.5706 - accuracy: 0.8212 - val_loss: 0.4525 - val_accuracy: 0.8950\n",
      "Epoch 44/150\n",
      "33/33 [==============================] - 2s 46ms/step - loss: 0.3364 - accuracy: 0.8912 - val_loss: 0.3951 - val_accuracy: 0.8895\n",
      "Epoch 45/150\n",
      "33/33 [==============================] - 1s 42ms/step - loss: 0.3374 - accuracy: 0.8912 - val_loss: 0.4262 - val_accuracy: 0.8729\n",
      "Epoch 46/150\n",
      "33/33 [==============================] - 1s 40ms/step - loss: 0.2724 - accuracy: 0.9125 - val_loss: 0.3567 - val_accuracy: 0.8895\n",
      "Epoch 47/150\n",
      "33/33 [==============================] - 1s 40ms/step - loss: 0.3456 - accuracy: 0.8814 - val_loss: 0.4453 - val_accuracy: 0.8840\n",
      "Epoch 48/150\n",
      "33/33 [==============================] - 1s 44ms/step - loss: 0.4219 - accuracy: 0.8542 - val_loss: 0.4382 - val_accuracy: 0.8674\n",
      "Epoch 49/150\n",
      "33/33 [==============================] - 1s 39ms/step - loss: 0.2951 - accuracy: 0.9009 - val_loss: 0.4043 - val_accuracy: 0.8840\n",
      "Epoch 50/150\n",
      "33/33 [==============================] - 1s 39ms/step - loss: 0.3482 - accuracy: 0.8892 - val_loss: 0.3455 - val_accuracy: 0.9061\n",
      "Epoch 51/150\n",
      "33/33 [==============================] - 1s 44ms/step - loss: 0.2990 - accuracy: 0.9038 - val_loss: 0.3850 - val_accuracy: 0.8895\n",
      "Epoch 52/150\n",
      "33/33 [==============================] - 1s 40ms/step - loss: 0.4222 - accuracy: 0.8659 - val_loss: 0.3860 - val_accuracy: 0.8895\n",
      "Epoch 53/150\n",
      "33/33 [==============================] - 1s 43ms/step - loss: 0.3017 - accuracy: 0.8980 - val_loss: 0.3599 - val_accuracy: 0.8729\n",
      "Epoch 54/150\n",
      "33/33 [==============================] - 1s 43ms/step - loss: 0.3496 - accuracy: 0.8921 - val_loss: 0.3172 - val_accuracy: 0.9006\n",
      "Epoch 55/150\n",
      "33/33 [==============================] - 1s 39ms/step - loss: 0.2263 - accuracy: 0.9125 - val_loss: 0.3213 - val_accuracy: 0.9171\n",
      "Epoch 56/150\n",
      "33/33 [==============================] - 1s 39ms/step - loss: 0.2197 - accuracy: 0.9329 - val_loss: 0.3131 - val_accuracy: 0.9006\n",
      "Epoch 57/150\n",
      "33/33 [==============================] - 1s 44ms/step - loss: 0.1806 - accuracy: 0.9300 - val_loss: 0.4162 - val_accuracy: 0.9006\n",
      "Epoch 58/150\n",
      "33/33 [==============================] - 1s 40ms/step - loss: 0.1570 - accuracy: 0.9534 - val_loss: 0.3078 - val_accuracy: 0.9171\n",
      "Epoch 59/150\n",
      "33/33 [==============================] - 1s 45ms/step - loss: 0.1838 - accuracy: 0.9407 - val_loss: 0.3301 - val_accuracy: 0.9171\n",
      "Epoch 60/150\n",
      "33/33 [==============================] - 2s 50ms/step - loss: 0.1485 - accuracy: 0.9504 - val_loss: 0.3299 - val_accuracy: 0.9061\n",
      "Epoch 61/150\n",
      "33/33 [==============================] - 1s 40ms/step - loss: 0.1628 - accuracy: 0.9436 - val_loss: 0.3827 - val_accuracy: 0.9006\n",
      "Epoch 62/150\n",
      "33/33 [==============================] - 1s 39ms/step - loss: 0.2151 - accuracy: 0.9281 - val_loss: 0.3502 - val_accuracy: 0.8895\n",
      "Epoch 63/150\n",
      "33/33 [==============================] - 1s 41ms/step - loss: 0.1958 - accuracy: 0.9378 - val_loss: 0.3124 - val_accuracy: 0.9006\n",
      "Epoch 64/150\n",
      "33/33 [==============================] - 1s 42ms/step - loss: 0.1616 - accuracy: 0.9495 - val_loss: 0.3286 - val_accuracy: 0.9116\n",
      "Epoch 65/150\n",
      "33/33 [==============================] - 2s 52ms/step - loss: 0.2167 - accuracy: 0.9320 - val_loss: 0.3648 - val_accuracy: 0.8950\n",
      "Epoch 66/150\n",
      "33/33 [==============================] - 2s 45ms/step - loss: 0.1886 - accuracy: 0.9349 - val_loss: 0.4382 - val_accuracy: 0.8619\n",
      "Epoch 67/150\n",
      "33/33 [==============================] - 1s 43ms/step - loss: 0.1777 - accuracy: 0.9407 - val_loss: 0.2805 - val_accuracy: 0.9282\n",
      "Epoch 68/150\n",
      "33/33 [==============================] - 2s 60ms/step - loss: 0.1704 - accuracy: 0.9427 - val_loss: 0.4209 - val_accuracy: 0.8674\n",
      "Epoch 69/150\n",
      "33/33 [==============================] - 2s 53ms/step - loss: 0.2416 - accuracy: 0.9213 - val_loss: 0.2972 - val_accuracy: 0.9282\n",
      "Epoch 70/150\n",
      "33/33 [==============================] - 2s 58ms/step - loss: 0.1825 - accuracy: 0.9417 - val_loss: 0.3725 - val_accuracy: 0.8950\n",
      "Epoch 71/150\n",
      "33/33 [==============================] - 1s 45ms/step - loss: 0.1332 - accuracy: 0.9592 - val_loss: 0.2804 - val_accuracy: 0.9227\n",
      "Epoch 72/150\n",
      "33/33 [==============================] - 2s 54ms/step - loss: 0.2095 - accuracy: 0.9281 - val_loss: 0.3308 - val_accuracy: 0.9116\n",
      "Epoch 73/150\n",
      "33/33 [==============================] - 2s 59ms/step - loss: 0.1497 - accuracy: 0.9427 - val_loss: 0.3720 - val_accuracy: 0.8674\n",
      "Epoch 74/150\n",
      "33/33 [==============================] - 2s 49ms/step - loss: 0.1951 - accuracy: 0.9281 - val_loss: 0.2705 - val_accuracy: 0.9282\n",
      "Epoch 75/150\n",
      "33/33 [==============================] - 2s 49ms/step - loss: 0.1717 - accuracy: 0.9504 - val_loss: 0.3338 - val_accuracy: 0.9006\n",
      "Epoch 76/150\n",
      "33/33 [==============================] - 2s 52ms/step - loss: 0.2635 - accuracy: 0.9193 - val_loss: 0.3438 - val_accuracy: 0.8840\n",
      "Epoch 77/150\n",
      "33/33 [==============================] - 2s 58ms/step - loss: 0.1841 - accuracy: 0.9427 - val_loss: 0.3208 - val_accuracy: 0.8895\n",
      "Epoch 78/150\n",
      "33/33 [==============================] - 2s 49ms/step - loss: 0.2759 - accuracy: 0.9329 - val_loss: 0.3660 - val_accuracy: 0.8840\n",
      "Epoch 79/150\n",
      "33/33 [==============================] - 2s 52ms/step - loss: 0.2261 - accuracy: 0.9291 - val_loss: 0.3103 - val_accuracy: 0.9116\n",
      "Epoch 80/150\n",
      "33/33 [==============================] - 2s 48ms/step - loss: 0.1700 - accuracy: 0.9427 - val_loss: 0.3279 - val_accuracy: 0.8840\n",
      "Epoch 81/150\n",
      "33/33 [==============================] - 1s 44ms/step - loss: 0.1626 - accuracy: 0.9534 - val_loss: 0.3003 - val_accuracy: 0.9006\n",
      "Epoch 82/150\n",
      "33/33 [==============================] - 2s 50ms/step - loss: 0.2315 - accuracy: 0.9291 - val_loss: 0.3622 - val_accuracy: 0.8950\n",
      "Epoch 83/150\n",
      "33/33 [==============================] - 1s 42ms/step - loss: 0.1951 - accuracy: 0.9339 - val_loss: 0.3881 - val_accuracy: 0.9006\n",
      "Epoch 84/150\n",
      "33/33 [==============================] - 1s 43ms/step - loss: 0.1502 - accuracy: 0.9534 - val_loss: 0.4123 - val_accuracy: 0.9006\n",
      "Epoch 85/150\n",
      "33/33 [==============================] - 1s 45ms/step - loss: 0.1370 - accuracy: 0.9621 - val_loss: 0.3713 - val_accuracy: 0.8895\n",
      "Epoch 86/150\n",
      "33/33 [==============================] - 1s 42ms/step - loss: 0.1566 - accuracy: 0.9563 - val_loss: 0.4249 - val_accuracy: 0.8729\n",
      "Epoch 87/150\n",
      "33/33 [==============================] - 1s 40ms/step - loss: 0.1477 - accuracy: 0.9553 - val_loss: 0.3249 - val_accuracy: 0.9061\n",
      "Epoch 88/150\n",
      "33/33 [==============================] - 1s 42ms/step - loss: 0.1297 - accuracy: 0.9660 - val_loss: 0.2736 - val_accuracy: 0.9171\n",
      "Epoch 89/150\n",
      "33/33 [==============================] - 1s 39ms/step - loss: 0.1456 - accuracy: 0.9534 - val_loss: 0.3079 - val_accuracy: 0.9116\n",
      "Epoch 90/150\n",
      "33/33 [==============================] - 1s 40ms/step - loss: 0.1260 - accuracy: 0.9534 - val_loss: 0.4327 - val_accuracy: 0.8950\n",
      "Epoch 91/150\n",
      "33/33 [==============================] - 2s 55ms/step - loss: 0.1667 - accuracy: 0.9504 - val_loss: 0.3896 - val_accuracy: 0.8895\n",
      "Epoch 92/150\n",
      "33/33 [==============================] - 2s 58ms/step - loss: 0.1605 - accuracy: 0.9456 - val_loss: 0.2938 - val_accuracy: 0.9337\n",
      "Epoch 93/150\n",
      "33/33 [==============================] - 2s 46ms/step - loss: 0.1547 - accuracy: 0.9553 - val_loss: 0.4250 - val_accuracy: 0.9006\n",
      "Epoch 94/150\n",
      "33/33 [==============================] - 2s 55ms/step - loss: 0.1641 - accuracy: 0.9543 - val_loss: 0.3804 - val_accuracy: 0.8895\n",
      "Epoch 95/150\n",
      "33/33 [==============================] - 1s 41ms/step - loss: 0.1966 - accuracy: 0.9339 - val_loss: 0.3754 - val_accuracy: 0.9061\n",
      "Epoch 96/150\n",
      "33/33 [==============================] - 1s 43ms/step - loss: 0.2177 - accuracy: 0.9320 - val_loss: 0.3161 - val_accuracy: 0.9116\n",
      "Epoch 97/150\n",
      "33/33 [==============================] - 1s 40ms/step - loss: 0.2014 - accuracy: 0.9407 - val_loss: 0.3725 - val_accuracy: 0.9006\n",
      "Epoch 98/150\n",
      "33/33 [==============================] - 1s 44ms/step - loss: 0.2173 - accuracy: 0.9368 - val_loss: 0.3656 - val_accuracy: 0.8785\n",
      "Epoch 99/150\n",
      "33/33 [==============================] - 1s 40ms/step - loss: 0.1375 - accuracy: 0.9543 - val_loss: 0.2924 - val_accuracy: 0.8950\n",
      "Epoch 100/150\n",
      "33/33 [==============================] - 1s 40ms/step - loss: 0.1176 - accuracy: 0.9543 - val_loss: 0.2954 - val_accuracy: 0.9006\n",
      "Epoch 101/150\n",
      "33/33 [==============================] - 1s 42ms/step - loss: 0.1386 - accuracy: 0.9582 - val_loss: 0.3695 - val_accuracy: 0.9061\n",
      "Epoch 102/150\n",
      "33/33 [==============================] - 1s 41ms/step - loss: 0.1947 - accuracy: 0.9397 - val_loss: 0.3522 - val_accuracy: 0.9116\n",
      "Epoch 103/150\n",
      "33/33 [==============================] - 1s 43ms/step - loss: 0.1721 - accuracy: 0.9534 - val_loss: 0.3190 - val_accuracy: 0.9171\n",
      "Epoch 104/150\n",
      "33/33 [==============================] - 2s 46ms/step - loss: 0.1463 - accuracy: 0.9534 - val_loss: 0.3357 - val_accuracy: 0.9227\n",
      "Epoch 105/150\n",
      "33/33 [==============================] - 1s 44ms/step - loss: 0.0999 - accuracy: 0.9660 - val_loss: 0.4393 - val_accuracy: 0.8950\n",
      "Epoch 106/150\n",
      "33/33 [==============================] - 1s 42ms/step - loss: 0.1248 - accuracy: 0.9689 - val_loss: 0.4193 - val_accuracy: 0.8895\n",
      "Epoch 107/150\n",
      "33/33 [==============================] - 1s 42ms/step - loss: 0.1472 - accuracy: 0.9495 - val_loss: 0.3954 - val_accuracy: 0.8895\n",
      "Epoch 108/150\n",
      "33/33 [==============================] - 1s 42ms/step - loss: 0.1257 - accuracy: 0.9582 - val_loss: 0.3522 - val_accuracy: 0.9227\n",
      "Epoch 109/150\n",
      "33/33 [==============================] - 1s 44ms/step - loss: 0.1343 - accuracy: 0.9543 - val_loss: 0.4314 - val_accuracy: 0.8785\n",
      "Epoch 110/150\n",
      "33/33 [==============================] - 1s 40ms/step - loss: 0.1026 - accuracy: 0.9650 - val_loss: 0.3871 - val_accuracy: 0.9227\n",
      "Epoch 111/150\n",
      "33/33 [==============================] - 1s 42ms/step - loss: 0.1100 - accuracy: 0.9670 - val_loss: 0.4332 - val_accuracy: 0.9061\n",
      "Epoch 112/150\n",
      "33/33 [==============================] - 1s 45ms/step - loss: 0.0852 - accuracy: 0.9689 - val_loss: 0.3056 - val_accuracy: 0.9337\n",
      "Epoch 113/150\n",
      "33/33 [==============================] - 1s 38ms/step - loss: 0.1187 - accuracy: 0.9718 - val_loss: 0.3175 - val_accuracy: 0.9171\n",
      "Epoch 114/150\n",
      "33/33 [==============================] - 1s 45ms/step - loss: 0.0954 - accuracy: 0.9718 - val_loss: 0.3225 - val_accuracy: 0.9227\n",
      "Epoch 115/150\n",
      "33/33 [==============================] - 1s 41ms/step - loss: 0.2264 - accuracy: 0.9349 - val_loss: 0.3430 - val_accuracy: 0.9061\n",
      "Epoch 116/150\n",
      "33/33 [==============================] - 1s 40ms/step - loss: 0.1805 - accuracy: 0.9359 - val_loss: 0.3806 - val_accuracy: 0.8840\n",
      "Epoch 117/150\n",
      "33/33 [==============================] - 1s 43ms/step - loss: 0.1646 - accuracy: 0.9466 - val_loss: 0.3635 - val_accuracy: 0.9282\n",
      "Epoch 118/150\n",
      "33/33 [==============================] - 1s 41ms/step - loss: 0.1972 - accuracy: 0.9446 - val_loss: 0.3462 - val_accuracy: 0.9282\n",
      "Epoch 119/150\n",
      "33/33 [==============================] - 1s 38ms/step - loss: 0.0988 - accuracy: 0.9679 - val_loss: 0.3647 - val_accuracy: 0.9116\n",
      "Epoch 120/150\n",
      "33/33 [==============================] - 1s 42ms/step - loss: 0.2063 - accuracy: 0.9466 - val_loss: 0.4297 - val_accuracy: 0.8840\n",
      "Epoch 121/150\n",
      "33/33 [==============================] - 1s 38ms/step - loss: 0.1389 - accuracy: 0.9485 - val_loss: 0.3627 - val_accuracy: 0.9116\n",
      "Epoch 122/150\n",
      "33/33 [==============================] - 1s 43ms/step - loss: 0.1309 - accuracy: 0.9650 - val_loss: 0.3713 - val_accuracy: 0.9116\n",
      "Epoch 123/150\n",
      "33/33 [==============================] - 1s 40ms/step - loss: 0.1475 - accuracy: 0.9621 - val_loss: 0.3955 - val_accuracy: 0.9006\n",
      "Epoch 124/150\n",
      "33/33 [==============================] - 1s 41ms/step - loss: 0.1284 - accuracy: 0.9572 - val_loss: 0.3230 - val_accuracy: 0.9392\n",
      "Epoch 125/150\n",
      "33/33 [==============================] - 1s 43ms/step - loss: 0.6031 - accuracy: 0.8659 - val_loss: 0.4784 - val_accuracy: 0.8840\n",
      "Epoch 126/150\n",
      "33/33 [==============================] - 1s 40ms/step - loss: 0.3110 - accuracy: 0.8970 - val_loss: 0.3944 - val_accuracy: 0.9116\n",
      "Epoch 127/150\n",
      "33/33 [==============================] - 1s 42ms/step - loss: 0.2968 - accuracy: 0.9135 - val_loss: 0.4209 - val_accuracy: 0.9006\n",
      "Epoch 128/150\n",
      "33/33 [==============================] - 1s 40ms/step - loss: 0.2050 - accuracy: 0.9339 - val_loss: 0.3522 - val_accuracy: 0.9116\n",
      "Epoch 129/150\n",
      "33/33 [==============================] - 1s 40ms/step - loss: 0.1500 - accuracy: 0.9514 - val_loss: 0.3545 - val_accuracy: 0.9006\n",
      "Epoch 130/150\n",
      "33/33 [==============================] - 1s 42ms/step - loss: 0.1339 - accuracy: 0.9543 - val_loss: 0.3015 - val_accuracy: 0.9227\n",
      "Epoch 131/150\n",
      "33/33 [==============================] - 1s 38ms/step - loss: 0.1092 - accuracy: 0.9679 - val_loss: 0.3500 - val_accuracy: 0.9116\n",
      "Epoch 132/150\n",
      "33/33 [==============================] - 1s 38ms/step - loss: 0.0750 - accuracy: 0.9718 - val_loss: 0.3232 - val_accuracy: 0.9392\n",
      "Epoch 133/150\n",
      "33/33 [==============================] - 1s 42ms/step - loss: 0.0996 - accuracy: 0.9708 - val_loss: 0.3292 - val_accuracy: 0.9061\n",
      "Epoch 134/150\n",
      "33/33 [==============================] - 1s 38ms/step - loss: 0.1767 - accuracy: 0.9475 - val_loss: 0.3673 - val_accuracy: 0.9116\n",
      "Epoch 135/150\n",
      "33/33 [==============================] - 1s 42ms/step - loss: 0.1710 - accuracy: 0.9504 - val_loss: 0.3745 - val_accuracy: 0.9116\n",
      "Epoch 136/150\n",
      "33/33 [==============================] - 1s 40ms/step - loss: 0.1254 - accuracy: 0.9631 - val_loss: 0.3541 - val_accuracy: 0.9227\n",
      "Epoch 137/150\n",
      "33/33 [==============================] - 1s 40ms/step - loss: 0.1034 - accuracy: 0.9708 - val_loss: 0.3768 - val_accuracy: 0.9282\n",
      "Epoch 138/150\n",
      "33/33 [==============================] - 1s 42ms/step - loss: 0.0801 - accuracy: 0.9776 - val_loss: 0.3824 - val_accuracy: 0.9171\n",
      "Epoch 139/150\n",
      "33/33 [==============================] - 1s 40ms/step - loss: 0.0690 - accuracy: 0.9747 - val_loss: 0.4419 - val_accuracy: 0.9061\n",
      "Epoch 140/150\n",
      "33/33 [==============================] - 1s 39ms/step - loss: 0.0757 - accuracy: 0.9786 - val_loss: 0.3386 - val_accuracy: 0.9116\n",
      "Epoch 141/150\n",
      "33/33 [==============================] - 2s 53ms/step - loss: 0.0646 - accuracy: 0.9806 - val_loss: 0.4151 - val_accuracy: 0.9061\n",
      "Epoch 142/150\n",
      "33/33 [==============================] - 1s 40ms/step - loss: 0.0946 - accuracy: 0.9699 - val_loss: 0.3708 - val_accuracy: 0.9006\n",
      "Epoch 143/150\n",
      "33/33 [==============================] - 1s 40ms/step - loss: 0.1038 - accuracy: 0.9738 - val_loss: 0.4223 - val_accuracy: 0.9006\n",
      "Epoch 144/150\n",
      "33/33 [==============================] - 1s 39ms/step - loss: 0.0966 - accuracy: 0.9660 - val_loss: 0.4228 - val_accuracy: 0.8950\n",
      "Epoch 145/150\n",
      "33/33 [==============================] - 1s 42ms/step - loss: 0.1852 - accuracy: 0.9563 - val_loss: 0.4516 - val_accuracy: 0.9116\n",
      "Epoch 146/150\n",
      "33/33 [==============================] - 1s 42ms/step - loss: 0.2000 - accuracy: 0.9456 - val_loss: 0.3590 - val_accuracy: 0.9171\n",
      "Epoch 147/150\n",
      "33/33 [==============================] - 1s 39ms/step - loss: 0.1480 - accuracy: 0.9563 - val_loss: 0.3900 - val_accuracy: 0.8895\n",
      "Epoch 148/150\n",
      "33/33 [==============================] - 1s 41ms/step - loss: 0.1175 - accuracy: 0.9679 - val_loss: 0.4483 - val_accuracy: 0.9227\n",
      "Epoch 149/150\n",
      "33/33 [==============================] - 1s 41ms/step - loss: 0.0915 - accuracy: 0.9718 - val_loss: 0.3953 - val_accuracy: 0.9061\n",
      "Epoch 150/150\n",
      "33/33 [==============================] - 1s 41ms/step - loss: 0.0822 - accuracy: 0.9767 - val_loss: 0.3862 - val_accuracy: 0.9116\n",
      "CNN1D Model Saved\n"
     ]
    }
   ],
   "source": [
    "t0 = time.time()\n",
    "\n",
    "CNN1D_Results = CNN1D_Model.fit(\n",
    "    X_train, y_train, batch_size=32, epochs=150, validation_data=(X_test, y_test)\n",
    ")\n",
    "\n",
    "CNN1D_Model.save(\"Model_CNN1D_TrainTestSplit.h5\")\n",
    "print(\"CNN1D Model Saved\")\n",
    "train_hist_m2 = pd.DataFrame(CNN1D_Results.history)\n",
    "train_m2 = round(time.time() - t0, 3)"
   ]
  },
  {
   "cell_type": "code",
   "execution_count": 21,
   "metadata": {},
   "outputs": [
    {
     "data": {
      "image/png": "[encoded data removed]",
      "text/plain": [
       "<Figure size 640x480 with 1 Axes>"
      ]
     },
     "metadata": {},
     "output_type": "display_data"
    }
   ],
   "source": [
    "plt.plot(train_hist_m2[[\"loss\", \"val_loss\"]])\n",
    "plt.legend([\"Loss\", \"Validation Loss\"])\n",
    "plt.title(\"Loss Per Epochs\")\n",
    "plt.xlabel(\"Epochs\")\n",
    "plt.ylabel(\"Loss\")\n",
    "plt.show()"
   ]
  },
  {
   "cell_type": "code",
   "execution_count": 22,
   "metadata": {},
   "outputs": [
    {
     "data": {
      "image/png": "[encoded data removed]",
      "text/plain": [
       "<Figure size 640x480 with 1 Axes>"
      ]
     },
     "metadata": {},
     "output_type": "display_data"
    }
   ],
   "source": [
    "plt.plot(train_hist_m2[[\"accuracy\", \"val_accuracy\"]])\n",
    "plt.legend([\"Accuracy\", \"Validation Accuracy\"])\n",
    "plt.title(\"Accuracy Per Epochs\")\n",
    "plt.xlabel(\"Epochs\")\n",
    "plt.ylabel(\"Accuracy\")\n",
    "plt.show()"
   ]
  },
  {
   "cell_type": "code",
   "execution_count": 23,
   "metadata": {},
   "outputs": [],
   "source": [
    "# import numpy as np\n",
    "# import tensorflow as tf\n",
    "# from tensorflow import keras\n",
    "# import librosa\n",
    "\n",
    "# # Define the LSTM model architecture\n",
    "# model = keras.Sequential()\n",
    "# model.add(keras.layers.LSTM(128, input_shape=(X_train.shape[1], 1), return_sequences=True))\n",
    "# model.add(keras.layers.Dropout(0.3))\n",
    "# model.add(keras.layers.LSTM(128, return_sequences=True))\n",
    "# model.add(keras.layers.Dropout(0.3))\n",
    "# model.add(keras.layers.LSTM(128, return_sequences=True))\n",
    "# model.add(keras.layers.Dropout(0.3))\n",
    "# model.add(keras.layers.LSTM(128))\n",
    "\n",
    "# model.add(keras.layers.Dropout(0.3))\n",
    "# model.add(keras.layers.Dense(10, activation='sigmoid'))\n",
    "\n",
    "\n",
    "# # Compile the model\n",
    "# model.compile(optimizer='adam', loss='categorical_crossentropy', metrics=['accuracy'])\n",
    "\n",
    "\n",
    "# t0 = time.time()\n",
    "\n",
    "# # CNN1D_Results = CNN1D_Model.fit(\n",
    "# #     X_train, y_train, batch_size=32, epochs=120, validation_data=(X_test, y_test)\n",
    "# # )\n",
    "\n",
    "# # Train the model on the spectrogram data\n",
    "# # history = model.fit(X_train, y_train, batch_size=32, epochs=120, validation_data=(X_test, y_test))\n",
    "\n",
    "# history = model.fit(X_pre, y_enc, batch_size=64, epochs=150)\n",
    "\n",
    "# # model.save(\"Model2.h5\")\n",
    "\n",
    "# train_hist_m2 = pd.DataFrame(history.history)\n",
    "# train_m2 = round(time.time() - t0, 3)\n",
    "\n",
    "# # Save the model\n",
    "# model.save('lstm_model.h5')\n",
    "# print(\"LSTM Model Saved\")"
   ]
  },
  {
   "cell_type": "code",
   "execution_count": 24,
   "metadata": {},
   "outputs": [],
   "source": [
    "# CNN1D_Model = Sequential()\n",
    "# CNN1D_Model.add(\n",
    "#     Conv1D(\n",
    "#         256,\n",
    "#         5,\n",
    "#         strides=1,\n",
    "#         padding=\"same\",\n",
    "#         activation=\"relu\",\n",
    "#         input_shape=(X_train.shape[1], 1),\n",
    "#     )\n",
    "# )\n",
    "# CNN1D_Model.add(BatchNormalization())\n",
    "# CNN1D_Model.add(MaxPooling1D(3, strides=2, padding=\"same\"))\n",
    "# CNN1D_Model.add(Conv1D(256, 5, strides=1, padding=\"same\", activation=\"relu\"))\n",
    "# CNN1D_Model.add(Dropout(0.3))\n",
    "# CNN1D_Model.add(MaxPooling1D(3, strides=2, padding=\"same\"))\n",
    "# CNN1D_Model.add(Conv1D(128, 5, strides=1, padding=\"same\", activation=\"relu\"))\n",
    "# CNN1D_Model.add(Dropout(0.3))\n",
    "# CNN1D_Model.add(MaxPooling1D(3, strides=2, padding=\"same\"))\n",
    "# CNN1D_Model.add(Conv1D(64, 5, strides=1, padding=\"same\", activation=\"relu\"))\n",
    "# CNN1D_Model.add(Dropout(0.3))\n",
    "# CNN1D_Model.add(MaxPooling1D(3, strides=2, padding=\"same\"))\n",
    "# CNN1D_Model.add(Flatten())\n",
    "# CNN1D_Model.add(Dense(units=1024, activation=\"relu\"))\n",
    "# CNN1D_Model.add(Dropout(0.3))\n",
    "# CNN1D_Model.add(Dense(units=10, activation=\"softmax\"))\n",
    "# CNN1D_Model.summary()\n"
   ]
  },
  {
   "cell_type": "code",
   "execution_count": 25,
   "metadata": {},
   "outputs": [],
   "source": [
    "# CNN1D_Model.compile(\n",
    "#     optimizer=\"adam\", loss=\"categorical_crossentropy\", metrics=[\"accuracy\"]\n",
    "# )"
   ]
  },
  {
   "cell_type": "code",
   "execution_count": 26,
   "metadata": {},
   "outputs": [],
   "source": [
    "# t0 = time.time()\n",
    "\n",
    "# CNN1D_Results = CNN1D_Model.fit(\n",
    "#     X_train, y_train, batch_size=32, epochs=120, validation_data=(X_test, y_test)\n",
    "# )\n",
    "\n",
    "# CNN1D_Model.save(\"Model2.h5\")\n",
    "# print(\"CNN1D Model Saved\")\n",
    "# train_hist_m2 = pd.DataFrame(CNN1D_Results.history)\n",
    "# train_m2 = round(time.time() - t0, 3)"
   ]
  },
  {
   "cell_type": "code",
   "execution_count": 27,
   "metadata": {},
   "outputs": [],
   "source": [
    "# plt.plot(train_hist_m2[[\"loss\"]])\n",
    "# plt.legend([\"Loss\"])\n",
    "# plt.title(\"Loss Per Epochs\")\n",
    "# plt.xlabel(\"Epochs\")\n",
    "# plt.ylabel(\"Loss\")\n",
    "# plt.show()\n",
    "\n",
    "# # plt.plot(train_hist_m2[[\"loss\", \"val_loss\"]])\n",
    "# # plt.legend([\"Loss\", \"Validation Loss\"])\n",
    "# # plt.title(\"Loss Per Epochs\")\n",
    "# # plt.xlabel(\"Epochs\")\n",
    "# # plt.ylabel(\"Loss\")\n",
    "# # plt.show()"
   ]
  },
  {
   "cell_type": "code",
   "execution_count": 28,
   "metadata": {},
   "outputs": [],
   "source": [
    "# plt.plot(train_hist_m2[[\"accuracy\"]])\n",
    "# plt.legend([\"Accuracy\"])\n",
    "# plt.title(\"Accuracy Per Epochs\")\n",
    "# plt.xlabel(\"Epochs\")\n",
    "# plt.ylabel(\"Accuracy\")\n",
    "# plt.show()\n",
    "\n",
    "# # plt.plot(train_hist_m2[[\"accuracy\", \"val_accuracy\"]])\n",
    "# # plt.legend([\"Accuracy\", \"Validation Accuracy\"])\n",
    "# # plt.title(\"Accuracy Per Epochs\")\n",
    "# # plt.xlabel(\"Epochs\")\n",
    "# # plt.ylabel(\"Accuracy\")\n",
    "# # plt.show()"
   ]
  },
  {
   "cell_type": "code",
   "execution_count": 64,
   "metadata": {},
   "outputs": [
    {
     "name": "stdout",
     "output_type": "stream",
     "text": [
      "Recording...\n",
      "Finished recording.\n"
     ]
    }
   ],
   "source": [
    "import pyaudio\n",
    "import wave\n",
    "\n",
    "# Set parameters for audio recording\n",
    "CHUNK = 1024\n",
    "FORMAT = pyaudio.paInt16\n",
    "CHANNELS = 1\n",
    "RATE = 44100\n",
    "RECORD_SECONDS = 5\n",
    "WAVE_OUTPUT_FILENAME = \"output.wav\"\n",
    "\n",
    "# Create PyAudio object\n",
    "audio = pyaudio.PyAudio()\n",
    "\n",
    "# Open audio stream from microphone\n",
    "stream = audio.open(format=FORMAT, channels=CHANNELS, rate=RATE,\n",
    "                    input=True, frames_per_buffer=CHUNK)\n",
    "\n",
    "print(\"Recording...\")\n",
    "\n",
    "# Create buffer to store audio data\n",
    "frames = []\n",
    "\n",
    "# Record audio for specified number of seconds\n",
    "for i in range(0, int(RATE / CHUNK * RECORD_SECONDS)):\n",
    "    data = stream.read(CHUNK)\n",
    "    frames.append(data)\n",
    "\n",
    "print(\"Finished recording.\")\n",
    "\n",
    "# Stop and close audio stream\n",
    "stream.stop_stream()\n",
    "stream.close()\n",
    "audio.terminate()\n",
    "\n",
    "# Write audio data to WAV file\n",
    "wf = wave.open(WAVE_OUTPUT_FILENAME, 'wb')\n",
    "wf.setnchannels(CHANNELS)\n",
    "wf.setsampwidth(audio.get_sample_size(FORMAT))\n",
    "wf.setframerate(RATE)\n",
    "wf.writeframes(b''.join(frames))\n",
    "wf.close()"
   ]
  },
  {
   "cell_type": "code",
   "execution_count": 78,
   "metadata": {},
   "outputs": [
    {
     "name": "stdout",
     "output_type": "stream",
     "text": [
      "1/1 [==============================] - 0s 225ms/step\n",
      "Predicted class: 1\n",
      "Al-Falaq\n"
     ]
    },
    {
     "data": {
      "text/plain": [
       "array([2.5249243e-04, 9.0694922e-01, 2.9367881e-03, 1.1086653e-02,\n",
       "       7.4121362e-04, 6.6075183e-04, 2.5921972e-03, 4.7530346e-02,\n",
       "       6.6961413e-03, 2.0554259e-02], dtype=float32)"
      ]
     },
     "execution_count": 78,
     "metadata": {},
     "output_type": "execute_result"
    }
   ],
   "source": [
    "import librosa\n",
    "import numpy as np\n",
    "import tensorflow as tf\n",
    "import h5py\n",
    "\n",
    "labels = ['An-Nas', 'Al-Falaq','Al-Fil','Quraish','Al-Maun','Al-Kauthar','Al-Kafirun','An-Nasr','Al-Masad','Al-Ikhlas']\n",
    "\n",
    "# Load audio file and compute MFCC features\n",
    "def compute_mfcc(audio_file):\n",
    "    y, sr = librosa.load(audio_file)\n",
    "    mfcc = librosa.feature.mfcc(y=y, sr=sr, n_mfcc=40)\n",
    "    mfcc = np.mean(mfcc.T,axis=0)\n",
    "    return mfcc\n",
    "\n",
    "# Load h5 model and make prediction\n",
    "def predict(audio_file, model_file):\n",
    "    # Load model\n",
    "    model = tf.keras.models.load_model(model_file)\n",
    "\n",
    "    # Compute MFCC features\n",
    "    mfcc = compute_mfcc(audio_file)\n",
    "\n",
    "    # Reshape MFCC features to match expected input shape of model\n",
    "    mfcc = np.expand_dims(mfcc, axis=0)\n",
    "\n",
    "    # Make prediction\n",
    "    predictions = model.predict(mfcc)\n",
    "\n",
    "    # Print predicted class\n",
    "    print('Predicted class:', np.argmax(predictions[0]) )\n",
    "    \n",
    "    for i in range(len(labels)):\n",
    "        if i ==  np.argmax(predictions[0]):\n",
    "            print(labels[i])\n",
    "            \n",
    "    return predictions[0]\n",
    "        \n",
    "        \n",
    "        \n",
    "# Example usage\n",
    "predict('output.wav', 'Model_CNN1D_TrainTestSplit.h5')\n",
    "\n"
   ]
  },
  {
   "attachments": {},
   "cell_type": "markdown",
   "metadata": {},
   "source": [
    "Confusion Matrix\n"
   ]
  },
  {
   "cell_type": "code",
   "execution_count": 72,
   "metadata": {},
   "outputs": [
    {
     "ename": "NameError",
     "evalue": "name 'predictions' is not defined",
     "output_type": "error",
     "traceback": [
      "\u001b[1;31m---------------------------------------------------------------------------\u001b[0m",
      "\u001b[1;31mNameError\u001b[0m                                 Traceback (most recent call last)",
      "\u001b[1;32m~\\AppData\\Local\\Temp\\ipykernel_9088\\3653525746.py\u001b[0m in \u001b[0;36m<module>\u001b[1;34m\u001b[0m\n\u001b[0;32m      3\u001b[0m \u001b[1;32mfrom\u001b[0m \u001b[0msklearn\u001b[0m\u001b[1;33m.\u001b[0m\u001b[0mmetrics\u001b[0m \u001b[1;32mimport\u001b[0m \u001b[0mconfusion_matrix\u001b[0m\u001b[1;33m\u001b[0m\u001b[1;33m\u001b[0m\u001b[0m\n\u001b[0;32m      4\u001b[0m \u001b[1;33m\u001b[0m\u001b[0m\n\u001b[1;32m----> 5\u001b[1;33m \u001b[0mconfusion_matrix\u001b[0m\u001b[1;33m(\u001b[0m\u001b[0my_test\u001b[0m\u001b[1;33m,\u001b[0m \u001b[0mpredictions\u001b[0m\u001b[1;33m)\u001b[0m\u001b[1;33m\u001b[0m\u001b[1;33m\u001b[0m\u001b[0m\n\u001b[0m\u001b[0;32m      6\u001b[0m \u001b[0mplot_confusion_matrix\u001b[0m\u001b[1;33m(\u001b[0m\u001b[0mCNN1D_Results\u001b[0m\u001b[1;33m,\u001b[0m \u001b[0mX_test\u001b[0m\u001b[1;33m,\u001b[0m \u001b[0my_test\u001b[0m\u001b[1;33m,\u001b[0m \u001b[0mcmap\u001b[0m\u001b[1;33m=\u001b[0m\u001b[0mplt\u001b[0m\u001b[1;33m.\u001b[0m\u001b[0mcm\u001b[0m\u001b[1;33m.\u001b[0m\u001b[0mBlues\u001b[0m\u001b[1;33m)\u001b[0m\u001b[1;33m\u001b[0m\u001b[1;33m\u001b[0m\u001b[0m\n\u001b[0;32m      7\u001b[0m \u001b[0mplt\u001b[0m\u001b[1;33m.\u001b[0m\u001b[0mshow\u001b[0m\u001b[1;33m(\u001b[0m\u001b[1;33m)\u001b[0m\u001b[1;33m\u001b[0m\u001b[1;33m\u001b[0m\u001b[0m\n",
      "\u001b[1;31mNameError\u001b[0m: name 'predictions' is not defined"
     ]
    }
   ],
   "source": [
    "# import matplotlib.pyplot as plt\n",
    "# from sklearn.metrics import plot_confusion_matrix\n",
    "# from sklearn.metrics import confusion_matrix\n",
    "\n",
    "# confusion_matrix(y_test, predictions)\n",
    "# plot_confusion_matrix(CNN1D_Results, X_test, y_test, cmap=plt.cm.Blues)\n",
    "# plt.show()\n"
   ]
  },
  {
   "attachments": {},
   "cell_type": "markdown",
   "metadata": {},
   "source": [
    "- - KWT Transformers Model"
   ]
  },
  {
   "cell_type": "code",
   "execution_count": 31,
   "metadata": {},
   "outputs": [],
   "source": [
    "# import os\n",
    "# import pathlib\n",
    "\n",
    "# import matplotlib.pyplot as plt\n",
    "# import numpy as np\n",
    "# import seaborn as sns\n",
    "# import tensorflow as tf\n",
    "\n",
    "# from tensorflow.keras.layers.experimental import preprocessing\n",
    "# from tensorflow.keras import layers\n",
    "# from tensorflow.keras import models\n",
    "# from IPython import display\n",
    "\n",
    "# from utils import mel_features\n",
    "\n",
    "# from tqdm.notebook import tqdm\n",
    "\n",
    "\n",
    "# # Set seed for experiment reproducibility\n",
    "# seed = 42\n",
    "# tf.random.set_seed(seed)\n",
    "# np.random.seed(seed)"
   ]
  },
  {
   "cell_type": "code",
   "execution_count": 32,
   "metadata": {},
   "outputs": [],
   "source": [
    "# from utils.transformer import TransformerEncoder, PatchClassEmbedding\n",
    "# from utils.tools import CustomSchedule"
   ]
  },
  {
   "cell_type": "code",
   "execution_count": 33,
   "metadata": {},
   "outputs": [],
   "source": [
    "# # model configurations\n",
    "# n_heads = 3 # select kwt 1 2 or 3\n",
    "# d_model = 64 * n_heads\n",
    "# d_ff = d_model * 4\n",
    "# mlp_head_size = 768\n",
    "# dropout = 0.1\n",
    "# activation = tf.nn.gelu\n",
    "# n_layers = 12"
   ]
  },
  {
   "cell_type": "code",
   "execution_count": 34,
   "metadata": {},
   "outputs": [],
   "source": [
    "# def build_kwt(transformer, input_size):\n",
    "#     # Input\n",
    "#     inputs = tf.keras.layers.Input(shape=input_size)\n",
    "    \n",
    "#     # Linear Projection of Flattened Patches\n",
    "#     x = tf.keras.layers.Dense(d_model)(inputs)\n",
    "    \n",
    "#     # Position Embedding + Extra learnable class embedding\n",
    "#     x = PatchClassEmbedding(d_model, input_size[0])(x)\n",
    "    \n",
    "#     # Transformer Model\n",
    "#     x = transformer(x)\n",
    "    \n",
    "#     # Take only the Extra Learnable Class\n",
    "#     x = tf.keras.layers.Lambda(lambda x: x[:,0,:])(x)\n",
    "    \n",
    "#     # MLP Head\n",
    "#     x = tf.keras.layers.Dense(mlp_head_size)(x)\n",
    "#     outputs = tf.keras.layers.Dense(len(labels), activation='softmax')(x)\n",
    "    \n",
    "#     return tf.keras.models.Model(inputs, outputs)\n"
   ]
  },
  {
   "cell_type": "code",
   "execution_count": 35,
   "metadata": {},
   "outputs": [],
   "source": [
    "# transformer = TransformerEncoder(d_model, n_heads, d_ff, dropout, activation, n_layers)\n",
    "# model = build_kwt(transformer, input_size=(X_train_reshaped.shape[1:-1]))"
   ]
  },
  {
   "cell_type": "code",
   "execution_count": 36,
   "metadata": {},
   "outputs": [],
   "source": [
    "# model.summary()"
   ]
  },
  {
   "cell_type": "code",
   "execution_count": 37,
   "metadata": {},
   "outputs": [],
   "source": [
    "# # set some variables\n",
    "# batch_size = 64\n",
    "# n_epochs = 50"
   ]
  },
  {
   "cell_type": "code",
   "execution_count": 38,
   "metadata": {},
   "outputs": [],
   "source": [
    "# lr = CustomSchedule(d_model, warmup_steps=20000.0)\n",
    "# optimizer = tf.keras.optimizers.Adam(learning_rate=lr)\n",
    "# model.compile(\n",
    "#     optimizer=optimizer,\n",
    "#     loss=tf.keras.losses.CategoricalCrossentropy(from_logits=False, label_smoothing=0.1),\n",
    "#     metrics=['accuracy'])"
   ]
  },
  {
   "cell_type": "code",
   "execution_count": 39,
   "metadata": {},
   "outputs": [],
   "source": [
    "# history = model.fit(\n",
    "#     X_train_reshaped, y_train, \n",
    "#     validation_data=(X_test_reshaped, y_test),  \n",
    "#     epochs=n_epochs, initial_epoch=0)"
   ]
  },
  {
   "cell_type": "code",
   "execution_count": 40,
   "metadata": {},
   "outputs": [],
   "source": [
    "# metrics = history.history\n",
    "# plt.plot(history.epoch, metrics['accuracy'], metrics['val_accuracy'])\n",
    "# plt.legend(['accuracy', 'val_accuracy'])\n",
    "# plt.show()"
   ]
  },
  {
   "cell_type": "code",
   "execution_count": 41,
   "metadata": {},
   "outputs": [],
   "source": [
    "# metrics = history.history\n",
    "# plt.plot(history.epoch, metrics['loss'], metrics['val_loss'])\n",
    "# plt.legend(['loss', 'val_loss'])\n",
    "# plt.show()"
   ]
  },
  {
   "cell_type": "code",
   "execution_count": 42,
   "metadata": {},
   "outputs": [],
   "source": [
    "# model.evaluate(X_test_reshaped, y_test)"
   ]
  },
  {
   "attachments": {},
   "cell_type": "markdown",
   "metadata": {},
   "source": [
    "- - CNN-2D"
   ]
  },
  {
   "cell_type": "code",
   "execution_count": 43,
   "metadata": {},
   "outputs": [],
   "source": [
    "# CNN2D_Model = Sequential()\n",
    "# CNN2D_Model.add(\n",
    "#     Conv2D(64, (3, 3), padding=\"same\", activation=\"tanh\", input_shape=(10, 4, 1))\n",
    "# )\n",
    "# CNN2D_Model.add(MaxPool2D(pool_size=(2, 2)))\n",
    "# CNN2D_Model.add(Conv2D(128, (3, 3), padding=\"same\", activation=\"tanh\"))\n",
    "# CNN2D_Model.add(MaxPool2D(pool_size=(2, 2)))\n",
    "# CNN2D_Model.add(Dropout(0.1))\n",
    "# CNN2D_Model.add(Flatten())\n",
    "# CNN2D_Model.add(Dense(1024, activation=\"tanh\",  kernel_regularizer=regularizers.l1(l=0.01)))\n",
    "# CNN2D_Model.add(Dense(2, activation=\"softmax\"))\n",
    "# CNN2D_Model.summary()"
   ]
  },
  {
   "cell_type": "code",
   "execution_count": 44,
   "metadata": {},
   "outputs": [],
   "source": [
    "# CNN2D_Model.compile(\n",
    "#     optimizer=\"adam\", loss=\"categorical_crossentropy\", metrics=[\"accuracy\"]\n",
    "# )"
   ]
  },
  {
   "cell_type": "code",
   "execution_count": 45,
   "metadata": {},
   "outputs": [],
   "source": [
    "# t0 = time.time()\n",
    "\n",
    "# CNN2D_Results = CNN2D_Model.fit(\n",
    "#     X_train_reshaped, y_train, epochs=100, batch_size=16, validation_data=(X_test_reshaped, y_test)\n",
    "# )\n",
    "\n",
    "# CNN2D_Model.save(\"Model3.h5\")\n",
    "# print(\"CNN2D Model Saved\")\n",
    "# train_hist_m3 = pd.DataFrame(CNN2D_Results.history)\n",
    "# train_m3 = round(time.time() - t0, 3)"
   ]
  },
  {
   "cell_type": "code",
   "execution_count": 46,
   "metadata": {},
   "outputs": [],
   "source": [
    "# plt.plot(train_hist_m2[[\"loss\", \"val_loss\"]])\n",
    "# plt.legend([\"Loss\", \"Validation Loss\"])\n",
    "# plt.title(\"Loss Per Epochs\")\n",
    "# plt.xlabel(\"Epochs\")\n",
    "# plt.ylabel(\"Loss\")\n",
    "# plt.show()"
   ]
  },
  {
   "cell_type": "code",
   "execution_count": 47,
   "metadata": {},
   "outputs": [],
   "source": [
    "# plt.plot(train_hist_m2[[\"accuracy\", \"val_accuracy\"]])\n",
    "# plt.legend([\"Accuracy\", \"Validation Accuracy\"])\n",
    "# plt.title(\"Accuracy Per Epochs\")\n",
    "# plt.xlabel(\"Epochs\")\n",
    "# plt.ylabel(\"Accuracy\")\n",
    "# plt.show()"
   ]
  }
 ],
 "metadata": {
  "kernelspec": {
   "display_name": "Python 3",
   "language": "python",
   "name": "python3"
  },
  "language_info": {
   "codemirror_mode": {
    "name": "ipython",
    "version": 3
   },
   "file_extension": ".py",
   "mimetype": "text/x-python",
   "name": "python",
   "nbconvert_exporter": "python",
   "pygments_lexer": "ipython3",
   "version": "3.7.3"
  },
  "orig_nbformat": 4
 },
 "nbformat": 4,
 "nbformat_minor": 2
}
