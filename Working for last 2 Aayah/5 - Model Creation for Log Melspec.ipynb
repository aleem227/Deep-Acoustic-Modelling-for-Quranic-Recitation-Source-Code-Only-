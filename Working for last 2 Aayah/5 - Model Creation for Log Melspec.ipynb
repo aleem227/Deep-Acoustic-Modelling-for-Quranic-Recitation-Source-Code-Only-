{
 "cells": [
  {
   "cell_type": "code",
   "execution_count": 1,
   "metadata": {},
   "outputs": [],
   "source": [
    "import pandas as pd\n",
    "import os\n",
    "import librosa\n",
    "import numpy as np\n",
    "import math\n",
    "import numpy as np\n",
    "from tqdm import tqdm\n",
    "import matplotlib.pyplot as plt\n",
    "%matplotlib inline\n",
    "import librosa\n",
    "import pandas as pd\n",
    "import numpy as np\n",
    "\n",
    "\n",
    "import os\n",
    "import pathlib\n",
    "\n",
    "import matplotlib.pyplot as plt\n",
    "import numpy as np\n",
    "import seaborn as sns\n",
    "import tensorflow as tf\n",
    "\n",
    "from tensorflow.keras.layers.experimental import preprocessing\n",
    "from tensorflow.keras import layers\n",
    "from tensorflow.keras import models\n",
    "from IPython import display\n",
    "\n",
    "from tqdm.notebook import tqdm\n",
    "\n",
    "from sklearn.preprocessing import OneHotEncoder\n",
    "\n",
    "# Set seed for experiment reproducibility\n",
    "seed = 42\n",
    "tf.random.set_seed(seed)\n",
    "np.random.seed(seed)"
   ]
  },
  {
   "cell_type": "code",
   "execution_count": 2,
   "metadata": {},
   "outputs": [],
   "source": [
    "X = np.load('log_melspec_X_data.npy')\n",
    "Y = np.load('log_melspec_Y_data.npy', allow_pickle='True')"
   ]
  },
  {
   "cell_type": "code",
   "execution_count": 3,
   "metadata": {},
   "outputs": [
    {
     "data": {
      "text/html": [
       "<div>\n",
       "<style scoped>\n",
       "    .dataframe tbody tr th:only-of-type {\n",
       "        vertical-align: middle;\n",
       "    }\n",
       "\n",
       "    .dataframe tbody tr th {\n",
       "        vertical-align: top;\n",
       "    }\n",
       "\n",
       "    .dataframe thead th {\n",
       "        text-align: right;\n",
       "    }\n",
       "</style>\n",
       "<table border=\"1\" class=\"dataframe\">\n",
       "  <thead>\n",
       "    <tr style=\"text-align: right;\">\n",
       "      <th></th>\n",
       "      <th>0</th>\n",
       "    </tr>\n",
       "  </thead>\n",
       "  <tbody>\n",
       "    <tr>\n",
       "      <th>0</th>\n",
       "      <td>An-Nas</td>\n",
       "    </tr>\n",
       "    <tr>\n",
       "      <th>1</th>\n",
       "      <td>An-Nas</td>\n",
       "    </tr>\n",
       "    <tr>\n",
       "      <th>2</th>\n",
       "      <td>An-Nas</td>\n",
       "    </tr>\n",
       "    <tr>\n",
       "      <th>3</th>\n",
       "      <td>An-Nas</td>\n",
       "    </tr>\n",
       "    <tr>\n",
       "      <th>4</th>\n",
       "      <td>An-Nas</td>\n",
       "    </tr>\n",
       "  </tbody>\n",
       "</table>\n",
       "</div>"
      ],
      "text/plain": [
       "        0\n",
       "0  An-Nas\n",
       "1  An-Nas\n",
       "2  An-Nas\n",
       "3  An-Nas\n",
       "4  An-Nas"
      ]
     },
     "execution_count": 3,
     "metadata": {},
     "output_type": "execute_result"
    }
   ],
   "source": [
    "Y_df = pd.DataFrame(Y)\n",
    "Y_df.head()"
   ]
  },
  {
   "cell_type": "code",
   "execution_count": 4,
   "metadata": {},
   "outputs": [
    {
     "data": {
      "text/html": [
       "<div>\n",
       "<style scoped>\n",
       "    .dataframe tbody tr th:only-of-type {\n",
       "        vertical-align: middle;\n",
       "    }\n",
       "\n",
       "    .dataframe tbody tr th {\n",
       "        vertical-align: top;\n",
       "    }\n",
       "\n",
       "    .dataframe thead th {\n",
       "        text-align: right;\n",
       "    }\n",
       "</style>\n",
       "<table border=\"1\" class=\"dataframe\">\n",
       "  <thead>\n",
       "    <tr style=\"text-align: right;\">\n",
       "      <th></th>\n",
       "      <th>0</th>\n",
       "      <th>1</th>\n",
       "      <th>2</th>\n",
       "      <th>3</th>\n",
       "      <th>4</th>\n",
       "      <th>5</th>\n",
       "      <th>6</th>\n",
       "      <th>7</th>\n",
       "      <th>8</th>\n",
       "      <th>9</th>\n",
       "      <th>...</th>\n",
       "      <th>118</th>\n",
       "      <th>119</th>\n",
       "      <th>120</th>\n",
       "      <th>121</th>\n",
       "      <th>122</th>\n",
       "      <th>123</th>\n",
       "      <th>124</th>\n",
       "      <th>125</th>\n",
       "      <th>126</th>\n",
       "      <th>127</th>\n",
       "    </tr>\n",
       "  </thead>\n",
       "  <tbody>\n",
       "    <tr>\n",
       "      <th>0</th>\n",
       "      <td>-14.912743</td>\n",
       "      <td>-10.509667</td>\n",
       "      <td>-11.212726</td>\n",
       "      <td>-13.802998</td>\n",
       "      <td>-14.849165</td>\n",
       "      <td>6.806949</td>\n",
       "      <td>16.539665</td>\n",
       "      <td>10.523086</td>\n",
       "      <td>-4.896206</td>\n",
       "      <td>-16.432079</td>\n",
       "      <td>...</td>\n",
       "      <td>-52.203300</td>\n",
       "      <td>-52.203300</td>\n",
       "      <td>-52.203300</td>\n",
       "      <td>-52.203300</td>\n",
       "      <td>-52.203300</td>\n",
       "      <td>-52.203300</td>\n",
       "      <td>-52.203300</td>\n",
       "      <td>-52.203300</td>\n",
       "      <td>-52.203300</td>\n",
       "      <td>-52.203300</td>\n",
       "    </tr>\n",
       "    <tr>\n",
       "      <th>1</th>\n",
       "      <td>-14.956661</td>\n",
       "      <td>-9.657782</td>\n",
       "      <td>-10.150836</td>\n",
       "      <td>-12.684127</td>\n",
       "      <td>-8.091335</td>\n",
       "      <td>4.647990</td>\n",
       "      <td>14.930429</td>\n",
       "      <td>11.608740</td>\n",
       "      <td>-4.548166</td>\n",
       "      <td>-13.859034</td>\n",
       "      <td>...</td>\n",
       "      <td>-53.024529</td>\n",
       "      <td>-53.029858</td>\n",
       "      <td>-53.034473</td>\n",
       "      <td>-53.038361</td>\n",
       "      <td>-53.041702</td>\n",
       "      <td>-53.044544</td>\n",
       "      <td>-53.046551</td>\n",
       "      <td>-53.047897</td>\n",
       "      <td>-53.048847</td>\n",
       "      <td>-53.049458</td>\n",
       "    </tr>\n",
       "    <tr>\n",
       "      <th>2</th>\n",
       "      <td>-14.980775</td>\n",
       "      <td>-10.588456</td>\n",
       "      <td>-11.141933</td>\n",
       "      <td>-13.374152</td>\n",
       "      <td>-16.557209</td>\n",
       "      <td>-0.928026</td>\n",
       "      <td>10.888081</td>\n",
       "      <td>10.455920</td>\n",
       "      <td>2.669600</td>\n",
       "      <td>-8.516095</td>\n",
       "      <td>...</td>\n",
       "      <td>-52.417393</td>\n",
       "      <td>-52.419598</td>\n",
       "      <td>-52.421520</td>\n",
       "      <td>-52.423168</td>\n",
       "      <td>-52.424591</td>\n",
       "      <td>-52.425797</td>\n",
       "      <td>-52.426773</td>\n",
       "      <td>-52.427551</td>\n",
       "      <td>-52.428112</td>\n",
       "      <td>-52.428455</td>\n",
       "    </tr>\n",
       "    <tr>\n",
       "      <th>3</th>\n",
       "      <td>-14.090482</td>\n",
       "      <td>-9.505132</td>\n",
       "      <td>-9.275669</td>\n",
       "      <td>-11.789614</td>\n",
       "      <td>-9.203239</td>\n",
       "      <td>9.184479</td>\n",
       "      <td>18.451992</td>\n",
       "      <td>13.802429</td>\n",
       "      <td>-8.251540</td>\n",
       "      <td>-18.656193</td>\n",
       "      <td>...</td>\n",
       "      <td>-53.681873</td>\n",
       "      <td>-53.689995</td>\n",
       "      <td>-53.697063</td>\n",
       "      <td>-53.703037</td>\n",
       "      <td>-53.708202</td>\n",
       "      <td>-53.712601</td>\n",
       "      <td>-53.716118</td>\n",
       "      <td>-53.718952</td>\n",
       "      <td>-53.720943</td>\n",
       "      <td>-53.721989</td>\n",
       "    </tr>\n",
       "    <tr>\n",
       "      <th>4</th>\n",
       "      <td>-18.108946</td>\n",
       "      <td>-14.981512</td>\n",
       "      <td>-12.698249</td>\n",
       "      <td>3.383987</td>\n",
       "      <td>16.519243</td>\n",
       "      <td>10.660097</td>\n",
       "      <td>-0.658719</td>\n",
       "      <td>-5.584931</td>\n",
       "      <td>7.193225</td>\n",
       "      <td>11.985046</td>\n",
       "      <td>...</td>\n",
       "      <td>-47.312172</td>\n",
       "      <td>-47.312172</td>\n",
       "      <td>-47.312172</td>\n",
       "      <td>-47.312172</td>\n",
       "      <td>-47.312172</td>\n",
       "      <td>-47.312172</td>\n",
       "      <td>-47.312172</td>\n",
       "      <td>-47.312172</td>\n",
       "      <td>-47.312172</td>\n",
       "      <td>-47.312172</td>\n",
       "    </tr>\n",
       "  </tbody>\n",
       "</table>\n",
       "<p>5 rows × 128 columns</p>\n",
       "</div>"
      ],
      "text/plain": [
       "         0          1          2          3          4          5    \\\n",
       "0 -14.912743 -10.509667 -11.212726 -13.802998 -14.849165   6.806949   \n",
       "1 -14.956661  -9.657782 -10.150836 -12.684127  -8.091335   4.647990   \n",
       "2 -14.980775 -10.588456 -11.141933 -13.374152 -16.557209  -0.928026   \n",
       "3 -14.090482  -9.505132  -9.275669 -11.789614  -9.203239   9.184479   \n",
       "4 -18.108946 -14.981512 -12.698249   3.383987  16.519243  10.660097   \n",
       "\n",
       "         6          7         8          9    ...        118        119  \\\n",
       "0  16.539665  10.523086 -4.896206 -16.432079  ... -52.203300 -52.203300   \n",
       "1  14.930429  11.608740 -4.548166 -13.859034  ... -53.024529 -53.029858   \n",
       "2  10.888081  10.455920  2.669600  -8.516095  ... -52.417393 -52.419598   \n",
       "3  18.451992  13.802429 -8.251540 -18.656193  ... -53.681873 -53.689995   \n",
       "4  -0.658719  -5.584931  7.193225  11.985046  ... -47.312172 -47.312172   \n",
       "\n",
       "         120        121        122        123        124        125  \\\n",
       "0 -52.203300 -52.203300 -52.203300 -52.203300 -52.203300 -52.203300   \n",
       "1 -53.034473 -53.038361 -53.041702 -53.044544 -53.046551 -53.047897   \n",
       "2 -52.421520 -52.423168 -52.424591 -52.425797 -52.426773 -52.427551   \n",
       "3 -53.697063 -53.703037 -53.708202 -53.712601 -53.716118 -53.718952   \n",
       "4 -47.312172 -47.312172 -47.312172 -47.312172 -47.312172 -47.312172   \n",
       "\n",
       "         126        127  \n",
       "0 -52.203300 -52.203300  \n",
       "1 -53.048847 -53.049458  \n",
       "2 -52.428112 -52.428455  \n",
       "3 -53.720943 -53.721989  \n",
       "4 -47.312172 -47.312172  \n",
       "\n",
       "[5 rows x 128 columns]"
      ]
     },
     "execution_count": 4,
     "metadata": {},
     "output_type": "execute_result"
    }
   ],
   "source": [
    "X_df = pd.DataFrame(X)\n",
    "X_df.head()"
   ]
  },
  {
   "attachments": {},
   "cell_type": "markdown",
   "metadata": {},
   "source": [
    "Unison Shuffling"
   ]
  },
  {
   "cell_type": "code",
   "execution_count": 5,
   "metadata": {},
   "outputs": [],
   "source": [
    "import numpy \n",
    "\n",
    "\n",
    "def shuffle_in_unison(a, b):\n",
    "    assert len(a) == len(b)\n",
    "    shuffled_a = numpy.empty(a.shape, dtype=a.dtype)\n",
    "    shuffled_b = numpy.empty(b.shape, dtype=b.dtype)\n",
    "    permutation = numpy.random.permutation(len(a))\n",
    "    for old_index, new_index in enumerate(permutation):\n",
    "        shuffled_a[new_index] = a[old_index]\n",
    "        shuffled_b[new_index] = b[old_index]\n",
    "    return shuffled_a, shuffled_b"
   ]
  },
  {
   "cell_type": "code",
   "execution_count": 6,
   "metadata": {},
   "outputs": [],
   "source": [
    "X_pre, y_pre = shuffle_in_unison(X, Y)"
   ]
  },
  {
   "cell_type": "code",
   "execution_count": 7,
   "metadata": {},
   "outputs": [
    {
     "name": "stdout",
     "output_type": "stream",
     "text": [
      "(248, 128)\n",
      "(248,)\n"
     ]
    }
   ],
   "source": [
    "print(X_pre.shape)\n",
    "print(y_pre.shape)"
   ]
  },
  {
   "attachments": {},
   "cell_type": "markdown",
   "metadata": {},
   "source": [
    "One Hot Encoding"
   ]
  },
  {
   "cell_type": "code",
   "execution_count": 8,
   "metadata": {},
   "outputs": [],
   "source": [
    "labels = ['An-Nas', 'Al-Falaq']"
   ]
  },
  {
   "cell_type": "code",
   "execution_count": 9,
   "metadata": {},
   "outputs": [],
   "source": [
    "y_enc = np.array([labels.index(l) for l in y_pre])\n",
    "y_enc = tf.one_hot(y_enc, len(labels))"
   ]
  },
  {
   "cell_type": "code",
   "execution_count": 10,
   "metadata": {},
   "outputs": [
    {
     "name": "stdout",
     "output_type": "stream",
     "text": [
      "(248, 2)\n"
     ]
    }
   ],
   "source": [
    "print(y_enc.shape)"
   ]
  },
  {
   "attachments": {},
   "cell_type": "markdown",
   "metadata": {},
   "source": [
    "Train-Test Split"
   ]
  },
  {
   "cell_type": "code",
   "execution_count": 11,
   "metadata": {},
   "outputs": [],
   "source": [
    "def train_test_split(X, y, test_size):\n",
    "    n_test = int(X.shape[0] * test_size)\n",
    "    X_test = X[:n_test]\n",
    "    y_test = y[:n_test]\n",
    "    X_train = X[n_test:]\n",
    "    y_train = y[n_test:]\n",
    "    return X_train, X_test, y_train, y_test"
   ]
  },
  {
   "cell_type": "code",
   "execution_count": 12,
   "metadata": {},
   "outputs": [],
   "source": [
    "X_train, X_test, y_train, y_test = train_test_split(X_pre, y_enc, 0.1)"
   ]
  },
  {
   "cell_type": "code",
   "execution_count": 13,
   "metadata": {},
   "outputs": [
    {
     "name": "stdout",
     "output_type": "stream",
     "text": [
      "(224, 128) (224, 2)\n",
      "(24, 128) (24, 2)\n"
     ]
    }
   ],
   "source": [
    "print(X_train.shape, y_train.shape)\n",
    "print(X_test.shape, y_test.shape)"
   ]
  },
  {
   "attachments": {},
   "cell_type": "markdown",
   "metadata": {},
   "source": [
    "Expand Dimension for CNN-1D, CNN-2D and Transformers"
   ]
  },
  {
   "cell_type": "code",
   "execution_count": 14,
   "metadata": {},
   "outputs": [
    {
     "name": "stdout",
     "output_type": "stream",
     "text": [
      "Shape of X Train (224, 128, 1)\n",
      "Shape of X Test (24, 128, 1)\n"
     ]
    }
   ],
   "source": [
    "X_train = np.expand_dims(X_train, axis=2)\n",
    "X_test = np.expand_dims(X_test, axis = 2)\n",
    "\n",
    "print(\"Shape of X Train\", X_train.shape)\n",
    "print(\"Shape of X Test\", X_test.shape)"
   ]
  },
  {
   "attachments": {},
   "cell_type": "markdown",
   "metadata": {},
   "source": [
    "Reshape for Only Transformer Models and CNN-2D Models"
   ]
  },
  {
   "cell_type": "code",
   "execution_count": 15,
   "metadata": {},
   "outputs": [
    {
     "name": "stdout",
     "output_type": "stream",
     "text": [
      "(224, 16, 8, 1) (224, 2)\n",
      "(24, 16, 8, 1) (24, 2)\n"
     ]
    }
   ],
   "source": [
    "X_train_reshaped = X_train.reshape(X_train.shape[0], 16, 8, 1)\n",
    "X_test_reshaped = X_test.reshape(X_test.shape[0], 16, 8, 1)\n",
    "\n",
    "print(X_train_reshaped.shape, y_train.shape)\n",
    "print(X_test_reshaped.shape, y_test.shape)"
   ]
  },
  {
   "attachments": {},
   "cell_type": "markdown",
   "metadata": {},
   "source": [
    "- - CNN 1D Model"
   ]
  },
  {
   "cell_type": "code",
   "execution_count": 16,
   "metadata": {},
   "outputs": [],
   "source": [
    "import IPython.display as ipd\n",
    "import librosa\n",
    "import librosa.display\n",
    "import pandas as pd\n",
    "import os, time, warnings\n",
    "import seaborn as sns\n",
    "import numpy as np\n",
    "from tqdm import tqdm\n",
    "import matplotlib.pyplot as plt\n",
    "from sklearn.model_selection import train_test_split\n",
    "from sklearn.preprocessing import LabelEncoder\n",
    "from tensorflow.keras.utils import to_categorical\n",
    "from tensorflow.keras.models import Sequential\n",
    "from tensorflow.keras.layers import (\n",
    "    Dense,\n",
    "    Conv1D,\n",
    "    MaxPooling1D,\n",
    "    BatchNormalization,\n",
    "    Dropout,\n",
    "    Flatten,\n",
    "    Conv2D,\n",
    "    MaxPool2D,\n",
    ")\n",
    "\n",
    "from keras import regularizers\n",
    "warnings.filterwarnings(\"ignore\")"
   ]
  },
  {
   "cell_type": "code",
   "execution_count": 17,
   "metadata": {},
   "outputs": [
    {
     "name": "stdout",
     "output_type": "stream",
     "text": [
      "Model: \"sequential\"\n",
      "_________________________________________________________________\n",
      " Layer (type)                Output Shape              Param #   \n",
      "=================================================================\n",
      " conv1d (Conv1D)             (None, 128, 256)          1536      \n",
      "                                                                 \n",
      " batch_normalization (BatchN  (None, 128, 256)         1024      \n",
      " ormalization)                                                   \n",
      "                                                                 \n",
      " max_pooling1d (MaxPooling1D  (None, 64, 256)          0         \n",
      " )                                                               \n",
      "                                                                 \n",
      " conv1d_1 (Conv1D)           (None, 64, 256)           327936    \n",
      "                                                                 \n",
      " dropout (Dropout)           (None, 64, 256)           0         \n",
      "                                                                 \n",
      " max_pooling1d_1 (MaxPooling  (None, 32, 256)          0         \n",
      " 1D)                                                             \n",
      "                                                                 \n",
      " conv1d_2 (Conv1D)           (None, 32, 128)           163968    \n",
      "                                                                 \n",
      " dropout_1 (Dropout)         (None, 32, 128)           0         \n",
      "                                                                 \n",
      " max_pooling1d_2 (MaxPooling  (None, 16, 128)          0         \n",
      " 1D)                                                             \n",
      "                                                                 \n",
      " conv1d_3 (Conv1D)           (None, 16, 64)            41024     \n",
      "                                                                 \n",
      " dropout_2 (Dropout)         (None, 16, 64)            0         \n",
      "                                                                 \n",
      " max_pooling1d_3 (MaxPooling  (None, 8, 64)            0         \n",
      " 1D)                                                             \n",
      "                                                                 \n",
      " flatten (Flatten)           (None, 512)               0         \n",
      "                                                                 \n",
      " dense (Dense)               (None, 1024)              525312    \n",
      "                                                                 \n",
      " dropout_3 (Dropout)         (None, 1024)              0         \n",
      "                                                                 \n",
      " dense_1 (Dense)             (None, 2)                 2050      \n",
      "                                                                 \n",
      "=================================================================\n",
      "Total params: 1,062,850\n",
      "Trainable params: 1,062,338\n",
      "Non-trainable params: 512\n",
      "_________________________________________________________________\n"
     ]
    }
   ],
   "source": [
    "CNN1D_Model = Sequential()\n",
    "CNN1D_Model.add(\n",
    "    Conv1D(\n",
    "        256,\n",
    "        5,\n",
    "        strides=1,\n",
    "        padding=\"same\",\n",
    "        activation=\"relu\",\n",
    "        input_shape=(X_train.shape[1], 1),\n",
    "    )\n",
    ")\n",
    "CNN1D_Model.add(BatchNormalization())\n",
    "CNN1D_Model.add(MaxPooling1D(3, strides=2, padding=\"same\"))\n",
    "CNN1D_Model.add(Conv1D(256, 5, strides=1, padding=\"same\", activation=\"relu\"))\n",
    "CNN1D_Model.add(Dropout(0.3))\n",
    "CNN1D_Model.add(MaxPooling1D(3, strides=2, padding=\"same\"))\n",
    "CNN1D_Model.add(Conv1D(128, 5, strides=1, padding=\"same\", activation=\"relu\"))\n",
    "CNN1D_Model.add(Dropout(0.3))\n",
    "CNN1D_Model.add(MaxPooling1D(3, strides=2, padding=\"same\"))\n",
    "CNN1D_Model.add(Conv1D(64, 5, strides=1, padding=\"same\", activation=\"relu\"))\n",
    "CNN1D_Model.add(Dropout(0.3))\n",
    "CNN1D_Model.add(MaxPooling1D(3, strides=2, padding=\"same\"))\n",
    "CNN1D_Model.add(Flatten())\n",
    "CNN1D_Model.add(Dense(units=1024, activation=\"relu\"))\n",
    "CNN1D_Model.add(Dropout(0.3))\n",
    "CNN1D_Model.add(Dense(units=2, activation=\"softmax\"))\n",
    "CNN1D_Model.summary()\n"
   ]
  },
  {
   "cell_type": "code",
   "execution_count": 18,
   "metadata": {},
   "outputs": [],
   "source": [
    "CNN1D_Model.compile(\n",
    "    optimizer=\"adam\", loss=\"categorical_crossentropy\", metrics=[\"accuracy\"]\n",
    ")"
   ]
  },
  {
   "cell_type": "code",
   "execution_count": 19,
   "metadata": {},
   "outputs": [
    {
     "name": "stdout",
     "output_type": "stream",
     "text": [
      "Epoch 1/60\n",
      "4/4 [==============================] - 3s 292ms/step - loss: 5.3825 - accuracy: 0.5179 - val_loss: 1.0054 - val_accuracy: 0.5000\n",
      "Epoch 2/60\n",
      "4/4 [==============================] - 1s 178ms/step - loss: 1.1345 - accuracy: 0.5714 - val_loss: 0.6537 - val_accuracy: 0.5833\n",
      "Epoch 3/60\n",
      "4/4 [==============================] - 1s 175ms/step - loss: 0.6020 - accuracy: 0.7054 - val_loss: 0.8547 - val_accuracy: 0.5000\n",
      "Epoch 4/60\n",
      "4/4 [==============================] - 1s 157ms/step - loss: 0.4475 - accuracy: 0.8125 - val_loss: 0.7516 - val_accuracy: 0.5000\n",
      "Epoch 5/60\n",
      "4/4 [==============================] - 1s 157ms/step - loss: 0.3176 - accuracy: 0.8705 - val_loss: 0.6286 - val_accuracy: 0.5417\n",
      "Epoch 6/60\n",
      "4/4 [==============================] - 1s 165ms/step - loss: 0.1795 - accuracy: 0.9420 - val_loss: 0.6145 - val_accuracy: 0.6667\n",
      "Epoch 7/60\n",
      "4/4 [==============================] - 1s 153ms/step - loss: 0.1892 - accuracy: 0.9152 - val_loss: 0.5062 - val_accuracy: 0.7500\n",
      "Epoch 8/60\n",
      "4/4 [==============================] - 1s 156ms/step - loss: 0.1398 - accuracy: 0.9420 - val_loss: 0.5669 - val_accuracy: 0.7083\n",
      "Epoch 9/60\n",
      "4/4 [==============================] - 1s 171ms/step - loss: 0.2175 - accuracy: 0.9196 - val_loss: 0.3983 - val_accuracy: 0.8750\n",
      "Epoch 10/60\n",
      "4/4 [==============================] - 1s 151ms/step - loss: 0.1484 - accuracy: 0.9375 - val_loss: 0.3824 - val_accuracy: 0.7917\n",
      "Epoch 11/60\n",
      "4/4 [==============================] - 1s 182ms/step - loss: 0.1222 - accuracy: 0.9509 - val_loss: 0.4217 - val_accuracy: 0.7500\n",
      "Epoch 12/60\n",
      "4/4 [==============================] - 1s 191ms/step - loss: 0.1323 - accuracy: 0.9598 - val_loss: 0.4253 - val_accuracy: 0.7917\n",
      "Epoch 13/60\n",
      "4/4 [==============================] - 1s 176ms/step - loss: 0.1671 - accuracy: 0.9464 - val_loss: 0.3870 - val_accuracy: 0.8333\n",
      "Epoch 14/60\n",
      "4/4 [==============================] - 1s 184ms/step - loss: 0.0553 - accuracy: 0.9821 - val_loss: 0.3452 - val_accuracy: 0.8333\n",
      "Epoch 15/60\n",
      "4/4 [==============================] - 1s 168ms/step - loss: 0.0985 - accuracy: 0.9732 - val_loss: 0.3514 - val_accuracy: 0.9167\n",
      "Epoch 16/60\n",
      "4/4 [==============================] - 1s 150ms/step - loss: 0.2114 - accuracy: 0.9196 - val_loss: 0.5683 - val_accuracy: 0.7500\n",
      "Epoch 17/60\n",
      "4/4 [==============================] - 1s 153ms/step - loss: 0.1410 - accuracy: 0.9464 - val_loss: 0.3500 - val_accuracy: 0.8750\n",
      "Epoch 18/60\n",
      "4/4 [==============================] - 1s 184ms/step - loss: 0.1613 - accuracy: 0.9464 - val_loss: 0.3898 - val_accuracy: 0.8333\n",
      "Epoch 19/60\n",
      "4/4 [==============================] - 1s 153ms/step - loss: 0.1354 - accuracy: 0.9554 - val_loss: 0.3897 - val_accuracy: 0.8333\n",
      "Epoch 20/60\n",
      "4/4 [==============================] - 1s 158ms/step - loss: 0.1877 - accuracy: 0.9509 - val_loss: 0.3019 - val_accuracy: 0.8750\n",
      "Epoch 21/60\n",
      "4/4 [==============================] - 1s 156ms/step - loss: 0.1269 - accuracy: 0.9554 - val_loss: 0.4664 - val_accuracy: 0.8333\n",
      "Epoch 22/60\n",
      "4/4 [==============================] - 1s 155ms/step - loss: 0.0992 - accuracy: 0.9732 - val_loss: 0.2963 - val_accuracy: 0.9583\n",
      "Epoch 23/60\n",
      "4/4 [==============================] - 1s 154ms/step - loss: 0.0437 - accuracy: 0.9911 - val_loss: 0.2656 - val_accuracy: 0.9167\n",
      "Epoch 24/60\n",
      "4/4 [==============================] - 1s 157ms/step - loss: 0.0304 - accuracy: 0.9866 - val_loss: 0.2802 - val_accuracy: 0.9167\n",
      "Epoch 25/60\n",
      "4/4 [==============================] - 1s 152ms/step - loss: 0.0808 - accuracy: 0.9732 - val_loss: 0.2503 - val_accuracy: 0.9167\n",
      "Epoch 26/60\n",
      "4/4 [==============================] - 1s 151ms/step - loss: 0.0535 - accuracy: 0.9732 - val_loss: 0.1949 - val_accuracy: 0.9167\n",
      "Epoch 27/60\n",
      "4/4 [==============================] - 1s 161ms/step - loss: 0.0367 - accuracy: 0.9866 - val_loss: 0.2473 - val_accuracy: 0.9167\n",
      "Epoch 28/60\n",
      "4/4 [==============================] - 1s 170ms/step - loss: 0.0379 - accuracy: 0.9955 - val_loss: 0.1868 - val_accuracy: 0.9583\n",
      "Epoch 29/60\n",
      "4/4 [==============================] - 1s 151ms/step - loss: 0.0108 - accuracy: 0.9955 - val_loss: 0.1711 - val_accuracy: 0.9583\n",
      "Epoch 30/60\n",
      "4/4 [==============================] - 1s 159ms/step - loss: 0.0219 - accuracy: 0.9911 - val_loss: 0.1999 - val_accuracy: 0.9167\n",
      "Epoch 31/60\n",
      "4/4 [==============================] - 1s 151ms/step - loss: 0.0520 - accuracy: 0.9821 - val_loss: 0.2822 - val_accuracy: 0.9167\n",
      "Epoch 32/60\n",
      "4/4 [==============================] - 1s 150ms/step - loss: 0.0321 - accuracy: 0.9866 - val_loss: 0.1364 - val_accuracy: 0.9583\n",
      "Epoch 33/60\n",
      "4/4 [==============================] - 1s 154ms/step - loss: 0.0609 - accuracy: 0.9821 - val_loss: 0.1344 - val_accuracy: 0.9583\n",
      "Epoch 34/60\n",
      "4/4 [==============================] - 1s 154ms/step - loss: 0.0120 - accuracy: 0.9955 - val_loss: 0.1690 - val_accuracy: 0.9583\n",
      "Epoch 35/60\n",
      "4/4 [==============================] - 1s 152ms/step - loss: 0.0191 - accuracy: 0.9955 - val_loss: 0.1342 - val_accuracy: 0.9583\n",
      "Epoch 36/60\n",
      "4/4 [==============================] - 1s 149ms/step - loss: 0.0171 - accuracy: 0.9955 - val_loss: 0.1037 - val_accuracy: 0.9583\n",
      "Epoch 37/60\n",
      "4/4 [==============================] - 1s 154ms/step - loss: 0.0378 - accuracy: 0.9866 - val_loss: 0.0965 - val_accuracy: 0.9583\n",
      "Epoch 38/60\n",
      "4/4 [==============================] - 1s 172ms/step - loss: 0.0278 - accuracy: 0.9866 - val_loss: 0.1097 - val_accuracy: 0.9583\n",
      "Epoch 39/60\n",
      "4/4 [==============================] - 1s 155ms/step - loss: 0.0035 - accuracy: 1.0000 - val_loss: 0.0990 - val_accuracy: 0.9583\n",
      "Epoch 40/60\n",
      "4/4 [==============================] - 1s 156ms/step - loss: 0.0044 - accuracy: 1.0000 - val_loss: 0.0850 - val_accuracy: 0.9583\n",
      "Epoch 41/60\n",
      "4/4 [==============================] - 1s 150ms/step - loss: 0.0130 - accuracy: 0.9955 - val_loss: 0.0775 - val_accuracy: 0.9583\n",
      "Epoch 42/60\n",
      "4/4 [==============================] - 1s 170ms/step - loss: 0.0015 - accuracy: 1.0000 - val_loss: 0.0932 - val_accuracy: 0.9583\n",
      "Epoch 43/60\n",
      "4/4 [==============================] - 1s 202ms/step - loss: 0.0077 - accuracy: 0.9955 - val_loss: 0.0671 - val_accuracy: 1.0000\n",
      "Epoch 44/60\n",
      "4/4 [==============================] - 1s 174ms/step - loss: 0.0029 - accuracy: 1.0000 - val_loss: 0.0477 - val_accuracy: 1.0000\n",
      "Epoch 45/60\n",
      "4/4 [==============================] - 1s 204ms/step - loss: 0.0027 - accuracy: 1.0000 - val_loss: 0.0404 - val_accuracy: 1.0000\n",
      "Epoch 46/60\n",
      "4/4 [==============================] - 1s 172ms/step - loss: 0.0197 - accuracy: 0.9911 - val_loss: 0.0377 - val_accuracy: 1.0000\n",
      "Epoch 47/60\n",
      "4/4 [==============================] - 1s 201ms/step - loss: 9.2971e-04 - accuracy: 1.0000 - val_loss: 0.0364 - val_accuracy: 1.0000\n",
      "Epoch 48/60\n",
      "4/4 [==============================] - 1s 207ms/step - loss: 0.0051 - accuracy: 1.0000 - val_loss: 0.0356 - val_accuracy: 1.0000\n",
      "Epoch 49/60\n",
      "4/4 [==============================] - 1s 173ms/step - loss: 0.0054 - accuracy: 0.9955 - val_loss: 0.0305 - val_accuracy: 1.0000\n",
      "Epoch 50/60\n",
      "4/4 [==============================] - 1s 167ms/step - loss: 0.0068 - accuracy: 1.0000 - val_loss: 0.0262 - val_accuracy: 1.0000\n",
      "Epoch 51/60\n",
      "4/4 [==============================] - 1s 179ms/step - loss: 0.0074 - accuracy: 1.0000 - val_loss: 0.0268 - val_accuracy: 1.0000\n",
      "Epoch 52/60\n",
      "4/4 [==============================] - 1s 169ms/step - loss: 0.0234 - accuracy: 0.9955 - val_loss: 0.0293 - val_accuracy: 1.0000\n",
      "Epoch 53/60\n",
      "4/4 [==============================] - 1s 163ms/step - loss: 0.0212 - accuracy: 0.9911 - val_loss: 0.0252 - val_accuracy: 1.0000\n",
      "Epoch 54/60\n",
      "4/4 [==============================] - 1s 168ms/step - loss: 0.0272 - accuracy: 0.9911 - val_loss: 0.0320 - val_accuracy: 1.0000\n",
      "Epoch 55/60\n",
      "4/4 [==============================] - 1s 174ms/step - loss: 0.0051 - accuracy: 1.0000 - val_loss: 0.0307 - val_accuracy: 1.0000\n",
      "Epoch 56/60\n",
      "4/4 [==============================] - 1s 158ms/step - loss: 0.0102 - accuracy: 0.9955 - val_loss: 0.1058 - val_accuracy: 0.9167\n",
      "Epoch 57/60\n",
      "4/4 [==============================] - 1s 175ms/step - loss: 0.0107 - accuracy: 0.9955 - val_loss: 0.0318 - val_accuracy: 1.0000\n",
      "Epoch 58/60\n",
      "4/4 [==============================] - 1s 151ms/step - loss: 0.0020 - accuracy: 1.0000 - val_loss: 0.0186 - val_accuracy: 1.0000\n",
      "Epoch 59/60\n",
      "4/4 [==============================] - 1s 154ms/step - loss: 0.0055 - accuracy: 0.9955 - val_loss: 0.0157 - val_accuracy: 1.0000\n",
      "Epoch 60/60\n",
      "4/4 [==============================] - 1s 158ms/step - loss: 0.0090 - accuracy: 0.9911 - val_loss: 0.0124 - val_accuracy: 1.0000\n",
      "CNN1D Model Saved\n"
     ]
    }
   ],
   "source": [
    "t0 = time.time()\n",
    "\n",
    "CNN1D_Results = CNN1D_Model.fit(\n",
    "    X_train, y_train, batch_size=64, epochs=60, validation_data=(X_test, y_test)\n",
    ")\n",
    "\n",
    "CNN1D_Model.save(\"Model2.h5\")\n",
    "print(\"CNN1D Model Saved\")\n",
    "train_hist_m2 = pd.DataFrame(CNN1D_Results.history)\n",
    "train_m2 = round(time.time() - t0, 3)"
   ]
  },
  {
   "cell_type": "code",
   "execution_count": 20,
   "metadata": {},
   "outputs": [
    {
     "data": {
      "image/png": "[encoded data removed]",
      "text/plain": [
       "<Figure size 640x480 with 1 Axes>"
      ]
     },
     "metadata": {},
     "output_type": "display_data"
    }
   ],
   "source": [
    "plt.plot(train_hist_m2[[\"loss\", \"val_loss\"]])\n",
    "plt.legend([\"Loss\", \"Validation Loss\"])\n",
    "plt.title(\"Loss Per Epochs\")\n",
    "plt.xlabel(\"Epochs\")\n",
    "plt.ylabel(\"Loss\")\n",
    "plt.show()"
   ]
  },
  {
   "cell_type": "code",
   "execution_count": 21,
   "metadata": {},
   "outputs": [
    {
     "data": {
      "image/png": "[encoded data removed]",
      "text/plain": [
       "<Figure size 640x480 with 1 Axes>"
      ]
     },
     "metadata": {},
     "output_type": "display_data"
    }
   ],
   "source": [
    "plt.plot(train_hist_m2[[\"accuracy\", \"val_accuracy\"]])\n",
    "plt.legend([\"Accuracy\", \"Validation Accuracy\"])\n",
    "plt.title(\"Accuracy Per Epochs\")\n",
    "plt.xlabel(\"Epochs\")\n",
    "plt.ylabel(\"Accuracy\")\n",
    "plt.show()"
   ]
  },
  {
   "attachments": {},
   "cell_type": "markdown",
   "metadata": {},
   "source": [
    "- - KWT Transformers Model"
   ]
  },
  {
   "cell_type": "code",
   "execution_count": 22,
   "metadata": {},
   "outputs": [],
   "source": [
    "import os\n",
    "import pathlib\n",
    "\n",
    "import matplotlib.pyplot as plt\n",
    "import numpy as np\n",
    "import seaborn as sns\n",
    "import tensorflow as tf\n",
    "\n",
    "from tensorflow.keras.layers.experimental import preprocessing\n",
    "from tensorflow.keras import layers\n",
    "from tensorflow.keras import models\n",
    "from IPython import display\n",
    "\n",
    "from utils import mel_features\n",
    "\n",
    "from tqdm.notebook import tqdm\n",
    "\n",
    "\n",
    "# Set seed for experiment reproducibility\n",
    "seed = 42\n",
    "tf.random.set_seed(seed)\n",
    "np.random.seed(seed)"
   ]
  },
  {
   "cell_type": "code",
   "execution_count": 23,
   "metadata": {},
   "outputs": [],
   "source": [
    "from utils.transformer import TransformerEncoder, PatchClassEmbedding\n",
    "from utils.tools import CustomSchedule"
   ]
  },
  {
   "cell_type": "code",
   "execution_count": 24,
   "metadata": {},
   "outputs": [],
   "source": [
    "# model configurations\n",
    "n_heads = 3 # select kwt 1 2 or 3\n",
    "d_model = 64 * n_heads\n",
    "d_ff = d_model * 4\n",
    "mlp_head_size = 768\n",
    "dropout = 0.1\n",
    "activation = tf.nn.gelu\n",
    "n_layers = 12"
   ]
  },
  {
   "cell_type": "code",
   "execution_count": 25,
   "metadata": {},
   "outputs": [],
   "source": [
    "def build_kwt(transformer, input_size):\n",
    "    # Input\n",
    "    inputs = tf.keras.layers.Input(shape=input_size)\n",
    "    \n",
    "    # Linear Projection of Flattened Patches\n",
    "    x = tf.keras.layers.Dense(d_model)(inputs)\n",
    "    \n",
    "    # Position Embedding + Extra learnable class embedding\n",
    "    x = PatchClassEmbedding(d_model, input_size[0])(x)\n",
    "    \n",
    "    # Transformer Model\n",
    "    x = transformer(x)\n",
    "    \n",
    "    # Take only the Extra Learnable Class\n",
    "    x = tf.keras.layers.Lambda(lambda x: x[:,0,:])(x)\n",
    "    \n",
    "    # MLP Head\n",
    "    x = tf.keras.layers.Dense(mlp_head_size)(x)\n",
    "    outputs = tf.keras.layers.Dense(len(labels), activation='softmax')(x)\n",
    "    \n",
    "    return tf.keras.models.Model(inputs, outputs)\n"
   ]
  },
  {
   "cell_type": "code",
   "execution_count": 26,
   "metadata": {},
   "outputs": [],
   "source": [
    "transformer = TransformerEncoder(d_model, n_heads, d_ff, dropout, activation, n_layers)\n",
    "model = build_kwt(transformer, input_size=(X_train_reshaped.shape[1:-1]))"
   ]
  },
  {
   "cell_type": "code",
   "execution_count": 27,
   "metadata": {},
   "outputs": [
    {
     "name": "stdout",
     "output_type": "stream",
     "text": [
      "Model: \"model\"\n",
      "_________________________________________________________________\n",
      " Layer (type)                Output Shape              Param #   \n",
      "=================================================================\n",
      " input_1 (InputLayer)        [(None, 16, 8)]           0         \n",
      "                                                                 \n",
      " dense_74 (Dense)            (None, 16, 192)           1728      \n",
      "                                                                 \n",
      " patch_class_embedding (Patc  (None, 17, 192)          3456      \n",
      " hClassEmbedding)                                                \n",
      "                                                                 \n",
      " transformer_encoder (Transf  (None, 17, 192)          5338368   \n",
      " ormerEncoder)                                                   \n",
      "                                                                 \n",
      " lambda (Lambda)             (None, 192)               0         \n",
      "                                                                 \n",
      " dense_75 (Dense)            (None, 768)               148224    \n",
      "                                                                 \n",
      " dense_76 (Dense)            (None, 2)                 1538      \n",
      "                                                                 \n",
      "=================================================================\n",
      "Total params: 5,493,314\n",
      "Trainable params: 5,493,314\n",
      "Non-trainable params: 0\n",
      "_________________________________________________________________\n"
     ]
    }
   ],
   "source": [
    "model.summary()"
   ]
  },
  {
   "cell_type": "code",
   "execution_count": 28,
   "metadata": {},
   "outputs": [],
   "source": [
    "# set some variables\n",
    "batch_size = 64\n",
    "n_epochs = 50"
   ]
  },
  {
   "cell_type": "code",
   "execution_count": 29,
   "metadata": {},
   "outputs": [],
   "source": [
    "lr = CustomSchedule(d_model, warmup_steps=20000.0)\n",
    "optimizer = tf.keras.optimizers.Adam(learning_rate=lr)\n",
    "model.compile(\n",
    "    optimizer=optimizer,\n",
    "    loss=tf.keras.losses.CategoricalCrossentropy(from_logits=False, label_smoothing=0.1),\n",
    "    metrics=['accuracy'])"
   ]
  },
  {
   "cell_type": "code",
   "execution_count": 30,
   "metadata": {},
   "outputs": [
    {
     "name": "stdout",
     "output_type": "stream",
     "text": [
      "Epoch 1/50\n",
      "7/7 [==============================] - 27s 898ms/step - loss: 0.8412 - accuracy: 0.4554 - val_loss: 0.8348 - val_accuracy: 0.4583\n",
      "Epoch 2/50\n",
      "7/7 [==============================] - 3s 403ms/step - loss: 0.8059 - accuracy: 0.4777 - val_loss: 0.8072 - val_accuracy: 0.4583\n",
      "Epoch 3/50\n",
      "7/7 [==============================] - 3s 405ms/step - loss: 0.7695 - accuracy: 0.4464 - val_loss: 0.7747 - val_accuracy: 0.4167\n",
      "Epoch 4/50\n",
      "7/7 [==============================] - 3s 422ms/step - loss: 0.7456 - accuracy: 0.4821 - val_loss: 0.7495 - val_accuracy: 0.3333\n",
      "Epoch 5/50\n",
      "7/7 [==============================] - 3s 384ms/step - loss: 0.7550 - accuracy: 0.4777 - val_loss: 0.7399 - val_accuracy: 0.4583\n",
      "Epoch 6/50\n",
      "7/7 [==============================] - 3s 386ms/step - loss: 0.7539 - accuracy: 0.4821 - val_loss: 0.7336 - val_accuracy: 0.5000\n",
      "Epoch 7/50\n",
      "7/7 [==============================] - 3s 381ms/step - loss: 0.7211 - accuracy: 0.5446 - val_loss: 0.7229 - val_accuracy: 0.5000\n",
      "Epoch 8/50\n",
      "7/7 [==============================] - 3s 387ms/step - loss: 0.7446 - accuracy: 0.4955 - val_loss: 0.7060 - val_accuracy: 0.4583\n",
      "Epoch 9/50\n",
      "7/7 [==============================] - 3s 390ms/step - loss: 0.7639 - accuracy: 0.4643 - val_loss: 0.6947 - val_accuracy: 0.4583\n",
      "Epoch 10/50\n",
      "7/7 [==============================] - 3s 384ms/step - loss: 0.7162 - accuracy: 0.5134 - val_loss: 0.6844 - val_accuracy: 0.5833\n",
      "Epoch 11/50\n",
      "7/7 [==============================] - 3s 387ms/step - loss: 0.7416 - accuracy: 0.5000 - val_loss: 0.6763 - val_accuracy: 0.5833\n",
      "Epoch 12/50\n",
      "7/7 [==============================] - 3s 413ms/step - loss: 0.7061 - accuracy: 0.5357 - val_loss: 0.6668 - val_accuracy: 0.6250\n",
      "Epoch 13/50\n",
      "7/7 [==============================] - 3s 397ms/step - loss: 0.7268 - accuracy: 0.4866 - val_loss: 0.6564 - val_accuracy: 0.6667\n",
      "Epoch 14/50\n",
      "7/7 [==============================] - 3s 397ms/step - loss: 0.6970 - accuracy: 0.5670 - val_loss: 0.6472 - val_accuracy: 0.6250\n",
      "Epoch 15/50\n",
      "7/7 [==============================] - 3s 384ms/step - loss: 0.7293 - accuracy: 0.5000 - val_loss: 0.6422 - val_accuracy: 0.6667\n",
      "Epoch 16/50\n",
      "7/7 [==============================] - 3s 384ms/step - loss: 0.6663 - accuracy: 0.6071 - val_loss: 0.6345 - val_accuracy: 0.7083\n",
      "Epoch 17/50\n",
      "7/7 [==============================] - 3s 389ms/step - loss: 0.6763 - accuracy: 0.5848 - val_loss: 0.6301 - val_accuracy: 0.7083\n",
      "Epoch 18/50\n",
      "7/7 [==============================] - 3s 384ms/step - loss: 0.6908 - accuracy: 0.6027 - val_loss: 0.6230 - val_accuracy: 0.6667\n",
      "Epoch 19/50\n",
      "7/7 [==============================] - 3s 381ms/step - loss: 0.7020 - accuracy: 0.5312 - val_loss: 0.6185 - val_accuracy: 0.6250\n",
      "Epoch 20/50\n",
      "7/7 [==============================] - 3s 390ms/step - loss: 0.6723 - accuracy: 0.5893 - val_loss: 0.6088 - val_accuracy: 0.6667\n",
      "Epoch 21/50\n",
      "7/7 [==============================] - 3s 394ms/step - loss: 0.6683 - accuracy: 0.6071 - val_loss: 0.6063 - val_accuracy: 0.7500\n",
      "Epoch 22/50\n",
      "7/7 [==============================] - 3s 380ms/step - loss: 0.6572 - accuracy: 0.6205 - val_loss: 0.5958 - val_accuracy: 0.7917\n",
      "Epoch 23/50\n",
      "7/7 [==============================] - 3s 388ms/step - loss: 0.6782 - accuracy: 0.6116 - val_loss: 0.5863 - val_accuracy: 0.7500\n",
      "Epoch 24/50\n",
      "7/7 [==============================] - 3s 381ms/step - loss: 0.6476 - accuracy: 0.6518 - val_loss: 0.5790 - val_accuracy: 0.7917\n",
      "Epoch 25/50\n",
      "7/7 [==============================] - 3s 381ms/step - loss: 0.6548 - accuracy: 0.6384 - val_loss: 0.5797 - val_accuracy: 0.7917\n",
      "Epoch 26/50\n",
      "7/7 [==============================] - 3s 379ms/step - loss: 0.6097 - accuracy: 0.6786 - val_loss: 0.5640 - val_accuracy: 0.7917\n",
      "Epoch 27/50\n",
      "7/7 [==============================] - 3s 391ms/step - loss: 0.6193 - accuracy: 0.6786 - val_loss: 0.5546 - val_accuracy: 0.7917\n",
      "Epoch 28/50\n",
      "7/7 [==============================] - 3s 384ms/step - loss: 0.6428 - accuracy: 0.6741 - val_loss: 0.5464 - val_accuracy: 0.7917\n",
      "Epoch 29/50\n",
      "7/7 [==============================] - 3s 394ms/step - loss: 0.6009 - accuracy: 0.7188 - val_loss: 0.5375 - val_accuracy: 0.8333\n",
      "Epoch 30/50\n",
      "7/7 [==============================] - 3s 384ms/step - loss: 0.6452 - accuracy: 0.6562 - val_loss: 0.5266 - val_accuracy: 0.8333\n",
      "Epoch 31/50\n",
      "7/7 [==============================] - 3s 381ms/step - loss: 0.5960 - accuracy: 0.6696 - val_loss: 0.5079 - val_accuracy: 0.8750\n",
      "Epoch 32/50\n",
      "7/7 [==============================] - 3s 379ms/step - loss: 0.5810 - accuracy: 0.7188 - val_loss: 0.4980 - val_accuracy: 0.7917\n",
      "Epoch 33/50\n",
      "7/7 [==============================] - 3s 395ms/step - loss: 0.5990 - accuracy: 0.7054 - val_loss: 0.4804 - val_accuracy: 0.9167\n",
      "Epoch 34/50\n",
      "7/7 [==============================] - 3s 381ms/step - loss: 0.5661 - accuracy: 0.7277 - val_loss: 0.4692 - val_accuracy: 0.9167\n",
      "Epoch 35/50\n",
      "7/7 [==============================] - 3s 384ms/step - loss: 0.5980 - accuracy: 0.7009 - val_loss: 0.4659 - val_accuracy: 0.8333\n",
      "Epoch 36/50\n",
      "7/7 [==============================] - 3s 386ms/step - loss: 0.5277 - accuracy: 0.7812 - val_loss: 0.4541 - val_accuracy: 0.9167\n",
      "Epoch 37/50\n",
      "7/7 [==============================] - 3s 385ms/step - loss: 0.5413 - accuracy: 0.7545 - val_loss: 0.4487 - val_accuracy: 0.9167\n",
      "Epoch 38/50\n",
      "7/7 [==============================] - 3s 384ms/step - loss: 0.5302 - accuracy: 0.7723 - val_loss: 0.4447 - val_accuracy: 0.9167\n",
      "Epoch 39/50\n",
      "7/7 [==============================] - 3s 384ms/step - loss: 0.5136 - accuracy: 0.7857 - val_loss: 0.4686 - val_accuracy: 0.8333\n",
      "Epoch 40/50\n",
      "7/7 [==============================] - 3s 402ms/step - loss: 0.5185 - accuracy: 0.7946 - val_loss: 0.4721 - val_accuracy: 0.8333\n",
      "Epoch 41/50\n",
      "7/7 [==============================] - 3s 393ms/step - loss: 0.5019 - accuracy: 0.7857 - val_loss: 0.6299 - val_accuracy: 0.6250\n",
      "Epoch 42/50\n",
      "7/7 [==============================] - 3s 382ms/step - loss: 0.5646 - accuracy: 0.7143 - val_loss: 0.5298 - val_accuracy: 0.8333\n",
      "Epoch 43/50\n",
      "7/7 [==============================] - 3s 394ms/step - loss: 0.5310 - accuracy: 0.7902 - val_loss: 0.4908 - val_accuracy: 0.7917\n",
      "Epoch 44/50\n",
      "7/7 [==============================] - 3s 423ms/step - loss: 0.5193 - accuracy: 0.7634 - val_loss: 0.4536 - val_accuracy: 0.8333\n",
      "Epoch 45/50\n",
      "7/7 [==============================] - 3s 399ms/step - loss: 0.4832 - accuracy: 0.7902 - val_loss: 0.4231 - val_accuracy: 0.8333\n",
      "Epoch 46/50\n",
      "7/7 [==============================] - 3s 382ms/step - loss: 0.4615 - accuracy: 0.8304 - val_loss: 0.4129 - val_accuracy: 0.8750\n",
      "Epoch 47/50\n",
      "7/7 [==============================] - 3s 384ms/step - loss: 0.4637 - accuracy: 0.8170 - val_loss: 0.4127 - val_accuracy: 0.8750\n",
      "Epoch 48/50\n",
      "7/7 [==============================] - 3s 384ms/step - loss: 0.4193 - accuracy: 0.8482 - val_loss: 0.4015 - val_accuracy: 0.8750\n",
      "Epoch 49/50\n",
      "7/7 [==============================] - 3s 383ms/step - loss: 0.4287 - accuracy: 0.8705 - val_loss: 0.3907 - val_accuracy: 0.8333\n",
      "Epoch 50/50\n",
      "7/7 [==============================] - 3s 395ms/step - loss: 0.4476 - accuracy: 0.8125 - val_loss: 0.3795 - val_accuracy: 0.8333\n"
     ]
    }
   ],
   "source": [
    "history = model.fit(\n",
    "    X_train_reshaped, y_train, \n",
    "    validation_data=(X_test_reshaped, y_test),  \n",
    "    epochs=n_epochs, initial_epoch=0)"
   ]
  },
  {
   "cell_type": "code",
   "execution_count": 31,
   "metadata": {},
   "outputs": [
    {
     "data": {
      "image/png": "[encoded data removed]",
      "text/plain": [
       "<Figure size 640x480 with 1 Axes>"
      ]
     },
     "metadata": {},
     "output_type": "display_data"
    }
   ],
   "source": [
    "metrics = history.history\n",
    "plt.plot(history.epoch, metrics['accuracy'], metrics['val_accuracy'])\n",
    "plt.legend(['accuracy', 'val_accuracy'])\n",
    "plt.show()"
   ]
  },
  {
   "cell_type": "code",
   "execution_count": 32,
   "metadata": {},
   "outputs": [
    {
     "data": {
      "image/png": "[encoded data removed]",
      "text/plain": [
       "<Figure size 640x480 with 1 Axes>"
      ]
     },
     "metadata": {},
     "output_type": "display_data"
    }
   ],
   "source": [
    "metrics = history.history\n",
    "plt.plot(history.epoch, metrics['loss'], metrics['val_loss'])\n",
    "plt.legend(['loss', 'val_loss'])\n",
    "plt.show()"
   ]
  },
  {
   "cell_type": "code",
   "execution_count": 33,
   "metadata": {},
   "outputs": [
    {
     "name": "stdout",
     "output_type": "stream",
     "text": [
      "1/1 [==============================] - 0s 133ms/step - loss: 0.3795 - accuracy: 0.8333\n"
     ]
    },
    {
     "data": {
      "text/plain": [
       "[0.3795181214809418, 0.8333333134651184]"
      ]
     },
     "execution_count": 33,
     "metadata": {},
     "output_type": "execute_result"
    }
   ],
   "source": [
    "model.evaluate(X_test_reshaped, y_test)"
   ]
  },
  {
   "attachments": {},
   "cell_type": "markdown",
   "metadata": {},
   "source": [
    "- - CNN-2D"
   ]
  },
  {
   "cell_type": "code",
   "execution_count": 34,
   "metadata": {},
   "outputs": [
    {
     "name": "stdout",
     "output_type": "stream",
     "text": [
      "Model: \"sequential_13\"\n",
      "_________________________________________________________________\n",
      " Layer (type)                Output Shape              Param #   \n",
      "=================================================================\n",
      " conv2d (Conv2D)             (None, 16, 8, 64)         640       \n",
      "                                                                 \n",
      " max_pooling2d (MaxPooling2D  (None, 8, 4, 64)         0         \n",
      " )                                                               \n",
      "                                                                 \n",
      " conv2d_1 (Conv2D)           (None, 8, 4, 128)         73856     \n",
      "                                                                 \n",
      " max_pooling2d_1 (MaxPooling  (None, 4, 2, 128)        0         \n",
      " 2D)                                                             \n",
      "                                                                 \n",
      " dropout_28 (Dropout)        (None, 4, 2, 128)         0         \n",
      "                                                                 \n",
      " flatten_1 (Flatten)         (None, 1024)              0         \n",
      "                                                                 \n",
      " dense_77 (Dense)            (None, 1024)              1049600   \n",
      "                                                                 \n",
      " dense_78 (Dense)            (None, 2)                 2050      \n",
      "                                                                 \n",
      "=================================================================\n",
      "Total params: 1,126,146\n",
      "Trainable params: 1,126,146\n",
      "Non-trainable params: 0\n",
      "_________________________________________________________________\n"
     ]
    }
   ],
   "source": [
    "CNN2D_Model = Sequential()\n",
    "CNN2D_Model.add(\n",
    "    Conv2D(64, (3, 3), padding=\"same\", activation=\"tanh\", input_shape=(16, 8, 1))\n",
    ")\n",
    "CNN2D_Model.add(MaxPool2D(pool_size=(2, 2)))\n",
    "CNN2D_Model.add(Conv2D(128, (3, 3), padding=\"same\", activation=\"tanh\"))\n",
    "CNN2D_Model.add(MaxPool2D(pool_size=(2, 2)))\n",
    "CNN2D_Model.add(Dropout(0.1))\n",
    "CNN2D_Model.add(Flatten())\n",
    "CNN2D_Model.add(Dense(1024, activation=\"tanh\",  kernel_regularizer=regularizers.l1(l=0.01)))\n",
    "CNN2D_Model.add(Dense(2, activation=\"softmax\"))\n",
    "CNN2D_Model.summary()"
   ]
  },
  {
   "cell_type": "code",
   "execution_count": 35,
   "metadata": {},
   "outputs": [],
   "source": [
    "CNN2D_Model.compile(\n",
    "    optimizer=\"adam\", loss=\"categorical_crossentropy\", metrics=[\"accuracy\"]\n",
    ")"
   ]
  },
  {
   "cell_type": "code",
   "execution_count": 36,
   "metadata": {},
   "outputs": [
    {
     "name": "stdout",
     "output_type": "stream",
     "text": [
      "Epoch 1/100\n",
      "14/14 [==============================] - 1s 34ms/step - loss: 227.4357 - accuracy: 0.6964 - val_loss: 168.0892 - val_accuracy: 0.9583\n",
      "Epoch 2/100\n",
      "14/14 [==============================] - 0s 29ms/step - loss: 126.7004 - accuracy: 0.8304 - val_loss: 84.5571 - val_accuracy: 0.7500\n",
      "Epoch 3/100\n",
      "14/14 [==============================] - 0s 24ms/step - loss: 57.3270 - accuracy: 0.9062 - val_loss: 31.7179 - val_accuracy: 0.8750\n",
      "Epoch 4/100\n",
      "14/14 [==============================] - 0s 29ms/step - loss: 19.4756 - accuracy: 0.9420 - val_loss: 11.1464 - val_accuracy: 0.8750\n",
      "Epoch 5/100\n",
      "14/14 [==============================] - 0s 28ms/step - loss: 7.8960 - accuracy: 0.9643 - val_loss: 4.9621 - val_accuracy: 0.9167\n",
      "Epoch 6/100\n",
      "14/14 [==============================] - 0s 24ms/step - loss: 3.7844 - accuracy: 0.9777 - val_loss: 2.8294 - val_accuracy: 0.9167\n",
      "Epoch 7/100\n",
      "14/14 [==============================] - 0s 23ms/step - loss: 2.4622 - accuracy: 0.9420 - val_loss: 2.1334 - val_accuracy: 0.9583\n",
      "Epoch 8/100\n",
      "14/14 [==============================] - 0s 22ms/step - loss: 1.9988 - accuracy: 0.9732 - val_loss: 1.8428 - val_accuracy: 1.0000\n",
      "Epoch 9/100\n",
      "14/14 [==============================] - 0s 23ms/step - loss: 1.8048 - accuracy: 0.9911 - val_loss: 1.7313 - val_accuracy: 1.0000\n",
      "Epoch 10/100\n",
      "14/14 [==============================] - 0s 24ms/step - loss: 1.7387 - accuracy: 0.9777 - val_loss: 1.6913 - val_accuracy: 1.0000\n",
      "Epoch 11/100\n",
      "14/14 [==============================] - 0s 28ms/step - loss: 1.6757 - accuracy: 0.9911 - val_loss: 1.6344 - val_accuracy: 1.0000\n",
      "Epoch 12/100\n",
      "14/14 [==============================] - 0s 26ms/step - loss: 1.6194 - accuracy: 0.9866 - val_loss: 1.5813 - val_accuracy: 1.0000\n",
      "Epoch 13/100\n",
      "14/14 [==============================] - 0s 26ms/step - loss: 1.5590 - accuracy: 0.9911 - val_loss: 1.5524 - val_accuracy: 1.0000\n",
      "Epoch 14/100\n",
      "14/14 [==============================] - 0s 23ms/step - loss: 1.5237 - accuracy: 1.0000 - val_loss: 1.5379 - val_accuracy: 0.9583\n",
      "Epoch 15/100\n",
      "14/14 [==============================] - 0s 26ms/step - loss: 1.5015 - accuracy: 1.0000 - val_loss: 1.6600 - val_accuracy: 0.9583\n",
      "Epoch 16/100\n",
      "14/14 [==============================] - 0s 26ms/step - loss: 1.5655 - accuracy: 0.9866 - val_loss: 1.5385 - val_accuracy: 0.9583\n",
      "Epoch 17/100\n",
      "14/14 [==============================] - 0s 26ms/step - loss: 1.4782 - accuracy: 1.0000 - val_loss: 1.4788 - val_accuracy: 1.0000\n",
      "Epoch 18/100\n",
      "14/14 [==============================] - 0s 28ms/step - loss: 1.4560 - accuracy: 1.0000 - val_loss: 1.4607 - val_accuracy: 1.0000\n",
      "Epoch 19/100\n",
      "14/14 [==============================] - 0s 30ms/step - loss: 1.4219 - accuracy: 1.0000 - val_loss: 1.4247 - val_accuracy: 1.0000\n",
      "Epoch 20/100\n",
      "14/14 [==============================] - 0s 30ms/step - loss: 1.4191 - accuracy: 1.0000 - val_loss: 1.4288 - val_accuracy: 1.0000\n",
      "Epoch 21/100\n",
      "14/14 [==============================] - 0s 29ms/step - loss: 1.4112 - accuracy: 1.0000 - val_loss: 1.4170 - val_accuracy: 1.0000\n",
      "Epoch 22/100\n",
      "14/14 [==============================] - 0s 29ms/step - loss: 1.3944 - accuracy: 1.0000 - val_loss: 1.4028 - val_accuracy: 1.0000\n",
      "Epoch 23/100\n",
      "14/14 [==============================] - 0s 26ms/step - loss: 1.3891 - accuracy: 1.0000 - val_loss: 1.3930 - val_accuracy: 1.0000\n",
      "Epoch 24/100\n",
      "14/14 [==============================] - 0s 25ms/step - loss: 1.3845 - accuracy: 1.0000 - val_loss: 1.4044 - val_accuracy: 1.0000\n",
      "Epoch 25/100\n",
      "14/14 [==============================] - 0s 25ms/step - loss: 1.3819 - accuracy: 1.0000 - val_loss: 1.3914 - val_accuracy: 1.0000\n",
      "Epoch 26/100\n",
      "14/14 [==============================] - 0s 28ms/step - loss: 1.3746 - accuracy: 1.0000 - val_loss: 1.3800 - val_accuracy: 1.0000\n",
      "Epoch 27/100\n",
      "14/14 [==============================] - 0s 25ms/step - loss: 1.3644 - accuracy: 1.0000 - val_loss: 1.3720 - val_accuracy: 1.0000\n",
      "Epoch 28/100\n",
      "14/14 [==============================] - 0s 31ms/step - loss: 1.3572 - accuracy: 1.0000 - val_loss: 1.3816 - val_accuracy: 1.0000\n",
      "Epoch 29/100\n",
      "14/14 [==============================] - 0s 25ms/step - loss: 1.3583 - accuracy: 1.0000 - val_loss: 1.3634 - val_accuracy: 1.0000\n",
      "Epoch 30/100\n",
      "14/14 [==============================] - 0s 25ms/step - loss: 1.3481 - accuracy: 1.0000 - val_loss: 1.3569 - val_accuracy: 1.0000\n",
      "Epoch 31/100\n",
      "14/14 [==============================] - 0s 26ms/step - loss: 1.3425 - accuracy: 1.0000 - val_loss: 1.3526 - val_accuracy: 1.0000\n",
      "Epoch 32/100\n",
      "14/14 [==============================] - 0s 25ms/step - loss: 1.3400 - accuracy: 1.0000 - val_loss: 1.3521 - val_accuracy: 1.0000\n",
      "Epoch 33/100\n",
      "14/14 [==============================] - 0s 25ms/step - loss: 1.3357 - accuracy: 1.0000 - val_loss: 1.3418 - val_accuracy: 1.0000\n",
      "Epoch 34/100\n",
      "14/14 [==============================] - 0s 24ms/step - loss: 1.3290 - accuracy: 1.0000 - val_loss: 1.3513 - val_accuracy: 1.0000\n",
      "Epoch 35/100\n",
      "14/14 [==============================] - 0s 25ms/step - loss: 1.3366 - accuracy: 1.0000 - val_loss: 1.3480 - val_accuracy: 1.0000\n",
      "Epoch 36/100\n",
      "14/14 [==============================] - 0s 25ms/step - loss: 1.3378 - accuracy: 1.0000 - val_loss: 1.3407 - val_accuracy: 1.0000\n",
      "Epoch 37/100\n",
      "14/14 [==============================] - 0s 30ms/step - loss: 1.3330 - accuracy: 1.0000 - val_loss: 1.3457 - val_accuracy: 1.0000\n",
      "Epoch 38/100\n",
      "14/14 [==============================] - 0s 27ms/step - loss: 1.3286 - accuracy: 1.0000 - val_loss: 1.3292 - val_accuracy: 1.0000\n",
      "Epoch 39/100\n",
      "14/14 [==============================] - 0s 26ms/step - loss: 1.3221 - accuracy: 1.0000 - val_loss: 1.3330 - val_accuracy: 1.0000\n",
      "Epoch 40/100\n",
      "14/14 [==============================] - 0s 26ms/step - loss: 1.3206 - accuracy: 1.0000 - val_loss: 1.3213 - val_accuracy: 1.0000\n",
      "Epoch 41/100\n",
      "14/14 [==============================] - 0s 25ms/step - loss: 1.3153 - accuracy: 1.0000 - val_loss: 1.3313 - val_accuracy: 1.0000\n",
      "Epoch 42/100\n",
      "14/14 [==============================] - 0s 26ms/step - loss: 1.3149 - accuracy: 1.0000 - val_loss: 1.3263 - val_accuracy: 1.0000\n",
      "Epoch 43/100\n",
      "14/14 [==============================] - 0s 26ms/step - loss: 1.3160 - accuracy: 1.0000 - val_loss: 1.3220 - val_accuracy: 1.0000\n",
      "Epoch 44/100\n",
      "14/14 [==============================] - 0s 25ms/step - loss: 1.3114 - accuracy: 1.0000 - val_loss: 1.3166 - val_accuracy: 1.0000\n",
      "Epoch 45/100\n",
      "14/14 [==============================] - 0s 25ms/step - loss: 1.3049 - accuracy: 1.0000 - val_loss: 1.3118 - val_accuracy: 1.0000\n",
      "Epoch 46/100\n",
      "14/14 [==============================] - 0s 30ms/step - loss: 1.3040 - accuracy: 1.0000 - val_loss: 1.3118 - val_accuracy: 1.0000\n",
      "Epoch 47/100\n",
      "14/14 [==============================] - 0s 25ms/step - loss: 1.3053 - accuracy: 1.0000 - val_loss: 1.3233 - val_accuracy: 1.0000\n",
      "Epoch 48/100\n",
      "14/14 [==============================] - 0s 26ms/step - loss: 1.2984 - accuracy: 1.0000 - val_loss: 1.3027 - val_accuracy: 1.0000\n",
      "Epoch 49/100\n",
      "14/14 [==============================] - 0s 26ms/step - loss: 1.2938 - accuracy: 1.0000 - val_loss: 1.3053 - val_accuracy: 1.0000\n",
      "Epoch 50/100\n",
      "14/14 [==============================] - 0s 25ms/step - loss: 1.2945 - accuracy: 1.0000 - val_loss: 1.2996 - val_accuracy: 1.0000\n",
      "Epoch 51/100\n",
      "14/14 [==============================] - 0s 30ms/step - loss: 1.2958 - accuracy: 1.0000 - val_loss: 1.3047 - val_accuracy: 1.0000\n",
      "Epoch 52/100\n",
      "14/14 [==============================] - 0s 27ms/step - loss: 1.2949 - accuracy: 1.0000 - val_loss: 1.3006 - val_accuracy: 1.0000\n",
      "Epoch 53/100\n",
      "14/14 [==============================] - 0s 26ms/step - loss: 1.2947 - accuracy: 1.0000 - val_loss: 1.3102 - val_accuracy: 1.0000\n",
      "Epoch 54/100\n",
      "14/14 [==============================] - 0s 28ms/step - loss: 1.3177 - accuracy: 1.0000 - val_loss: 1.3257 - val_accuracy: 1.0000\n",
      "Epoch 55/100\n",
      "14/14 [==============================] - 0s 26ms/step - loss: 1.3071 - accuracy: 1.0000 - val_loss: 1.2985 - val_accuracy: 1.0000\n",
      "Epoch 56/100\n",
      "14/14 [==============================] - 0s 24ms/step - loss: 1.2934 - accuracy: 1.0000 - val_loss: 1.3003 - val_accuracy: 1.0000\n",
      "Epoch 57/100\n",
      "14/14 [==============================] - 0s 24ms/step - loss: 1.2875 - accuracy: 1.0000 - val_loss: 1.2909 - val_accuracy: 1.0000\n",
      "Epoch 58/100\n",
      "14/14 [==============================] - 0s 24ms/step - loss: 1.2902 - accuracy: 1.0000 - val_loss: 1.2949 - val_accuracy: 1.0000\n",
      "Epoch 59/100\n",
      "14/14 [==============================] - 0s 29ms/step - loss: 1.2829 - accuracy: 1.0000 - val_loss: 1.2884 - val_accuracy: 1.0000\n",
      "Epoch 60/100\n",
      "14/14 [==============================] - 0s 26ms/step - loss: 1.2785 - accuracy: 1.0000 - val_loss: 1.2858 - val_accuracy: 1.0000\n",
      "Epoch 61/100\n",
      "14/14 [==============================] - 0s 26ms/step - loss: 1.2773 - accuracy: 1.0000 - val_loss: 1.2830 - val_accuracy: 1.0000\n",
      "Epoch 62/100\n",
      "14/14 [==============================] - 0s 25ms/step - loss: 1.2793 - accuracy: 1.0000 - val_loss: 1.2888 - val_accuracy: 1.0000\n",
      "Epoch 63/100\n",
      "14/14 [==============================] - 0s 24ms/step - loss: 1.2807 - accuracy: 1.0000 - val_loss: 1.2847 - val_accuracy: 1.0000\n",
      "Epoch 64/100\n",
      "14/14 [==============================] - 0s 25ms/step - loss: 1.2788 - accuracy: 1.0000 - val_loss: 1.2924 - val_accuracy: 1.0000\n",
      "Epoch 65/100\n",
      "14/14 [==============================] - 0s 25ms/step - loss: 1.2795 - accuracy: 1.0000 - val_loss: 1.2831 - val_accuracy: 1.0000\n",
      "Epoch 66/100\n",
      "14/14 [==============================] - 0s 25ms/step - loss: 1.2766 - accuracy: 1.0000 - val_loss: 1.2799 - val_accuracy: 1.0000\n",
      "Epoch 67/100\n",
      "14/14 [==============================] - 0s 32ms/step - loss: 1.2735 - accuracy: 1.0000 - val_loss: 1.2787 - val_accuracy: 1.0000\n",
      "Epoch 68/100\n",
      "14/14 [==============================] - 0s 25ms/step - loss: 1.2703 - accuracy: 1.0000 - val_loss: 1.2734 - val_accuracy: 1.0000\n",
      "Epoch 69/100\n",
      "14/14 [==============================] - 0s 25ms/step - loss: 1.2705 - accuracy: 1.0000 - val_loss: 1.2751 - val_accuracy: 1.0000\n",
      "Epoch 70/100\n",
      "14/14 [==============================] - 0s 26ms/step - loss: 1.2719 - accuracy: 1.0000 - val_loss: 1.2827 - val_accuracy: 1.0000\n",
      "Epoch 71/100\n",
      "14/14 [==============================] - 0s 25ms/step - loss: 1.2753 - accuracy: 1.0000 - val_loss: 1.2793 - val_accuracy: 1.0000\n",
      "Epoch 72/100\n",
      "14/14 [==============================] - 0s 25ms/step - loss: 1.2703 - accuracy: 1.0000 - val_loss: 1.2677 - val_accuracy: 1.0000\n",
      "Epoch 73/100\n",
      "14/14 [==============================] - 0s 25ms/step - loss: 1.2603 - accuracy: 1.0000 - val_loss: 1.2720 - val_accuracy: 1.0000\n",
      "Epoch 74/100\n",
      "14/14 [==============================] - 0s 24ms/step - loss: 1.2687 - accuracy: 1.0000 - val_loss: 1.2749 - val_accuracy: 1.0000\n",
      "Epoch 75/100\n",
      "14/14 [==============================] - 0s 30ms/step - loss: 1.2648 - accuracy: 1.0000 - val_loss: 1.2649 - val_accuracy: 1.0000\n",
      "Epoch 76/100\n",
      "14/14 [==============================] - 0s 27ms/step - loss: 1.2575 - accuracy: 1.0000 - val_loss: 1.2649 - val_accuracy: 1.0000\n",
      "Epoch 77/100\n",
      "14/14 [==============================] - 0s 25ms/step - loss: 1.2609 - accuracy: 1.0000 - val_loss: 1.2741 - val_accuracy: 1.0000\n",
      "Epoch 78/100\n",
      "14/14 [==============================] - 0s 25ms/step - loss: 1.2624 - accuracy: 1.0000 - val_loss: 1.2668 - val_accuracy: 1.0000\n",
      "Epoch 79/100\n",
      "14/14 [==============================] - 0s 24ms/step - loss: 1.2636 - accuracy: 1.0000 - val_loss: 1.2725 - val_accuracy: 1.0000\n",
      "Epoch 80/100\n",
      "14/14 [==============================] - 0s 24ms/step - loss: 1.2628 - accuracy: 1.0000 - val_loss: 1.2629 - val_accuracy: 1.0000\n",
      "Epoch 81/100\n",
      "14/14 [==============================] - 0s 25ms/step - loss: 1.2610 - accuracy: 1.0000 - val_loss: 1.2664 - val_accuracy: 1.0000\n",
      "Epoch 82/100\n",
      "14/14 [==============================] - 0s 27ms/step - loss: 1.2599 - accuracy: 1.0000 - val_loss: 1.2631 - val_accuracy: 1.0000\n",
      "Epoch 83/100\n",
      "14/14 [==============================] - 0s 30ms/step - loss: 1.2541 - accuracy: 1.0000 - val_loss: 1.2576 - val_accuracy: 1.0000\n",
      "Epoch 84/100\n",
      "14/14 [==============================] - 0s 25ms/step - loss: 1.2531 - accuracy: 1.0000 - val_loss: 1.2616 - val_accuracy: 1.0000\n",
      "Epoch 85/100\n",
      "14/14 [==============================] - 0s 25ms/step - loss: 1.2566 - accuracy: 1.0000 - val_loss: 1.2601 - val_accuracy: 1.0000\n",
      "Epoch 86/100\n",
      "14/14 [==============================] - 0s 26ms/step - loss: 1.2504 - accuracy: 1.0000 - val_loss: 1.2569 - val_accuracy: 1.0000\n",
      "Epoch 87/100\n",
      "14/14 [==============================] - 0s 26ms/step - loss: 1.2583 - accuracy: 1.0000 - val_loss: 1.2649 - val_accuracy: 1.0000\n",
      "Epoch 88/100\n",
      "14/14 [==============================] - 0s 25ms/step - loss: 1.2568 - accuracy: 1.0000 - val_loss: 1.2575 - val_accuracy: 1.0000\n",
      "Epoch 89/100\n",
      "14/14 [==============================] - 0s 25ms/step - loss: 1.2504 - accuracy: 1.0000 - val_loss: 1.2565 - val_accuracy: 1.0000\n",
      "Epoch 90/100\n",
      "14/14 [==============================] - 0s 25ms/step - loss: 1.2525 - accuracy: 1.0000 - val_loss: 1.2552 - val_accuracy: 1.0000\n",
      "Epoch 91/100\n",
      "14/14 [==============================] - 0s 30ms/step - loss: 1.2552 - accuracy: 1.0000 - val_loss: 1.2640 - val_accuracy: 1.0000\n",
      "Epoch 92/100\n",
      "14/14 [==============================] - 0s 25ms/step - loss: 1.2527 - accuracy: 1.0000 - val_loss: 1.2519 - val_accuracy: 1.0000\n",
      "Epoch 93/100\n",
      "14/14 [==============================] - 0s 25ms/step - loss: 1.2505 - accuracy: 1.0000 - val_loss: 1.2595 - val_accuracy: 1.0000\n",
      "Epoch 94/100\n",
      "14/14 [==============================] - 0s 26ms/step - loss: 1.2530 - accuracy: 1.0000 - val_loss: 1.2562 - val_accuracy: 1.0000\n",
      "Epoch 95/100\n",
      "14/14 [==============================] - 0s 25ms/step - loss: 1.2469 - accuracy: 1.0000 - val_loss: 1.2506 - val_accuracy: 1.0000\n",
      "Epoch 96/100\n",
      "14/14 [==============================] - 0s 27ms/step - loss: 1.2492 - accuracy: 1.0000 - val_loss: 1.2525 - val_accuracy: 1.0000\n",
      "Epoch 97/100\n",
      "14/14 [==============================] - 0s 25ms/step - loss: 1.2458 - accuracy: 1.0000 - val_loss: 1.2504 - val_accuracy: 1.0000\n",
      "Epoch 98/100\n",
      "14/14 [==============================] - 0s 26ms/step - loss: 1.2448 - accuracy: 1.0000 - val_loss: 1.2527 - val_accuracy: 1.0000\n",
      "Epoch 99/100\n",
      "14/14 [==============================] - 0s 26ms/step - loss: 1.2525 - accuracy: 1.0000 - val_loss: 1.2768 - val_accuracy: 1.0000\n",
      "Epoch 100/100\n",
      "14/14 [==============================] - 0s 29ms/step - loss: 1.3105 - accuracy: 1.0000 - val_loss: 1.4217 - val_accuracy: 0.9583\n",
      "CNN2D Model Saved\n"
     ]
    }
   ],
   "source": [
    "t0 = time.time()\n",
    "\n",
    "CNN2D_Results = CNN2D_Model.fit(\n",
    "    X_train_reshaped, y_train, epochs=100, batch_size=16, validation_data=(X_test_reshaped, y_test)\n",
    ")\n",
    "\n",
    "CNN2D_Model.save(\"Model3.h5\")\n",
    "print(\"CNN2D Model Saved\")\n",
    "train_hist_m3 = pd.DataFrame(CNN2D_Results.history)\n",
    "train_m3 = round(time.time() - t0, 3)"
   ]
  },
  {
   "cell_type": "code",
   "execution_count": 37,
   "metadata": {},
   "outputs": [
    {
     "data": {
      "image/png": "[encoded data removed]",
      "text/plain": [
       "<Figure size 640x480 with 1 Axes>"
      ]
     },
     "metadata": {},
     "output_type": "display_data"
    }
   ],
   "source": [
    "plt.plot(train_hist_m2[[\"loss\", \"val_loss\"]])\n",
    "plt.legend([\"Loss\", \"Validation Loss\"])\n",
    "plt.title(\"Loss Per Epochs\")\n",
    "plt.xlabel(\"Epochs\")\n",
    "plt.ylabel(\"Loss\")\n",
    "plt.show()"
   ]
  },
  {
   "cell_type": "code",
   "execution_count": 38,
   "metadata": {},
   "outputs": [
    {
     "data": {
      "image/png": "[encoded data removed]",
      "text/plain": [
       "<Figure size 640x480 with 1 Axes>"
      ]
     },
     "metadata": {},
     "output_type": "display_data"
    }
   ],
   "source": [
    "plt.plot(train_hist_m2[[\"accuracy\", \"val_accuracy\"]])\n",
    "plt.legend([\"Accuracy\", \"Validation Accuracy\"])\n",
    "plt.title(\"Accuracy Per Epochs\")\n",
    "plt.xlabel(\"Epochs\")\n",
    "plt.ylabel(\"Accuracy\")\n",
    "plt.show()"
   ]
  }
 ],
 "metadata": {
  "kernelspec": {
   "display_name": "Python 3",
   "language": "python",
   "name": "python3"
  },
  "language_info": {
   "codemirror_mode": {
    "name": "ipython",
    "version": 3
   },
   "file_extension": ".py",
   "mimetype": "text/x-python",
   "name": "python",
   "nbconvert_exporter": "python",
   "pygments_lexer": "ipython3",
   "version": "3.7.3"
  },
  "orig_nbformat": 4
 },
 "nbformat": 4,
 "nbformat_minor": 2
}
