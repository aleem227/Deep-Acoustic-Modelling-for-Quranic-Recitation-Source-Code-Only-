{
 "cells": [
  {
   "attachments": {},
   "cell_type": "markdown",
   "metadata": {},
   "source": [
    "FEATURE EXTRACTION USING MFCC, MELSPECTROGRAM AND LOG-MELSPECTROGRAM"
   ]
  },
  {
   "cell_type": "code",
   "execution_count": 1,
   "metadata": {},
   "outputs": [
    {
     "data": {
      "text/html": [
       "<div>\n",
       "<style scoped>\n",
       "    .dataframe tbody tr th:only-of-type {\n",
       "        vertical-align: middle;\n",
       "    }\n",
       "\n",
       "    .dataframe tbody tr th {\n",
       "        vertical-align: top;\n",
       "    }\n",
       "\n",
       "    .dataframe thead th {\n",
       "        text-align: right;\n",
       "    }\n",
       "</style>\n",
       "<table border=\"1\" class=\"dataframe\">\n",
       "  <thead>\n",
       "    <tr style=\"text-align: right;\">\n",
       "      <th></th>\n",
       "      <th>slice_file_name</th>\n",
       "      <th>fold</th>\n",
       "      <th>classID</th>\n",
       "      <th>class</th>\n",
       "    </tr>\n",
       "  </thead>\n",
       "  <tbody>\n",
       "    <tr>\n",
       "      <th>0</th>\n",
       "      <td>file1_2.wav</td>\n",
       "      <td>114</td>\n",
       "      <td>114</td>\n",
       "      <td>An-Nas</td>\n",
       "    </tr>\n",
       "    <tr>\n",
       "      <th>1</th>\n",
       "      <td>file1_3.wav</td>\n",
       "      <td>114</td>\n",
       "      <td>114</td>\n",
       "      <td>An-Nas</td>\n",
       "    </tr>\n",
       "    <tr>\n",
       "      <th>2</th>\n",
       "      <td>file1_5.wav</td>\n",
       "      <td>114</td>\n",
       "      <td>114</td>\n",
       "      <td>An-Nas</td>\n",
       "    </tr>\n",
       "    <tr>\n",
       "      <th>3</th>\n",
       "      <td>file1_6.wav</td>\n",
       "      <td>114</td>\n",
       "      <td>114</td>\n",
       "      <td>An-Nas</td>\n",
       "    </tr>\n",
       "    <tr>\n",
       "      <th>4</th>\n",
       "      <td>file3_2.wav</td>\n",
       "      <td>114</td>\n",
       "      <td>114</td>\n",
       "      <td>An-Nas</td>\n",
       "    </tr>\n",
       "    <tr>\n",
       "      <th>5</th>\n",
       "      <td>file3_3.wav</td>\n",
       "      <td>114</td>\n",
       "      <td>114</td>\n",
       "      <td>An-Nas</td>\n",
       "    </tr>\n",
       "    <tr>\n",
       "      <th>6</th>\n",
       "      <td>file3_4.wav</td>\n",
       "      <td>114</td>\n",
       "      <td>114</td>\n",
       "      <td>An-Nas</td>\n",
       "    </tr>\n",
       "    <tr>\n",
       "      <th>7</th>\n",
       "      <td>file3_5.wav</td>\n",
       "      <td>114</td>\n",
       "      <td>114</td>\n",
       "      <td>An-Nas</td>\n",
       "    </tr>\n",
       "    <tr>\n",
       "      <th>8</th>\n",
       "      <td>file3_6.wav</td>\n",
       "      <td>114</td>\n",
       "      <td>114</td>\n",
       "      <td>An-Nas</td>\n",
       "    </tr>\n",
       "    <tr>\n",
       "      <th>9</th>\n",
       "      <td>file3_7.wav</td>\n",
       "      <td>114</td>\n",
       "      <td>114</td>\n",
       "      <td>An-Nas</td>\n",
       "    </tr>\n",
       "  </tbody>\n",
       "</table>\n",
       "</div>"
      ],
      "text/plain": [
       "  slice_file_name  fold  classID   class\n",
       "0     file1_2.wav   114      114  An-Nas\n",
       "1     file1_3.wav   114      114  An-Nas\n",
       "2     file1_5.wav   114      114  An-Nas\n",
       "3     file1_6.wav   114      114  An-Nas\n",
       "4     file3_2.wav   114      114  An-Nas\n",
       "5     file3_3.wav   114      114  An-Nas\n",
       "6     file3_4.wav   114      114  An-Nas\n",
       "7     file3_5.wav   114      114  An-Nas\n",
       "8     file3_6.wav   114      114  An-Nas\n",
       "9     file3_7.wav   114      114  An-Nas"
      ]
     },
     "execution_count": 1,
     "metadata": {},
     "output_type": "execute_result"
    }
   ],
   "source": [
    "#### Extracting features for every audio file\n",
    "import pandas as pd\n",
    "import os\n",
    "import librosa\n",
    "import numpy as np\n",
    "import math\n",
    "import numpy as np\n",
    "from tqdm import tqdm\n",
    "import matplotlib.pyplot as plt\n",
    "%matplotlib inline\n",
    "import librosa.display\n",
    "\n",
    "audio_dataset_path='extracted_audio_wav_fold/'\n",
    "metadata=pd.read_csv('metadata_extracted_audio_wav_fold.csv')\n",
    "metadata.head(10)"
   ]
  },
  {
   "attachments": {},
   "cell_type": "markdown",
   "metadata": {},
   "source": [
    "FUNCTION FOR FEATURE EXTRACTION"
   ]
  },
  {
   "cell_type": "code",
   "execution_count": 2,
   "metadata": {},
   "outputs": [],
   "source": [
    "def mfcc_features_extractor(file):\n",
    "    audio, sample_rate = librosa.load(file_name) \n",
    "    mfccs_features = librosa.feature.mfcc(y=audio, sr=16000, n_mfcc=40)\n",
    "    mfccs_scaled_features = np.mean(mfccs_features.T,axis=0)\n",
    "    \n",
    "    return mfccs_scaled_features\n",
    "    \n",
    "    \n",
    "def melspec_features_extractor(file):\n",
    "    audio, sample_rate = librosa.load(file_name) \n",
    "    melspec_features = librosa.feature.melspectrogram(y=audio, sr=16000, n_mels=128)\n",
    "    melspec_scaled_features = np.mean(melspec_features.T,axis=0)\n",
    "    \n",
    "    return melspec_scaled_features\n",
    "\n",
    "def log_melspec_features_extractor(file):\n",
    "    audio, sample_rate = librosa.load(file_name) \n",
    "    melspec_features = librosa.feature.melspectrogram(y=audio, sr=16000, n_mels=128)\n",
    "    log_melspec_features = librosa.power_to_db(melspec_features)\n",
    "    log_melspec_scaled_features = np.mean(log_melspec_features.T,axis=0)\n",
    "    \n",
    "    return log_melspec_scaled_features\n",
    "    "
   ]
  },
  {
   "attachments": {},
   "cell_type": "markdown",
   "metadata": {},
   "source": [
    "MFCC FEATURE EXTRACTION"
   ]
  },
  {
   "cell_type": "code",
   "execution_count": 3,
   "metadata": {},
   "outputs": [
    {
     "name": "stderr",
     "output_type": "stream",
     "text": [
      "248it [00:08, 29.99it/s]\n"
     ]
    }
   ],
   "source": [
    "### Now we iterate through every audio file and extract features \n",
    "### using Mel-Frequency Cepstral Coefficients\n",
    "mfcc_extracted_features=[]\n",
    "for index_num,row in tqdm(metadata.iterrows()):\n",
    "    file_name = os.path.join(os.path.abspath(audio_dataset_path),'fold'+str(row[\"fold\"])+'/',str(row[\"slice_file_name\"]))\n",
    "    final_class_labels=row[\"class\"]\n",
    "    \n",
    "    # MFCC Features Extraction\n",
    "    mfcc_data= mfcc_features_extractor(file_name)\n",
    "    mfcc_extracted_features.append([mfcc_data,final_class_labels])\n",
    "    # print(mfcc_extracted_features)"
   ]
  },
  {
   "attachments": {},
   "cell_type": "markdown",
   "metadata": {},
   "source": [
    "MELSPECTROGRAM FEATURE EXTRACTION"
   ]
  },
  {
   "cell_type": "code",
   "execution_count": 4,
   "metadata": {},
   "outputs": [
    {
     "name": "stderr",
     "output_type": "stream",
     "text": [
      "248it [00:06, 39.93it/s]\n"
     ]
    }
   ],
   "source": [
    "melspec_extracted_features = []\n",
    "for index_num,row in tqdm(metadata.iterrows()):\n",
    "    file_name = os.path.join(os.path.abspath(audio_dataset_path),'fold'+str(row[\"fold\"])+'/',str(row[\"slice_file_name\"]))\n",
    "    final_class_labels=row[\"class\"]\n",
    "    \n",
    "    \n",
    "     # MelSpectrogram Feature Extraction\n",
    "    melspec_data= melspec_features_extractor(file_name)\n",
    "    melspec_extracted_features.append([melspec_data,final_class_labels])"
   ]
  },
  {
   "attachments": {},
   "cell_type": "markdown",
   "metadata": {},
   "source": [
    "LOG-MELSPECTROGRAM FEATURE EXTRACTION"
   ]
  },
  {
   "cell_type": "code",
   "execution_count": 5,
   "metadata": {},
   "outputs": [
    {
     "name": "stderr",
     "output_type": "stream",
     "text": [
      "248it [00:06, 35.79it/s]\n"
     ]
    }
   ],
   "source": [
    "log_melspec_extracted_features = []\n",
    "for index_num,row in tqdm(metadata.iterrows()):\n",
    "    file_name = os.path.join(os.path.abspath(audio_dataset_path),'fold'+str(row[\"fold\"])+'/',str(row[\"slice_file_name\"]))\n",
    "    final_class_labels=row[\"class\"]\n",
    "    \n",
    "    \n",
    "    \n",
    "    # Log-MelSpectrogram Feature Extraction\n",
    "    log_melspec_data= log_melspec_features_extractor(file_name)\n",
    "    log_melspec_extracted_features.append([log_melspec_data,final_class_labels])\n",
    "    # print(log_melspec_extracted_features)"
   ]
  },
  {
   "attachments": {},
   "cell_type": "markdown",
   "metadata": {},
   "source": [
    "EXTRACTED FEATURES OF MFCC"
   ]
  },
  {
   "cell_type": "code",
   "execution_count": 6,
   "metadata": {},
   "outputs": [
    {
     "data": {
      "text/html": [
       "<div>\n",
       "<style scoped>\n",
       "    .dataframe tbody tr th:only-of-type {\n",
       "        vertical-align: middle;\n",
       "    }\n",
       "\n",
       "    .dataframe tbody tr th {\n",
       "        vertical-align: top;\n",
       "    }\n",
       "\n",
       "    .dataframe thead th {\n",
       "        text-align: right;\n",
       "    }\n",
       "</style>\n",
       "<table border=\"1\" class=\"dataframe\">\n",
       "  <thead>\n",
       "    <tr style=\"text-align: right;\">\n",
       "      <th></th>\n",
       "      <th>feature</th>\n",
       "      <th>class</th>\n",
       "    </tr>\n",
       "  </thead>\n",
       "  <tbody>\n",
       "    <tr>\n",
       "      <th>0</th>\n",
       "      <td>[-221.18068, 126.02571, -50.995396, 47.782433,...</td>\n",
       "      <td>An-Nas</td>\n",
       "    </tr>\n",
       "    <tr>\n",
       "      <th>1</th>\n",
       "      <td>[-211.255, 119.753944, -52.34812, 63.510727, -...</td>\n",
       "      <td>An-Nas</td>\n",
       "    </tr>\n",
       "    <tr>\n",
       "      <th>2</th>\n",
       "      <td>[-212.99254, 111.00904, -51.069992, 55.615635,...</td>\n",
       "      <td>An-Nas</td>\n",
       "    </tr>\n",
       "    <tr>\n",
       "      <th>3</th>\n",
       "      <td>[-252.80147, 135.31424, -43.59164, 50.476078, ...</td>\n",
       "      <td>An-Nas</td>\n",
       "    </tr>\n",
       "    <tr>\n",
       "      <th>4</th>\n",
       "      <td>[-155.2347, 131.97641, -41.808273, 38.99603, -...</td>\n",
       "      <td>An-Nas</td>\n",
       "    </tr>\n",
       "  </tbody>\n",
       "</table>\n",
       "</div>"
      ],
      "text/plain": [
       "                                             feature   class\n",
       "0  [-221.18068, 126.02571, -50.995396, 47.782433,...  An-Nas\n",
       "1  [-211.255, 119.753944, -52.34812, 63.510727, -...  An-Nas\n",
       "2  [-212.99254, 111.00904, -51.069992, 55.615635,...  An-Nas\n",
       "3  [-252.80147, 135.31424, -43.59164, 50.476078, ...  An-Nas\n",
       "4  [-155.2347, 131.97641, -41.808273, 38.99603, -...  An-Nas"
      ]
     },
     "execution_count": 6,
     "metadata": {},
     "output_type": "execute_result"
    }
   ],
   "source": [
    "### converting extracted_features to Pandas dataframe\n",
    "mfcc_extracted_features_df=pd.DataFrame(mfcc_extracted_features,columns=['feature','class'])\n",
    "mfcc_extracted_features_df.head()"
   ]
  },
  {
   "attachments": {},
   "cell_type": "markdown",
   "metadata": {},
   "source": [
    "EXTRACTED FEATURES OF MELSPECTROGRAM"
   ]
  },
  {
   "cell_type": "code",
   "execution_count": 7,
   "metadata": {},
   "outputs": [
    {
     "data": {
      "text/html": [
       "<div>\n",
       "<style scoped>\n",
       "    .dataframe tbody tr th:only-of-type {\n",
       "        vertical-align: middle;\n",
       "    }\n",
       "\n",
       "    .dataframe tbody tr th {\n",
       "        vertical-align: top;\n",
       "    }\n",
       "\n",
       "    .dataframe thead th {\n",
       "        text-align: right;\n",
       "    }\n",
       "</style>\n",
       "<table border=\"1\" class=\"dataframe\">\n",
       "  <thead>\n",
       "    <tr style=\"text-align: right;\">\n",
       "      <th></th>\n",
       "      <th>feature</th>\n",
       "      <th>class</th>\n",
       "    </tr>\n",
       "  </thead>\n",
       "  <tbody>\n",
       "    <tr>\n",
       "      <th>0</th>\n",
       "      <td>[0.045984894, 0.11828422, 0.100276485, 0.05624...</td>\n",
       "      <td>An-Nas</td>\n",
       "    </tr>\n",
       "    <tr>\n",
       "      <th>1</th>\n",
       "      <td>[0.07468356, 0.35303983, 0.51001644, 0.1766396...</td>\n",
       "      <td>An-Nas</td>\n",
       "    </tr>\n",
       "    <tr>\n",
       "      <th>2</th>\n",
       "      <td>[0.044824656, 0.1130604, 0.10094069, 0.0588446...</td>\n",
       "      <td>An-Nas</td>\n",
       "    </tr>\n",
       "    <tr>\n",
       "      <th>3</th>\n",
       "      <td>[0.04833616, 0.14460088, 0.17161664, 0.1087107...</td>\n",
       "      <td>An-Nas</td>\n",
       "    </tr>\n",
       "    <tr>\n",
       "      <th>4</th>\n",
       "      <td>[0.045513697, 0.05386939, 0.09937525, 19.00384...</td>\n",
       "      <td>An-Nas</td>\n",
       "    </tr>\n",
       "  </tbody>\n",
       "</table>\n",
       "</div>"
      ],
      "text/plain": [
       "                                             feature   class\n",
       "0  [0.045984894, 0.11828422, 0.100276485, 0.05624...  An-Nas\n",
       "1  [0.07468356, 0.35303983, 0.51001644, 0.1766396...  An-Nas\n",
       "2  [0.044824656, 0.1130604, 0.10094069, 0.0588446...  An-Nas\n",
       "3  [0.04833616, 0.14460088, 0.17161664, 0.1087107...  An-Nas\n",
       "4  [0.045513697, 0.05386939, 0.09937525, 19.00384...  An-Nas"
      ]
     },
     "execution_count": 7,
     "metadata": {},
     "output_type": "execute_result"
    }
   ],
   "source": [
    "melspec_extracted_features_df=pd.DataFrame(melspec_extracted_features,columns=['feature','class'])\n",
    "melspec_extracted_features_df.head()"
   ]
  },
  {
   "attachments": {},
   "cell_type": "markdown",
   "metadata": {},
   "source": [
    "EXTRACTED FEATURES OF LOG-MELSPECTROGRAM"
   ]
  },
  {
   "cell_type": "code",
   "execution_count": 8,
   "metadata": {},
   "outputs": [
    {
     "data": {
      "text/html": [
       "<div>\n",
       "<style scoped>\n",
       "    .dataframe tbody tr th:only-of-type {\n",
       "        vertical-align: middle;\n",
       "    }\n",
       "\n",
       "    .dataframe tbody tr th {\n",
       "        vertical-align: top;\n",
       "    }\n",
       "\n",
       "    .dataframe thead th {\n",
       "        text-align: right;\n",
       "    }\n",
       "</style>\n",
       "<table border=\"1\" class=\"dataframe\">\n",
       "  <thead>\n",
       "    <tr style=\"text-align: right;\">\n",
       "      <th></th>\n",
       "      <th>feature</th>\n",
       "      <th>class</th>\n",
       "    </tr>\n",
       "  </thead>\n",
       "  <tbody>\n",
       "    <tr>\n",
       "      <th>0</th>\n",
       "      <td>[-14.912743, -10.509667, -11.212726, -13.80299...</td>\n",
       "      <td>An-Nas</td>\n",
       "    </tr>\n",
       "    <tr>\n",
       "      <th>1</th>\n",
       "      <td>[-14.956661, -9.657782, -10.150836, -12.684127...</td>\n",
       "      <td>An-Nas</td>\n",
       "    </tr>\n",
       "    <tr>\n",
       "      <th>2</th>\n",
       "      <td>[-14.980775, -10.588456, -11.141933, -13.37415...</td>\n",
       "      <td>An-Nas</td>\n",
       "    </tr>\n",
       "    <tr>\n",
       "      <th>3</th>\n",
       "      <td>[-14.090482, -9.505132, -9.275669, -11.789614,...</td>\n",
       "      <td>An-Nas</td>\n",
       "    </tr>\n",
       "    <tr>\n",
       "      <th>4</th>\n",
       "      <td>[-18.108946, -14.981512, -12.698249, 3.383987,...</td>\n",
       "      <td>An-Nas</td>\n",
       "    </tr>\n",
       "  </tbody>\n",
       "</table>\n",
       "</div>"
      ],
      "text/plain": [
       "                                             feature   class\n",
       "0  [-14.912743, -10.509667, -11.212726, -13.80299...  An-Nas\n",
       "1  [-14.956661, -9.657782, -10.150836, -12.684127...  An-Nas\n",
       "2  [-14.980775, -10.588456, -11.141933, -13.37415...  An-Nas\n",
       "3  [-14.090482, -9.505132, -9.275669, -11.789614,...  An-Nas\n",
       "4  [-18.108946, -14.981512, -12.698249, 3.383987,...  An-Nas"
      ]
     },
     "execution_count": 8,
     "metadata": {},
     "output_type": "execute_result"
    }
   ],
   "source": [
    "log_melspec_extracted_features_df=pd.DataFrame(log_melspec_extracted_features,columns=['feature','class'])\n",
    "log_melspec_extracted_features_df.head()"
   ]
  },
  {
   "attachments": {},
   "cell_type": "markdown",
   "metadata": {},
   "source": [
    "VISUAL REPRESENTATION OF FEATURE EXTRACTION"
   ]
  },
  {
   "cell_type": "code",
   "execution_count": 9,
   "metadata": {},
   "outputs": [
    {
     "data": {
      "text/plain": [
       "[(1.0, 3.0)]"
      ]
     },
     "execution_count": 9,
     "metadata": {},
     "output_type": "execute_result"
    },
    {
     "data": {
      "image/png": "[encoded data removed]",
      "text/plain": [
       "<Figure size 640x480 with 4 Axes>"
      ]
     },
     "metadata": {},
     "output_type": "display_data"
    }
   ],
   "source": [
    "audio_path = audio_dataset_path + \"fold113/file3_2.wav\"\n",
    "(xf, sr) = librosa.load(audio_path)\n",
    "\n",
    "mfccs = librosa.feature.mfcc(y=xf, sr=16000, n_mfcc=40)\n",
    "\n",
    "melspec = librosa.feature.melspectrogram(y=xf, sr=16000, n_mels=128)\n",
    "\n",
    "logmelspecs = librosa.power_to_db(melspec)\n",
    "\n",
    "\n",
    "\n",
    "fig, ax = plt.subplots (nrows=3,ncols=1,sharex=True)\n",
    "\n",
    "img1 = librosa.display.specshow(mfccs, x_axis=\"time\", ax=ax[0])\n",
    "ax[0].set(title='MFCC of Al-Falaq')\n",
    "\n",
    "img2 = librosa.display.specshow(melspec, x_axis=\"time\", ax=ax[1])\n",
    "ax[1].set(title='MelSpec of Al-Falaq')\n",
    "\n",
    "img3 = librosa.display.specshow(logmelspecs, x_axis=\"time\", ax=ax[2])\n",
    "ax[2].set(title='Log-MelSpec of Al-Falaq')\n",
    "\n",
    "# To eliminate redundant axis labels, we'll use \"label_outer\" on all subplots:\n",
    "for ax_i in ax:\n",
    "    ax_i.label_outer()\n",
    "\n",
    "# And we can share colorbars:\n",
    "fig.colorbar(img1, ax=[ax[0], ax[1], ax[2]])\n",
    "\n",
    "# # Or have individual colorbars:\n",
    "# fig.colorbar(img3, ax=[ax[2]])\n",
    "\n",
    "# We can then even do fancy things like zoom into a particular time and frequency region.  Since the axes are shared, this will apply to all three subplots at once.\n",
    "ax[0].set(xlim=[1, 3])  # Zoom to seconds 1-3"
   ]
  },
  {
   "attachments": {},
   "cell_type": "markdown",
   "metadata": {},
   "source": [
    "Save Features into X and Classes into Y and save as npy file\n",
    "\n",
    "- Run one by one and comment the others"
   ]
  },
  {
   "attachments": {},
   "cell_type": "markdown",
   "metadata": {},
   "source": [
    "Save MFCC data"
   ]
  },
  {
   "cell_type": "code",
   "execution_count": 13,
   "metadata": {},
   "outputs": [],
   "source": [
    "X = []\n",
    "for i in range(len(mfcc_extracted_features)):\n",
    "    X.append(mfcc_extracted_features[i][0])\n",
    "    \n",
    "X = np.array(X)   \n",
    "\n",
    "\n",
    "\n",
    "Y = []\n",
    "for i in range(len(mfcc_extracted_features)):\n",
    "    Y.append(mfcc_extracted_features[i][1])\n",
    "    \n",
    "Y = np.array(Y)   \n",
    "\n",
    "\n",
    "np.save('mfcc_X_data', X)\n",
    "np.save('mfcc_Y_data', Y) "
   ]
  },
  {
   "attachments": {},
   "cell_type": "markdown",
   "metadata": {},
   "source": [
    "Save Melspectrogram data"
   ]
  },
  {
   "cell_type": "code",
   "execution_count": 14,
   "metadata": {},
   "outputs": [],
   "source": [
    "X = []\n",
    "for i in range(len(melspec_extracted_features)):\n",
    "    X.append(melspec_extracted_features[i][0])\n",
    "    \n",
    "X = np.array(X)    \n",
    "\n",
    "\n",
    "\n",
    "Y = []\n",
    "for i in range(len(melspec_extracted_features)):\n",
    "    Y.append(melspec_extracted_features[i][1])\n",
    "    \n",
    "Y = np.array(Y)   \n",
    "\n",
    "np.save('melspec_X_data', X)\n",
    "np.save('melspec_Y_data', Y)"
   ]
  },
  {
   "attachments": {},
   "cell_type": "markdown",
   "metadata": {},
   "source": [
    "Save Log-Melspectrogram data"
   ]
  },
  {
   "cell_type": "code",
   "execution_count": 15,
   "metadata": {},
   "outputs": [],
   "source": [
    "X = []\n",
    "for i in range(len(log_melspec_extracted_features)):\n",
    "    X.append(log_melspec_extracted_features[i][0])\n",
    "    \n",
    "X = np.array(X)    \n",
    "\n",
    "Y = []\n",
    "for i in range(len(log_melspec_extracted_features)):\n",
    "    Y.append(log_melspec_extracted_features[i][1])\n",
    "    \n",
    "Y = np.array(Y)   \n",
    "\n",
    "np.save('log_melspec_X_data', X)\n",
    "np.save('log_melspec_Y_data', Y)"
   ]
  },
  {
   "cell_type": "code",
   "execution_count": null,
   "metadata": {},
   "outputs": [],
   "source": []
  }
 ],
 "metadata": {
  "kernelspec": {
   "display_name": "Python 3",
   "language": "python",
   "name": "python3"
  },
  "language_info": {
   "codemirror_mode": {
    "name": "ipython",
    "version": 3
   },
   "file_extension": ".py",
   "mimetype": "text/x-python",
   "name": "python",
   "nbconvert_exporter": "python",
   "pygments_lexer": "ipython3",
   "version": "3.7.3"
  },
  "orig_nbformat": 4
 },
 "nbformat": 4,
 "nbformat_minor": 2
}
